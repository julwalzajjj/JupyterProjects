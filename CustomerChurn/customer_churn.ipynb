{
 "cells": [
  {
   "cell_type": "markdown",
   "metadata": {
    "toc": true
   },
   "source": [
    "<h1>Содержание<span class=\"tocSkip\"></span></h1><br>\n",
    "\n",
    "<div class=\"toc\"><ul class=\"toc-item\"><li><span><a href=\"#Подготовка-данных\" data-toc-modified-id=\"Подготовка-данных-1\"><span class=\"toc-item-num\">1&nbsp;&nbsp;</span>Подготовка данных</a></span></li><li><span><a href=\"#Исследование-задачи\" data-toc-modified-id=\"Исследование-задачи-2\"><span class=\"toc-item-num\">2&nbsp;&nbsp;</span>Исследование задачи</a></span></li><li><span><a href=\"#Борьба-с-дисбалансом\" data-toc-modified-id=\"Борьба-с-дисбалансом-3\"><span class=\"toc-item-num\">3&nbsp;&nbsp;</span>Борьба с дисбалансом</a></span></li><li><span><a href=\"#Тестирование-модели\" data-toc-modified-id=\"Тестирование-модели-4\"><span class=\"toc-item-num\">4&nbsp;&nbsp;</span>Тестирование модели</a></span></li><li><span><a href=\"#Выводы\" data-toc-modified-id=\"Выводы-5\"><span class=\"toc-item-num\">5&nbsp;&nbsp;</span>Выводы</a></span></li>"
   ]
  },
  {
   "cell_type": "markdown",
   "metadata": {},
   "source": [
    "# Отток клиентов"
   ]
  },
  {
   "cell_type": "markdown",
   "metadata": {},
   "source": [
    "Из «Бета-Банка» стали уходить клиенты. Каждый месяц. Немного, но заметно. Банковские маркетологи посчитали: сохранять текущих клиентов дешевле, чем привлекать новых.\n",
    "\n",
    "Нужно спрогнозировать, уйдёт клиент из банка в ближайшее время или нет. Вам предоставлены исторические данные о поведении клиентов и расторжении договоров с банком. \n",
    "\n",
    "Построить модель с предельно большим значением *F1*-меры (более 0.59)."
   ]
  },
  {
   "cell_type": "markdown",
   "metadata": {},
   "source": [
    "## Подготовка данных"
   ]
  },
  {
   "cell_type": "markdown",
   "metadata": {},
   "source": [
    "Для начала импортируем все необходимые библиотеки:"
   ]
  },
  {
   "cell_type": "code",
   "execution_count": 1,
   "metadata": {},
   "outputs": [
    {
     "name": "stdout",
     "output_type": "stream",
     "text": [
      "Collecting imblearn\n",
      "  Downloading imblearn-0.0-py2.py3-none-any.whl (1.9 kB)\n",
      "Collecting imbalanced-learn\n",
      "  Downloading imbalanced_learn-0.10.1-py3-none-any.whl (226 kB)\n",
      "\u001b[K     |████████████████████████████████| 226 kB 1.2 MB/s eta 0:00:01\n",
      "\u001b[?25hRequirement already satisfied: threadpoolctl>=2.0.0 in /opt/conda/lib/python3.9/site-packages (from imbalanced-learn->imblearn) (3.1.0)\n",
      "Requirement already satisfied: numpy>=1.17.3 in /opt/conda/lib/python3.9/site-packages (from imbalanced-learn->imblearn) (1.21.1)\n",
      "Requirement already satisfied: scipy>=1.3.2 in /opt/conda/lib/python3.9/site-packages (from imbalanced-learn->imblearn) (1.9.1)\n",
      "Collecting scikit-learn>=1.0.2\n",
      "  Downloading scikit_learn-1.2.1-cp39-cp39-manylinux_2_17_x86_64.manylinux2014_x86_64.whl (9.6 MB)\n",
      "\u001b[K     |████████████████████████████████| 9.6 MB 13.9 MB/s eta 0:00:01\n",
      "\u001b[?25hCollecting joblib>=1.1.1\n",
      "  Downloading joblib-1.2.0-py3-none-any.whl (297 kB)\n",
      "\u001b[K     |████████████████████████████████| 297 kB 66.9 MB/s eta 0:00:01\n",
      "\u001b[?25hInstalling collected packages: joblib, scikit-learn, imbalanced-learn, imblearn\n",
      "  Attempting uninstall: joblib\n",
      "    Found existing installation: joblib 1.1.0\n",
      "    Uninstalling joblib-1.1.0:\n",
      "      Successfully uninstalled joblib-1.1.0\n",
      "  Attempting uninstall: scikit-learn\n",
      "    Found existing installation: scikit-learn 0.24.1\n",
      "    Uninstalling scikit-learn-0.24.1:\n",
      "      Successfully uninstalled scikit-learn-0.24.1\n",
      "Successfully installed imbalanced-learn-0.10.1 imblearn-0.0 joblib-1.2.0 scikit-learn-1.2.1\n"
     ]
    }
   ],
   "source": [
    "!pip install imblearn"
   ]
  },
  {
   "cell_type": "code",
   "execution_count": 2,
   "metadata": {},
   "outputs": [],
   "source": [
    "import warnings\n",
    "import os\n",
    "\n",
    "import pandas as pd\n",
    "import numpy as np\n",
    "import matplotlib.pyplot as plt\n",
    "\n",
    "from sklearn.tree import DecisionTreeClassifier\n",
    "from sklearn.ensemble import RandomForestClassifier\n",
    "from sklearn.linear_model import LogisticRegression\n",
    "\n",
    "from sklearn.utils import shuffle\n",
    "\n",
    "from sklearn.model_selection import train_test_split\n",
    "\n",
    "from sklearn.metrics import (\n",
    "    accuracy_score, \n",
    "    recall_score, \n",
    "    precision_score, \n",
    "    f1_score, \n",
    "    roc_curve, \n",
    "    roc_auc_score\n",
    ")\n",
    "\n",
    "from imblearn.over_sampling import SMOTE\n",
    "from imblearn.under_sampling import RandomUnderSampler\n",
    "\n",
    "from sklearn.preprocessing import (\n",
    "    StandardScaler,\n",
    "    OneHotEncoder\n",
    ")"
   ]
  },
  {
   "cell_type": "markdown",
   "metadata": {},
   "source": [
    "Прочитаем файл в переменную `data` и изучим данные:"
   ]
  },
  {
   "cell_type": "code",
   "execution_count": 3,
   "metadata": {},
   "outputs": [
    {
     "name": "stdout",
     "output_type": "stream",
     "text": [
      "<class 'pandas.core.frame.DataFrame'>\n",
      "RangeIndex: 10000 entries, 0 to 9999\n",
      "Data columns (total 14 columns):\n",
      " #   Column           Non-Null Count  Dtype  \n",
      "---  ------           --------------  -----  \n",
      " 0   RowNumber        10000 non-null  int64  \n",
      " 1   CustomerId       10000 non-null  int64  \n",
      " 2   Surname          10000 non-null  object \n",
      " 3   CreditScore      10000 non-null  int64  \n",
      " 4   Geography        10000 non-null  object \n",
      " 5   Gender           10000 non-null  object \n",
      " 6   Age              10000 non-null  int64  \n",
      " 7   Tenure           9091 non-null   float64\n",
      " 8   Balance          10000 non-null  float64\n",
      " 9   NumOfProducts    10000 non-null  int64  \n",
      " 10  HasCrCard        10000 non-null  int64  \n",
      " 11  IsActiveMember   10000 non-null  int64  \n",
      " 12  EstimatedSalary  10000 non-null  float64\n",
      " 13  Exited           10000 non-null  int64  \n",
      "dtypes: float64(3), int64(8), object(3)\n",
      "memory usage: 1.1+ MB\n"
     ]
    }
   ],
   "source": [
    "if os.path.exists('Churn.csv'):\n",
    "    data = pd.read_csv('Churn.csv')\n",
    "elif os.path.exists('/datasets/Churn.csv'):\n",
    "    data = pd.read_csv('/datasets/Churn.csv')\n",
    "else:\n",
    "    print(\"Проверьте правильность пути к датасету\")\n",
    "data.info()"
   ]
  },
  {
   "cell_type": "markdown",
   "metadata": {},
   "source": [
    "**Признаки**\n",
    "- RowNumber — индекс строки в данных\n",
    "- CustomerId — уникальный идентификатор клиента\n",
    "- Surname — фамилия\n",
    "- CreditScore — кредитный рейтинг\n",
    "- Geography — страна проживания\n",
    "- Gender — пол\n",
    "- Age — возраст\n",
    "- Tenure — сколько лет человек является клиентом банка\n",
    "- Balance — баланс на счёте\n",
    "- NumOfProducts — количество продуктов банка, используемых клиентом\n",
    "- HasCrCard — наличие кредитной карты\n",
    "- IsActiveMember — активность клиента\n",
    "- EstimatedSalary — предполагаемая зарплата\n",
    "\n",
    "**Целевой признак**\n",
    "- Exited — факт ухода клиента"
   ]
  },
  {
   "cell_type": "code",
   "execution_count": 4,
   "metadata": {
    "scrolled": true
   },
   "outputs": [
    {
     "data": {
      "text/html": [
       "<div>\n",
       "<style scoped>\n",
       "    .dataframe tbody tr th:only-of-type {\n",
       "        vertical-align: middle;\n",
       "    }\n",
       "\n",
       "    .dataframe tbody tr th {\n",
       "        vertical-align: top;\n",
       "    }\n",
       "\n",
       "    .dataframe thead th {\n",
       "        text-align: right;\n",
       "    }\n",
       "</style>\n",
       "<table border=\"1\" class=\"dataframe\">\n",
       "  <thead>\n",
       "    <tr style=\"text-align: right;\">\n",
       "      <th></th>\n",
       "      <th>RowNumber</th>\n",
       "      <th>CustomerId</th>\n",
       "      <th>Surname</th>\n",
       "      <th>CreditScore</th>\n",
       "      <th>Geography</th>\n",
       "      <th>Gender</th>\n",
       "      <th>Age</th>\n",
       "      <th>Tenure</th>\n",
       "      <th>Balance</th>\n",
       "      <th>NumOfProducts</th>\n",
       "      <th>HasCrCard</th>\n",
       "      <th>IsActiveMember</th>\n",
       "      <th>EstimatedSalary</th>\n",
       "      <th>Exited</th>\n",
       "    </tr>\n",
       "  </thead>\n",
       "  <tbody>\n",
       "    <tr>\n",
       "      <th>0</th>\n",
       "      <td>1</td>\n",
       "      <td>15634602</td>\n",
       "      <td>Hargrave</td>\n",
       "      <td>619</td>\n",
       "      <td>France</td>\n",
       "      <td>Female</td>\n",
       "      <td>42</td>\n",
       "      <td>2.0</td>\n",
       "      <td>0.00</td>\n",
       "      <td>1</td>\n",
       "      <td>1</td>\n",
       "      <td>1</td>\n",
       "      <td>101348.88</td>\n",
       "      <td>1</td>\n",
       "    </tr>\n",
       "    <tr>\n",
       "      <th>1</th>\n",
       "      <td>2</td>\n",
       "      <td>15647311</td>\n",
       "      <td>Hill</td>\n",
       "      <td>608</td>\n",
       "      <td>Spain</td>\n",
       "      <td>Female</td>\n",
       "      <td>41</td>\n",
       "      <td>1.0</td>\n",
       "      <td>83807.86</td>\n",
       "      <td>1</td>\n",
       "      <td>0</td>\n",
       "      <td>1</td>\n",
       "      <td>112542.58</td>\n",
       "      <td>0</td>\n",
       "    </tr>\n",
       "    <tr>\n",
       "      <th>2</th>\n",
       "      <td>3</td>\n",
       "      <td>15619304</td>\n",
       "      <td>Onio</td>\n",
       "      <td>502</td>\n",
       "      <td>France</td>\n",
       "      <td>Female</td>\n",
       "      <td>42</td>\n",
       "      <td>8.0</td>\n",
       "      <td>159660.80</td>\n",
       "      <td>3</td>\n",
       "      <td>1</td>\n",
       "      <td>0</td>\n",
       "      <td>113931.57</td>\n",
       "      <td>1</td>\n",
       "    </tr>\n",
       "    <tr>\n",
       "      <th>3</th>\n",
       "      <td>4</td>\n",
       "      <td>15701354</td>\n",
       "      <td>Boni</td>\n",
       "      <td>699</td>\n",
       "      <td>France</td>\n",
       "      <td>Female</td>\n",
       "      <td>39</td>\n",
       "      <td>1.0</td>\n",
       "      <td>0.00</td>\n",
       "      <td>2</td>\n",
       "      <td>0</td>\n",
       "      <td>0</td>\n",
       "      <td>93826.63</td>\n",
       "      <td>0</td>\n",
       "    </tr>\n",
       "    <tr>\n",
       "      <th>4</th>\n",
       "      <td>5</td>\n",
       "      <td>15737888</td>\n",
       "      <td>Mitchell</td>\n",
       "      <td>850</td>\n",
       "      <td>Spain</td>\n",
       "      <td>Female</td>\n",
       "      <td>43</td>\n",
       "      <td>2.0</td>\n",
       "      <td>125510.82</td>\n",
       "      <td>1</td>\n",
       "      <td>1</td>\n",
       "      <td>1</td>\n",
       "      <td>79084.10</td>\n",
       "      <td>0</td>\n",
       "    </tr>\n",
       "  </tbody>\n",
       "</table>\n",
       "</div>"
      ],
      "text/plain": [
       "   RowNumber  CustomerId   Surname  CreditScore Geography  Gender  Age  \\\n",
       "0          1    15634602  Hargrave          619    France  Female   42   \n",
       "1          2    15647311      Hill          608     Spain  Female   41   \n",
       "2          3    15619304      Onio          502    France  Female   42   \n",
       "3          4    15701354      Boni          699    France  Female   39   \n",
       "4          5    15737888  Mitchell          850     Spain  Female   43   \n",
       "\n",
       "   Tenure    Balance  NumOfProducts  HasCrCard  IsActiveMember  \\\n",
       "0     2.0       0.00              1          1               1   \n",
       "1     1.0   83807.86              1          0               1   \n",
       "2     8.0  159660.80              3          1               0   \n",
       "3     1.0       0.00              2          0               0   \n",
       "4     2.0  125510.82              1          1               1   \n",
       "\n",
       "   EstimatedSalary  Exited  \n",
       "0        101348.88       1  \n",
       "1        112542.58       0  \n",
       "2        113931.57       1  \n",
       "3         93826.63       0  \n",
       "4         79084.10       0  "
      ]
     },
     "execution_count": 4,
     "metadata": {},
     "output_type": "execute_result"
    }
   ],
   "source": [
    "data.head()"
   ]
  },
  {
   "cell_type": "markdown",
   "metadata": {},
   "source": [
    "Первое, что бросается в глаза - пропуски в столбце Tenure. Рассмотрим их:"
   ]
  },
  {
   "cell_type": "code",
   "execution_count": 5,
   "metadata": {
    "scrolled": true
   },
   "outputs": [
    {
     "data": {
      "text/html": [
       "<div>\n",
       "<style scoped>\n",
       "    .dataframe tbody tr th:only-of-type {\n",
       "        vertical-align: middle;\n",
       "    }\n",
       "\n",
       "    .dataframe tbody tr th {\n",
       "        vertical-align: top;\n",
       "    }\n",
       "\n",
       "    .dataframe thead th {\n",
       "        text-align: right;\n",
       "    }\n",
       "</style>\n",
       "<table border=\"1\" class=\"dataframe\">\n",
       "  <thead>\n",
       "    <tr style=\"text-align: right;\">\n",
       "      <th></th>\n",
       "      <th>RowNumber</th>\n",
       "      <th>CustomerId</th>\n",
       "      <th>Surname</th>\n",
       "      <th>CreditScore</th>\n",
       "      <th>Geography</th>\n",
       "      <th>Gender</th>\n",
       "      <th>Age</th>\n",
       "      <th>Tenure</th>\n",
       "      <th>Balance</th>\n",
       "      <th>NumOfProducts</th>\n",
       "      <th>HasCrCard</th>\n",
       "      <th>IsActiveMember</th>\n",
       "      <th>EstimatedSalary</th>\n",
       "      <th>Exited</th>\n",
       "    </tr>\n",
       "  </thead>\n",
       "  <tbody>\n",
       "    <tr>\n",
       "      <th>30</th>\n",
       "      <td>31</td>\n",
       "      <td>15589475</td>\n",
       "      <td>Azikiwe</td>\n",
       "      <td>591</td>\n",
       "      <td>Spain</td>\n",
       "      <td>Female</td>\n",
       "      <td>39</td>\n",
       "      <td>NaN</td>\n",
       "      <td>0.00</td>\n",
       "      <td>3</td>\n",
       "      <td>1</td>\n",
       "      <td>0</td>\n",
       "      <td>140469.38</td>\n",
       "      <td>1</td>\n",
       "    </tr>\n",
       "    <tr>\n",
       "      <th>48</th>\n",
       "      <td>49</td>\n",
       "      <td>15766205</td>\n",
       "      <td>Yin</td>\n",
       "      <td>550</td>\n",
       "      <td>Germany</td>\n",
       "      <td>Male</td>\n",
       "      <td>38</td>\n",
       "      <td>NaN</td>\n",
       "      <td>103391.38</td>\n",
       "      <td>1</td>\n",
       "      <td>0</td>\n",
       "      <td>1</td>\n",
       "      <td>90878.13</td>\n",
       "      <td>0</td>\n",
       "    </tr>\n",
       "    <tr>\n",
       "      <th>51</th>\n",
       "      <td>52</td>\n",
       "      <td>15768193</td>\n",
       "      <td>Trevisani</td>\n",
       "      <td>585</td>\n",
       "      <td>Germany</td>\n",
       "      <td>Male</td>\n",
       "      <td>36</td>\n",
       "      <td>NaN</td>\n",
       "      <td>146050.97</td>\n",
       "      <td>2</td>\n",
       "      <td>0</td>\n",
       "      <td>0</td>\n",
       "      <td>86424.57</td>\n",
       "      <td>0</td>\n",
       "    </tr>\n",
       "    <tr>\n",
       "      <th>53</th>\n",
       "      <td>54</td>\n",
       "      <td>15702298</td>\n",
       "      <td>Parkhill</td>\n",
       "      <td>655</td>\n",
       "      <td>Germany</td>\n",
       "      <td>Male</td>\n",
       "      <td>41</td>\n",
       "      <td>NaN</td>\n",
       "      <td>125561.97</td>\n",
       "      <td>1</td>\n",
       "      <td>0</td>\n",
       "      <td>0</td>\n",
       "      <td>164040.94</td>\n",
       "      <td>1</td>\n",
       "    </tr>\n",
       "    <tr>\n",
       "      <th>60</th>\n",
       "      <td>61</td>\n",
       "      <td>15651280</td>\n",
       "      <td>Hunter</td>\n",
       "      <td>742</td>\n",
       "      <td>Germany</td>\n",
       "      <td>Male</td>\n",
       "      <td>35</td>\n",
       "      <td>NaN</td>\n",
       "      <td>136857.00</td>\n",
       "      <td>1</td>\n",
       "      <td>0</td>\n",
       "      <td>0</td>\n",
       "      <td>84509.57</td>\n",
       "      <td>0</td>\n",
       "    </tr>\n",
       "    <tr>\n",
       "      <th>...</th>\n",
       "      <td>...</td>\n",
       "      <td>...</td>\n",
       "      <td>...</td>\n",
       "      <td>...</td>\n",
       "      <td>...</td>\n",
       "      <td>...</td>\n",
       "      <td>...</td>\n",
       "      <td>...</td>\n",
       "      <td>...</td>\n",
       "      <td>...</td>\n",
       "      <td>...</td>\n",
       "      <td>...</td>\n",
       "      <td>...</td>\n",
       "      <td>...</td>\n",
       "    </tr>\n",
       "    <tr>\n",
       "      <th>9944</th>\n",
       "      <td>9945</td>\n",
       "      <td>15703923</td>\n",
       "      <td>Cameron</td>\n",
       "      <td>744</td>\n",
       "      <td>Germany</td>\n",
       "      <td>Male</td>\n",
       "      <td>41</td>\n",
       "      <td>NaN</td>\n",
       "      <td>190409.34</td>\n",
       "      <td>2</td>\n",
       "      <td>1</td>\n",
       "      <td>1</td>\n",
       "      <td>138361.48</td>\n",
       "      <td>0</td>\n",
       "    </tr>\n",
       "    <tr>\n",
       "      <th>9956</th>\n",
       "      <td>9957</td>\n",
       "      <td>15707861</td>\n",
       "      <td>Nucci</td>\n",
       "      <td>520</td>\n",
       "      <td>France</td>\n",
       "      <td>Female</td>\n",
       "      <td>46</td>\n",
       "      <td>NaN</td>\n",
       "      <td>85216.61</td>\n",
       "      <td>1</td>\n",
       "      <td>1</td>\n",
       "      <td>0</td>\n",
       "      <td>117369.52</td>\n",
       "      <td>1</td>\n",
       "    </tr>\n",
       "    <tr>\n",
       "      <th>9964</th>\n",
       "      <td>9965</td>\n",
       "      <td>15642785</td>\n",
       "      <td>Douglas</td>\n",
       "      <td>479</td>\n",
       "      <td>France</td>\n",
       "      <td>Male</td>\n",
       "      <td>34</td>\n",
       "      <td>NaN</td>\n",
       "      <td>117593.48</td>\n",
       "      <td>2</td>\n",
       "      <td>0</td>\n",
       "      <td>0</td>\n",
       "      <td>113308.29</td>\n",
       "      <td>0</td>\n",
       "    </tr>\n",
       "    <tr>\n",
       "      <th>9985</th>\n",
       "      <td>9986</td>\n",
       "      <td>15586914</td>\n",
       "      <td>Nepean</td>\n",
       "      <td>659</td>\n",
       "      <td>France</td>\n",
       "      <td>Male</td>\n",
       "      <td>36</td>\n",
       "      <td>NaN</td>\n",
       "      <td>123841.49</td>\n",
       "      <td>2</td>\n",
       "      <td>1</td>\n",
       "      <td>0</td>\n",
       "      <td>96833.00</td>\n",
       "      <td>0</td>\n",
       "    </tr>\n",
       "    <tr>\n",
       "      <th>9999</th>\n",
       "      <td>10000</td>\n",
       "      <td>15628319</td>\n",
       "      <td>Walker</td>\n",
       "      <td>792</td>\n",
       "      <td>France</td>\n",
       "      <td>Female</td>\n",
       "      <td>28</td>\n",
       "      <td>NaN</td>\n",
       "      <td>130142.79</td>\n",
       "      <td>1</td>\n",
       "      <td>1</td>\n",
       "      <td>0</td>\n",
       "      <td>38190.78</td>\n",
       "      <td>0</td>\n",
       "    </tr>\n",
       "  </tbody>\n",
       "</table>\n",
       "<p>909 rows × 14 columns</p>\n",
       "</div>"
      ],
      "text/plain": [
       "      RowNumber  CustomerId    Surname  CreditScore Geography  Gender  Age  \\\n",
       "30           31    15589475    Azikiwe          591     Spain  Female   39   \n",
       "48           49    15766205        Yin          550   Germany    Male   38   \n",
       "51           52    15768193  Trevisani          585   Germany    Male   36   \n",
       "53           54    15702298   Parkhill          655   Germany    Male   41   \n",
       "60           61    15651280     Hunter          742   Germany    Male   35   \n",
       "...         ...         ...        ...          ...       ...     ...  ...   \n",
       "9944       9945    15703923    Cameron          744   Germany    Male   41   \n",
       "9956       9957    15707861      Nucci          520    France  Female   46   \n",
       "9964       9965    15642785    Douglas          479    France    Male   34   \n",
       "9985       9986    15586914     Nepean          659    France    Male   36   \n",
       "9999      10000    15628319     Walker          792    France  Female   28   \n",
       "\n",
       "      Tenure    Balance  NumOfProducts  HasCrCard  IsActiveMember  \\\n",
       "30       NaN       0.00              3          1               0   \n",
       "48       NaN  103391.38              1          0               1   \n",
       "51       NaN  146050.97              2          0               0   \n",
       "53       NaN  125561.97              1          0               0   \n",
       "60       NaN  136857.00              1          0               0   \n",
       "...      ...        ...            ...        ...             ...   \n",
       "9944     NaN  190409.34              2          1               1   \n",
       "9956     NaN   85216.61              1          1               0   \n",
       "9964     NaN  117593.48              2          0               0   \n",
       "9985     NaN  123841.49              2          1               0   \n",
       "9999     NaN  130142.79              1          1               0   \n",
       "\n",
       "      EstimatedSalary  Exited  \n",
       "30          140469.38       1  \n",
       "48           90878.13       0  \n",
       "51           86424.57       0  \n",
       "53          164040.94       1  \n",
       "60           84509.57       0  \n",
       "...               ...     ...  \n",
       "9944        138361.48       0  \n",
       "9956        117369.52       1  \n",
       "9964        113308.29       0  \n",
       "9985         96833.00       0  \n",
       "9999         38190.78       0  \n",
       "\n",
       "[909 rows x 14 columns]"
      ]
     },
     "execution_count": 5,
     "metadata": {},
     "output_type": "execute_result"
    }
   ],
   "source": [
    "data.query('Tenure.isna()')"
   ]
  },
  {
   "cell_type": "markdown",
   "metadata": {},
   "source": [
    "Вероятно, пропуски связаны с некорректными данными. Строки с пропусками цдалим из данных."
   ]
  },
  {
   "cell_type": "code",
   "execution_count": 6,
   "metadata": {},
   "outputs": [],
   "source": [
    "data = data.dropna(subset=['Tenure'])\n",
    "data = data.reset_index(drop=True)"
   ]
  },
  {
   "cell_type": "markdown",
   "metadata": {},
   "source": [
    "Столбцы `RowNumber`, `Surname`, `CustomerId` не влияют на уход клиентов, не являются признаками, удалим эти столбцы:"
   ]
  },
  {
   "cell_type": "code",
   "execution_count": 7,
   "metadata": {},
   "outputs": [],
   "source": [
    "data = data.drop(['RowNumber','Surname', 'CustomerId'], axis=1);"
   ]
  },
  {
   "cell_type": "markdown",
   "metadata": {},
   "source": [
    "Думаю, что страна влияет на отток клиетов, т.к. обслуживание в разных странах может отличаться. Этот признак мы оставим."
   ]
  },
  {
   "cell_type": "markdown",
   "metadata": {},
   "source": [
    "Разделим данные на три выборки: тренировочную, валидационную и тестовую:"
   ]
  },
  {
   "cell_type": "code",
   "execution_count": 9,
   "metadata": {},
   "outputs": [
    {
     "name": "stdout",
     "output_type": "stream",
     "text": [
      "Размер тренировочной выборки:  5454\n",
      "Размер валидационной выборки:  1818\n",
      "Размер тестовой выборки:  1819\n"
     ]
    }
   ],
   "source": [
    "target = data['Exited']\n",
    "features = data.drop('Exited', axis=1)\n",
    "\n",
    "features_train, features_valid, target_train, target_valid = train_test_split(\n",
    "    features, target, test_size=0.4, random_state=12345)\n",
    "features_valid, features_test, target_valid, target_test = train_test_split(\n",
    "    features_valid, target_valid, test_size=0.5, random_state=12345)\n",
    "target_train = target_train.reset_index(drop=True)\n",
    "target_valid = target_valid.reset_index(drop=True)\n",
    "target_test = target_test.reset_index(drop=True)\n",
    "print('Размер тренировочной выборки: ', features_train.shape[0])\n",
    "print('Размер валидационной выборки: ', features_valid.shape[0])\n",
    "print('Размер тестовой выборки: ', features_test.shape[0])"
   ]
  },
  {
   "cell_type": "markdown",
   "metadata": {},
   "source": [
    "Масштабируем признаки. Отдельно будем масшабировать каждую из выборок методом `StandartScaler()`, для нашей задачи это не обязательно, т.к. мы будем использовать логистическую регрессию, решаюшее дерево и случайный лес:"
   ]
  },
  {
   "cell_type": "markdown",
   "metadata": {},
   "source": [
    "Применим технику OHE из библиотеки `sklearn`:"
   ]
  },
  {
   "cell_type": "code",
   "execution_count": 10,
   "metadata": {},
   "outputs": [
    {
     "name": "stderr",
     "output_type": "stream",
     "text": [
      "/opt/conda/lib/python3.9/site-packages/sklearn/preprocessing/_encoders.py:828: FutureWarning: `sparse` was renamed to `sparse_output` in version 1.2 and will be removed in 1.4. `sparse_output` is ignored unless you leave `sparse` to its default value.\n",
      "  warnings.warn(\n"
     ]
    }
   ],
   "source": [
    "numeric = ['CreditScore','Age','Tenure','Balance','NumOfProducts', 'EstimatedSalary']\n",
    "category = ['Geography','Gender']\n",
    "\n",
    "encoder = OneHotEncoder(handle_unknown='ignore', drop='first', sparse=False)\n",
    "encoder.fit(features_train[category])\n",
    "\n",
    "encoder_train = pd.DataFrame(data=encoder.transform(features_train[category]), columns=encoder.get_feature_names_out())\n",
    "features_train = features_train.drop(category, axis=1).reset_index(drop=True).join(encoder_train)\n",
    "\n",
    "encoder_valid = pd.DataFrame(data=encoder.transform(features_valid[category]), columns=encoder.get_feature_names_out())\n",
    "features_valid = features_valid.drop(category, axis=1).reset_index(drop=True).join(encoder_valid)\n",
    "\n",
    "encoder_test = pd.DataFrame(data=encoder.transform(features_test[category]), columns=encoder.get_feature_names_out())\n",
    "features_test = features_test.drop(category, axis=1).reset_index(drop=True).join(encoder_test)"
   ]
  },
  {
   "cell_type": "code",
   "execution_count": 11,
   "metadata": {},
   "outputs": [],
   "source": [
    "scaler = StandardScaler()\n",
    "scaler.fit(features_train[numeric])\n",
    "\n",
    "features_train[numeric] = scaler.transform(features_train[numeric])\n",
    "features_valid[numeric] = scaler.transform(features_valid[numeric])\n",
    "features_test[numeric] = scaler.transform(features_test[numeric])"
   ]
  },
  {
   "cell_type": "markdown",
   "metadata": {},
   "source": [
    "## Исследование задачи"
   ]
  },
  {
   "cell_type": "markdown",
   "metadata": {},
   "source": [
    "Перед нами задача классификации, поэтому мы будем исследовать модели решающего дерева, случайного леса и логистической регрессии. "
   ]
  },
  {
   "cell_type": "markdown",
   "metadata": {},
   "source": [
    "Рассмотрим количество значений в целевом признаке:"
   ]
  },
  {
   "cell_type": "code",
   "execution_count": 12,
   "metadata": {},
   "outputs": [
    {
     "data": {
      "text/plain": [
       "0    7237\n",
       "1    1854\n",
       "Name: Exited, dtype: int64"
      ]
     },
     "execution_count": 12,
     "metadata": {},
     "output_type": "execute_result"
    }
   ],
   "source": [
    "data['Exited'].value_counts()"
   ]
  },
  {
   "cell_type": "markdown",
   "metadata": {},
   "source": [
    "Наблюдается явный дисбаланс классов: клиентов, которые не ушли гораздо больше, чем тех, которые ушли. Для начала проведем исследования без учета дисбаланса."
   ]
  },
  {
   "cell_type": "code",
   "execution_count": 13,
   "metadata": {},
   "outputs": [],
   "source": [
    "f1_global_not_balanced = []\n",
    "roc_auc_global_not_balanced = []"
   ]
  },
  {
   "cell_type": "markdown",
   "metadata": {},
   "source": [
    "Рассмотрим модель **решающего дерева**:"
   ]
  },
  {
   "cell_type": "code",
   "execution_count": 14,
   "metadata": {},
   "outputs": [],
   "source": [
    "model = DecisionTreeClassifier(random_state=12345)\n",
    "model.fit(features_train, target_train)\n",
    "\n",
    "predictions_valid = model.predict(features_valid)\n",
    "\n",
    "probabilities_valid = model.predict_proba(features_valid)\n",
    "probabilities_one_valid = probabilities_valid[:, 1]"
   ]
  },
  {
   "cell_type": "markdown",
   "metadata": {},
   "source": [
    "Посчитаем точность - accuracy:"
   ]
  },
  {
   "cell_type": "code",
   "execution_count": 15,
   "metadata": {
    "scrolled": true
   },
   "outputs": [
    {
     "name": "stdout",
     "output_type": "stream",
     "text": [
      "0.7904290429042904\n"
     ]
    }
   ],
   "source": [
    "print(accuracy_score(target_valid, predictions_valid))"
   ]
  },
  {
   "cell_type": "markdown",
   "metadata": {},
   "source": [
    "Проверим также модель со всеми предсказаниями, равными 0:"
   ]
  },
  {
   "cell_type": "code",
   "execution_count": 16,
   "metadata": {},
   "outputs": [],
   "source": [
    "predictions_valid_zero = [0]*len(target_valid)"
   ]
  },
  {
   "cell_type": "code",
   "execution_count": 17,
   "metadata": {},
   "outputs": [
    {
     "name": "stdout",
     "output_type": "stream",
     "text": [
      "0.7926292629262927\n"
     ]
    }
   ],
   "source": [
    "print(accuracy_score(target_valid, predictions_valid_zero))"
   ]
  },
  {
   "cell_type": "markdown",
   "metadata": {},
   "source": [
    "Таким образом мы получаем практически одинаковую точность для моделей. Во-первых, выбранная метрика нам не подходит, а во-вторых, такие значения мы получаем из-за явного дисбаланса.\n",
    "\n",
    "Рассчитаем сначала precision, recall, f1-меру и ROC-AUC для несбалансированных моделей, без изменения порога принятия решений:"
   ]
  },
  {
   "cell_type": "code",
   "execution_count": 18,
   "metadata": {},
   "outputs": [
    {
     "name": "stdout",
     "output_type": "stream",
     "text": [
      "Точность (precision)  0.4946524064171123\n",
      "Полнота (recall)  0.4907161803713528\n",
      "F1-мера (F1-score)  0.4926764314247669\n",
      "ROC-AUC:  0.6797786314764468\n"
     ]
    },
    {
     "data": {
      "image/png": "[encoded data removed]",
      "text/plain": [
       "<Figure size 432x288 with 1 Axes>"
      ]
     },
     "metadata": {
      "needs_background": "light"
     },
     "output_type": "display_data"
    }
   ],
   "source": [
    "print('Точность (precision) ', precision_score(target_valid, predictions_valid))\n",
    "print('Полнота (recall) ', recall_score(target_valid, predictions_valid))\n",
    "print('F1-мера (F1-score) ', f1_score(target_valid, predictions_valid))\n",
    "print('ROC-AUC: ', roc_auc_score(target_valid, probabilities_one_valid))\n",
    "fpr, tpr, thresholds = roc_curve(target_valid, probabilities_one_valid) \n",
    "plt.plot(fpr, tpr);\n",
    "plt.title('ROC-AUC. DecisionTreeClassifier');\n",
    "plt.xlabel('False Positive Rate');\n",
    "plt.ylabel('True Positive Rate');"
   ]
  },
  {
   "cell_type": "markdown",
   "metadata": {},
   "source": [
    "Первые три метрики примерно одинаковы. Метрика ROC-AUC больше, почти 0.7."
   ]
  },
  {
   "cell_type": "markdown",
   "metadata": {},
   "source": [
    "F1-мера не переходит метку в 0.59, такая модель точно нам не подходит, мы будем далее рассматривать модель решающего дерева с измененными гиперпараметрами.\n",
    "\n",
    "Теперь рассмотрим модель **случайного леса**:"
   ]
  },
  {
   "cell_type": "code",
   "execution_count": 19,
   "metadata": {},
   "outputs": [],
   "source": [
    "model = RandomForestClassifier(random_state=12345)\n",
    "model.fit(features_train, target_train)\n",
    "\n",
    "predictions_valid = model.predict(features_valid)\n",
    "\n",
    "probabilities_valid = model.predict_proba(features_valid)\n",
    "probabilities_one_valid = probabilities_valid[:, 1]"
   ]
  },
  {
   "cell_type": "code",
   "execution_count": 20,
   "metadata": {},
   "outputs": [
    {
     "name": "stdout",
     "output_type": "stream",
     "text": [
      "Точность (precision)  0.7763157894736842\n",
      "Полнота (recall)  0.46949602122015915\n",
      "F1-мера (F1-score)  0.5851239669421487\n",
      "ROC-AUC:  0.8629313566139046\n"
     ]
    },
    {
     "data": {
      "image/png": "[encoded data removed]",
      "text/plain": [
       "<Figure size 432x288 with 1 Axes>"
      ]
     },
     "metadata": {
      "needs_background": "light"
     },
     "output_type": "display_data"
    }
   ],
   "source": [
    "print('Точность (precision) ', precision_score(target_valid, predictions_valid))\n",
    "print('Полнота (recall) ', recall_score(target_valid, predictions_valid))\n",
    "print('F1-мера (F1-score) ', f1_score(target_valid, predictions_valid))\n",
    "print('ROC-AUC: ', roc_auc_score(target_valid, probabilities_one_valid))\n",
    "fpr, tpr, thresholds = roc_curve(target_valid, probabilities_one_valid) \n",
    "plt.plot(fpr, tpr);\n",
    "plt.title('ROC-AUC. DecisionTreeClassifier');\n",
    "plt.xlabel('False Positive Rate');\n",
    "plt.ylabel('True Positive Rate');"
   ]
  },
  {
   "cell_type": "markdown",
   "metadata": {},
   "source": [
    "У модели случайного леса гораздо большая точность, нежели у предыдущей модели. F1-мера всё ещё не переходит границу в 0.59.\n",
    "\n",
    "Кривая ROC-AUC также больше и кривая имеет иную форму (более кругулю)."
   ]
  },
  {
   "cell_type": "markdown",
   "metadata": {},
   "source": [
    "Теперь рассмотрим модель **логистической регрессии**:"
   ]
  },
  {
   "cell_type": "code",
   "execution_count": 21,
   "metadata": {},
   "outputs": [],
   "source": [
    "model = LogisticRegression(random_state=12345, max_iter=150)\n",
    "model.fit(features_train, target_train)\n",
    "\n",
    "predictions_valid = model.predict(features_valid)\n",
    "\n",
    "probabilities_valid = model.predict_proba(features_valid)\n",
    "probabilities_one_valid = probabilities_valid[:, 1]"
   ]
  },
  {
   "cell_type": "code",
   "execution_count": 22,
   "metadata": {},
   "outputs": [
    {
     "name": "stdout",
     "output_type": "stream",
     "text": [
      "Точность (precision)  0.6178861788617886\n",
      "Полнота (recall)  0.20159151193633953\n",
      "F1-мера (F1-score)  0.30400000000000005\n",
      "ROC-AUC:  0.773663293800172\n"
     ]
    },
    {
     "data": {
      "image/png": "[encoded data removed]",
      "text/plain": [
       "<Figure size 432x288 with 1 Axes>"
      ]
     },
     "metadata": {
      "needs_background": "light"
     },
     "output_type": "display_data"
    }
   ],
   "source": [
    "print('Точность (precision) ', precision_score(target_valid, predictions_valid))\n",
    "print('Полнота (recall) ', recall_score(target_valid, predictions_valid))\n",
    "print('F1-мера (F1-score) ', f1_score(target_valid, predictions_valid))\n",
    "print('ROC-AUC: ', roc_auc_score(target_valid, probabilities_one_valid))\n",
    "fpr, tpr, thresholds = roc_curve(target_valid, probabilities_one_valid) \n",
    "plt.plot(fpr, tpr);\n",
    "plt.title('ROC-AUC. DecisionTreeClassifier');\n",
    "plt.xlabel('False Positive Rate');\n",
    "plt.ylabel('True Positive Rate');"
   ]
  },
  {
   "cell_type": "markdown",
   "metadata": {},
   "source": [
    "Кривая ROC-AUC движется к единице медленнее, чем в прошлом случае, о чем свидетельствует меньшая площадь под кривой.\n",
    "\n",
    "Значение F1-меры у логистической регрессии без изменений совсем невелико, хотя метрика ROC-AUC не критично мала, а даже соответствует предыдущим получившимся значениям."
   ]
  },
  {
   "cell_type": "code",
   "execution_count": 23,
   "metadata": {},
   "outputs": [],
   "source": [
    "f1_global_not_balanced.append(f1_score(target_valid, predictions_valid))\n",
    "roc_auc_global_not_balanced.append(roc_auc_score(target_valid, probabilities_one_valid))"
   ]
  },
  {
   "cell_type": "markdown",
   "metadata": {},
   "source": [
    "Пока что параметры неидеальны. Т.к. перед нами стоит задача добиться наибольшей F1-меры, то мы ориентируемся на ее максимумы. Подберем наилучшую модель, изменяя гиперпараметры дерева решений и случайного леса. "
   ]
  },
  {
   "cell_type": "markdown",
   "metadata": {},
   "source": [
    "1. Изменение гиперпараметров дерева решений"
   ]
  },
  {
   "cell_type": "code",
   "execution_count": 24,
   "metadata": {},
   "outputs": [],
   "source": [
    "f1_max = 0\n",
    "roc_auc_true = 0\n",
    "for depth in range(2, 100):\n",
    "    model_tree = DecisionTreeClassifier(random_state=12345, max_depth=depth)\n",
    "    model_tree.fit(features_train, target_train)\n",
    "    probabilities_valid = model.predict_proba(features_valid)\n",
    "    probabilities_one_valid = probabilities_valid[:, 1]\n",
    "    predicted_valid = model_tree.predict(features_valid)\n",
    "    if f1_score(target_valid, predicted_valid) > f1_max:\n",
    "        roc_auc_true = roc_auc_score(target_valid, probabilities_one_valid)\n",
    "        depth_tree = depth\n",
    "        f1_max = f1_score(target_valid, predicted_valid)"
   ]
  },
  {
   "cell_type": "code",
   "execution_count": 25,
   "metadata": {},
   "outputs": [
    {
     "name": "stdout",
     "output_type": "stream",
     "text": [
      "Глубина дерева: 7\n"
     ]
    }
   ],
   "source": [
    "f1_global_not_balanced.append(f1_max)\n",
    "roc_auc_global_not_balanced.append(roc_auc_true)\n",
    "print('Глубина дерева:', depth_tree)"
   ]
  },
  {
   "cell_type": "markdown",
   "metadata": {},
   "source": [
    "Учитывая то, что наилучший результат у дерева мы получили при глубине 7, то для уменьшения времени подсчета, мы не будем брать слишком большой разброс параметров"
   ]
  },
  {
   "cell_type": "code",
   "execution_count": 26,
   "metadata": {},
   "outputs": [],
   "source": [
    "f1_max = 0\n",
    "for n_est in range (100, 200, 20):\n",
    "    for depth in range(2, 15):\n",
    "        model = RandomForestClassifier(random_state=12345, max_depth=depth, n_estimators=n_est)\n",
    "        model.fit(features_train, target_train)\n",
    "        probabilities_valid = model.predict_proba(features_valid)\n",
    "        probabilities_one_valid = probabilities_valid[:, 1]\n",
    "\n",
    "     \n",
    "        predicted_valid = model.predict(features_valid)\n",
    "        if f1_score(target_valid, predicted_valid) > f1_max:\n",
    "            depth_forest = depth\n",
    "            f1_max = f1_score(target_valid, predicted_valid)\n",
    "            n_est_forest = n_est \n",
    "            roc_auc_true = roc_auc_score(target_valid, probabilities_one_valid)"
   ]
  },
  {
   "cell_type": "code",
   "execution_count": 27,
   "metadata": {},
   "outputs": [
    {
     "name": "stdout",
     "output_type": "stream",
     "text": [
      "Глубина деревьев: 14 Количество деревьев: 120\n"
     ]
    }
   ],
   "source": [
    "f1_global_not_balanced.append(f1_max)\n",
    "roc_auc_global_not_balanced.append(roc_auc_true)\n",
    "print('Глубина деревьев:', depth_forest, 'Количество деревьев:', n_est_forest) "
   ]
  },
  {
   "cell_type": "markdown",
   "metadata": {},
   "source": [
    "Поясню, что я проверила также глубину до 30-ти - результат был таким же."
   ]
  },
  {
   "cell_type": "markdown",
   "metadata": {},
   "source": [
    "На валидационной выборке мы не получаем удовлетворительных результатов без применения методов балансирования."
   ]
  },
  {
   "cell_type": "markdown",
   "metadata": {},
   "source": [
    "В итоге мы получаем:"
   ]
  },
  {
   "cell_type": "code",
   "execution_count": 28,
   "metadata": {},
   "outputs": [
    {
     "data": {
      "text/html": [
       "<div>\n",
       "<style scoped>\n",
       "    .dataframe tbody tr th:only-of-type {\n",
       "        vertical-align: middle;\n",
       "    }\n",
       "\n",
       "    .dataframe tbody tr th {\n",
       "        vertical-align: top;\n",
       "    }\n",
       "\n",
       "    .dataframe thead th {\n",
       "        text-align: right;\n",
       "    }\n",
       "</style>\n",
       "<table border=\"1\" class=\"dataframe\">\n",
       "  <thead>\n",
       "    <tr style=\"text-align: right;\">\n",
       "      <th></th>\n",
       "      <th>F1-measure</th>\n",
       "      <th>ROC-AUC</th>\n",
       "    </tr>\n",
       "  </thead>\n",
       "  <tbody>\n",
       "    <tr>\n",
       "      <th>LogisticRegression</th>\n",
       "      <td>0.304000</td>\n",
       "      <td>0.773663</td>\n",
       "    </tr>\n",
       "    <tr>\n",
       "      <th>DecisionTreeClassifier</th>\n",
       "      <td>0.576433</td>\n",
       "      <td>0.773663</td>\n",
       "    </tr>\n",
       "    <tr>\n",
       "      <th>RandomForestClassifier</th>\n",
       "      <td>0.589226</td>\n",
       "      <td>0.863372</td>\n",
       "    </tr>\n",
       "  </tbody>\n",
       "</table>\n",
       "</div>"
      ],
      "text/plain": [
       "                        F1-measure   ROC-AUC\n",
       "LogisticRegression        0.304000  0.773663\n",
       "DecisionTreeClassifier    0.576433  0.773663\n",
       "RandomForestClassifier    0.589226  0.863372"
      ]
     },
     "execution_count": 28,
     "metadata": {},
     "output_type": "execute_result"
    }
   ],
   "source": [
    "d = {'F1-measure': f1_global_not_balanced, 'ROC-AUC': roc_auc_global_not_balanced}\n",
    "model_metrics = pd.DataFrame(data=d, index=['LogisticRegression', 'DecisionTreeClassifier', 'RandomForestClassifier'])\n",
    "model_metrics"
   ]
  },
  {
   "cell_type": "markdown",
   "metadata": {},
   "source": [
    "- Результаты модели логистической регрессии наихудшие\n",
    "- Параметр решаюшего дерева - глубина 7 - удовлетворительных результатов также не получаем\n",
    "- Параметры случайного леса - глубина 14, кол-во деревьев 120 - с натяжкой можно сказать, что мы прошли порог F1-меры, но тем не менее, результаты не считаются удовлетворительными"
   ]
  },
  {
   "cell_type": "markdown",
   "metadata": {},
   "source": [
    "**Вывод:**\n",
    "Мы получили модель случайного леса, у которой F1-мера почти равна 0.59. В целом, нам не критически важна скорость (не нужно получать моментальный результат), поэтому предварительно я отдам предпочтение модели случайного леса. \n",
    "\n",
    "При увеличении F1-меры, также наблюдается увеличение и метрики ROC-AUC. Мы получили модели с оптимальными значениями полноты и точности."
   ]
  },
  {
   "cell_type": "markdown",
   "metadata": {},
   "source": [
    "## Борьба с дисбалансом"
   ]
  },
  {
   "cell_type": "markdown",
   "metadata": {},
   "source": [
    "Применим несколько методов борьбы с дисбалансом."
   ]
  },
  {
   "cell_type": "markdown",
   "metadata": {},
   "source": [
    "Сздадим списки для записи полученных метрик."
   ]
  },
  {
   "cell_type": "markdown",
   "metadata": {},
   "source": [
    "**1. Изменение порога принятия решений**"
   ]
  },
  {
   "cell_type": "code",
   "execution_count": 29,
   "metadata": {},
   "outputs": [],
   "source": [
    "metrics_threshold_change = []"
   ]
  },
  {
   "cell_type": "markdown",
   "metadata": {},
   "source": [
    "Рассмотрим модель **решающего дерева**:"
   ]
  },
  {
   "cell_type": "code",
   "execution_count": 30,
   "metadata": {},
   "outputs": [],
   "source": [
    "model = DecisionTreeClassifier(random_state=12345)\n",
    "model.fit(features_train, target_train)\n",
    "\n",
    "predictions_valid = model.predict(features_valid)\n",
    "\n",
    "probabilities_valid = model.predict_proba(features_valid)\n",
    "probabilities_one_valid = probabilities_valid[:, 1]"
   ]
  },
  {
   "cell_type": "markdown",
   "metadata": {},
   "source": [
    "Будем изменять порог приняти решений и посмотрим как это влияет на модель **решающего дерева**:"
   ]
  },
  {
   "cell_type": "code",
   "execution_count": 31,
   "metadata": {},
   "outputs": [
    {
     "data": {
      "image/png": "[encoded data removed]",
      "text/plain": [
       "<Figure size 432x288 with 1 Axes>"
      ]
     },
     "metadata": {
      "needs_background": "light"
     },
     "output_type": "display_data"
    }
   ],
   "source": [
    "recall = []\n",
    "precision = []\n",
    "f1 = []\n",
    "roc_auc = []\n",
    "threshold = np.arange(0, 0.6, 0.05)\n",
    "\n",
    "for t in threshold:\n",
    "    predicted_valid = probabilities_one_valid > t\n",
    "    precision.append(precision_score(target_valid, predicted_valid))\n",
    "    recall.append(recall_score(target_valid, predicted_valid))\n",
    "    f1.append(f1_score(target_valid, predicted_valid))\n",
    "    roc_auc.append(roc_auc_score(target_valid, probabilities_one_valid))\n",
    "fpr, tpr, thresholds = roc_curve(target_valid, probabilities_one_valid) \n",
    "plt.plot(fpr, tpr);\n",
    "plt.title('ROC-AUC. DecisionTreeClassifier');\n",
    "plt.xlabel('False Positive Rate');\n",
    "plt.ylabel('True Positive Rate');"
   ]
  },
  {
   "cell_type": "code",
   "execution_count": 32,
   "metadata": {
    "scrolled": true
   },
   "outputs": [
    {
     "data": {
      "image/png": "[encoded data removed]",
      "text/plain": [
       "<Figure size 432x288 with 1 Axes>"
      ]
     },
     "metadata": {
      "needs_background": "light"
     },
     "output_type": "display_data"
    }
   ],
   "source": [
    "m = {'Порог' : threshold, 'Точность' : precision, 'Полнота' : recall, 'F1-мера' : f1, 'ROC-AUC': roc_auc}\n",
    "metrics = pd.DataFrame(data=m)\n",
    "metrics.plot(x='Порог');\n",
    "plt.title('Metrics. DecisionTreeClassifier');\n",
    "plt.xlabel('Threshold');"
   ]
  },
  {
   "cell_type": "markdown",
   "metadata": {},
   "source": [
    "Изменение порога никак не влияет на результат у **решающего дерева**.\n",
    "\n",
    "Результаты:"
   ]
  },
  {
   "cell_type": "code",
   "execution_count": 33,
   "metadata": {},
   "outputs": [
    {
     "name": "stdout",
     "output_type": "stream",
     "text": [
      "Полнота:  0.4907161803713528\n",
      "Точность:  0.4946524064171123\n",
      "F1-мера:  0.4926764314247669\n",
      "ROC-AUC:  0.6797786314764468\n"
     ]
    }
   ],
   "source": [
    "print('Полнота: ',  metrics['Полнота'].max())\n",
    "print('Точность: ', metrics['Точность'].max())\n",
    "print('F1-мера: ', metrics['F1-мера'].max())\n",
    "print('ROC-AUC: ', metrics['ROC-AUC'].max())"
   ]
  },
  {
   "cell_type": "markdown",
   "metadata": {},
   "source": [
    "Сравнивая с \"сырой\" моделью:"
   ]
  },
  {
   "cell_type": "code",
   "execution_count": 34,
   "metadata": {},
   "outputs": [
    {
     "data": {
      "text/plain": [
       "F1-measure    0.576433\n",
       "ROC-AUC       0.773663\n",
       "Name: DecisionTreeClassifier, dtype: float64"
      ]
     },
     "execution_count": 34,
     "metadata": {},
     "output_type": "execute_result"
    }
   ],
   "source": [
    "model_metrics.loc['DecisionTreeClassifier']"
   ]
  },
  {
   "cell_type": "markdown",
   "metadata": {},
   "source": [
    "Результат стал хуже, F1-мера не переходит метку в 0.59, такая модель точно нам не подходит.\n",
    "\n",
    "Поэтому гипрепараметры менять смысла нет, запишем предыдущий результат."
   ]
  },
  {
   "cell_type": "code",
   "execution_count": 35,
   "metadata": {},
   "outputs": [],
   "source": [
    "metrics_threshold_change.append(model_metrics.loc['DecisionTreeClassifier', 'F1-measure'])"
   ]
  },
  {
   "cell_type": "markdown",
   "metadata": {},
   "source": [
    "Теперь рассмотрим модель **случайного леса**:"
   ]
  },
  {
   "cell_type": "code",
   "execution_count": 36,
   "metadata": {},
   "outputs": [],
   "source": [
    "model = RandomForestClassifier(random_state=12345)\n",
    "model.fit(features_train, target_train)\n",
    "\n",
    "predictions_valid = model.predict(features_valid)\n",
    "\n",
    "probabilities_valid = model.predict_proba(features_valid)\n",
    "probabilities_one_valid = probabilities_valid[:, 1]"
   ]
  },
  {
   "cell_type": "markdown",
   "metadata": {},
   "source": [
    "Здесь также будем менять порог принятия решений."
   ]
  },
  {
   "cell_type": "code",
   "execution_count": 37,
   "metadata": {},
   "outputs": [
    {
     "data": {
      "image/png": "[encoded data removed]",
      "text/plain": [
       "<Figure size 432x288 with 1 Axes>"
      ]
     },
     "metadata": {
      "needs_background": "light"
     },
     "output_type": "display_data"
    }
   ],
   "source": [
    "recall = []\n",
    "precision = []\n",
    "f1 = []\n",
    "roc_auc = []\n",
    "threshold = np.arange(0, 0.6, 0.05)\n",
    "\n",
    "for t in threshold:\n",
    "    predicted_valid = probabilities_one_valid > t\n",
    "    precision.append(precision_score(target_valid, predicted_valid))\n",
    "    recall.append(recall_score(target_valid, predicted_valid))\n",
    "    f1.append(f1_score(target_valid, predicted_valid))\n",
    "    roc_auc.append(roc_auc_score(target_valid, probabilities_one_valid))\n",
    "fpr, tpr, thresholds = roc_curve(target_valid, probabilities_one_valid) \n",
    "plt.plot(fpr, tpr);\n",
    "plt.title('ROC-AUC. RandomForestClassifier');\n",
    "plt.xlabel('False Positive Rate');\n",
    "plt.ylabel('True Positive Rate');"
   ]
  },
  {
   "cell_type": "code",
   "execution_count": 38,
   "metadata": {
    "scrolled": true
   },
   "outputs": [
    {
     "data": {
      "image/png": "[encoded data removed]",
      "text/plain": [
       "<Figure size 432x288 with 1 Axes>"
      ]
     },
     "metadata": {
      "needs_background": "light"
     },
     "output_type": "display_data"
    }
   ],
   "source": [
    "m = {'Порог' : threshold, 'Точность' : precision, 'Полнота' : recall, 'F1-мера' : f1, 'ROC-AUC': roc_auc}\n",
    "metrics = pd.DataFrame(data=m)\n",
    "metrics.plot(x='Порог')\n",
    "plt.title('Metrics. RandomForestClassifier');\n",
    "plt.xlabel('Threshold');"
   ]
  },
  {
   "cell_type": "markdown",
   "metadata": {},
   "source": [
    "Анализируя изменение метрик в зависимости от порога, в общем, можно сказать, что метрика ROC-AUC постоянна с изменением порога. F1-мера возрастает до пересечения полноты и точности. Полнота уменьшается, что логично, поступает меньше положительных результатов, а точность увеличивается.\n",
    "\n",
    "Выберем порог, при котором значение F1-меры максимально."
   ]
  },
  {
   "cell_type": "code",
   "execution_count": 39,
   "metadata": {},
   "outputs": [
    {
     "data": {
      "text/html": [
       "<div>\n",
       "<style scoped>\n",
       "    .dataframe tbody tr th:only-of-type {\n",
       "        vertical-align: middle;\n",
       "    }\n",
       "\n",
       "    .dataframe tbody tr th {\n",
       "        vertical-align: top;\n",
       "    }\n",
       "\n",
       "    .dataframe thead th {\n",
       "        text-align: right;\n",
       "    }\n",
       "</style>\n",
       "<table border=\"1\" class=\"dataframe\">\n",
       "  <thead>\n",
       "    <tr style=\"text-align: right;\">\n",
       "      <th></th>\n",
       "      <th>Порог</th>\n",
       "      <th>Точность</th>\n",
       "      <th>Полнота</th>\n",
       "      <th>F1-мера</th>\n",
       "      <th>ROC-AUC</th>\n",
       "    </tr>\n",
       "  </thead>\n",
       "  <tbody>\n",
       "    <tr>\n",
       "      <th>7</th>\n",
       "      <td>0.35</td>\n",
       "      <td>0.649315</td>\n",
       "      <td>0.628647</td>\n",
       "      <td>0.638814</td>\n",
       "      <td>0.862931</td>\n",
       "    </tr>\n",
       "  </tbody>\n",
       "</table>\n",
       "</div>"
      ],
      "text/plain": [
       "   Порог  Точность   Полнота   F1-мера   ROC-AUC\n",
       "7   0.35  0.649315  0.628647  0.638814  0.862931"
      ]
     },
     "execution_count": 39,
     "metadata": {},
     "output_type": "execute_result"
    }
   ],
   "source": [
    "metrics[metrics['F1-мера'] == metrics['F1-мера'].max()]"
   ]
  },
  {
   "cell_type": "markdown",
   "metadata": {},
   "source": [
    "По сравнению с небалансированной моделью:"
   ]
  },
  {
   "cell_type": "code",
   "execution_count": 40,
   "metadata": {},
   "outputs": [
    {
     "data": {
      "text/plain": [
       "F1-measure    0.589226\n",
       "ROC-AUC       0.863372\n",
       "Name: RandomForestClassifier, dtype: float64"
      ]
     },
     "execution_count": 40,
     "metadata": {},
     "output_type": "execute_result"
    }
   ],
   "source": [
    "model_metrics.loc['RandomForestClassifier']"
   ]
  },
  {
   "cell_type": "markdown",
   "metadata": {},
   "source": [
    "Значение F1-меры нам подходит, оно больше, чем у несбалансируемой модели, а метрика ROC-AUC почти не изменилась."
   ]
  },
  {
   "cell_type": "markdown",
   "metadata": {},
   "source": [
    "Подберем оптимальные гиперпараметры для модели случайного леса с подобранным шагом."
   ]
  },
  {
   "cell_type": "code",
   "execution_count": 41,
   "metadata": {},
   "outputs": [
    {
     "name": "stdout",
     "output_type": "stream",
     "text": [
      "Для модели случайного леса гиперапаметры: количество деревьев 120 глубина 10\n",
      "F1-мера: 0.6514285714285715 ROC-AUC: 0.8684876586956083\n"
     ]
    }
   ],
   "source": [
    "f1_max = 0\n",
    "for n_est in range (100, 200, 20):\n",
    "    for depth in range(2, 15):\n",
    "        model_forest = RandomForestClassifier(random_state=12345, max_depth=depth, n_estimators=n_est)\n",
    "        model_forest.fit(features_train, target_train)\n",
    "        probabilities_valid = model_forest.predict_proba(features_valid)\n",
    "        probabilities_one_valid = probabilities_valid[:, 1]\n",
    "\n",
    "        predicted_valid = probabilities_one_valid > 0.35\n",
    "        if f1_score(target_valid, predicted_valid) > f1_max:\n",
    "            depth_forest_th = depth\n",
    "            f1_max = f1_score(target_valid, predicted_valid)\n",
    "            roc_auc_max = roc_auc_score(target_valid, probabilities_one_valid)\n",
    "            n_est_forest_th = n_est \n",
    "print('Для модели случайного леса гиперапаметры: количество деревьев', n_est_forest_th, 'глубина', depth_forest_th)\n",
    "print('F1-мера:', f1_max, 'ROC-AUC:', roc_auc_max)"
   ]
  },
  {
   "cell_type": "code",
   "execution_count": 42,
   "metadata": {},
   "outputs": [],
   "source": [
    "metrics_threshold_change.append(f1_max)"
   ]
  },
  {
   "cell_type": "markdown",
   "metadata": {},
   "source": [
    "Теперь рассмотрим модель **логистической регрессии**:"
   ]
  },
  {
   "cell_type": "code",
   "execution_count": 43,
   "metadata": {},
   "outputs": [],
   "source": [
    "model = LogisticRegression(random_state=12345, max_iter=150)\n",
    "model.fit(features_train, target_train)\n",
    "\n",
    "predictions_valid = model.predict(features_valid)\n",
    "probabilities_valid = model.predict_proba(features_valid)\n",
    "probabilities_one_valid = probabilities_valid[:, 1]"
   ]
  },
  {
   "cell_type": "markdown",
   "metadata": {},
   "source": [
    "Будем менять порог принятия решений:"
   ]
  },
  {
   "cell_type": "code",
   "execution_count": 44,
   "metadata": {},
   "outputs": [
    {
     "data": {
      "image/png": "[encoded data removed]",
      "text/plain": [
       "<Figure size 432x288 with 1 Axes>"
      ]
     },
     "metadata": {
      "needs_background": "light"
     },
     "output_type": "display_data"
    }
   ],
   "source": [
    "recall = []\n",
    "precision = []\n",
    "f1 = []\n",
    "roc_auc = []\n",
    "threshold = np.arange(0, 0.6, 0.05)\n",
    "probabilities_valid = model.predict_proba(features_valid)\n",
    "probabilities_one_valid = probabilities_valid[:, 1]\n",
    "\n",
    "for t in threshold:\n",
    "    predicted_valid = probabilities_one_valid > t\n",
    "    precision.append(precision_score(target_valid, predicted_valid))\n",
    "    recall.append(recall_score(target_valid, predicted_valid))\n",
    "    f1.append(f1_score(target_valid, predicted_valid))\n",
    "    roc_auc.append(roc_auc_score(target_valid,  probabilities_one_valid))\n",
    "fpr, tpr, thresholds = roc_curve(target_valid, probabilities_one_valid) \n",
    "plt.plot(fpr, tpr);\n",
    "plt.title('ROC-AUC. LogisticRegression');\n",
    "plt.xlabel('False Positive Rate');\n",
    "plt.ylabel('True Positive Rate');"
   ]
  },
  {
   "cell_type": "code",
   "execution_count": 45,
   "metadata": {},
   "outputs": [
    {
     "data": {
      "image/png": "[encoded data removed]",
      "text/plain": [
       "<Figure size 432x288 with 1 Axes>"
      ]
     },
     "metadata": {
      "needs_background": "light"
     },
     "output_type": "display_data"
    }
   ],
   "source": [
    "m = {'Порог' : threshold, 'Точность' : precision, 'Полнота' : recall, 'F1-мера' : f1, 'ROC-AUC': roc_auc}\n",
    "metrics = pd.DataFrame(data=m)\n",
    "metrics.plot(x='Порог')\n",
    "plt.title('Metrics. LogisticRegression');\n",
    "plt.xlabel('Threshold');"
   ]
  },
  {
   "cell_type": "markdown",
   "metadata": {},
   "source": [
    "Поведение кривых аналогично предыдущей модели."
   ]
  },
  {
   "cell_type": "markdown",
   "metadata": {},
   "source": [
    "Оставим порог с наибольшим значением F1-меры:"
   ]
  },
  {
   "cell_type": "code",
   "execution_count": 46,
   "metadata": {},
   "outputs": [
    {
     "data": {
      "text/html": [
       "<div>\n",
       "<style scoped>\n",
       "    .dataframe tbody tr th:only-of-type {\n",
       "        vertical-align: middle;\n",
       "    }\n",
       "\n",
       "    .dataframe tbody tr th {\n",
       "        vertical-align: top;\n",
       "    }\n",
       "\n",
       "    .dataframe thead th {\n",
       "        text-align: right;\n",
       "    }\n",
       "</style>\n",
       "<table border=\"1\" class=\"dataframe\">\n",
       "  <thead>\n",
       "    <tr style=\"text-align: right;\">\n",
       "      <th></th>\n",
       "      <th>Порог</th>\n",
       "      <th>Точность</th>\n",
       "      <th>Полнота</th>\n",
       "      <th>F1-мера</th>\n",
       "      <th>ROC-AUC</th>\n",
       "    </tr>\n",
       "  </thead>\n",
       "  <tbody>\n",
       "    <tr>\n",
       "      <th>5</th>\n",
       "      <td>0.25</td>\n",
       "      <td>0.430168</td>\n",
       "      <td>0.612732</td>\n",
       "      <td>0.50547</td>\n",
       "      <td>0.773663</td>\n",
       "    </tr>\n",
       "  </tbody>\n",
       "</table>\n",
       "</div>"
      ],
      "text/plain": [
       "   Порог  Точность   Полнота  F1-мера   ROC-AUC\n",
       "5   0.25  0.430168  0.612732  0.50547  0.773663"
      ]
     },
     "execution_count": 46,
     "metadata": {},
     "output_type": "execute_result"
    }
   ],
   "source": [
    "metrics[metrics['F1-мера'] == metrics['F1-мера'].max()]"
   ]
  },
  {
   "cell_type": "markdown",
   "metadata": {},
   "source": [
    "Значение ROC-AUC меньше, чем у других моделей, а F1-мера не проходит порог."
   ]
  },
  {
   "cell_type": "code",
   "execution_count": 47,
   "metadata": {},
   "outputs": [
    {
     "data": {
      "text/plain": [
       "F1-measure    0.304000\n",
       "ROC-AUC       0.773663\n",
       "Name: LogisticRegression, dtype: float64"
      ]
     },
     "execution_count": 47,
     "metadata": {},
     "output_type": "execute_result"
    }
   ],
   "source": [
    "model_metrics.loc['LogisticRegression']"
   ]
  },
  {
   "cell_type": "markdown",
   "metadata": {},
   "source": [
    "Однако, результат стал лучше, нежели чем у несбалансированной модели."
   ]
  },
  {
   "cell_type": "code",
   "execution_count": 48,
   "metadata": {},
   "outputs": [],
   "source": [
    "metrics_threshold_change.append(metrics['F1-мера'].max())"
   ]
  },
  {
   "cell_type": "markdown",
   "metadata": {},
   "source": [
    "В результате наилучший результат показала модель случайного леса."
   ]
  },
  {
   "cell_type": "markdown",
   "metadata": {},
   "source": [
    "**2. Взвешивание классов**"
   ]
  },
  {
   "cell_type": "markdown",
   "metadata": {},
   "source": [
    "Объектам редкого класса (класса 1) придадим больший вес параметром `class_weight`."
   ]
  },
  {
   "cell_type": "code",
   "execution_count": 49,
   "metadata": {},
   "outputs": [],
   "source": [
    "metrics_class_weighting = []"
   ]
  },
  {
   "cell_type": "markdown",
   "metadata": {},
   "source": [
    "Рассмотрим модель **решающего дерева**:"
   ]
  },
  {
   "cell_type": "code",
   "execution_count": 50,
   "metadata": {},
   "outputs": [
    {
     "name": "stdout",
     "output_type": "stream",
     "text": [
      "Решающее дерево. Взвешивание классов\n",
      "F1-мера: 0.46364883401920437\n",
      "ROC-AUC 0.6606403599033238\n"
     ]
    }
   ],
   "source": [
    "model = DecisionTreeClassifier(random_state=12345, class_weight='balanced')\n",
    "model.fit(features_train, target_train)\n",
    "\n",
    "predicted_valid = model.predict(features_valid)\n",
    "probabilities_valid = model.predict_proba(features_valid)\n",
    "probabilities_one_valid = probabilities_valid[:, 1]\n",
    "    \n",
    "print('Решающее дерево. Взвешивание классов')\n",
    "print('F1-мера:', f1_score(target_valid, predicted_valid))\n",
    "print('ROC-AUC', roc_auc_score(target_valid, probabilities_one_valid))"
   ]
  },
  {
   "cell_type": "markdown",
   "metadata": {},
   "source": [
    "F1-мера невелика. Будем **изменять гиперпараметры**."
   ]
  },
  {
   "cell_type": "code",
   "execution_count": 51,
   "metadata": {},
   "outputs": [
    {
     "name": "stdout",
     "output_type": "stream",
     "text": [
      "Для модели решающего дерева гиперапаметры: глубина 5\n",
      "F1-мера: 0.5735449735449736 ROC-AUC: 0.6606403599033238\n"
     ]
    }
   ],
   "source": [
    "f1_max = 0\n",
    "for depth in range(2, 100):\n",
    "    model_tree = DecisionTreeClassifier(random_state=12345, max_depth=depth, class_weight='balanced')\n",
    "    model_tree.fit(features_train, target_train)\n",
    "    probabilities_valid = model.predict_proba(features_valid)\n",
    "    probabilities_one_valid = probabilities_valid[:, 1]\n",
    "    predicted_valid = model_tree.predict(features_valid)\n",
    "    if f1_score(target_valid, predicted_valid) > f1_max:\n",
    "        depth_tree = depth\n",
    "        f1_max = f1_score(target_valid, predicted_valid)\n",
    "        roc_auc_max = roc_auc_score(target_valid, probabilities_one_valid)\n",
    "print('Для модели решающего дерева гиперапаметры: глубина', depth_tree)\n",
    "print('F1-мера:', f1_max, 'ROC-AUC:', roc_auc_max)"
   ]
  },
  {
   "cell_type": "code",
   "execution_count": 52,
   "metadata": {},
   "outputs": [],
   "source": [
    "metrics_class_weighting.append(f1_max)"
   ]
  },
  {
   "cell_type": "markdown",
   "metadata": {},
   "source": [
    "Результат стал лучше."
   ]
  },
  {
   "cell_type": "markdown",
   "metadata": {},
   "source": [
    "Перейдем к модели **случайного леса**:"
   ]
  },
  {
   "cell_type": "code",
   "execution_count": 53,
   "metadata": {},
   "outputs": [
    {
     "name": "stdout",
     "output_type": "stream",
     "text": [
      "Случайный лес. Взвешивание классов\n",
      "F1-мера: 0.5564924114671164\n",
      "ROC-AUC 0.8628604877617776\n"
     ]
    }
   ],
   "source": [
    "model = RandomForestClassifier(random_state=12345, class_weight='balanced')\n",
    "model.fit(features_train, target_train)\n",
    "\n",
    "predicted_valid = model.predict(features_valid)\n",
    "probabilities_valid = model.predict_proba(features_valid)\n",
    "probabilities_one_valid = probabilities_valid[:, 1]\n",
    "\n",
    "print('Случайный лес. Взвешивание классов')\n",
    "print('F1-мера:', f1_score(target_valid, predicted_valid))\n",
    "print('ROC-AUC', roc_auc_score(target_valid, probabilities_one_valid))"
   ]
  },
  {
   "cell_type": "markdown",
   "metadata": {},
   "source": [
    "Будем **менять гиперпараметры**."
   ]
  },
  {
   "cell_type": "code",
   "execution_count": 54,
   "metadata": {},
   "outputs": [
    {
     "name": "stdout",
     "output_type": "stream",
     "text": [
      "Для модели случайного леса гиперапаметры: количество деревьев 140 глубина 9\n",
      "F1-мера: 0.6498740554156172 ROC-AUC: 0.8628604877617776\n"
     ]
    }
   ],
   "source": [
    "f1_max = 0\n",
    "for n_est in range (100, 200, 20):\n",
    "    for depth in range(2, 15):\n",
    "        model = RandomForestClassifier(random_state=12345, max_depth=depth, n_estimators=n_est, class_weight='balanced')\n",
    "        model.fit(features_train, target_train)\n",
    "        predicted_valid = model.predict(features_valid)\n",
    "        if f1_score(target_valid, predicted_valid) > f1_max:\n",
    "            depth_forest = depth\n",
    "            f1_max = f1_score(target_valid, predicted_valid)\n",
    "            roc_auc_max = roc_auc_score(target_valid, probabilities_one_valid)\n",
    "            n_est_forest = n_est \n",
    "print('Для модели случайного леса гиперапаметры: количество деревьев', n_est_forest, 'глубина', depth_forest)\n",
    "print('F1-мера:', f1_max, 'ROC-AUC:', roc_auc_max)"
   ]
  },
  {
   "cell_type": "code",
   "execution_count": 55,
   "metadata": {},
   "outputs": [],
   "source": [
    "metrics_class_weighting.append(f1_max)"
   ]
  },
  {
   "cell_type": "markdown",
   "metadata": {},
   "source": [
    "Модель **логистической регрессии**:"
   ]
  },
  {
   "cell_type": "code",
   "execution_count": 56,
   "metadata": {},
   "outputs": [
    {
     "name": "stdout",
     "output_type": "stream",
     "text": [
      "Логистическая регрессия. Взвешивание классов\n",
      "F1-мера: 0.509731232622799\n",
      "ROC-AUC 0.7777792094717602\n"
     ]
    }
   ],
   "source": [
    "model = LogisticRegression(random_state=12345, max_iter=150, class_weight='balanced')\n",
    "model.fit(features_train, target_train)\n",
    "\n",
    "predicted_valid = model.predict(features_valid)\n",
    "probabilities_valid = model.predict_proba(features_valid)\n",
    "probabilities_one_valid = probabilities_valid[:, 1]\n",
    "\n",
    "print('Логистическая регрессия. Взвешивание классов')\n",
    "print('F1-мера:', f1_score(target_valid, predicted_valid))\n",
    "print('ROC-AUC', roc_auc_score(target_valid, probabilities_one_valid))"
   ]
  },
  {
   "cell_type": "code",
   "execution_count": 57,
   "metadata": {},
   "outputs": [],
   "source": [
    "metrics_class_weighting.append(f1_score(target_valid, predicted_valid))"
   ]
  },
  {
   "cell_type": "markdown",
   "metadata": {},
   "source": [
    "Итог:\n",
    "- наибольшие значения метрик всё еще у случайного леса, только эта модель пока что проходит порог\n",
    "- пока что взвешивание класса оптимальный метод балансирования по сравнению с предыдущем для моделей случайного леса и логистической регрессии\n",
    "- у решающего дерева в данном случае метрики стали хуже"
   ]
  },
  {
   "cell_type": "markdown",
   "metadata": {},
   "source": [
    "**3. Увеличение выборки**"
   ]
  },
  {
   "cell_type": "markdown",
   "metadata": {},
   "source": [
    "Попробуем увеличить выборку и посмотрим на результат и F1-меру."
   ]
  },
  {
   "cell_type": "code",
   "execution_count": 58,
   "metadata": {},
   "outputs": [],
   "source": [
    "metrics_upsample = []"
   ]
  },
  {
   "cell_type": "markdown",
   "metadata": {},
   "source": [
    "Применим фунцию `SMOTE()`, создадим новые тестовые выборки:"
   ]
  },
  {
   "cell_type": "code",
   "execution_count": 60,
   "metadata": {},
   "outputs": [],
   "source": [
    "smote = SMOTE(random_state=12345)\n",
    "features_upsampled, target_upsampled = smote.fit_resample(features_train, target_train)"
   ]
  },
  {
   "cell_type": "markdown",
   "metadata": {},
   "source": [
    "Рассмотрим модель **решающего дерева**:"
   ]
  },
  {
   "cell_type": "markdown",
   "metadata": {},
   "source": [
    "Изменим гиперпараметры:"
   ]
  },
  {
   "cell_type": "code",
   "execution_count": 61,
   "metadata": {},
   "outputs": [
    {
     "name": "stdout",
     "output_type": "stream",
     "text": [
      "Для модели решающего дерева гиперапаметры: глубина 5 F1-мера\n",
      "F1-мера: 0.5755555555555556 ROC-AUC: 0.8391046963039592\n"
     ]
    }
   ],
   "source": [
    "f1_max = 0\n",
    "for depth in range(2, 100):\n",
    "    model = DecisionTreeClassifier(random_state=12345, max_depth=depth)\n",
    "    model.fit(features_upsampled, target_upsampled)\n",
    "    \n",
    "    predicted_valid = model.predict(features_valid)\n",
    "    probabilities_valid = model.predict_proba(features_valid)\n",
    "    probabilities_one_valid = probabilities_valid[:, 1]\n",
    "    if f1_score(target_valid, predicted_valid) > f1_max:\n",
    "        depth_tree = depth\n",
    "        f1_max = f1_score(target_valid, predicted_valid)\n",
    "        roc_auc_max = roc_auc_score(target_valid, probabilities_one_valid)\n",
    "print('Для модели решающего дерева гиперапаметры: глубина', depth_tree,'F1-мера')\n",
    "print('F1-мера:', f1_max, 'ROC-AUC:', roc_auc_max)"
   ]
  },
  {
   "cell_type": "code",
   "execution_count": 62,
   "metadata": {},
   "outputs": [],
   "source": [
    "metrics_upsample.append(f1_max)"
   ]
  },
  {
   "cell_type": "markdown",
   "metadata": {},
   "source": [
    "Тем не менее, порог F1-меры всё равно не преодолен."
   ]
  },
  {
   "cell_type": "markdown",
   "metadata": {},
   "source": [
    "**Случайный лес**:"
   ]
  },
  {
   "cell_type": "code",
   "execution_count": 63,
   "metadata": {},
   "outputs": [
    {
     "name": "stdout",
     "output_type": "stream",
     "text": [
      "Для модели случайного леса гиперапаметры: количество деревьев 100 глубина 11\n",
      "F1-мера: 0.646074646074646 ROC-AUC: 0.8670297851661368\n"
     ]
    }
   ],
   "source": [
    "f1_max = 0\n",
    "for n_est in range (100, 200, 20):\n",
    "    for depth in range(2, 15):\n",
    "        model = RandomForestClassifier(random_state=12345, max_depth=depth, n_estimators=n_est)\n",
    "        model.fit(features_upsampled, target_upsampled)\n",
    "        \n",
    "        predicted_valid = model.predict(features_valid)\n",
    "        probabilities_valid = model.predict_proba(features_valid)\n",
    "        probabilities_one_valid = probabilities_valid[:, 1]\n",
    "        if f1_score(target_valid, predicted_valid) > f1_max:\n",
    "            depth_forest = depth\n",
    "            f1_max = f1_score(target_valid, predicted_valid)\n",
    "            roc_auc_max = roc_auc_score(target_valid, probabilities_one_valid)\n",
    "            n_est_forest = n_est \n",
    "print('Для модели случайного леса гиперапаметры: количество деревьев', n_est_forest, 'глубина', depth_forest)\n",
    "print('F1-мера:', f1_max, 'ROC-AUC:', roc_auc_max)"
   ]
  },
  {
   "cell_type": "code",
   "execution_count": 64,
   "metadata": {},
   "outputs": [],
   "source": [
    "metrics_upsample.append(f1_max)"
   ]
  },
  {
   "cell_type": "markdown",
   "metadata": {},
   "source": [
    "**Логистическая регрессия**:"
   ]
  },
  {
   "cell_type": "code",
   "execution_count": 65,
   "metadata": {},
   "outputs": [
    {
     "name": "stdout",
     "output_type": "stream",
     "text": [
      "Для модели логистической регрессии\n",
      "F1-мера: 0.5\n",
      "ROC-AUC: 0.7712371860831984\n"
     ]
    }
   ],
   "source": [
    "f1_max = 0\n",
    "model = LogisticRegression(random_state=12345, max_iter=300)\n",
    "model.fit(features_upsampled, target_upsampled)\n",
    "\n",
    "predicted_valid = model.predict(features_valid)\n",
    "probabilities_valid = model.predict_proba(features_valid)\n",
    "probabilities_one_valid = probabilities_valid[:, 1]\n",
    "    \n",
    "f1_max = f1_score(target_valid, predicted_valid)\n",
    "roc_auc_max = roc_auc_score(target_valid, probabilities_one_valid)\n",
    "print('Для модели логистической регрессии')\n",
    "print('F1-мера:', f1_max)\n",
    "print('ROC-AUC:', roc_auc_max)       "
   ]
  },
  {
   "cell_type": "code",
   "execution_count": 66,
   "metadata": {},
   "outputs": [],
   "source": [
    "metrics_upsample.append(f1_max)"
   ]
  },
  {
   "cell_type": "markdown",
   "metadata": {},
   "source": [
    "Порог F1-меры также не преодолен."
   ]
  },
  {
   "cell_type": "markdown",
   "metadata": {},
   "source": [
    "Все метрики у каждой модели получились хуже, чем в предыдущих случаях."
   ]
  },
  {
   "cell_type": "markdown",
   "metadata": {},
   "source": [
    "**4. Уменьшение выборки**"
   ]
  },
  {
   "cell_type": "code",
   "execution_count": 67,
   "metadata": {},
   "outputs": [],
   "source": [
    "metrics_downsample = []"
   ]
  },
  {
   "cell_type": "markdown",
   "metadata": {},
   "source": [
    "Применим фунцию `RandomUnderSampler()`, создадим новые тестовые выборки:"
   ]
  },
  {
   "cell_type": "code",
   "execution_count": 69,
   "metadata": {},
   "outputs": [],
   "source": [
    "rus = RandomUnderSampler(random_state=12345)\n",
    "features_downsampled, target_downsampled = rus.fit_resample(features_train, target_train)"
   ]
  },
  {
   "cell_type": "markdown",
   "metadata": {},
   "source": [
    "**Модель решающего дерева:**"
   ]
  },
  {
   "cell_type": "markdown",
   "metadata": {},
   "source": [
    "Изменим гиперпараметры:"
   ]
  },
  {
   "cell_type": "code",
   "execution_count": 70,
   "metadata": {},
   "outputs": [
    {
     "name": "stdout",
     "output_type": "stream",
     "text": [
      "Для модели решающего дерева гиперапаметры: глубина 8\n",
      "F1-мера: 0.5694022289766971 ROC-AUC: 0.8060024997376932\n"
     ]
    }
   ],
   "source": [
    "f1_max = 0\n",
    "for depth in range(2, 100):\n",
    "    model = DecisionTreeClassifier(random_state=12345, max_depth=depth)\n",
    "    model.fit(features_downsampled, target_downsampled)\n",
    "    \n",
    "    probabilities_valid = model.predict_proba(features_valid)\n",
    "    probabilities_one_valid = probabilities_valid[:, 1]\n",
    "    predicted_valid = model.predict(features_valid)\n",
    "    if f1_score(target_valid, predicted_valid) > f1_max:\n",
    "        depth_tree = depth\n",
    "        f1_max = f1_score(target_valid, predicted_valid)\n",
    "        roc_auc_max = roc_auc_score(target_valid, probabilities_one_valid)\n",
    "print('Для модели решающего дерева гиперапаметры: глубина', depth_tree)\n",
    "print('F1-мера:', f1_max, 'ROC-AUC:', roc_auc_max)"
   ]
  },
  {
   "cell_type": "code",
   "execution_count": 71,
   "metadata": {},
   "outputs": [],
   "source": [
    "metrics_downsample.append(f1_max)"
   ]
  },
  {
   "cell_type": "markdown",
   "metadata": {},
   "source": [
    "**Модель случайного леса**:  "
   ]
  },
  {
   "cell_type": "markdown",
   "metadata": {},
   "source": [
    "Изменим гиперпараметры."
   ]
  },
  {
   "cell_type": "code",
   "execution_count": 72,
   "metadata": {},
   "outputs": [
    {
     "name": "stdout",
     "output_type": "stream",
     "text": [
      "Для модели случайного леса гиперапаметры: количество деревьев 160 глубина 9\n",
      "F1-мера: 0.6028225806451613 ROC-AUC: 0.8691263987394547\n"
     ]
    }
   ],
   "source": [
    "f1_max = 0\n",
    "for n_est in range (100, 200, 20):\n",
    "    for depth in range(2, 15):\n",
    "        model = RandomForestClassifier(random_state=12345, max_depth=depth, n_estimators=n_est)\n",
    "        model.fit(features_downsampled, target_downsampled)\n",
    "        \n",
    "        predicted_valid = model.predict(features_valid)\n",
    "        probabilities_valid = model.predict_proba(features_valid)\n",
    "        probabilities_one_valid = probabilities_valid[:, 1]\n",
    "        if f1_score(target_valid, predicted_valid) > f1_max:\n",
    "            depth_forest = depth\n",
    "            f1_max = f1_score(target_valid, predicted_valid)\n",
    "            roc_auc_max = roc_auc_score(target_valid, probabilities_one_valid)\n",
    "            n_est_forest = n_est \n",
    "print('Для модели случайного леса гиперапаметры: количество деревьев', n_est_forest, 'глубина', depth_forest)\n",
    "print('F1-мера:', f1_max, 'ROC-AUC:', roc_auc_max)"
   ]
  },
  {
   "cell_type": "code",
   "execution_count": 73,
   "metadata": {},
   "outputs": [],
   "source": [
    "metrics_downsample.append(f1_max)"
   ]
  },
  {
   "cell_type": "code",
   "execution_count": 74,
   "metadata": {},
   "outputs": [
    {
     "name": "stdout",
     "output_type": "stream",
     "text": [
      "Для логистической регрессии F1-мера: 0.502283105022831 ROC-AUC: 0.775631054915077\n"
     ]
    }
   ],
   "source": [
    "f1_max = 0\n",
    "model = LogisticRegression(random_state=12345, max_iter=150)\n",
    "model.fit(features_downsampled, target_downsampled)\n",
    "\n",
    "probabilities_valid = model.predict_proba(features_valid)\n",
    "probabilities_one_valid = probabilities_valid[:, 1]\n",
    "predicted_valid = model.predict(features_valid)\n",
    "\n",
    "f1_max = f1_score(target_valid, predicted_valid)\n",
    "roc_auc_max = roc_auc_score(target_valid, probabilities_one_valid)\n",
    "print(f'Для логистической регрессии F1-мера:', f1_max, 'ROC-AUC:', roc_auc_max)"
   ]
  },
  {
   "cell_type": "code",
   "execution_count": 75,
   "metadata": {},
   "outputs": [],
   "source": [
    "metrics_downsample.append(f1_max)"
   ]
  },
  {
   "cell_type": "markdown",
   "metadata": {},
   "source": [
    "Итак:\n",
    "- снова только модель случайного леса переходит границу F1-меры\n",
    "- логистическая регрессия дает лучший результат для сбалансированный моделей"
   ]
  },
  {
   "cell_type": "code",
   "execution_count": 76,
   "metadata": {},
   "outputs": [
    {
     "data": {
      "text/html": [
       "<style  type=\"text/css\" >\n",
       "#T_75d7d_row0_col1,#T_75d7d_row1_col1,#T_75d7d_row2_col0{\n",
       "            background-color:  lightgreen;\n",
       "        }</style><table id=\"T_75d7d_\" ><thead>    <tr>        <th class=\"blank level0\" ></th>        <th class=\"col_heading level0 col0\" >Без баланса</th>        <th class=\"col_heading level0 col1\" >Изменение порога</th>        <th class=\"col_heading level0 col2\" >Взвешивание классов</th>        <th class=\"col_heading level0 col3\" >Увеличение выборки</th>        <th class=\"col_heading level0 col4\" >Уменьшение выборки</th>    </tr></thead><tbody>\n",
       "                <tr>\n",
       "                        <th id=\"T_75d7d_level0_row0\" class=\"row_heading level0 row0\" >Решающее дерево</th>\n",
       "                        <td id=\"T_75d7d_row0_col0\" class=\"data row0 col0\" >0.304000</td>\n",
       "                        <td id=\"T_75d7d_row0_col1\" class=\"data row0 col1\" >0.576433</td>\n",
       "                        <td id=\"T_75d7d_row0_col2\" class=\"data row0 col2\" >0.573545</td>\n",
       "                        <td id=\"T_75d7d_row0_col3\" class=\"data row0 col3\" >0.575556</td>\n",
       "                        <td id=\"T_75d7d_row0_col4\" class=\"data row0 col4\" >0.569402</td>\n",
       "            </tr>\n",
       "            <tr>\n",
       "                        <th id=\"T_75d7d_level0_row1\" class=\"row_heading level0 row1\" >Случайный лес</th>\n",
       "                        <td id=\"T_75d7d_row1_col0\" class=\"data row1 col0\" >0.576433</td>\n",
       "                        <td id=\"T_75d7d_row1_col1\" class=\"data row1 col1\" >0.651429</td>\n",
       "                        <td id=\"T_75d7d_row1_col2\" class=\"data row1 col2\" >0.649874</td>\n",
       "                        <td id=\"T_75d7d_row1_col3\" class=\"data row1 col3\" >0.646075</td>\n",
       "                        <td id=\"T_75d7d_row1_col4\" class=\"data row1 col4\" >0.602823</td>\n",
       "            </tr>\n",
       "            <tr>\n",
       "                        <th id=\"T_75d7d_level0_row2\" class=\"row_heading level0 row2\" >Логистическая регрессия</th>\n",
       "                        <td id=\"T_75d7d_row2_col0\" class=\"data row2 col0\" >0.589226</td>\n",
       "                        <td id=\"T_75d7d_row2_col1\" class=\"data row2 col1\" >0.505470</td>\n",
       "                        <td id=\"T_75d7d_row2_col2\" class=\"data row2 col2\" >0.509731</td>\n",
       "                        <td id=\"T_75d7d_row2_col3\" class=\"data row2 col3\" >0.500000</td>\n",
       "                        <td id=\"T_75d7d_row2_col4\" class=\"data row2 col4\" >0.502283</td>\n",
       "            </tr>\n",
       "    </tbody></table>"
      ],
      "text/plain": [
       "<pandas.io.formats.style.Styler at 0x7fa3e890b6a0>"
      ]
     },
     "execution_count": 76,
     "metadata": {},
     "output_type": "execute_result"
    }
   ],
   "source": [
    "metrics_final = {'Без баланса': f1_global_not_balanced, 'Изменение порога': metrics_threshold_change,\n",
    "                 'Взвешивание классов': metrics_class_weighting, \n",
    "                 'Увеличение выборки': metrics_upsample,'Уменьшение выборки':metrics_downsample}\n",
    "index = ['Решающее дерево', 'Случайный лес', 'Логистическая регрессия']\n",
    "summary = pd.DataFrame(data=metrics_final,index=index)\n",
    "summary.style.highlight_max(color = 'lightgreen', axis = 1)"
   ]
  },
  {
   "cell_type": "code",
   "execution_count": 77,
   "metadata": {},
   "outputs": [
    {
     "name": "stdout",
     "output_type": "stream",
     "text": [
      "Наилучшая модель - модель случайного леса при изменении порога принятия решений до 0.35 с гиперпараметрами\n",
      "Глубина: 10, количество деревьев: 120\n"
     ]
    }
   ],
   "source": [
    "print('Наилучшая модель - модель случайного леса при изменении порога принятия решений до 0.35 с гиперпараметрами')\n",
    "print(f'Глубина: {depth_forest_th}, количество деревьев: {n_est_forest_th}')"
   ]
  },
  {
   "cell_type": "markdown",
   "metadata": {},
   "source": [
    "## Тестирование модели"
   ]
  },
  {
   "cell_type": "markdown",
   "metadata": {},
   "source": [
    "Проверим показатели модели также на тестовой выборке:"
   ]
  },
  {
   "cell_type": "code",
   "execution_count": 78,
   "metadata": {},
   "outputs": [
    {
     "data": {
      "image/png": "[encoded data removed]",
      "text/plain": [
       "<Figure size 432x288 with 1 Axes>"
      ]
     },
     "metadata": {
      "needs_background": "light"
     },
     "output_type": "display_data"
    }
   ],
   "source": [
    "probabilities_test_forest = model_forest.predict_proba(features_test)\n",
    "probabilities_one_test_forest = probabilities_test_forest[:, 1]\n",
    "\n",
    "predicted_test = probabilities_one_test_forest > 0.35\n",
    "\n",
    "fpr_forest, tpr_forest, thresholds = roc_curve(target_test, probabilities_one_test_forest) \n",
    "plt.plot(fpr_forest, tpr_forest);\n",
    "plt.title('ROC-AUC');\n",
    "plt.xlabel('False Positive Rate');\n",
    "plt.ylabel('True Positive Rate');"
   ]
  },
  {
   "cell_type": "code",
   "execution_count": 79,
   "metadata": {},
   "outputs": [
    {
     "name": "stdout",
     "output_type": "stream",
     "text": [
      "Значение F1-меры:  0.6101694915254237\n",
      "Значение ROC-AUC:  0.7596677845315448\n"
     ]
    }
   ],
   "source": [
    "f1_final = f1_score(target_test, predicted_test)\n",
    "roc_auc_final = roc_auc_score(target_test, predicted_test)\n",
    "print('Значение F1-меры: ', f1_final)\n",
    "print('Значение ROC-AUC: ', roc_auc_final)"
   ]
  },
  {
   "cell_type": "markdown",
   "metadata": {},
   "source": [
    "Кривая ROC-AUC далека от случайной кривой, соотношение долей ложноположительных и истинно положительных ответов свидетельствует о качестве модели. Площадь под получившейся кривой близка к 0.8, что также свидетельствует о высоком качестве полученной модели.\n",
    "\n",
    "F1-мера получилась меньше, чем при тестах на валидационной выоборке, что логично, но всё ещё выше 0.59."
   ]
  },
  {
   "cell_type": "markdown",
   "metadata": {},
   "source": [
    "## Выводы"
   ]
  },
  {
   "cell_type": "markdown",
   "metadata": {},
   "source": [
    "Были исследованы три модели: логистическая регрессия, решающее дерево и случайный лес.\n"
   ]
  },
  {
   "cell_type": "code",
   "execution_count": 80,
   "metadata": {},
   "outputs": [
    {
     "data": {
      "image/png": "[encoded data removed]",
      "text/plain": [
       "<Figure size 432x288 with 1 Axes>"
      ]
     },
     "metadata": {
      "needs_background": "light"
     },
     "output_type": "display_data"
    }
   ],
   "source": [
    "summary.plot(kind='barh')\n",
    "plt.title('F1-мера');\n",
    "plt.legend(loc='upper left');"
   ]
  },
  {
   "cell_type": "markdown",
   "metadata": {},
   "source": [
    "Мы получили:\n",
    "- наиболее лучшие показатели практически всегда получались у модели случайного леса, что логично, т.к. она дает наилучшие результаты в силу своей архитектуры\n",
    "- логистическая регрессия дает лучший результат без учета дисбаланса, а другие модели показывают наилучшие показатели с учетом дисбаланса\n",
    "- самый эффективный метод борьба с дисбалансом для случайного леса - изменение порога принятия решений, как и для решающего дерева\n",
    "- при взвешивании классов метрики моделей также показывает неплохие результаты"
   ]
  },
  {
   "cell_type": "code",
   "execution_count": 81,
   "metadata": {},
   "outputs": [
    {
     "name": "stdout",
     "output_type": "stream",
     "text": [
      "Итоговая модель - модель случайного леса при изменении порога принятия решений до 0.35 с гиперпараметрами\n",
      "Глубина: 10, количество деревьев: 120\n",
      "F1-мера для тестовой выборки: 0.61 ROC-AUC для тестовой выборки: 0.76\n"
     ]
    }
   ],
   "source": [
    "print('Итоговая модель - модель случайного леса при изменении порога принятия решений до 0.35 с гиперпараметрами')\n",
    "print(f'Глубина: {depth_forest_th}, количество деревьев: {n_est_forest_th}')\n",
    "print(f'F1-мера для тестовой выборки: {f1_final:.2f} ROC-AUC для тестовой выборки: {roc_auc_final:.2f}')"
   ]
  }
 ],
 "metadata": {
  "ExecuteTimeLog": [
   {
    "duration": 1581,
    "start_time": "2023-02-02T16:52:28.317Z"
   },
   {
    "duration": 121,
    "start_time": "2023-02-02T16:52:29.901Z"
   },
   {
    "duration": 16,
    "start_time": "2023-02-02T16:52:30.024Z"
   },
   {
    "duration": 48,
    "start_time": "2023-02-02T16:52:30.042Z"
   },
   {
    "duration": 9,
    "start_time": "2023-02-02T16:52:30.092Z"
   },
   {
    "duration": 41,
    "start_time": "2023-02-02T16:52:30.103Z"
   },
   {
    "duration": 36,
    "start_time": "2023-02-02T16:52:30.146Z"
   },
   {
    "duration": 20,
    "start_time": "2023-02-02T16:52:30.184Z"
   },
   {
    "duration": 39,
    "start_time": "2023-02-02T16:52:30.206Z"
   },
   {
    "duration": 34,
    "start_time": "2023-02-02T16:52:30.248Z"
   },
   {
    "duration": 40,
    "start_time": "2023-02-02T16:52:30.283Z"
   },
   {
    "duration": 48,
    "start_time": "2023-02-02T16:52:30.325Z"
   },
   {
    "duration": 40,
    "start_time": "2023-02-02T16:52:30.374Z"
   },
   {
    "duration": 74,
    "start_time": "2023-02-02T16:52:30.416Z"
   },
   {
    "duration": 11,
    "start_time": "2023-02-02T16:52:30.492Z"
   },
   {
    "duration": 48,
    "start_time": "2023-02-02T16:52:30.505Z"
   },
   {
    "duration": 27,
    "start_time": "2023-02-02T16:52:30.555Z"
   },
   {
    "duration": 141,
    "start_time": "2023-02-02T16:52:30.584Z"
   },
   {
    "duration": 0,
    "start_time": "2023-02-02T16:52:30.728Z"
   },
   {
    "duration": 0,
    "start_time": "2023-02-02T16:52:30.729Z"
   },
   {
    "duration": 0,
    "start_time": "2023-02-02T16:52:30.730Z"
   },
   {
    "duration": 0,
    "start_time": "2023-02-02T16:52:30.731Z"
   },
   {
    "duration": 0,
    "start_time": "2023-02-02T16:52:30.732Z"
   },
   {
    "duration": 0,
    "start_time": "2023-02-02T16:52:30.733Z"
   },
   {
    "duration": 0,
    "start_time": "2023-02-02T16:52:30.734Z"
   },
   {
    "duration": 0,
    "start_time": "2023-02-02T16:52:30.753Z"
   },
   {
    "duration": 0,
    "start_time": "2023-02-02T16:52:30.754Z"
   },
   {
    "duration": 0,
    "start_time": "2023-02-02T16:52:30.755Z"
   },
   {
    "duration": 0,
    "start_time": "2023-02-02T16:52:30.756Z"
   },
   {
    "duration": 0,
    "start_time": "2023-02-02T16:52:30.757Z"
   },
   {
    "duration": 0,
    "start_time": "2023-02-02T16:52:30.758Z"
   },
   {
    "duration": 0,
    "start_time": "2023-02-02T16:52:30.759Z"
   },
   {
    "duration": 0,
    "start_time": "2023-02-02T16:52:30.760Z"
   },
   {
    "duration": 0,
    "start_time": "2023-02-02T16:52:30.761Z"
   },
   {
    "duration": 0,
    "start_time": "2023-02-02T16:52:30.762Z"
   },
   {
    "duration": 0,
    "start_time": "2023-02-02T16:52:30.763Z"
   },
   {
    "duration": 0,
    "start_time": "2023-02-02T16:52:30.763Z"
   },
   {
    "duration": 0,
    "start_time": "2023-02-02T16:52:30.764Z"
   },
   {
    "duration": 0,
    "start_time": "2023-02-02T16:52:30.765Z"
   },
   {
    "duration": 0,
    "start_time": "2023-02-02T16:52:30.766Z"
   },
   {
    "duration": 0,
    "start_time": "2023-02-02T16:52:30.767Z"
   },
   {
    "duration": 0,
    "start_time": "2023-02-02T16:52:30.768Z"
   },
   {
    "duration": 0,
    "start_time": "2023-02-02T16:52:30.769Z"
   },
   {
    "duration": 0,
    "start_time": "2023-02-02T16:52:30.770Z"
   },
   {
    "duration": 0,
    "start_time": "2023-02-02T16:52:30.773Z"
   },
   {
    "duration": 0,
    "start_time": "2023-02-02T16:52:30.774Z"
   },
   {
    "duration": 0,
    "start_time": "2023-02-02T16:52:30.775Z"
   },
   {
    "duration": 0,
    "start_time": "2023-02-02T16:52:30.777Z"
   },
   {
    "duration": 0,
    "start_time": "2023-02-02T16:52:30.778Z"
   },
   {
    "duration": 1,
    "start_time": "2023-02-02T16:52:30.779Z"
   },
   {
    "duration": 0,
    "start_time": "2023-02-02T16:52:30.781Z"
   },
   {
    "duration": 0,
    "start_time": "2023-02-02T16:52:30.782Z"
   },
   {
    "duration": 0,
    "start_time": "2023-02-02T16:52:30.784Z"
   },
   {
    "duration": 14,
    "start_time": "2023-02-02T17:36:43.801Z"
   },
   {
    "duration": 12,
    "start_time": "2023-02-02T17:38:01.298Z"
   },
   {
    "duration": 17,
    "start_time": "2023-02-02T17:38:35.304Z"
   },
   {
    "duration": 79,
    "start_time": "2023-02-02T17:38:56.443Z"
   },
   {
    "duration": 19,
    "start_time": "2023-02-02T17:39:04.447Z"
   },
   {
    "duration": 26,
    "start_time": "2023-02-02T17:39:29.863Z"
   },
   {
    "duration": 9,
    "start_time": "2023-02-02T17:39:33.651Z"
   },
   {
    "duration": 28,
    "start_time": "2023-02-02T17:39:36.162Z"
   },
   {
    "duration": 1352,
    "start_time": "2023-02-02T17:42:24.459Z"
   },
   {
    "duration": 79,
    "start_time": "2023-02-02T17:42:25.813Z"
   },
   {
    "duration": 17,
    "start_time": "2023-02-02T17:42:25.894Z"
   },
   {
    "duration": 24,
    "start_time": "2023-02-02T17:42:25.914Z"
   },
   {
    "duration": 17,
    "start_time": "2023-02-02T17:42:25.940Z"
   },
   {
    "duration": 24,
    "start_time": "2023-02-02T17:42:25.958Z"
   },
   {
    "duration": 6,
    "start_time": "2023-02-02T17:42:25.984Z"
   },
   {
    "duration": 14,
    "start_time": "2023-02-02T17:42:25.992Z"
   },
   {
    "duration": 13,
    "start_time": "2023-02-02T17:42:26.008Z"
   },
   {
    "duration": 41,
    "start_time": "2023-02-02T17:42:26.025Z"
   },
   {
    "duration": 10,
    "start_time": "2023-02-02T17:42:26.068Z"
   },
   {
    "duration": 23,
    "start_time": "2023-02-02T17:42:26.080Z"
   },
   {
    "duration": 6,
    "start_time": "2023-02-02T17:42:26.105Z"
   },
   {
    "duration": 12,
    "start_time": "2023-02-02T17:42:26.113Z"
   },
   {
    "duration": 50,
    "start_time": "2023-02-02T17:42:26.126Z"
   },
   {
    "duration": 4,
    "start_time": "2023-02-02T17:42:26.177Z"
   },
   {
    "duration": 6,
    "start_time": "2023-02-02T17:42:26.183Z"
   },
   {
    "duration": 11,
    "start_time": "2023-02-02T17:42:26.191Z"
   },
   {
    "duration": 132,
    "start_time": "2023-02-02T17:42:26.203Z"
   },
   {
    "duration": 0,
    "start_time": "2023-02-02T17:42:26.337Z"
   },
   {
    "duration": 0,
    "start_time": "2023-02-02T17:42:26.339Z"
   },
   {
    "duration": 0,
    "start_time": "2023-02-02T17:42:26.340Z"
   },
   {
    "duration": 0,
    "start_time": "2023-02-02T17:42:26.353Z"
   },
   {
    "duration": 0,
    "start_time": "2023-02-02T17:42:26.354Z"
   },
   {
    "duration": 0,
    "start_time": "2023-02-02T17:42:26.356Z"
   },
   {
    "duration": 0,
    "start_time": "2023-02-02T17:42:26.357Z"
   },
   {
    "duration": 0,
    "start_time": "2023-02-02T17:42:26.358Z"
   },
   {
    "duration": 0,
    "start_time": "2023-02-02T17:42:26.359Z"
   },
   {
    "duration": 0,
    "start_time": "2023-02-02T17:42:26.360Z"
   },
   {
    "duration": 0,
    "start_time": "2023-02-02T17:42:26.361Z"
   },
   {
    "duration": 0,
    "start_time": "2023-02-02T17:42:26.362Z"
   },
   {
    "duration": 0,
    "start_time": "2023-02-02T17:42:26.363Z"
   },
   {
    "duration": 0,
    "start_time": "2023-02-02T17:42:26.364Z"
   },
   {
    "duration": 0,
    "start_time": "2023-02-02T17:42:26.365Z"
   },
   {
    "duration": 0,
    "start_time": "2023-02-02T17:42:26.367Z"
   },
   {
    "duration": 0,
    "start_time": "2023-02-02T17:42:26.367Z"
   },
   {
    "duration": 0,
    "start_time": "2023-02-02T17:42:26.369Z"
   },
   {
    "duration": 0,
    "start_time": "2023-02-02T17:42:26.370Z"
   },
   {
    "duration": 0,
    "start_time": "2023-02-02T17:42:26.371Z"
   },
   {
    "duration": 0,
    "start_time": "2023-02-02T17:42:26.372Z"
   },
   {
    "duration": 0,
    "start_time": "2023-02-02T17:42:26.373Z"
   },
   {
    "duration": 0,
    "start_time": "2023-02-02T17:42:26.375Z"
   },
   {
    "duration": 0,
    "start_time": "2023-02-02T17:42:26.377Z"
   },
   {
    "duration": 0,
    "start_time": "2023-02-02T17:42:26.378Z"
   },
   {
    "duration": 0,
    "start_time": "2023-02-02T17:42:26.379Z"
   },
   {
    "duration": 0,
    "start_time": "2023-02-02T17:42:26.380Z"
   },
   {
    "duration": 0,
    "start_time": "2023-02-02T17:42:26.382Z"
   },
   {
    "duration": 0,
    "start_time": "2023-02-02T17:42:26.383Z"
   },
   {
    "duration": 0,
    "start_time": "2023-02-02T17:42:26.384Z"
   },
   {
    "duration": 0,
    "start_time": "2023-02-02T17:42:26.386Z"
   },
   {
    "duration": 0,
    "start_time": "2023-02-02T17:42:26.387Z"
   },
   {
    "duration": 0,
    "start_time": "2023-02-02T17:42:26.388Z"
   },
   {
    "duration": 0,
    "start_time": "2023-02-02T17:42:26.390Z"
   },
   {
    "duration": 0,
    "start_time": "2023-02-02T17:42:26.391Z"
   },
   {
    "duration": 1410,
    "start_time": "2023-02-02T17:44:29.001Z"
   },
   {
    "duration": 86,
    "start_time": "2023-02-02T17:44:30.413Z"
   },
   {
    "duration": 21,
    "start_time": "2023-02-02T17:44:30.501Z"
   },
   {
    "duration": 62,
    "start_time": "2023-02-02T17:44:30.524Z"
   },
   {
    "duration": 19,
    "start_time": "2023-02-02T17:44:30.588Z"
   },
   {
    "duration": 41,
    "start_time": "2023-02-02T17:44:30.609Z"
   },
   {
    "duration": 39,
    "start_time": "2023-02-02T17:44:30.652Z"
   },
   {
    "duration": 36,
    "start_time": "2023-02-02T17:44:30.693Z"
   },
   {
    "duration": 44,
    "start_time": "2023-02-02T17:44:30.731Z"
   },
   {
    "duration": 48,
    "start_time": "2023-02-02T17:44:30.778Z"
   },
   {
    "duration": 66,
    "start_time": "2023-02-02T17:44:30.828Z"
   },
   {
    "duration": 36,
    "start_time": "2023-02-02T17:44:30.895Z"
   },
   {
    "duration": 35,
    "start_time": "2023-02-02T17:44:30.933Z"
   },
   {
    "duration": 51,
    "start_time": "2023-02-02T17:44:30.969Z"
   },
   {
    "duration": 3,
    "start_time": "2023-02-02T17:44:31.022Z"
   },
   {
    "duration": 31,
    "start_time": "2023-02-02T17:44:31.027Z"
   },
   {
    "duration": 61,
    "start_time": "2023-02-02T17:44:31.059Z"
   },
   {
    "duration": 152,
    "start_time": "2023-02-02T17:44:31.122Z"
   },
   {
    "duration": 0,
    "start_time": "2023-02-02T17:44:31.276Z"
   },
   {
    "duration": 0,
    "start_time": "2023-02-02T17:44:31.277Z"
   },
   {
    "duration": 0,
    "start_time": "2023-02-02T17:44:31.279Z"
   },
   {
    "duration": 0,
    "start_time": "2023-02-02T17:44:31.280Z"
   },
   {
    "duration": 0,
    "start_time": "2023-02-02T17:44:31.281Z"
   },
   {
    "duration": 0,
    "start_time": "2023-02-02T17:44:31.282Z"
   },
   {
    "duration": 0,
    "start_time": "2023-02-02T17:44:31.282Z"
   },
   {
    "duration": 0,
    "start_time": "2023-02-02T17:44:31.283Z"
   },
   {
    "duration": 0,
    "start_time": "2023-02-02T17:44:31.284Z"
   },
   {
    "duration": 0,
    "start_time": "2023-02-02T17:44:31.285Z"
   },
   {
    "duration": 0,
    "start_time": "2023-02-02T17:44:31.286Z"
   },
   {
    "duration": 0,
    "start_time": "2023-02-02T17:44:31.287Z"
   },
   {
    "duration": 0,
    "start_time": "2023-02-02T17:44:31.288Z"
   },
   {
    "duration": 0,
    "start_time": "2023-02-02T17:44:31.289Z"
   },
   {
    "duration": 0,
    "start_time": "2023-02-02T17:44:31.290Z"
   },
   {
    "duration": 0,
    "start_time": "2023-02-02T17:44:31.291Z"
   },
   {
    "duration": 0,
    "start_time": "2023-02-02T17:44:31.292Z"
   },
   {
    "duration": 0,
    "start_time": "2023-02-02T17:44:31.293Z"
   },
   {
    "duration": 0,
    "start_time": "2023-02-02T17:44:31.294Z"
   },
   {
    "duration": 0,
    "start_time": "2023-02-02T17:44:31.294Z"
   },
   {
    "duration": 0,
    "start_time": "2023-02-02T17:44:31.295Z"
   },
   {
    "duration": 0,
    "start_time": "2023-02-02T17:44:31.296Z"
   },
   {
    "duration": 0,
    "start_time": "2023-02-02T17:44:31.297Z"
   },
   {
    "duration": 0,
    "start_time": "2023-02-02T17:44:31.298Z"
   },
   {
    "duration": 0,
    "start_time": "2023-02-02T17:44:31.299Z"
   },
   {
    "duration": 0,
    "start_time": "2023-02-02T17:44:31.300Z"
   },
   {
    "duration": 0,
    "start_time": "2023-02-02T17:44:31.301Z"
   },
   {
    "duration": 0,
    "start_time": "2023-02-02T17:44:31.302Z"
   },
   {
    "duration": 0,
    "start_time": "2023-02-02T17:44:31.303Z"
   },
   {
    "duration": 0,
    "start_time": "2023-02-02T17:44:31.304Z"
   },
   {
    "duration": 0,
    "start_time": "2023-02-02T17:44:31.305Z"
   },
   {
    "duration": 0,
    "start_time": "2023-02-02T17:44:31.305Z"
   },
   {
    "duration": 0,
    "start_time": "2023-02-02T17:44:31.354Z"
   },
   {
    "duration": 0,
    "start_time": "2023-02-02T17:44:31.355Z"
   },
   {
    "duration": 0,
    "start_time": "2023-02-02T17:44:31.356Z"
   },
   {
    "duration": 20,
    "start_time": "2023-02-02T17:45:01.964Z"
   },
   {
    "duration": 198,
    "start_time": "2023-02-02T17:56:25.524Z"
   },
   {
    "duration": 201,
    "start_time": "2023-02-02T17:57:01.700Z"
   },
   {
    "duration": 4,
    "start_time": "2023-02-02T17:58:02.879Z"
   },
   {
    "duration": 5,
    "start_time": "2023-02-02T18:01:03.805Z"
   },
   {
    "duration": 181,
    "start_time": "2023-02-02T18:01:31.420Z"
   },
   {
    "duration": 172,
    "start_time": "2023-02-02T18:01:33.911Z"
   },
   {
    "duration": 4,
    "start_time": "2023-02-02T18:07:55.795Z"
   },
   {
    "duration": 27341,
    "start_time": "2023-02-02T18:08:00.142Z"
   },
   {
    "duration": 191405,
    "start_time": "2023-02-02T18:08:30.153Z"
   },
   {
    "duration": 4,
    "start_time": "2023-02-02T18:13:09.669Z"
   },
   {
    "duration": 2636,
    "start_time": "2023-02-02T18:13:21.222Z"
   },
   {
    "duration": 14,
    "start_time": "2023-02-02T18:13:37.492Z"
   },
   {
    "duration": 3125,
    "start_time": "2023-02-02T18:14:27.045Z"
   },
   {
    "duration": 3,
    "start_time": "2023-02-02T18:15:20.823Z"
   },
   {
    "duration": 106,
    "start_time": "2023-02-02T18:15:28.539Z"
   },
   {
    "duration": 1622,
    "start_time": "2023-02-03T08:38:39.974Z"
   },
   {
    "duration": 104,
    "start_time": "2023-02-03T08:39:03.238Z"
   },
   {
    "duration": 217,
    "start_time": "2023-02-03T08:39:07.383Z"
   },
   {
    "duration": 17,
    "start_time": "2023-02-03T08:39:10.887Z"
   },
   {
    "duration": 34,
    "start_time": "2023-02-03T08:39:12.957Z"
   },
   {
    "duration": 10,
    "start_time": "2023-02-03T08:39:16.323Z"
   },
   {
    "duration": 4,
    "start_time": "2023-02-03T08:55:40.403Z"
   },
   {
    "duration": 2,
    "start_time": "2023-02-03T09:11:23.337Z"
   },
   {
    "duration": 6,
    "start_time": "2023-02-03T09:11:30.260Z"
   },
   {
    "duration": 4,
    "start_time": "2023-02-03T09:11:32.128Z"
   },
   {
    "duration": 10,
    "start_time": "2023-02-03T09:11:38.728Z"
   },
   {
    "duration": 4,
    "start_time": "2023-02-03T09:14:30.004Z"
   },
   {
    "duration": 15,
    "start_time": "2023-02-03T09:18:08.266Z"
   },
   {
    "duration": 12,
    "start_time": "2023-02-03T09:22:24.992Z"
   },
   {
    "duration": 14,
    "start_time": "2023-02-03T09:22:52.857Z"
   },
   {
    "duration": 145,
    "start_time": "2023-02-03T09:23:35.072Z"
   },
   {
    "duration": 2063,
    "start_time": "2023-02-03T09:23:44.777Z"
   },
   {
    "duration": 11,
    "start_time": "2023-02-03T09:24:58.173Z"
   },
   {
    "duration": 13,
    "start_time": "2023-02-03T09:26:14.737Z"
   },
   {
    "duration": 16,
    "start_time": "2023-02-03T09:27:01.844Z"
   },
   {
    "duration": 22,
    "start_time": "2023-02-03T09:27:09.342Z"
   },
   {
    "duration": 31,
    "start_time": "2023-02-03T09:27:11.084Z"
   },
   {
    "duration": 14,
    "start_time": "2023-02-03T09:27:58.196Z"
   },
   {
    "duration": 12,
    "start_time": "2023-02-03T09:28:03.798Z"
   },
   {
    "duration": 13,
    "start_time": "2023-02-03T09:28:06.180Z"
   },
   {
    "duration": 13,
    "start_time": "2023-02-03T09:31:44.490Z"
   },
   {
    "duration": 11,
    "start_time": "2023-02-03T09:31:55.169Z"
   },
   {
    "duration": 19,
    "start_time": "2023-02-03T09:31:56.596Z"
   },
   {
    "duration": 12,
    "start_time": "2023-02-03T09:32:07.226Z"
   },
   {
    "duration": 13,
    "start_time": "2023-02-03T09:32:08.638Z"
   },
   {
    "duration": 14,
    "start_time": "2023-02-03T09:32:15.064Z"
   },
   {
    "duration": 17,
    "start_time": "2023-02-03T09:32:16.498Z"
   },
   {
    "duration": 10,
    "start_time": "2023-02-03T09:33:31.442Z"
   },
   {
    "duration": 9,
    "start_time": "2023-02-03T09:33:32.828Z"
   },
   {
    "duration": 10,
    "start_time": "2023-02-03T09:33:55.277Z"
   },
   {
    "duration": 5,
    "start_time": "2023-02-03T09:34:06.345Z"
   },
   {
    "duration": 21,
    "start_time": "2023-02-03T09:34:58.667Z"
   },
   {
    "duration": 5,
    "start_time": "2023-02-03T09:35:17.817Z"
   },
   {
    "duration": 14,
    "start_time": "2023-02-03T09:35:55.698Z"
   },
   {
    "duration": 14,
    "start_time": "2023-02-03T09:36:11.399Z"
   },
   {
    "duration": 14,
    "start_time": "2023-02-03T09:36:34.201Z"
   },
   {
    "duration": 14,
    "start_time": "2023-02-03T09:37:07.918Z"
   },
   {
    "duration": 8,
    "start_time": "2023-02-03T09:37:15.678Z"
   },
   {
    "duration": 9,
    "start_time": "2023-02-03T09:37:19.961Z"
   },
   {
    "duration": 19,
    "start_time": "2023-02-03T09:37:23.490Z"
   },
   {
    "duration": 11,
    "start_time": "2023-02-03T09:37:38.095Z"
   },
   {
    "duration": 11,
    "start_time": "2023-02-03T09:38:45.987Z"
   },
   {
    "duration": 10,
    "start_time": "2023-02-03T09:39:46.469Z"
   },
   {
    "duration": 131,
    "start_time": "2023-02-03T09:39:48.023Z"
   },
   {
    "duration": 16,
    "start_time": "2023-02-03T09:40:12.806Z"
   },
   {
    "duration": 129,
    "start_time": "2023-02-03T09:40:14.252Z"
   },
   {
    "duration": 5,
    "start_time": "2023-02-03T09:40:24.059Z"
   },
   {
    "duration": 9,
    "start_time": "2023-02-03T09:44:31.977Z"
   },
   {
    "duration": 10,
    "start_time": "2023-02-03T09:44:47.786Z"
   },
   {
    "duration": 19,
    "start_time": "2023-02-03T09:44:49.138Z"
   },
   {
    "duration": 23,
    "start_time": "2023-02-03T09:45:09.094Z"
   },
   {
    "duration": 12,
    "start_time": "2023-02-03T09:45:40.093Z"
   },
   {
    "duration": 16,
    "start_time": "2023-02-03T09:45:42.818Z"
   },
   {
    "duration": 79,
    "start_time": "2023-02-03T09:45:49.988Z"
   },
   {
    "duration": 9,
    "start_time": "2023-02-03T09:45:55.089Z"
   },
   {
    "duration": 5,
    "start_time": "2023-02-03T09:45:57.900Z"
   },
   {
    "duration": 11,
    "start_time": "2023-02-03T09:46:00.881Z"
   },
   {
    "duration": 10,
    "start_time": "2023-02-03T09:46:03.020Z"
   },
   {
    "duration": 4,
    "start_time": "2023-02-03T09:47:37.618Z"
   },
   {
    "duration": 2,
    "start_time": "2023-02-03T09:48:18.886Z"
   },
   {
    "duration": 11,
    "start_time": "2023-02-03T09:48:31.097Z"
   },
   {
    "duration": 3,
    "start_time": "2023-02-03T09:49:34.081Z"
   },
   {
    "duration": 36,
    "start_time": "2023-02-03T09:51:04.443Z"
   },
   {
    "duration": 9,
    "start_time": "2023-02-03T09:51:49.812Z"
   },
   {
    "duration": 27,
    "start_time": "2023-02-03T09:51:51.705Z"
   },
   {
    "duration": 11,
    "start_time": "2023-02-03T09:52:06.887Z"
   },
   {
    "duration": 27,
    "start_time": "2023-02-03T09:52:08.084Z"
   },
   {
    "duration": 13,
    "start_time": "2023-02-03T09:52:29.151Z"
   },
   {
    "duration": 6,
    "start_time": "2023-02-03T09:53:28.795Z"
   },
   {
    "duration": 4,
    "start_time": "2023-02-03T09:53:55.149Z"
   },
   {
    "duration": 75,
    "start_time": "2023-02-03T09:53:55.156Z"
   },
   {
    "duration": 15,
    "start_time": "2023-02-03T09:53:55.233Z"
   },
   {
    "duration": 28,
    "start_time": "2023-02-03T09:53:55.251Z"
   },
   {
    "duration": 8,
    "start_time": "2023-02-03T09:53:55.281Z"
   },
   {
    "duration": 6,
    "start_time": "2023-02-03T09:53:55.291Z"
   },
   {
    "duration": 12,
    "start_time": "2023-02-03T09:53:55.321Z"
   },
   {
    "duration": 29,
    "start_time": "2023-02-03T09:53:55.334Z"
   },
   {
    "duration": 26,
    "start_time": "2023-02-03T09:53:58.963Z"
   },
   {
    "duration": 6,
    "start_time": "2023-02-03T09:54:03.870Z"
   },
   {
    "duration": 3,
    "start_time": "2023-02-03T09:54:06.530Z"
   },
   {
    "duration": 10,
    "start_time": "2023-02-03T09:54:21.627Z"
   },
   {
    "duration": 31,
    "start_time": "2023-02-03T09:54:24.422Z"
   },
   {
    "duration": 4,
    "start_time": "2023-02-03T09:54:25.900Z"
   },
   {
    "duration": 2,
    "start_time": "2023-02-03T09:54:31.024Z"
   },
   {
    "duration": 5,
    "start_time": "2023-02-03T09:54:39.413Z"
   },
   {
    "duration": 6,
    "start_time": "2023-02-03T09:58:34.339Z"
   },
   {
    "duration": 3,
    "start_time": "2023-02-03T09:58:35.764Z"
   },
   {
    "duration": 35,
    "start_time": "2023-02-03T09:58:38.179Z"
   },
   {
    "duration": 5,
    "start_time": "2023-02-03T09:58:45.907Z"
   },
   {
    "duration": 2,
    "start_time": "2023-02-03T09:58:47.475Z"
   },
   {
    "duration": 5,
    "start_time": "2023-02-03T09:58:49.431Z"
   },
   {
    "duration": 12,
    "start_time": "2023-02-03T09:59:27.618Z"
   },
   {
    "duration": 266,
    "start_time": "2023-02-03T10:01:29.860Z"
   },
   {
    "duration": 12,
    "start_time": "2023-02-03T10:01:31.428Z"
   },
   {
    "duration": 1637,
    "start_time": "2023-02-04T16:51:34.269Z"
   },
   {
    "duration": 0,
    "start_time": "2023-02-04T16:51:35.911Z"
   },
   {
    "duration": 0,
    "start_time": "2023-02-04T16:51:35.912Z"
   },
   {
    "duration": 0,
    "start_time": "2023-02-04T16:51:35.914Z"
   },
   {
    "duration": 0,
    "start_time": "2023-02-04T16:51:35.915Z"
   },
   {
    "duration": 0,
    "start_time": "2023-02-04T16:51:35.927Z"
   },
   {
    "duration": 0,
    "start_time": "2023-02-04T16:51:35.928Z"
   },
   {
    "duration": 0,
    "start_time": "2023-02-04T16:51:35.930Z"
   },
   {
    "duration": 0,
    "start_time": "2023-02-04T16:51:35.931Z"
   },
   {
    "duration": 0,
    "start_time": "2023-02-04T16:51:35.933Z"
   },
   {
    "duration": 0,
    "start_time": "2023-02-04T16:51:35.934Z"
   },
   {
    "duration": 0,
    "start_time": "2023-02-04T16:51:35.936Z"
   },
   {
    "duration": 0,
    "start_time": "2023-02-04T16:51:35.937Z"
   },
   {
    "duration": 0,
    "start_time": "2023-02-04T16:51:35.938Z"
   },
   {
    "duration": 0,
    "start_time": "2023-02-04T16:51:35.939Z"
   },
   {
    "duration": 0,
    "start_time": "2023-02-04T16:51:35.940Z"
   },
   {
    "duration": 0,
    "start_time": "2023-02-04T16:51:35.941Z"
   },
   {
    "duration": 0,
    "start_time": "2023-02-04T16:51:35.942Z"
   },
   {
    "duration": 0,
    "start_time": "2023-02-04T16:51:35.943Z"
   },
   {
    "duration": 0,
    "start_time": "2023-02-04T16:51:35.944Z"
   },
   {
    "duration": 0,
    "start_time": "2023-02-04T16:51:35.945Z"
   },
   {
    "duration": 0,
    "start_time": "2023-02-04T16:51:35.947Z"
   },
   {
    "duration": 0,
    "start_time": "2023-02-04T16:51:35.948Z"
   },
   {
    "duration": 0,
    "start_time": "2023-02-04T16:51:35.949Z"
   },
   {
    "duration": 0,
    "start_time": "2023-02-04T16:51:35.950Z"
   },
   {
    "duration": 0,
    "start_time": "2023-02-04T16:51:35.952Z"
   },
   {
    "duration": 0,
    "start_time": "2023-02-04T16:51:35.953Z"
   },
   {
    "duration": 0,
    "start_time": "2023-02-04T16:51:35.954Z"
   },
   {
    "duration": 0,
    "start_time": "2023-02-04T16:51:35.956Z"
   },
   {
    "duration": 0,
    "start_time": "2023-02-04T16:51:35.957Z"
   },
   {
    "duration": 0,
    "start_time": "2023-02-04T16:51:35.958Z"
   },
   {
    "duration": 0,
    "start_time": "2023-02-04T16:51:35.960Z"
   },
   {
    "duration": 0,
    "start_time": "2023-02-04T16:51:35.961Z"
   },
   {
    "duration": 0,
    "start_time": "2023-02-04T16:51:35.963Z"
   },
   {
    "duration": 0,
    "start_time": "2023-02-04T16:51:35.965Z"
   },
   {
    "duration": 0,
    "start_time": "2023-02-04T16:51:35.966Z"
   },
   {
    "duration": 0,
    "start_time": "2023-02-04T16:51:36.028Z"
   },
   {
    "duration": 0,
    "start_time": "2023-02-04T16:51:36.029Z"
   },
   {
    "duration": 0,
    "start_time": "2023-02-04T16:51:36.031Z"
   },
   {
    "duration": 0,
    "start_time": "2023-02-04T16:51:36.032Z"
   },
   {
    "duration": 0,
    "start_time": "2023-02-04T16:51:36.034Z"
   },
   {
    "duration": 0,
    "start_time": "2023-02-04T16:51:36.035Z"
   },
   {
    "duration": 0,
    "start_time": "2023-02-04T16:51:36.037Z"
   },
   {
    "duration": 0,
    "start_time": "2023-02-04T16:51:36.038Z"
   },
   {
    "duration": 0,
    "start_time": "2023-02-04T16:51:36.040Z"
   },
   {
    "duration": 0,
    "start_time": "2023-02-04T16:51:36.041Z"
   },
   {
    "duration": 0,
    "start_time": "2023-02-04T16:51:36.042Z"
   },
   {
    "duration": 0,
    "start_time": "2023-02-04T16:51:36.044Z"
   },
   {
    "duration": 0,
    "start_time": "2023-02-04T16:51:36.045Z"
   },
   {
    "duration": 0,
    "start_time": "2023-02-04T16:51:36.046Z"
   },
   {
    "duration": 0,
    "start_time": "2023-02-04T16:51:36.047Z"
   },
   {
    "duration": 0,
    "start_time": "2023-02-04T16:51:36.049Z"
   },
   {
    "duration": 0,
    "start_time": "2023-02-04T16:51:36.050Z"
   },
   {
    "duration": 0,
    "start_time": "2023-02-04T16:51:36.051Z"
   },
   {
    "duration": 0,
    "start_time": "2023-02-04T16:51:36.053Z"
   },
   {
    "duration": 0,
    "start_time": "2023-02-04T16:51:36.053Z"
   },
   {
    "duration": 0,
    "start_time": "2023-02-04T16:51:36.055Z"
   },
   {
    "duration": 0,
    "start_time": "2023-02-04T16:51:36.056Z"
   },
   {
    "duration": 0,
    "start_time": "2023-02-04T16:51:36.057Z"
   },
   {
    "duration": 0,
    "start_time": "2023-02-04T16:51:36.058Z"
   },
   {
    "duration": 0,
    "start_time": "2023-02-04T16:51:36.059Z"
   },
   {
    "duration": 0,
    "start_time": "2023-02-04T16:51:36.061Z"
   },
   {
    "duration": 0,
    "start_time": "2023-02-04T16:51:36.062Z"
   },
   {
    "duration": 0,
    "start_time": "2023-02-04T16:51:36.063Z"
   },
   {
    "duration": 0,
    "start_time": "2023-02-04T16:51:36.064Z"
   },
   {
    "duration": 0,
    "start_time": "2023-02-04T16:51:36.130Z"
   },
   {
    "duration": 0,
    "start_time": "2023-02-04T16:51:36.131Z"
   },
   {
    "duration": 0,
    "start_time": "2023-02-04T16:51:36.132Z"
   },
   {
    "duration": 0,
    "start_time": "2023-02-04T16:51:36.134Z"
   },
   {
    "duration": 0,
    "start_time": "2023-02-04T16:51:36.135Z"
   },
   {
    "duration": 0,
    "start_time": "2023-02-04T16:51:36.136Z"
   },
   {
    "duration": 0,
    "start_time": "2023-02-04T16:51:36.138Z"
   },
   {
    "duration": 0,
    "start_time": "2023-02-04T16:51:36.139Z"
   },
   {
    "duration": 0,
    "start_time": "2023-02-04T16:51:36.141Z"
   },
   {
    "duration": 0,
    "start_time": "2023-02-04T16:51:36.142Z"
   },
   {
    "duration": 0,
    "start_time": "2023-02-04T16:51:36.144Z"
   },
   {
    "duration": 0,
    "start_time": "2023-02-04T16:51:36.145Z"
   },
   {
    "duration": 0,
    "start_time": "2023-02-04T16:51:36.146Z"
   },
   {
    "duration": 0,
    "start_time": "2023-02-04T16:51:36.147Z"
   },
   {
    "duration": 0,
    "start_time": "2023-02-04T16:51:36.148Z"
   },
   {
    "duration": 6696,
    "start_time": "2023-02-04T16:53:35.544Z"
   },
   {
    "duration": 24,
    "start_time": "2023-02-04T16:53:42.242Z"
   },
   {
    "duration": 1998,
    "start_time": "2023-02-04T16:53:50.355Z"
   },
   {
    "duration": 1168,
    "start_time": "2023-02-04T16:53:52.356Z"
   },
   {
    "duration": 122,
    "start_time": "2023-02-04T16:53:53.526Z"
   },
   {
    "duration": 16,
    "start_time": "2023-02-04T16:53:53.651Z"
   },
   {
    "duration": 27,
    "start_time": "2023-02-04T16:53:53.669Z"
   },
   {
    "duration": 8,
    "start_time": "2023-02-04T16:53:53.698Z"
   },
   {
    "duration": 17,
    "start_time": "2023-02-04T16:53:53.708Z"
   },
   {
    "duration": 7,
    "start_time": "2023-02-04T16:53:53.727Z"
   },
   {
    "duration": 16,
    "start_time": "2023-02-04T16:53:53.735Z"
   },
   {
    "duration": 23,
    "start_time": "2023-02-04T16:53:53.755Z"
   },
   {
    "duration": 26,
    "start_time": "2023-02-04T16:53:53.780Z"
   },
   {
    "duration": 6,
    "start_time": "2023-02-04T16:53:53.826Z"
   },
   {
    "duration": 4,
    "start_time": "2023-02-04T16:53:53.834Z"
   },
   {
    "duration": 34,
    "start_time": "2023-02-04T16:53:53.840Z"
   },
   {
    "duration": 5,
    "start_time": "2023-02-04T16:53:53.875Z"
   },
   {
    "duration": 3,
    "start_time": "2023-02-04T16:53:53.882Z"
   },
   {
    "duration": 6,
    "start_time": "2023-02-04T16:53:53.887Z"
   },
   {
    "duration": 175,
    "start_time": "2023-02-04T16:53:53.895Z"
   },
   {
    "duration": 761,
    "start_time": "2023-02-04T16:53:54.072Z"
   },
   {
    "duration": 141,
    "start_time": "2023-02-04T16:53:54.835Z"
   },
   {
    "duration": 250,
    "start_time": "2023-02-04T16:53:54.977Z"
   },
   {
    "duration": 235,
    "start_time": "2023-02-04T16:53:55.229Z"
   },
   {
    "duration": 9,
    "start_time": "2023-02-04T16:53:55.466Z"
   },
   {
    "duration": 18962,
    "start_time": "2023-02-04T16:53:55.477Z"
   },
   {
    "duration": 86,
    "start_time": "2023-02-04T16:54:14.441Z"
   },
   {
    "duration": 48050,
    "start_time": "2023-02-04T16:54:14.529Z"
   },
   {
    "duration": 3,
    "start_time": "2023-02-04T16:55:02.581Z"
   },
   {
    "duration": 10,
    "start_time": "2023-02-04T16:55:02.588Z"
   },
   {
    "duration": 14,
    "start_time": "2023-02-04T16:55:02.600Z"
   },
   {
    "duration": 52,
    "start_time": "2023-02-04T16:55:02.616Z"
   },
   {
    "duration": 185,
    "start_time": "2023-02-04T16:55:02.670Z"
   },
   {
    "duration": 182,
    "start_time": "2023-02-04T16:55:02.857Z"
   },
   {
    "duration": 5,
    "start_time": "2023-02-04T16:55:03.041Z"
   },
   {
    "duration": 8,
    "start_time": "2023-02-04T16:55:03.047Z"
   },
   {
    "duration": 6,
    "start_time": "2023-02-04T16:55:03.056Z"
   },
   {
    "duration": 755,
    "start_time": "2023-02-04T16:55:03.063Z"
   },
   {
    "duration": 191,
    "start_time": "2023-02-04T16:55:03.820Z"
   },
   {
    "duration": 186,
    "start_time": "2023-02-04T16:55:04.012Z"
   },
   {
    "duration": 10,
    "start_time": "2023-02-04T16:55:04.199Z"
   },
   {
    "duration": 5,
    "start_time": "2023-02-04T16:55:04.227Z"
   },
   {
    "duration": 45133,
    "start_time": "2023-02-04T16:55:04.234Z"
   },
   {
    "duration": 3,
    "start_time": "2023-02-04T16:55:49.369Z"
   },
   {
    "duration": 157,
    "start_time": "2023-02-04T16:55:49.373Z"
   },
   {
    "duration": 478,
    "start_time": "2023-02-04T16:55:49.534Z"
   },
   {
    "duration": 170,
    "start_time": "2023-02-04T16:55:50.014Z"
   },
   {
    "duration": 10,
    "start_time": "2023-02-04T16:55:50.186Z"
   },
   {
    "duration": 12,
    "start_time": "2023-02-04T16:55:50.197Z"
   },
   {
    "duration": 18,
    "start_time": "2023-02-04T16:55:50.211Z"
   },
   {
    "duration": 13,
    "start_time": "2023-02-04T16:55:50.231Z"
   },
   {
    "duration": 55,
    "start_time": "2023-02-04T16:55:50.245Z"
   },
   {
    "duration": 2979,
    "start_time": "2023-02-04T16:55:50.302Z"
   },
   {
    "duration": 2,
    "start_time": "2023-02-04T16:55:53.283Z"
   },
   {
    "duration": 683,
    "start_time": "2023-02-04T16:55:53.287Z"
   },
   {
    "duration": 45571,
    "start_time": "2023-02-04T16:55:53.971Z"
   },
   {
    "duration": 3,
    "start_time": "2023-02-04T16:56:39.544Z"
   },
   {
    "duration": 184,
    "start_time": "2023-02-04T16:56:39.550Z"
   },
   {
    "duration": 5,
    "start_time": "2023-02-04T16:56:39.736Z"
   },
   {
    "duration": 3,
    "start_time": "2023-02-04T16:56:39.828Z"
   },
   {
    "duration": 7,
    "start_time": "2023-02-04T16:56:39.833Z"
   },
   {
    "duration": 41,
    "start_time": "2023-02-04T16:56:39.842Z"
   },
   {
    "duration": 4586,
    "start_time": "2023-02-04T16:56:39.885Z"
   },
   {
    "duration": 2,
    "start_time": "2023-02-04T16:56:44.473Z"
   },
   {
    "duration": 70441,
    "start_time": "2023-02-04T16:56:44.477Z"
   },
   {
    "duration": 7,
    "start_time": "2023-02-04T16:57:54.920Z"
   },
   {
    "duration": 405,
    "start_time": "2023-02-04T16:57:54.928Z"
   },
   {
    "duration": 0,
    "start_time": "2023-02-04T16:57:55.335Z"
   },
   {
    "duration": 0,
    "start_time": "2023-02-04T16:57:55.336Z"
   },
   {
    "duration": 0,
    "start_time": "2023-02-04T16:57:55.338Z"
   },
   {
    "duration": 0,
    "start_time": "2023-02-04T16:57:55.339Z"
   },
   {
    "duration": 0,
    "start_time": "2023-02-04T16:57:55.341Z"
   },
   {
    "duration": 0,
    "start_time": "2023-02-04T16:57:55.342Z"
   },
   {
    "duration": 0,
    "start_time": "2023-02-04T16:57:55.343Z"
   },
   {
    "duration": 0,
    "start_time": "2023-02-04T16:57:55.345Z"
   },
   {
    "duration": 0,
    "start_time": "2023-02-04T16:57:55.346Z"
   },
   {
    "duration": 0,
    "start_time": "2023-02-04T16:57:55.347Z"
   },
   {
    "duration": 0,
    "start_time": "2023-02-04T16:57:55.348Z"
   },
   {
    "duration": 0,
    "start_time": "2023-02-04T16:57:55.350Z"
   },
   {
    "duration": 0,
    "start_time": "2023-02-04T16:57:55.351Z"
   },
   {
    "duration": 0,
    "start_time": "2023-02-04T16:57:55.352Z"
   },
   {
    "duration": 0,
    "start_time": "2023-02-04T16:57:55.354Z"
   },
   {
    "duration": 0,
    "start_time": "2023-02-04T16:57:55.355Z"
   },
   {
    "duration": 32,
    "start_time": "2023-02-04T17:03:38.321Z"
   },
   {
    "duration": 194,
    "start_time": "2023-02-04T17:03:40.977Z"
   },
   {
    "duration": 4,
    "start_time": "2023-02-04T17:03:55.924Z"
   },
   {
    "duration": 9,
    "start_time": "2023-02-04T17:12:35.975Z"
   },
   {
    "duration": 1309,
    "start_time": "2023-02-04T17:12:37.488Z"
   },
   {
    "duration": 9,
    "start_time": "2023-02-04T17:12:38.799Z"
   },
   {
    "duration": 2,
    "start_time": "2023-02-04T17:12:46.663Z"
   },
   {
    "duration": 3,
    "start_time": "2023-02-04T17:12:50.820Z"
   },
   {
    "duration": 27382,
    "start_time": "2023-02-04T17:12:51.992Z"
   },
   {
    "duration": 3,
    "start_time": "2023-02-04T17:13:19.375Z"
   },
   {
    "duration": 150,
    "start_time": "2023-02-04T17:13:19.379Z"
   },
   {
    "duration": 5,
    "start_time": "2023-02-04T17:13:19.531Z"
   },
   {
    "duration": 24,
    "start_time": "2023-02-04T17:13:19.627Z"
   },
   {
    "duration": 0,
    "start_time": "2023-02-04T17:13:19.653Z"
   },
   {
    "duration": 3,
    "start_time": "2023-02-04T17:14:06.584Z"
   },
   {
    "duration": 195,
    "start_time": "2023-02-04T17:14:19.044Z"
   },
   {
    "duration": 8,
    "start_time": "2023-02-04T17:14:22.381Z"
   },
   {
    "duration": 9,
    "start_time": "2023-02-04T17:14:23.676Z"
   },
   {
    "duration": 15192,
    "start_time": "2023-02-04T18:15:08.632Z"
   },
   {
    "duration": 1685,
    "start_time": "2023-02-04T18:15:23.826Z"
   },
   {
    "duration": 165,
    "start_time": "2023-02-04T18:19:34.758Z"
   },
   {
    "duration": 2469,
    "start_time": "2023-02-04T18:19:49.694Z"
   },
   {
    "duration": 5,
    "start_time": "2023-02-04T18:19:52.165Z"
   },
   {
    "duration": 295,
    "start_time": "2023-02-04T18:19:52.172Z"
   },
   {
    "duration": 20,
    "start_time": "2023-02-04T18:19:52.469Z"
   },
   {
    "duration": 35,
    "start_time": "2023-02-04T18:19:52.492Z"
   },
   {
    "duration": 42,
    "start_time": "2023-02-04T18:19:52.529Z"
   },
   {
    "duration": 14,
    "start_time": "2023-02-04T18:19:52.572Z"
   },
   {
    "duration": 69,
    "start_time": "2023-02-04T18:19:52.587Z"
   },
   {
    "duration": 21,
    "start_time": "2023-02-04T18:19:52.660Z"
   },
   {
    "duration": 66,
    "start_time": "2023-02-04T18:19:52.682Z"
   },
   {
    "duration": 65,
    "start_time": "2023-02-04T18:19:52.749Z"
   },
   {
    "duration": 54,
    "start_time": "2023-02-04T18:19:52.816Z"
   },
   {
    "duration": 10,
    "start_time": "2023-02-04T18:19:52.873Z"
   },
   {
    "duration": 82,
    "start_time": "2023-02-04T18:19:52.886Z"
   },
   {
    "duration": 15,
    "start_time": "2023-02-04T18:19:52.969Z"
   },
   {
    "duration": 92,
    "start_time": "2023-02-04T18:19:52.986Z"
   },
   {
    "duration": 89,
    "start_time": "2023-02-04T18:19:53.079Z"
   },
   {
    "duration": 200,
    "start_time": "2023-02-04T18:19:53.169Z"
   },
   {
    "duration": 915,
    "start_time": "2023-02-04T18:19:53.371Z"
   },
   {
    "duration": 221,
    "start_time": "2023-02-04T18:19:54.288Z"
   },
   {
    "duration": 412,
    "start_time": "2023-02-04T18:19:54.511Z"
   },
   {
    "duration": 250,
    "start_time": "2023-02-04T18:19:54.942Z"
   },
   {
    "duration": 20,
    "start_time": "2023-02-04T18:19:55.193Z"
   },
   {
    "duration": 15928,
    "start_time": "2023-02-04T18:19:55.215Z"
   },
   {
    "duration": 47,
    "start_time": "2023-02-04T18:20:11.158Z"
   },
   {
    "duration": 58654,
    "start_time": "2023-02-04T18:20:11.210Z"
   },
   {
    "duration": 6,
    "start_time": "2023-02-04T18:21:09.866Z"
   },
   {
    "duration": 18,
    "start_time": "2023-02-04T18:21:09.873Z"
   },
   {
    "duration": 12,
    "start_time": "2023-02-04T18:21:09.893Z"
   },
   {
    "duration": 85,
    "start_time": "2023-02-04T18:21:09.909Z"
   },
   {
    "duration": 271,
    "start_time": "2023-02-04T18:21:09.996Z"
   },
   {
    "duration": 247,
    "start_time": "2023-02-04T18:21:10.269Z"
   },
   {
    "duration": 8,
    "start_time": "2023-02-04T18:21:10.521Z"
   },
   {
    "duration": 36,
    "start_time": "2023-02-04T18:21:10.531Z"
   },
   {
    "duration": 8,
    "start_time": "2023-02-04T18:21:10.569Z"
   },
   {
    "duration": 859,
    "start_time": "2023-02-04T18:21:10.578Z"
   },
   {
    "duration": 240,
    "start_time": "2023-02-04T18:21:11.439Z"
   },
   {
    "duration": 248,
    "start_time": "2023-02-04T18:21:11.681Z"
   },
   {
    "duration": 13,
    "start_time": "2023-02-04T18:21:11.930Z"
   },
   {
    "duration": 31,
    "start_time": "2023-02-04T18:21:11.945Z"
   },
   {
    "duration": 55613,
    "start_time": "2023-02-04T18:21:17.361Z"
   },
   {
    "duration": 3,
    "start_time": "2023-02-04T18:22:28.147Z"
   },
   {
    "duration": 685,
    "start_time": "2023-02-04T18:22:29.350Z"
   },
   {
    "duration": 357,
    "start_time": "2023-02-04T18:22:31.181Z"
   },
   {
    "duration": 229,
    "start_time": "2023-02-04T18:22:33.454Z"
   },
   {
    "duration": 11,
    "start_time": "2023-02-04T18:22:36.447Z"
   },
   {
    "duration": 7,
    "start_time": "2023-02-04T18:22:38.457Z"
   },
   {
    "duration": 3,
    "start_time": "2023-02-04T18:22:40.294Z"
   },
   {
    "duration": 2,
    "start_time": "2023-02-04T18:23:23.747Z"
   },
   {
    "duration": 36,
    "start_time": "2023-02-04T18:23:24.861Z"
   },
   {
    "duration": 3514,
    "start_time": "2023-02-04T18:24:08.355Z"
   },
   {
    "duration": 22,
    "start_time": "2023-02-04T18:24:14.298Z"
   },
   {
    "duration": 948,
    "start_time": "2023-02-04T18:24:15.749Z"
   },
   {
    "duration": 51805,
    "start_time": "2023-02-04T18:24:39.492Z"
   },
   {
    "duration": 3,
    "start_time": "2023-02-04T18:25:39.388Z"
   },
   {
    "duration": 158,
    "start_time": "2023-02-04T18:25:45.645Z"
   },
   {
    "duration": 12,
    "start_time": "2023-02-04T18:25:48.194Z"
   },
   {
    "duration": 6,
    "start_time": "2023-02-04T18:25:52.727Z"
   },
   {
    "duration": 40,
    "start_time": "2023-02-04T18:25:57.349Z"
   },
   {
    "duration": 5088,
    "start_time": "2023-02-04T18:26:00.585Z"
   },
   {
    "duration": 4,
    "start_time": "2023-02-04T18:26:46.145Z"
   },
   {
    "duration": 52,
    "start_time": "2023-02-04T18:29:00.296Z"
   },
   {
    "duration": 5025,
    "start_time": "2023-02-04T18:29:01.542Z"
   },
   {
    "duration": 5289,
    "start_time": "2023-02-04T18:29:16.578Z"
   },
   {
    "duration": 312,
    "start_time": "2023-02-04T18:31:05.035Z"
   },
   {
    "duration": 3,
    "start_time": "2023-02-04T18:31:09.542Z"
   },
   {
    "duration": 2341,
    "start_time": "2023-02-04T18:33:25.009Z"
   },
   {
    "duration": 1381,
    "start_time": "2023-02-04T18:33:27.354Z"
   },
   {
    "duration": 94,
    "start_time": "2023-02-04T18:33:28.736Z"
   },
   {
    "duration": 19,
    "start_time": "2023-02-04T18:33:28.832Z"
   },
   {
    "duration": 29,
    "start_time": "2023-02-04T18:33:28.853Z"
   },
   {
    "duration": 21,
    "start_time": "2023-02-04T18:33:28.883Z"
   },
   {
    "duration": 6,
    "start_time": "2023-02-04T18:33:28.906Z"
   },
   {
    "duration": 7,
    "start_time": "2023-02-04T18:33:28.914Z"
   },
   {
    "duration": 48,
    "start_time": "2023-02-04T18:33:28.923Z"
   },
   {
    "duration": 23,
    "start_time": "2023-02-04T18:33:28.973Z"
   },
   {
    "duration": 44,
    "start_time": "2023-02-04T18:33:28.997Z"
   },
   {
    "duration": 11,
    "start_time": "2023-02-04T18:33:29.048Z"
   },
   {
    "duration": 12,
    "start_time": "2023-02-04T18:33:29.061Z"
   },
   {
    "duration": 45,
    "start_time": "2023-02-04T18:33:29.076Z"
   },
   {
    "duration": 4,
    "start_time": "2023-02-04T18:33:29.122Z"
   },
   {
    "duration": 51,
    "start_time": "2023-02-04T18:33:29.128Z"
   },
   {
    "duration": 10,
    "start_time": "2023-02-04T18:33:29.181Z"
   },
   {
    "duration": 184,
    "start_time": "2023-02-04T18:33:29.192Z"
   },
   {
    "duration": 866,
    "start_time": "2023-02-04T18:33:29.377Z"
   },
   {
    "duration": 396,
    "start_time": "2023-02-04T18:33:30.245Z"
   },
   {
    "duration": 962,
    "start_time": "2023-02-04T18:33:30.644Z"
   },
   {
    "duration": 387,
    "start_time": "2023-02-04T18:33:31.615Z"
   },
   {
    "duration": 11,
    "start_time": "2023-02-04T18:33:32.004Z"
   },
   {
    "duration": 15300,
    "start_time": "2023-02-04T18:33:32.017Z"
   },
   {
    "duration": 12,
    "start_time": "2023-02-04T18:33:47.328Z"
   },
   {
    "duration": 54266,
    "start_time": "2023-02-04T18:33:47.349Z"
   },
   {
    "duration": 18,
    "start_time": "2023-02-04T18:34:41.621Z"
   },
   {
    "duration": 23,
    "start_time": "2023-02-04T18:34:41.644Z"
   },
   {
    "duration": 15,
    "start_time": "2023-02-04T18:34:41.669Z"
   },
   {
    "duration": 50,
    "start_time": "2023-02-04T18:34:41.686Z"
   },
   {
    "duration": 248,
    "start_time": "2023-02-04T18:34:41.742Z"
   },
   {
    "duration": 244,
    "start_time": "2023-02-04T18:34:41.992Z"
   },
   {
    "duration": 7,
    "start_time": "2023-02-04T18:34:42.238Z"
   },
   {
    "duration": 20,
    "start_time": "2023-02-04T18:34:42.247Z"
   },
   {
    "duration": 5,
    "start_time": "2023-02-04T18:34:42.269Z"
   },
   {
    "duration": 938,
    "start_time": "2023-02-04T18:34:42.275Z"
   },
   {
    "duration": 250,
    "start_time": "2023-02-04T18:34:43.215Z"
   },
   {
    "duration": 277,
    "start_time": "2023-02-04T18:34:43.467Z"
   },
   {
    "duration": 14,
    "start_time": "2023-02-04T18:34:43.747Z"
   },
   {
    "duration": 14,
    "start_time": "2023-02-04T18:34:43.763Z"
   },
   {
    "duration": 50695,
    "start_time": "2023-02-04T18:34:43.782Z"
   },
   {
    "duration": 3,
    "start_time": "2023-02-04T18:35:34.479Z"
   },
   {
    "duration": 175,
    "start_time": "2023-02-04T18:35:34.483Z"
   },
   {
    "duration": 446,
    "start_time": "2023-02-04T18:35:34.704Z"
   },
   {
    "duration": 183,
    "start_time": "2023-02-04T18:35:35.154Z"
   },
   {
    "duration": 14,
    "start_time": "2023-02-04T18:35:35.339Z"
   },
   {
    "duration": 14,
    "start_time": "2023-02-04T18:35:35.356Z"
   },
   {
    "duration": 7,
    "start_time": "2023-02-04T18:35:35.371Z"
   },
   {
    "duration": 9,
    "start_time": "2023-02-04T18:35:35.379Z"
   },
   {
    "duration": 55,
    "start_time": "2023-02-04T18:35:35.390Z"
   },
   {
    "duration": 3162,
    "start_time": "2023-02-04T18:35:35.449Z"
   },
   {
    "duration": 8,
    "start_time": "2023-02-04T18:35:38.621Z"
   },
   {
    "duration": 818,
    "start_time": "2023-02-04T18:35:38.631Z"
   },
   {
    "duration": 53672,
    "start_time": "2023-02-04T18:35:39.456Z"
   },
   {
    "duration": 5,
    "start_time": "2023-02-04T18:36:33.133Z"
   },
   {
    "duration": 574,
    "start_time": "2023-02-04T18:36:33.141Z"
   },
   {
    "duration": 24,
    "start_time": "2023-02-04T18:36:33.725Z"
   },
   {
    "duration": 9,
    "start_time": "2023-02-04T18:36:33.754Z"
   },
   {
    "duration": 11,
    "start_time": "2023-02-04T18:36:33.765Z"
   },
   {
    "duration": 38,
    "start_time": "2023-02-04T18:36:33.777Z"
   },
   {
    "duration": 5221,
    "start_time": "2023-02-04T18:36:33.819Z"
   },
   {
    "duration": 2,
    "start_time": "2023-02-04T18:36:39.042Z"
   },
   {
    "duration": 82884,
    "start_time": "2023-02-04T18:36:39.046Z"
   },
   {
    "duration": 4,
    "start_time": "2023-02-04T18:38:01.931Z"
   },
   {
    "duration": 907,
    "start_time": "2023-02-04T18:38:01.937Z"
   },
   {
    "duration": 61,
    "start_time": "2023-02-04T18:38:02.850Z"
   },
   {
    "duration": 39,
    "start_time": "2023-02-04T18:38:02.930Z"
   },
   {
    "duration": 14,
    "start_time": "2023-02-04T18:38:02.971Z"
   },
   {
    "duration": 71,
    "start_time": "2023-02-04T18:38:02.987Z"
   },
   {
    "duration": 1795,
    "start_time": "2023-02-04T18:38:03.061Z"
   },
   {
    "duration": 2,
    "start_time": "2023-02-04T18:38:04.858Z"
   },
   {
    "duration": 32045,
    "start_time": "2023-02-04T18:38:04.862Z"
   },
   {
    "duration": 8,
    "start_time": "2023-02-04T18:38:36.914Z"
   },
   {
    "duration": 268,
    "start_time": "2023-02-04T18:38:36.940Z"
   },
   {
    "duration": 92,
    "start_time": "2023-02-04T18:38:37.216Z"
   },
   {
    "duration": 217,
    "start_time": "2023-02-04T18:38:37.309Z"
   },
   {
    "duration": 14,
    "start_time": "2023-02-04T18:38:37.532Z"
   },
   {
    "duration": 233,
    "start_time": "2023-02-04T18:38:37.553Z"
   },
   {
    "duration": 22,
    "start_time": "2023-02-04T18:38:37.788Z"
   },
   {
    "duration": 241,
    "start_time": "2023-02-04T18:38:37.820Z"
   },
   {
    "duration": 4,
    "start_time": "2023-02-04T18:38:38.064Z"
   },
   {
    "duration": 1763,
    "start_time": "2023-02-04T18:42:17.168Z"
   },
   {
    "duration": 35026,
    "start_time": "2023-02-04T18:42:58.151Z"
   },
   {
    "duration": 408,
    "start_time": "2023-02-04T18:44:27.249Z"
   },
   {
    "duration": 2654,
    "start_time": "2023-02-04T18:45:21.796Z"
   },
   {
    "duration": 2003,
    "start_time": "2023-02-04T18:45:24.452Z"
   },
   {
    "duration": 167,
    "start_time": "2023-02-04T18:45:26.457Z"
   },
   {
    "duration": 35,
    "start_time": "2023-02-04T18:45:26.630Z"
   },
   {
    "duration": 128,
    "start_time": "2023-02-04T18:45:26.703Z"
   },
   {
    "duration": 20,
    "start_time": "2023-02-04T18:45:26.833Z"
   },
   {
    "duration": 96,
    "start_time": "2023-02-04T18:45:26.861Z"
   },
   {
    "duration": 29,
    "start_time": "2023-02-04T18:45:26.961Z"
   },
   {
    "duration": 20,
    "start_time": "2023-02-04T18:45:26.992Z"
   },
   {
    "duration": 161,
    "start_time": "2023-02-04T18:45:27.018Z"
   },
   {
    "duration": 228,
    "start_time": "2023-02-04T18:45:27.183Z"
   },
   {
    "duration": 77,
    "start_time": "2023-02-04T18:45:27.413Z"
   },
   {
    "duration": 13,
    "start_time": "2023-02-04T18:45:27.492Z"
   },
   {
    "duration": 101,
    "start_time": "2023-02-04T18:45:27.511Z"
   },
   {
    "duration": 12,
    "start_time": "2023-02-04T18:45:27.615Z"
   },
   {
    "duration": 51,
    "start_time": "2023-02-04T18:45:27.629Z"
   },
   {
    "duration": 9,
    "start_time": "2023-02-04T18:45:27.682Z"
   },
   {
    "duration": 201,
    "start_time": "2023-02-04T18:45:27.693Z"
   },
   {
    "duration": 931,
    "start_time": "2023-02-04T18:45:27.896Z"
   },
   {
    "duration": 151,
    "start_time": "2023-02-04T18:45:28.829Z"
   },
   {
    "duration": 521,
    "start_time": "2023-02-04T18:45:28.982Z"
   },
   {
    "duration": 259,
    "start_time": "2023-02-04T18:45:29.523Z"
   },
   {
    "duration": 8,
    "start_time": "2023-02-04T18:45:29.784Z"
   },
   {
    "duration": 14348,
    "start_time": "2023-02-04T18:45:29.794Z"
   },
   {
    "duration": 19,
    "start_time": "2023-02-04T18:45:44.161Z"
   },
   {
    "duration": 58788,
    "start_time": "2023-02-04T18:45:44.200Z"
   },
   {
    "duration": 4,
    "start_time": "2023-02-04T18:46:42.990Z"
   },
   {
    "duration": 89,
    "start_time": "2023-02-04T18:46:42.996Z"
   },
   {
    "duration": 6,
    "start_time": "2023-02-04T18:46:43.088Z"
   },
   {
    "duration": 143,
    "start_time": "2023-02-04T18:46:43.096Z"
   },
   {
    "duration": 300,
    "start_time": "2023-02-04T18:46:43.241Z"
   },
   {
    "duration": 288,
    "start_time": "2023-02-04T18:46:43.547Z"
   },
   {
    "duration": 18,
    "start_time": "2023-02-04T18:46:43.837Z"
   },
   {
    "duration": 99,
    "start_time": "2023-02-04T18:46:43.868Z"
   },
   {
    "duration": 77,
    "start_time": "2023-02-04T18:46:43.972Z"
   },
   {
    "duration": 1274,
    "start_time": "2023-02-04T18:46:44.057Z"
   },
   {
    "duration": 304,
    "start_time": "2023-02-04T18:46:45.345Z"
   },
   {
    "duration": 286,
    "start_time": "2023-02-04T18:46:45.655Z"
   },
   {
    "duration": 22,
    "start_time": "2023-02-04T18:46:45.951Z"
   },
   {
    "duration": 28,
    "start_time": "2023-02-04T18:46:45.979Z"
   },
   {
    "duration": 60982,
    "start_time": "2023-02-04T18:46:46.030Z"
   },
   {
    "duration": 6,
    "start_time": "2023-02-04T18:47:47.017Z"
   },
   {
    "duration": 121,
    "start_time": "2023-02-04T18:47:47.028Z"
   },
   {
    "duration": 426,
    "start_time": "2023-02-04T18:47:47.171Z"
   },
   {
    "duration": 220,
    "start_time": "2023-02-04T18:47:47.603Z"
   },
   {
    "duration": 21,
    "start_time": "2023-02-04T18:47:47.827Z"
   },
   {
    "duration": 26,
    "start_time": "2023-02-04T18:47:47.855Z"
   },
   {
    "duration": 100,
    "start_time": "2023-02-04T18:47:47.884Z"
   },
   {
    "duration": 9,
    "start_time": "2023-02-04T18:47:47.986Z"
   },
   {
    "duration": 118,
    "start_time": "2023-02-04T18:47:47.997Z"
   },
   {
    "duration": 3563,
    "start_time": "2023-02-04T18:47:48.117Z"
   },
   {
    "duration": 3,
    "start_time": "2023-02-04T18:47:51.687Z"
   },
   {
    "duration": 956,
    "start_time": "2023-02-04T18:47:51.691Z"
   },
   {
    "duration": 57418,
    "start_time": "2023-02-04T18:47:52.652Z"
   },
   {
    "duration": 6,
    "start_time": "2023-02-04T18:48:50.075Z"
   },
   {
    "duration": 144,
    "start_time": "2023-02-04T18:48:50.087Z"
   },
   {
    "duration": 67,
    "start_time": "2023-02-04T18:48:50.248Z"
   },
   {
    "duration": 60,
    "start_time": "2023-02-04T18:48:50.328Z"
   },
   {
    "duration": 112,
    "start_time": "2023-02-04T18:48:50.390Z"
   },
   {
    "duration": 130,
    "start_time": "2023-02-04T18:48:50.512Z"
   },
   {
    "duration": 5691,
    "start_time": "2023-02-04T18:48:50.653Z"
   },
   {
    "duration": 4,
    "start_time": "2023-02-04T18:48:56.346Z"
   },
   {
    "duration": 92531,
    "start_time": "2023-02-04T18:48:56.351Z"
   },
   {
    "duration": 7,
    "start_time": "2023-02-04T18:50:28.884Z"
   },
   {
    "duration": 639,
    "start_time": "2023-02-04T18:50:28.892Z"
   },
   {
    "duration": 25,
    "start_time": "2023-02-04T18:50:29.536Z"
   },
   {
    "duration": 190,
    "start_time": "2023-02-04T18:50:29.565Z"
   },
   {
    "duration": 38,
    "start_time": "2023-02-04T18:50:29.759Z"
   },
   {
    "duration": 93,
    "start_time": "2023-02-04T18:50:29.802Z"
   },
   {
    "duration": 2129,
    "start_time": "2023-02-04T18:50:29.898Z"
   },
   {
    "duration": 3,
    "start_time": "2023-02-04T18:50:32.031Z"
   },
   {
    "duration": 38894,
    "start_time": "2023-02-04T18:50:32.038Z"
   },
   {
    "duration": 10,
    "start_time": "2023-02-04T18:51:10.946Z"
   },
   {
    "duration": 820,
    "start_time": "2023-02-04T18:51:10.966Z"
   },
   {
    "duration": 5,
    "start_time": "2023-02-04T18:51:11.807Z"
   },
   {
    "duration": 352,
    "start_time": "2023-02-04T18:51:11.816Z"
   },
   {
    "duration": 6,
    "start_time": "2023-02-04T18:51:12.171Z"
   },
   {
    "duration": 422,
    "start_time": "2023-02-04T18:51:12.180Z"
   },
   {
    "duration": 12,
    "start_time": "2023-02-04T18:51:12.609Z"
   },
   {
    "duration": 255,
    "start_time": "2023-02-04T18:51:12.628Z"
   },
   {
    "duration": 5,
    "start_time": "2023-02-04T18:51:12.888Z"
   },
   {
    "duration": 6885,
    "start_time": "2023-02-05T12:43:34.021Z"
   },
   {
    "duration": 1232,
    "start_time": "2023-02-05T12:43:40.909Z"
   },
   {
    "duration": 79,
    "start_time": "2023-02-05T12:43:42.142Z"
   },
   {
    "duration": 16,
    "start_time": "2023-02-05T12:43:42.223Z"
   },
   {
    "duration": 22,
    "start_time": "2023-02-05T12:43:42.242Z"
   },
   {
    "duration": 8,
    "start_time": "2023-02-05T12:43:42.266Z"
   },
   {
    "duration": 4,
    "start_time": "2023-02-05T12:43:42.275Z"
   },
   {
    "duration": 17,
    "start_time": "2023-02-05T12:43:42.280Z"
   },
   {
    "duration": 26,
    "start_time": "2023-02-05T12:43:42.299Z"
   },
   {
    "duration": 24,
    "start_time": "2023-02-05T12:43:42.327Z"
   },
   {
    "duration": 25,
    "start_time": "2023-02-05T12:43:42.353Z"
   },
   {
    "duration": 5,
    "start_time": "2023-02-05T12:43:42.379Z"
   },
   {
    "duration": 4,
    "start_time": "2023-02-05T12:43:42.386Z"
   },
   {
    "duration": 69,
    "start_time": "2023-02-05T12:43:42.394Z"
   },
   {
    "duration": 6,
    "start_time": "2023-02-05T12:43:42.464Z"
   },
   {
    "duration": 9,
    "start_time": "2023-02-05T12:43:42.472Z"
   },
   {
    "duration": 5,
    "start_time": "2023-02-05T12:43:42.483Z"
   },
   {
    "duration": 156,
    "start_time": "2023-02-05T12:43:42.489Z"
   },
   {
    "duration": 756,
    "start_time": "2023-02-05T12:43:42.646Z"
   },
   {
    "duration": 134,
    "start_time": "2023-02-05T12:43:43.403Z"
   },
   {
    "duration": 193,
    "start_time": "2023-02-05T12:43:43.539Z"
   },
   {
    "duration": 319,
    "start_time": "2023-02-05T12:43:43.734Z"
   },
   {
    "duration": 8,
    "start_time": "2023-02-05T12:43:44.055Z"
   },
   {
    "duration": 19178,
    "start_time": "2023-02-05T12:43:44.064Z"
   },
   {
    "duration": 83,
    "start_time": "2023-02-05T12:44:03.244Z"
   },
   {
    "duration": 47899,
    "start_time": "2023-02-05T12:44:03.330Z"
   },
   {
    "duration": 3,
    "start_time": "2023-02-05T12:44:51.231Z"
   },
   {
    "duration": 11,
    "start_time": "2023-02-05T12:44:51.236Z"
   },
   {
    "duration": 15,
    "start_time": "2023-02-05T12:44:51.248Z"
   },
   {
    "duration": 33,
    "start_time": "2023-02-05T12:44:51.265Z"
   },
   {
    "duration": 207,
    "start_time": "2023-02-05T12:44:51.299Z"
   },
   {
    "duration": 195,
    "start_time": "2023-02-05T12:44:51.508Z"
   },
   {
    "duration": 5,
    "start_time": "2023-02-05T12:44:51.705Z"
   },
   {
    "duration": 18,
    "start_time": "2023-02-05T12:44:51.712Z"
   },
   {
    "duration": 4,
    "start_time": "2023-02-05T12:44:51.732Z"
   },
   {
    "duration": 760,
    "start_time": "2023-02-05T12:44:51.737Z"
   },
   {
    "duration": 215,
    "start_time": "2023-02-05T12:44:52.498Z"
   },
   {
    "duration": 213,
    "start_time": "2023-02-05T12:44:52.715Z"
   },
   {
    "duration": 11,
    "start_time": "2023-02-05T12:44:52.930Z"
   },
   {
    "duration": 11,
    "start_time": "2023-02-05T12:44:52.943Z"
   },
   {
    "duration": 45293,
    "start_time": "2023-02-05T12:44:52.958Z"
   },
   {
    "duration": 3,
    "start_time": "2023-02-05T12:45:38.253Z"
   },
   {
    "duration": 81,
    "start_time": "2023-02-05T12:45:38.257Z"
   },
   {
    "duration": 505,
    "start_time": "2023-02-05T12:45:38.339Z"
   },
   {
    "duration": 193,
    "start_time": "2023-02-05T12:45:38.845Z"
   },
   {
    "duration": 12,
    "start_time": "2023-02-05T12:45:39.040Z"
   },
   {
    "duration": 17,
    "start_time": "2023-02-05T12:45:39.054Z"
   },
   {
    "duration": 6,
    "start_time": "2023-02-05T12:45:39.072Z"
   },
   {
    "duration": 10,
    "start_time": "2023-02-05T12:45:39.081Z"
   },
   {
    "duration": 45,
    "start_time": "2023-02-05T12:45:39.093Z"
   },
   {
    "duration": 3177,
    "start_time": "2023-02-05T12:45:39.140Z"
   },
   {
    "duration": 3,
    "start_time": "2023-02-05T12:45:42.319Z"
   },
   {
    "duration": 774,
    "start_time": "2023-02-05T12:45:42.326Z"
   },
   {
    "duration": 46038,
    "start_time": "2023-02-05T12:45:43.102Z"
   },
   {
    "duration": 3,
    "start_time": "2023-02-05T12:46:29.142Z"
   },
   {
    "duration": 695,
    "start_time": "2023-02-05T12:46:29.147Z"
   },
   {
    "duration": 11,
    "start_time": "2023-02-05T12:46:29.930Z"
   },
   {
    "duration": 4,
    "start_time": "2023-02-05T12:46:29.943Z"
   },
   {
    "duration": 5,
    "start_time": "2023-02-05T12:46:29.948Z"
   },
   {
    "duration": 35,
    "start_time": "2023-02-05T12:46:29.954Z"
   },
   {
    "duration": 4903,
    "start_time": "2023-02-05T12:46:30.028Z"
   },
   {
    "duration": 3,
    "start_time": "2023-02-05T12:46:34.933Z"
   },
   {
    "duration": 78537,
    "start_time": "2023-02-05T12:46:34.937Z"
   },
   {
    "duration": 3,
    "start_time": "2023-02-05T12:47:53.477Z"
   },
   {
    "duration": 972,
    "start_time": "2023-02-05T12:47:53.482Z"
   },
   {
    "duration": 100,
    "start_time": "2023-02-05T12:47:54.536Z"
   },
   {
    "duration": 14,
    "start_time": "2023-02-05T12:47:54.642Z"
   },
   {
    "duration": 7,
    "start_time": "2023-02-05T12:47:54.658Z"
   },
   {
    "duration": 17,
    "start_time": "2023-02-05T12:47:54.667Z"
   },
   {
    "duration": 1635,
    "start_time": "2023-02-05T12:47:54.685Z"
   },
   {
    "duration": 5,
    "start_time": "2023-02-05T12:47:56.322Z"
   },
   {
    "duration": 33606,
    "start_time": "2023-02-05T12:47:56.328Z"
   },
   {
    "duration": 4,
    "start_time": "2023-02-05T12:48:29.941Z"
   },
   {
    "duration": 1102,
    "start_time": "2023-02-05T12:48:29.946Z"
   },
   {
    "duration": 6,
    "start_time": "2023-02-05T12:48:31.127Z"
   },
   {
    "duration": 254,
    "start_time": "2023-02-05T12:48:31.135Z"
   },
   {
    "duration": 3,
    "start_time": "2023-02-05T12:48:31.391Z"
   },
   {
    "duration": 225,
    "start_time": "2023-02-05T12:48:31.396Z"
   },
   {
    "duration": 18,
    "start_time": "2023-02-05T12:48:31.623Z"
   },
   {
    "duration": 198,
    "start_time": "2023-02-05T12:48:31.647Z"
   },
   {
    "duration": 4,
    "start_time": "2023-02-05T12:48:31.847Z"
   }
  ],
  "kernelspec": {
   "display_name": "Python 3 (ipykernel)",
   "language": "python",
   "name": "python3"
  },
  "language_info": {
   "codemirror_mode": {
    "name": "ipython",
    "version": 3
   },
   "file_extension": ".py",
   "mimetype": "text/x-python",
   "name": "python",
   "nbconvert_exporter": "python",
   "pygments_lexer": "ipython3",
   "version": "3.9.13"
  },
  "toc": {
   "base_numbering": 1,
   "nav_menu": {},
   "number_sections": true,
   "sideBar": true,
   "skip_h1_title": true,
   "title_cell": "Содержание",
   "title_sidebar": "Contents",
   "toc_cell": true,
   "toc_position": {
    "height": "calc(100% - 180px)",
    "left": "10px",
    "top": "150px",
    "width": "174.391px"
   },
   "toc_section_display": true,
   "toc_window_display": true
  }
 },
 "nbformat": 4,
 "nbformat_minor": 2
}
