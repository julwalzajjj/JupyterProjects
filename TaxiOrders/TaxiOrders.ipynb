{
 "cells": [
  {
   "cell_type": "markdown",
   "metadata": {},
   "source": [
    "#  Прогнозирование заказов такси"
   ]
  },
  {
   "cell_type": "markdown",
   "metadata": {},
   "source": [
    "Входные данные: исторические данные о заказах такси в аэропортах\n",
    "\n",
    "Цель работы: <br>\n",
    "Построить модель для прогнозирования количества заказов на следующий час. Значение метрики *RMSE* на тестовой выборке должно быть не больше 48.\n"
   ]
  },
  {
   "cell_type": "markdown",
   "metadata": {
    "toc": true
   },
   "source": [
    "<h1>Содержание<span class=\"tocSkip\"></span></h1>\n",
    "<div class=\"toc\"><ul class=\"toc-item\"><li><span><a href=\"#Подготовка\" data-toc-modified-id=\"Подготовка-1\"><span class=\"toc-item-num\">1&nbsp;&nbsp;</span>Подготовка</a></span></li><li><span><a href=\"#Анализ\" data-toc-modified-id=\"Анализ-2\"><span class=\"toc-item-num\">2&nbsp;&nbsp;</span>Анализ</a></span></li><li><span><a href=\"#Обучение\" data-toc-modified-id=\"Обучение-3\"><span class=\"toc-item-num\">3&nbsp;&nbsp;</span>Обучение</a></span><ul class=\"toc-item\"><li><span><a href=\"#Линейная-регрессия-и-catboost\" data-toc-modified-id=\"Линейная-регрессия-и-catboost-3.1\"><span class=\"toc-item-num\">3.1&nbsp;&nbsp;</span>Линейная регрессия и catboost</a></span></li><li><span><a href=\"#Случайный-лес\" data-toc-modified-id=\"Случайный-лес-3.2\"><span class=\"toc-item-num\">3.2&nbsp;&nbsp;</span>Случайный лес</a></span></li></ul></li><li><span><a href=\"#Тестирование\" data-toc-modified-id=\"Тестирование-4\"><span class=\"toc-item-num\">4&nbsp;&nbsp;</span>Тестирование</a></span></li></ul></div>"
   ]
  },
  {
   "cell_type": "code",
   "execution_count": 1,
   "metadata": {},
   "outputs": [],
   "source": [
    "import os\n",
    "import pandas as pd\n",
    "from statsmodels.tsa.seasonal import seasonal_decompose\n",
    "import matplotlib.pyplot as plt\n",
    "import seaborn as sns\n",
    "import numpy as np \n",
    "\n",
    "from datetime import datetime as dt\n",
    "\n",
    "from catboost import CatBoostRegressor\n",
    "from sklearn.ensemble import RandomForestRegressor\n",
    "from sklearn.model_selection import train_test_split\n",
    "from sklearn.linear_model import LinearRegression\n",
    "from sklearn.metrics import mean_squared_error\n",
    "\n",
    "from statsmodels.tsa.stattools import adfuller\n",
    "from statsmodels.graphics.tsaplots import plot_pacf\n",
    "\n",
    "plt.style.use('seaborn')"
   ]
  },
  {
   "cell_type": "markdown",
   "metadata": {},
   "source": [
    "## Подготовка"
   ]
  },
  {
   "cell_type": "code",
   "execution_count": 2,
   "metadata": {},
   "outputs": [],
   "source": [
    "if os.path.exists('taxi.csv'):\n",
    "    data = pd.read_csv('taxi.csv', index_col=[0], parse_dates=[0])\n",
    "elif os.path.exists('/datasets/taxi.csv'):\n",
    "    data = pd.read_csv('/datasets/taxi.csv', index_col=[0], parse_dates=[0])\n",
    "else:\n",
    "    print(\"Проверьте правильность пути к датасету autos.csv\")"
   ]
  },
  {
   "cell_type": "code",
   "execution_count": 3,
   "metadata": {},
   "outputs": [
    {
     "data": {
      "text/html": [
       "<div>\n",
       "<style scoped>\n",
       "    .dataframe tbody tr th:only-of-type {\n",
       "        vertical-align: middle;\n",
       "    }\n",
       "\n",
       "    .dataframe tbody tr th {\n",
       "        vertical-align: top;\n",
       "    }\n",
       "\n",
       "    .dataframe thead th {\n",
       "        text-align: right;\n",
       "    }\n",
       "</style>\n",
       "<table border=\"1\" class=\"dataframe\">\n",
       "  <thead>\n",
       "    <tr style=\"text-align: right;\">\n",
       "      <th></th>\n",
       "      <th>num_orders</th>\n",
       "    </tr>\n",
       "    <tr>\n",
       "      <th>datetime</th>\n",
       "      <th></th>\n",
       "    </tr>\n",
       "  </thead>\n",
       "  <tbody>\n",
       "    <tr>\n",
       "      <th>2018-03-01 00:00:00</th>\n",
       "      <td>9</td>\n",
       "    </tr>\n",
       "    <tr>\n",
       "      <th>2018-03-01 00:10:00</th>\n",
       "      <td>14</td>\n",
       "    </tr>\n",
       "    <tr>\n",
       "      <th>2018-03-01 00:20:00</th>\n",
       "      <td>28</td>\n",
       "    </tr>\n",
       "    <tr>\n",
       "      <th>2018-03-01 00:30:00</th>\n",
       "      <td>20</td>\n",
       "    </tr>\n",
       "    <tr>\n",
       "      <th>2018-03-01 00:40:00</th>\n",
       "      <td>32</td>\n",
       "    </tr>\n",
       "  </tbody>\n",
       "</table>\n",
       "</div>"
      ],
      "text/plain": [
       "                     num_orders\n",
       "datetime                       \n",
       "2018-03-01 00:00:00           9\n",
       "2018-03-01 00:10:00          14\n",
       "2018-03-01 00:20:00          28\n",
       "2018-03-01 00:30:00          20\n",
       "2018-03-01 00:40:00          32"
      ]
     },
     "execution_count": 3,
     "metadata": {},
     "output_type": "execute_result"
    }
   ],
   "source": [
    "data.head()"
   ]
  },
  {
   "cell_type": "markdown",
   "metadata": {},
   "source": [
    "Выполнить ресемлирование по одному часу, сложив количество заказов."
   ]
  },
  {
   "cell_type": "code",
   "execution_count": 4,
   "metadata": {},
   "outputs": [],
   "source": [
    "data = data.resample('1H').sum()"
   ]
  },
  {
   "cell_type": "code",
   "execution_count": 5,
   "metadata": {},
   "outputs": [
    {
     "name": "stdout",
     "output_type": "stream",
     "text": [
      "Данные монотонны\n"
     ]
    }
   ],
   "source": [
    "print('Данные монотонны' if data.index.is_monotonic else 'Данные не монотонны')"
   ]
  },
  {
   "cell_type": "markdown",
   "metadata": {},
   "source": [
    "## Анализ"
   ]
  },
  {
   "cell_type": "markdown",
   "metadata": {},
   "source": [
    "Для начала проведем базовый анализ данных:"
   ]
  },
  {
   "cell_type": "code",
   "execution_count": 6,
   "metadata": {},
   "outputs": [
    {
     "name": "stdout",
     "output_type": "stream",
     "text": [
      "<class 'pandas.core.frame.DataFrame'>\n",
      "DatetimeIndex: 4416 entries, 2018-03-01 00:00:00 to 2018-08-31 23:00:00\n",
      "Freq: H\n",
      "Data columns (total 1 columns):\n",
      " #   Column      Non-Null Count  Dtype\n",
      "---  ------      --------------  -----\n",
      " 0   num_orders  4416 non-null   int64\n",
      "dtypes: int64(1)\n",
      "memory usage: 69.0 KB\n"
     ]
    }
   ],
   "source": [
    "data.info()"
   ]
  },
  {
   "cell_type": "markdown",
   "metadata": {},
   "source": [
    "Тип количества заказов - `int`, проверим данные на наличие пропусков:"
   ]
  },
  {
   "cell_type": "code",
   "execution_count": 7,
   "metadata": {},
   "outputs": [
    {
     "data": {
      "text/plain": [
       "0"
      ]
     },
     "execution_count": 7,
     "metadata": {},
     "output_type": "execute_result"
    }
   ],
   "source": [
    "data.isna().sum().sum()"
   ]
  },
  {
   "cell_type": "markdown",
   "metadata": {},
   "source": [
    "Пропусков нет, данные монотонны, поэтому логично предположить, что дубликатов нет."
   ]
  },
  {
   "cell_type": "markdown",
   "metadata": {},
   "source": [
    "Рассмотрим распределение количества продаж:"
   ]
  },
  {
   "cell_type": "code",
   "execution_count": 8,
   "metadata": {},
   "outputs": [
    {
     "data": {
      "image/png": "[encoded data removed]",
      "text/plain": [
       "<Figure size 360x360 with 1 Axes>"
      ]
     },
     "metadata": {},
     "output_type": "display_data"
    }
   ],
   "source": [
    "sns.displot(data, kind='hist', legend=False, kde=True, alpha=.1)\n",
    "plt.xlabel('Число заказов')\n",
    "plt.ylabel('Количество')\n",
    "plt.title('Распределение числа заказов')\n",
    "plt.show()"
   ]
  },
  {
   "cell_type": "markdown",
   "metadata": {},
   "source": [
    "Распределение имеет сдвинутый влево нормальный характер с хвостом справа."
   ]
  },
  {
   "cell_type": "markdown",
   "metadata": {},
   "source": [
    "Рассмотрим тренд и сезонность временного ряда:"
   ]
  },
  {
   "cell_type": "code",
   "execution_count": 9,
   "metadata": {},
   "outputs": [],
   "source": [
    "decomposed = seasonal_decompose(data.resample('1D').sum())"
   ]
  },
  {
   "cell_type": "markdown",
   "metadata": {},
   "source": [
    "Рассмотрим сезонную составляющую."
   ]
  },
  {
   "cell_type": "markdown",
   "metadata": {},
   "source": [
    "Будем рассматривать один месяц для выявления сезонности. "
   ]
  },
  {
   "cell_type": "code",
   "execution_count": 10,
   "metadata": {},
   "outputs": [
    {
     "data": {
      "image/png": "[encoded data removed]",
      "text/plain": [
       "<Figure size 576x396 with 1 Axes>"
      ]
     },
     "metadata": {},
     "output_type": "display_data"
    }
   ],
   "source": [
    "decomposed.seasonal['2018-03-01':'2018-03-31'].plot()\n",
    "plt.title('Сезонность временного ряда')\n",
    "plt.xlabel('Дата')\n",
    "plt.show()"
   ]
  },
  {
   "cell_type": "markdown",
   "metadata": {},
   "source": [
    "Из графика видно, что наблюдается сезонность в **6 дней**."
   ]
  },
  {
   "cell_type": "markdown",
   "metadata": {},
   "source": [
    "Рассмотрим тренд временного ряда."
   ]
  },
  {
   "cell_type": "code",
   "execution_count": 11,
   "metadata": {},
   "outputs": [
    {
     "data": {
      "image/png": "[encoded data removed]",
      "text/plain": [
       "<Figure size 576x396 with 1 Axes>"
      ]
     },
     "metadata": {},
     "output_type": "display_data"
    }
   ],
   "source": [
    "decomposed.trend.rolling(7).sum().plot()\n",
    "plt.title('Тренд временного ряда')\n",
    "plt.xlabel('Дата')\n",
    "plt.ylabel('Число заказов')\n",
    "plt.show()"
   ]
  },
  {
   "cell_type": "markdown",
   "metadata": {},
   "source": [
    "Видно, что число заказов имеют положительный тренд."
   ]
  },
  {
   "cell_type": "markdown",
   "metadata": {},
   "source": [
    "Также поизведем анализ остатков:"
   ]
  },
  {
   "cell_type": "code",
   "execution_count": 12,
   "metadata": {},
   "outputs": [
    {
     "data": {
      "image/png": "[encoded data removed]",
      "text/plain": [
       "<Figure size 576x396 with 1 Axes>"
      ]
     },
     "metadata": {},
     "output_type": "display_data"
    }
   ],
   "source": [
    "decomposed.resid.plot()\n",
    "plt.title('Остатки временного ряда')\n",
    "plt.xlabel('Дата')\n",
    "plt.ylabel('Число заказов')\n",
    "plt.show()"
   ]
  },
  {
   "cell_type": "markdown",
   "metadata": {},
   "source": [
    "Периодичности и какой-либо систематики не наблюдается, поэтому можно сделать вывод о том, что ряд адекватен."
   ]
  },
  {
   "cell_type": "markdown",
   "metadata": {},
   "source": [
    "Рассмотрим график временного ряда и проверим его на стационарность:"
   ]
  },
  {
   "cell_type": "code",
   "execution_count": 13,
   "metadata": {},
   "outputs": [
    {
     "data": {
      "image/png": "[encoded data removed]",
      "text/plain": [
       "<Figure size 576x396 with 1 Axes>"
      ]
     },
     "metadata": {},
     "output_type": "display_data"
    }
   ],
   "source": [
    "data['mean'] = data['num_orders'].rolling(15).mean()\n",
    "data['std'] = data['num_orders'].rolling(15).std()\n",
    "data.rolling(7).mean().plot()\n",
    "plt.legend(['Число заказов','Среднее','Среднеквадратическое отклонение'])\n",
    "plt.xlabel('Дата')\n",
    "plt.title('Параметры временного ряда')\n",
    "plt.show()"
   ]
  },
  {
   "cell_type": "markdown",
   "metadata": {},
   "source": [
    "Видно, что среднее значение изменяется, поэтому можно судить о нестационарности ряда."
   ]
  },
  {
   "cell_type": "markdown",
   "metadata": {},
   "source": [
    "Также для проверки стационарности проведем **дополненный тест Дики-Фуллера**\n",
    "\n",
    "**Нулевая гипотеза H0:** временной ряд может быть представлен единичным корнем, что он не является стационарным (имеет некоторую зависящую от времени структуру). \n",
    "\n",
    "**Альтернативная гипотеза H1:** временной ряд является стационарным.\n",
    "\n",
    "Выберем p-значение в 1% для более точной проверки."
   ]
  },
  {
   "cell_type": "code",
   "execution_count": 14,
   "metadata": {},
   "outputs": [
    {
     "name": "stdout",
     "output_type": "stream",
     "text": [
      "p-value: 0.028940051402612906\n",
      "Нулевая гипотеза не отклонена. Ряд не стационарен\n"
     ]
    }
   ],
   "source": [
    "result = adfuller(data['num_orders'])\n",
    "print(f'p-value: {result[1]}')\n",
    "print('Нулевая гипотеза отклонена. Ряд стационарен' if result[1] < 0.01 else 'Нулевая гипотеза не отклонена. Ряд не стационарен')"
   ]
  },
  {
   "cell_type": "markdown",
   "metadata": {},
   "source": [
    "И наглядно, и по тесту ряд не является стационарным, найдем его первые разности для того, чтобы привести к стационарному:"
   ]
  },
  {
   "cell_type": "code",
   "execution_count": 15,
   "metadata": {},
   "outputs": [],
   "source": [
    "data.drop(['mean', 'std'], axis=1, inplace=True)"
   ]
  },
  {
   "cell_type": "code",
   "execution_count": 16,
   "metadata": {},
   "outputs": [],
   "source": [
    "data_shift = data.shift()"
   ]
  },
  {
   "cell_type": "code",
   "execution_count": 17,
   "metadata": {},
   "outputs": [
    {
     "data": {
      "image/png": "[encoded data removed]",
      "text/plain": [
       "<Figure size 576x396 with 1 Axes>"
      ]
     },
     "metadata": {},
     "output_type": "display_data"
    }
   ],
   "source": [
    "data -= data.shift()\n",
    "data['mean'] = data['num_orders'].rolling(15).mean()\n",
    "data['std'] = data['num_orders'].rolling(15).std()\n",
    "data.rolling(7).mean().plot()\n",
    "plt.legend(['Число заказов','Среднее','Среднеквадратическое отклонение'])\n",
    "plt.xlabel('Дата')\n",
    "plt.title('Параметры первых разностей временного ряда')\n",
    "plt.show()"
   ]
  },
  {
   "cell_type": "markdown",
   "metadata": {},
   "source": [
    "Удалим пропуски из ряда:"
   ]
  },
  {
   "cell_type": "code",
   "execution_count": 18,
   "metadata": {},
   "outputs": [],
   "source": [
    "data.dropna(inplace=True)"
   ]
  },
  {
   "cell_type": "markdown",
   "metadata": {},
   "source": [
    "Снова проведем **дополненный тест Дики-Фуллера**:"
   ]
  },
  {
   "cell_type": "code",
   "execution_count": 19,
   "metadata": {},
   "outputs": [
    {
     "name": "stdout",
     "output_type": "stream",
     "text": [
      "p-value: 1.0615658458313687e-28\n",
      "Нулевая гипотеза отергнута. Ряд стационарен\n"
     ]
    }
   ],
   "source": [
    "result = adfuller(data['num_orders'])\n",
    "print(f'p-value: {result[1]}')\n",
    "print('Нулевая гипотеза отергнута. Ряд стационарен' if result[1] < 0.01 else 'Нулева гипотеза не отклонена. Ряд не стационарен')"
   ]
  },
  {
   "cell_type": "markdown",
   "metadata": {},
   "source": [
    "Получившийся ряд стационарен."
   ]
  },
  {
   "cell_type": "code",
   "execution_count": 20,
   "metadata": {},
   "outputs": [],
   "source": [
    "data.drop(['mean', 'std'], axis=1, inplace=True)"
   ]
  },
  {
   "cell_type": "markdown",
   "metadata": {},
   "source": [
    "Рассмотрим длительность временного ряда:"
   ]
  },
  {
   "cell_type": "code",
   "execution_count": 21,
   "metadata": {},
   "outputs": [
    {
     "name": "stdout",
     "output_type": "stream",
     "text": [
      "Начало временного ряда 2018-03-01 15:00:00\n",
      "Конец временного ряда 2018-08-31 23:00:00\n"
     ]
    }
   ],
   "source": [
    "print(f'Начало временного ряда {data.index.min()}')\n",
    "print(f'Конец временного ряда {data.index.max()}')"
   ]
  },
  {
   "cell_type": "markdown",
   "metadata": {},
   "source": [
    "Длительность ряда - в течении 8-ми месяцев 2018 года."
   ]
  },
  {
   "cell_type": "markdown",
   "metadata": {},
   "source": [
    "## Обучение"
   ]
  },
  {
   "cell_type": "markdown",
   "metadata": {},
   "source": [
    "Создадим несколько функций для упрощения кода:"
   ]
  },
  {
   "cell_type": "markdown",
   "metadata": {},
   "source": [
    "Функция `make_features()` позволяет создать новые признаки для обучения модели: час, год, месяц, неделя, также разности временного ряда и скользящее среднее указанного на входе функции размера."
   ]
  },
  {
   "cell_type": "code",
   "execution_count": 22,
   "metadata": {},
   "outputs": [],
   "source": [
    "def make_features(data, max_lag, rolling_mean_size):\n",
    "    tmp = data.copy()\n",
    "    tmp['hour'] = tmp.index.hour\n",
    "    tmp['day'] = tmp.index.day\n",
    "    tmp['day_of_week'] = tmp.index.dayofweek\n",
    "    \n",
    "    for lag in range(1, max_lag + 1):\n",
    "        tmp['lag_{}'.format(lag)] = tmp['num_orders'].shift(lag)\n",
    "  \n",
    "    tmp['rolling_mean'] = tmp['num_orders'].shift().rolling(rolling_mean_size).mean()\n",
    "    return tmp"
   ]
  },
  {
   "cell_type": "markdown",
   "metadata": {},
   "source": [
    "Функция `predictions()` для предсказаний двух моделей (пояснение далее)"
   ]
  },
  {
   "cell_type": "code",
   "execution_count": 23,
   "metadata": {},
   "outputs": [],
   "source": [
    "def predictions(test_features, model_1, model_2):\n",
    "    pred_1 = model_1.predict(test_features) + model_2.predict(test_features)\n",
    "    return pred_1"
   ]
  },
  {
   "cell_type": "markdown",
   "metadata": {},
   "source": [
    "Функция для вычисления RMSE:"
   ]
  },
  {
   "cell_type": "code",
   "execution_count": 24,
   "metadata": {},
   "outputs": [],
   "source": [
    "def RMSE(target, prediction):\n",
    "    return np.sqrt(mean_squared_error(target, prediction))"
   ]
  },
  {
   "cell_type": "markdown",
   "metadata": {},
   "source": [
    "Добавим признаки во временной ряд для прогноза:"
   ]
  },
  {
   "cell_type": "code",
   "execution_count": 25,
   "metadata": {},
   "outputs": [],
   "source": [
    "data_features = make_features(data, 24, 7)"
   ]
  },
  {
   "cell_type": "markdown",
   "metadata": {},
   "source": [
    "Получили следующие признаки:"
   ]
  },
  {
   "cell_type": "code",
   "execution_count": 26,
   "metadata": {},
   "outputs": [
    {
     "data": {
      "text/html": [
       "<div>\n",
       "<style scoped>\n",
       "    .dataframe tbody tr th:only-of-type {\n",
       "        vertical-align: middle;\n",
       "    }\n",
       "\n",
       "    .dataframe tbody tr th {\n",
       "        vertical-align: top;\n",
       "    }\n",
       "\n",
       "    .dataframe thead th {\n",
       "        text-align: right;\n",
       "    }\n",
       "</style>\n",
       "<table border=\"1\" class=\"dataframe\">\n",
       "  <thead>\n",
       "    <tr style=\"text-align: right;\">\n",
       "      <th></th>\n",
       "      <th>num_orders</th>\n",
       "      <th>hour</th>\n",
       "      <th>day</th>\n",
       "      <th>day_of_week</th>\n",
       "      <th>lag_1</th>\n",
       "      <th>lag_2</th>\n",
       "      <th>lag_3</th>\n",
       "      <th>lag_4</th>\n",
       "      <th>lag_5</th>\n",
       "      <th>lag_6</th>\n",
       "      <th>...</th>\n",
       "      <th>lag_16</th>\n",
       "      <th>lag_17</th>\n",
       "      <th>lag_18</th>\n",
       "      <th>lag_19</th>\n",
       "      <th>lag_20</th>\n",
       "      <th>lag_21</th>\n",
       "      <th>lag_22</th>\n",
       "      <th>lag_23</th>\n",
       "      <th>lag_24</th>\n",
       "      <th>rolling_mean</th>\n",
       "    </tr>\n",
       "    <tr>\n",
       "      <th>datetime</th>\n",
       "      <th></th>\n",
       "      <th></th>\n",
       "      <th></th>\n",
       "      <th></th>\n",
       "      <th></th>\n",
       "      <th></th>\n",
       "      <th></th>\n",
       "      <th></th>\n",
       "      <th></th>\n",
       "      <th></th>\n",
       "      <th></th>\n",
       "      <th></th>\n",
       "      <th></th>\n",
       "      <th></th>\n",
       "      <th></th>\n",
       "      <th></th>\n",
       "      <th></th>\n",
       "      <th></th>\n",
       "      <th></th>\n",
       "      <th></th>\n",
       "      <th></th>\n",
       "    </tr>\n",
       "  </thead>\n",
       "  <tbody>\n",
       "    <tr>\n",
       "      <th>2018-03-01 15:00:00</th>\n",
       "      <td>18.0</td>\n",
       "      <td>15</td>\n",
       "      <td>1</td>\n",
       "      <td>3</td>\n",
       "      <td>NaN</td>\n",
       "      <td>NaN</td>\n",
       "      <td>NaN</td>\n",
       "      <td>NaN</td>\n",
       "      <td>NaN</td>\n",
       "      <td>NaN</td>\n",
       "      <td>...</td>\n",
       "      <td>NaN</td>\n",
       "      <td>NaN</td>\n",
       "      <td>NaN</td>\n",
       "      <td>NaN</td>\n",
       "      <td>NaN</td>\n",
       "      <td>NaN</td>\n",
       "      <td>NaN</td>\n",
       "      <td>NaN</td>\n",
       "      <td>NaN</td>\n",
       "      <td>NaN</td>\n",
       "    </tr>\n",
       "    <tr>\n",
       "      <th>2018-03-01 16:00:00</th>\n",
       "      <td>-23.0</td>\n",
       "      <td>16</td>\n",
       "      <td>1</td>\n",
       "      <td>3</td>\n",
       "      <td>18.0</td>\n",
       "      <td>NaN</td>\n",
       "      <td>NaN</td>\n",
       "      <td>NaN</td>\n",
       "      <td>NaN</td>\n",
       "      <td>NaN</td>\n",
       "      <td>...</td>\n",
       "      <td>NaN</td>\n",
       "      <td>NaN</td>\n",
       "      <td>NaN</td>\n",
       "      <td>NaN</td>\n",
       "      <td>NaN</td>\n",
       "      <td>NaN</td>\n",
       "      <td>NaN</td>\n",
       "      <td>NaN</td>\n",
       "      <td>NaN</td>\n",
       "      <td>NaN</td>\n",
       "    </tr>\n",
       "    <tr>\n",
       "      <th>2018-03-01 17:00:00</th>\n",
       "      <td>1.0</td>\n",
       "      <td>17</td>\n",
       "      <td>1</td>\n",
       "      <td>3</td>\n",
       "      <td>-23.0</td>\n",
       "      <td>18.0</td>\n",
       "      <td>NaN</td>\n",
       "      <td>NaN</td>\n",
       "      <td>NaN</td>\n",
       "      <td>NaN</td>\n",
       "      <td>...</td>\n",
       "      <td>NaN</td>\n",
       "      <td>NaN</td>\n",
       "      <td>NaN</td>\n",
       "      <td>NaN</td>\n",
       "      <td>NaN</td>\n",
       "      <td>NaN</td>\n",
       "      <td>NaN</td>\n",
       "      <td>NaN</td>\n",
       "      <td>NaN</td>\n",
       "      <td>NaN</td>\n",
       "    </tr>\n",
       "    <tr>\n",
       "      <th>2018-03-01 18:00:00</th>\n",
       "      <td>29.0</td>\n",
       "      <td>18</td>\n",
       "      <td>1</td>\n",
       "      <td>3</td>\n",
       "      <td>1.0</td>\n",
       "      <td>-23.0</td>\n",
       "      <td>18.0</td>\n",
       "      <td>NaN</td>\n",
       "      <td>NaN</td>\n",
       "      <td>NaN</td>\n",
       "      <td>...</td>\n",
       "      <td>NaN</td>\n",
       "      <td>NaN</td>\n",
       "      <td>NaN</td>\n",
       "      <td>NaN</td>\n",
       "      <td>NaN</td>\n",
       "      <td>NaN</td>\n",
       "      <td>NaN</td>\n",
       "      <td>NaN</td>\n",
       "      <td>NaN</td>\n",
       "      <td>NaN</td>\n",
       "    </tr>\n",
       "    <tr>\n",
       "      <th>2018-03-01 19:00:00</th>\n",
       "      <td>-28.0</td>\n",
       "      <td>19</td>\n",
       "      <td>1</td>\n",
       "      <td>3</td>\n",
       "      <td>29.0</td>\n",
       "      <td>1.0</td>\n",
       "      <td>-23.0</td>\n",
       "      <td>18.0</td>\n",
       "      <td>NaN</td>\n",
       "      <td>NaN</td>\n",
       "      <td>...</td>\n",
       "      <td>NaN</td>\n",
       "      <td>NaN</td>\n",
       "      <td>NaN</td>\n",
       "      <td>NaN</td>\n",
       "      <td>NaN</td>\n",
       "      <td>NaN</td>\n",
       "      <td>NaN</td>\n",
       "      <td>NaN</td>\n",
       "      <td>NaN</td>\n",
       "      <td>NaN</td>\n",
       "    </tr>\n",
       "  </tbody>\n",
       "</table>\n",
       "<p>5 rows × 29 columns</p>\n",
       "</div>"
      ],
      "text/plain": [
       "                     num_orders  hour  day  day_of_week  lag_1  lag_2  lag_3  \\\n",
       "datetime                                                                       \n",
       "2018-03-01 15:00:00        18.0    15    1            3    NaN    NaN    NaN   \n",
       "2018-03-01 16:00:00       -23.0    16    1            3   18.0    NaN    NaN   \n",
       "2018-03-01 17:00:00         1.0    17    1            3  -23.0   18.0    NaN   \n",
       "2018-03-01 18:00:00        29.0    18    1            3    1.0  -23.0   18.0   \n",
       "2018-03-01 19:00:00       -28.0    19    1            3   29.0    1.0  -23.0   \n",
       "\n",
       "                     lag_4  lag_5  lag_6  ...  lag_16  lag_17  lag_18  lag_19  \\\n",
       "datetime                                  ...                                   \n",
       "2018-03-01 15:00:00    NaN    NaN    NaN  ...     NaN     NaN     NaN     NaN   \n",
       "2018-03-01 16:00:00    NaN    NaN    NaN  ...     NaN     NaN     NaN     NaN   \n",
       "2018-03-01 17:00:00    NaN    NaN    NaN  ...     NaN     NaN     NaN     NaN   \n",
       "2018-03-01 18:00:00    NaN    NaN    NaN  ...     NaN     NaN     NaN     NaN   \n",
       "2018-03-01 19:00:00   18.0    NaN    NaN  ...     NaN     NaN     NaN     NaN   \n",
       "\n",
       "                     lag_20  lag_21  lag_22  lag_23  lag_24  rolling_mean  \n",
       "datetime                                                                   \n",
       "2018-03-01 15:00:00     NaN     NaN     NaN     NaN     NaN           NaN  \n",
       "2018-03-01 16:00:00     NaN     NaN     NaN     NaN     NaN           NaN  \n",
       "2018-03-01 17:00:00     NaN     NaN     NaN     NaN     NaN           NaN  \n",
       "2018-03-01 18:00:00     NaN     NaN     NaN     NaN     NaN           NaN  \n",
       "2018-03-01 19:00:00     NaN     NaN     NaN     NaN     NaN           NaN  \n",
       "\n",
       "[5 rows x 29 columns]"
      ]
     },
     "execution_count": 26,
     "metadata": {},
     "output_type": "execute_result"
    }
   ],
   "source": [
    "data_features.head()"
   ]
  },
  {
   "cell_type": "code",
   "execution_count": 27,
   "metadata": {},
   "outputs": [],
   "source": [
    "data_features.dropna(inplace=True)"
   ]
  },
  {
   "cell_type": "markdown",
   "metadata": {},
   "source": [
    "Разделим данные на тренировочную и тестовую выборки:"
   ]
  },
  {
   "cell_type": "code",
   "execution_count": 28,
   "metadata": {},
   "outputs": [],
   "source": [
    "train, test = train_test_split(data_features, test_size=0.1, shuffle=False)"
   ]
  },
  {
   "cell_type": "code",
   "execution_count": 29,
   "metadata": {},
   "outputs": [
    {
     "name": "stdout",
     "output_type": "stream",
     "text": [
      "Размер тренировочной выборки :  3939\n",
      "Размер тестовой выборки :  438\n"
     ]
    }
   ],
   "source": [
    "print('Размер тренировочной выборки : ', train.shape[0])\n",
    "print('Размер тестовой выборки : ', test.shape[0])"
   ]
  },
  {
   "cell_type": "markdown",
   "metadata": {},
   "source": [
    "Выделим целевые признаки из тренирвоочной и тестовой выборок:"
   ]
  },
  {
   "cell_type": "code",
   "execution_count": 30,
   "metadata": {},
   "outputs": [],
   "source": [
    "target_train = train['num_orders']\n",
    "features_train = train.drop(['num_orders'], axis = 1)\n",
    "\n",
    "target_test = test['num_orders']\n",
    "features_test = test.drop(['num_orders'], axis = 1)"
   ]
  },
  {
   "cell_type": "markdown",
   "metadata": {},
   "source": [
    "### Линейная регрессия и catboost"
   ]
  },
  {
   "cell_type": "markdown",
   "metadata": {},
   "source": [
    "Для того, чтобы найти качественный прогноз мы воспользуемся предсказаниями двух моделей. Линейной регрессии - для выделения тренда, и градиентным бустингом catboost для предсказаний без учета общего тренда, вторая модель обучается на тестовых данных, из которых вычтены предсказания линейной регрессии.\n",
    "\n",
    "Подберем гиперпараметры для модели catboost:"
   ]
  },
  {
   "cell_type": "code",
   "execution_count": 31,
   "metadata": {},
   "outputs": [],
   "source": [
    "model_1 = LinearRegression()\n",
    "model_1.fit(features_train, target_train)\n",
    "pred_lin = model_1.predict(features_train)"
   ]
  },
  {
   "cell_type": "code",
   "execution_count": 32,
   "metadata": {},
   "outputs": [],
   "source": [
    "rmse_cb = 1_000_000\n",
    "depth_cb = 0\n",
    "num_cb = 0"
   ]
  },
  {
   "cell_type": "markdown",
   "metadata": {},
   "source": [
    "Здесь подбор гиперпараметров, он долгий, поэтому код я закомментила и ниже вывела экспериментально полученные параметры."
   ]
  },
  {
   "cell_type": "code",
   "execution_count": 33,
   "metadata": {},
   "outputs": [],
   "source": [
    "# for depth in range(9,13):\n",
    "#     for num in range(1200, 2200, 200):\n",
    "#         model_2 = CatBoostRegressor(\n",
    "#                 random_state=12345, \n",
    "#                 learning_rate=0.1,\n",
    "#                 boosting_type='Plain',\n",
    "#                 max_depth=depth,\n",
    "#                 n_estimators=num,\n",
    "#                 num_leaves=31,\n",
    "#                 verbose=False, \n",
    "#                 silent=None\n",
    "#             )\n",
    "#         model_2.fit(features_train, target_train - pred_lin)\n",
    "#         predictions_ = predictions(features_test, model_1, model_2)\n",
    "#         if RMSE(target_test, predictions_) < rmse_cb:\n",
    "#             rmse_cb = RMSE(target_test, predictions_)\n",
    "#             depth_cb = depth\n",
    "#             num_cb = num"
   ]
  },
  {
   "cell_type": "markdown",
   "metadata": {},
   "source": [
    "Получаем:"
   ]
  },
  {
   "cell_type": "code",
   "execution_count": 34,
   "metadata": {},
   "outputs": [],
   "source": [
    "if num_cb == 0 and depth_cb == 0:\n",
    "    num_cb = 2000\n",
    "    depth_cb = 10"
   ]
  },
  {
   "cell_type": "code",
   "execution_count": 35,
   "metadata": {},
   "outputs": [
    {
     "name": "stdout",
     "output_type": "stream",
     "text": [
      "1000000\n",
      "Параметры модели: \n",
      "Глубина деревьев : 10\n",
      "Кол-во деревьев : 2000\n"
     ]
    }
   ],
   "source": [
    "print(rmse_cb)\n",
    "print('Параметры модели: ')\n",
    "print(f'Глубина деревьев : {depth_cb}')\n",
    "print(f'Кол-во деревьев : {num_cb}')"
   ]
  },
  {
   "cell_type": "markdown",
   "metadata": {},
   "source": [
    "Обучим модель с полученными гиперпараметрами:"
   ]
  },
  {
   "cell_type": "code",
   "execution_count": 36,
   "metadata": {},
   "outputs": [
    {
     "data": {
      "text/plain": [
       "<catboost.core.CatBoostRegressor at 0x7fb75be4e7f0>"
      ]
     },
     "execution_count": 36,
     "metadata": {},
     "output_type": "execute_result"
    }
   ],
   "source": [
    "model_2 = CatBoostRegressor(\n",
    "            random_state=12345, \n",
    "            learning_rate=0.1,\n",
    "            boosting_type='Plain',\n",
    "            max_depth=depth_cb,\n",
    "            n_estimators=num_cb,\n",
    "            num_leaves=31,\n",
    "            verbose=False, \n",
    "            silent=None\n",
    "        )\n",
    "model_2.fit(features_train, target_train - pred_lin)"
   ]
  },
  {
   "cell_type": "markdown",
   "metadata": {},
   "source": [
    "### Случайный лес"
   ]
  },
  {
   "cell_type": "markdown",
   "metadata": {},
   "source": [
    "Рассмотрим модель случайного леса и подберем гиперпараметры:"
   ]
  },
  {
   "cell_type": "code",
   "execution_count": 37,
   "metadata": {},
   "outputs": [],
   "source": [
    "rmse_forest = 1_000_000\n",
    "depth_forest = 0\n",
    "num_forest = 0"
   ]
  },
  {
   "cell_type": "markdown",
   "metadata": {},
   "source": [
    "Код также закоменчен в сиулу долгого выполнения."
   ]
  },
  {
   "cell_type": "code",
   "execution_count": 38,
   "metadata": {},
   "outputs": [],
   "source": [
    "# rmse_forest = 1_000_000\n",
    "# for depth in range(5, 14):\n",
    "#     for n_est in range(400, 100, 200):\n",
    "#         model_forest = RandomForestRegressor(random_state=12345,\n",
    "#                                             max_depth=depth,\n",
    "#                                             n_estimators=n_est)\n",
    "#         model_forest.fit(features_train, target_train)\n",
    "#         pred_f = model_forest.predict(features_test)\n",
    "#         if RMSE(target_test, pred_f) < rmse_forest:\n",
    "#             rmse_forest = RMSE(target_test, pred_f)\n",
    "#             depth_forest = depth\n",
    "#             num_forest = n_est"
   ]
  },
  {
   "cell_type": "code",
   "execution_count": 39,
   "metadata": {},
   "outputs": [],
   "source": [
    "if num_forest == 0 and depth_forest == 0:\n",
    "    num_forest = 400\n",
    "    depth_forest = 13"
   ]
  },
  {
   "cell_type": "code",
   "execution_count": 40,
   "metadata": {},
   "outputs": [
    {
     "name": "stdout",
     "output_type": "stream",
     "text": [
      "1000000\n",
      "Поараметры модели:\n",
      "Глубина деревьев : 13\n",
      "Кол-во деревьев : 400\n"
     ]
    }
   ],
   "source": [
    "print(rmse_forest)\n",
    "print('Поараметры модели:')\n",
    "print(f'Глубина деревьев : {depth_forest}')\n",
    "print(f'Кол-во деревьев : {num_forest}')"
   ]
  },
  {
   "cell_type": "code",
   "execution_count": 41,
   "metadata": {},
   "outputs": [
    {
     "data": {
      "text/plain": [
       "RandomForestRegressor(max_depth=13, n_estimators=400, random_state=12345)"
      ]
     },
     "execution_count": 41,
     "metadata": {},
     "output_type": "execute_result"
    }
   ],
   "source": [
    "model_forest = RandomForestRegressor(random_state=12345,\n",
    "                                            max_depth=depth_forest,\n",
    "                                            n_estimators=num_forest)\n",
    "model_forest.fit(features_train, target_train)"
   ]
  },
  {
   "cell_type": "markdown",
   "metadata": {},
   "source": [
    "## Тестирование"
   ]
  },
  {
   "cell_type": "markdown",
   "metadata": {},
   "source": [
    "Константные предсказания для проверки адекватности модели:"
   ]
  },
  {
   "cell_type": "code",
   "execution_count": 42,
   "metadata": {},
   "outputs": [],
   "source": [
    "pred_const = np.ones(test.shape[0]) * target_train.median()"
   ]
  },
  {
   "cell_type": "code",
   "execution_count": 43,
   "metadata": {
    "scrolled": true
   },
   "outputs": [
    {
     "name": "stdout",
     "output_type": "stream",
     "text": [
      "RMSE константной модели : 59.00265066408566\n",
      "RMSE CatBoost :  40.62124147881992\n",
      "RMSE RandomForest  47.60923898651591\n"
     ]
    }
   ],
   "source": [
    "predictions_test_cb = predictions(features_test, model_1, model_2)\n",
    "predictions_test_forest = model_forest.predict(features_test)\n",
    "\n",
    "print('RMSE константной модели :', RMSE(target_test, pred_const))\n",
    "print('RMSE CatBoost : ', RMSE(target_test, predictions_test_cb))\n",
    "print('RMSE RandomForest ', RMSE(target_test, predictions_test_forest))"
   ]
  },
  {
   "cell_type": "markdown",
   "metadata": {},
   "source": [
    "Модели адекватны. Получили RMSE меньше 48, а именно **40** у модели CatBoost, у случайного леса эта метрика выше, соответственно, модель работает хуже. Для построения прогноза выберем модель линейной регрессии и градиентного бустинга catboost."
   ]
  },
  {
   "cell_type": "markdown",
   "metadata": {},
   "source": [
    "Создадим датафрейм с предсказаниями и соответствующими датами:"
   ]
  },
  {
   "cell_type": "code",
   "execution_count": 44,
   "metadata": {},
   "outputs": [],
   "source": [
    "pred = pd.DataFrame(predictions_test_cb, index=test.index)"
   ]
  },
  {
   "cell_type": "markdown",
   "metadata": {},
   "source": [
    "Построим прогноз."
   ]
  },
  {
   "cell_type": "code",
   "execution_count": 45,
   "metadata": {},
   "outputs": [
    {
     "data": {
      "image/png": "[encoded data removed]",
      "text/plain": [
       "<Figure size 576x396 with 1 Axes>"
      ]
     },
     "metadata": {},
     "output_type": "display_data"
    }
   ],
   "source": [
    "fig, ax = plt.subplots()\n",
    "\n",
    "ax.plot(target_train.rolling(20).sum(), 'k', alpha=0.3)\n",
    "ax.plot(target_test.rolling(20).sum(), 'b', alpha=0.2)\n",
    "ax.plot(pred.rolling(20).sum(), 'b--', alpha=0.6)\n",
    "\n",
    "\n",
    "plt.title('Количество заказов')\n",
    "plt.xlabel('Дата')\n",
    "plt.ylabel('Заказы (первые разности)')\n",
    "plt.show()"
   ]
  },
  {
   "cell_type": "markdown",
   "metadata": {},
   "source": [
    "Таким образом, мы получили значение RMSE модели равное **40**, изначальный ряд не был стационарен, поэтому вычислением первых разностей ряда мы добились его стационарности. \n",
    "\n",
    "Использовались модели линейной регрессии и градиентного бустинга CatBoost."
   ]
  }
 ],
 "metadata": {
  "ExecuteTimeLog": [
   {
    "duration": 2910,
    "start_time": "2023-04-03T19:57:11.558Z"
   },
   {
    "duration": 353,
    "start_time": "2023-04-03T19:57:14.471Z"
   },
   {
    "duration": 0,
    "start_time": "2023-04-03T19:57:14.828Z"
   },
   {
    "duration": 0,
    "start_time": "2023-04-03T19:57:14.829Z"
   },
   {
    "duration": 0,
    "start_time": "2023-04-03T19:57:14.831Z"
   },
   {
    "duration": 0,
    "start_time": "2023-04-03T19:57:14.832Z"
   },
   {
    "duration": 0,
    "start_time": "2023-04-03T19:57:14.834Z"
   },
   {
    "duration": 0,
    "start_time": "2023-04-03T19:57:14.836Z"
   },
   {
    "duration": 0,
    "start_time": "2023-04-03T19:57:14.837Z"
   },
   {
    "duration": 0,
    "start_time": "2023-04-03T19:57:14.838Z"
   },
   {
    "duration": 0,
    "start_time": "2023-04-03T19:57:14.840Z"
   },
   {
    "duration": 0,
    "start_time": "2023-04-03T19:57:14.842Z"
   },
   {
    "duration": 0,
    "start_time": "2023-04-03T19:57:14.843Z"
   },
   {
    "duration": 0,
    "start_time": "2023-04-03T19:57:14.845Z"
   },
   {
    "duration": 0,
    "start_time": "2023-04-03T19:57:14.846Z"
   },
   {
    "duration": 0,
    "start_time": "2023-04-03T19:57:14.847Z"
   },
   {
    "duration": 0,
    "start_time": "2023-04-03T19:57:14.848Z"
   },
   {
    "duration": 0,
    "start_time": "2023-04-03T19:57:14.849Z"
   },
   {
    "duration": 0,
    "start_time": "2023-04-03T19:57:14.850Z"
   },
   {
    "duration": 0,
    "start_time": "2023-04-03T19:57:14.852Z"
   },
   {
    "duration": 0,
    "start_time": "2023-04-03T19:57:14.853Z"
   },
   {
    "duration": 0,
    "start_time": "2023-04-03T19:57:14.854Z"
   },
   {
    "duration": 0,
    "start_time": "2023-04-03T19:57:14.855Z"
   },
   {
    "duration": 0,
    "start_time": "2023-04-03T19:57:14.856Z"
   },
   {
    "duration": 0,
    "start_time": "2023-04-03T19:57:14.857Z"
   },
   {
    "duration": 0,
    "start_time": "2023-04-03T19:57:14.858Z"
   },
   {
    "duration": 0,
    "start_time": "2023-04-03T19:57:14.903Z"
   },
   {
    "duration": 0,
    "start_time": "2023-04-03T19:57:14.904Z"
   },
   {
    "duration": 0,
    "start_time": "2023-04-03T19:57:14.905Z"
   },
   {
    "duration": 0,
    "start_time": "2023-04-03T19:57:14.907Z"
   },
   {
    "duration": 5,
    "start_time": "2023-04-03T19:57:25.001Z"
   },
   {
    "duration": 94,
    "start_time": "2023-04-03T19:57:25.009Z"
   },
   {
    "duration": 0,
    "start_time": "2023-04-03T19:57:25.106Z"
   },
   {
    "duration": 0,
    "start_time": "2023-04-03T19:57:25.107Z"
   },
   {
    "duration": 0,
    "start_time": "2023-04-03T19:57:25.108Z"
   },
   {
    "duration": 0,
    "start_time": "2023-04-03T19:57:25.109Z"
   },
   {
    "duration": 0,
    "start_time": "2023-04-03T19:57:25.111Z"
   },
   {
    "duration": 0,
    "start_time": "2023-04-03T19:57:25.112Z"
   },
   {
    "duration": 0,
    "start_time": "2023-04-03T19:57:25.113Z"
   },
   {
    "duration": 0,
    "start_time": "2023-04-03T19:57:25.115Z"
   },
   {
    "duration": 0,
    "start_time": "2023-04-03T19:57:25.116Z"
   },
   {
    "duration": 0,
    "start_time": "2023-04-03T19:57:25.116Z"
   },
   {
    "duration": 0,
    "start_time": "2023-04-03T19:57:25.117Z"
   },
   {
    "duration": 0,
    "start_time": "2023-04-03T19:57:25.118Z"
   },
   {
    "duration": 0,
    "start_time": "2023-04-03T19:57:25.119Z"
   },
   {
    "duration": 0,
    "start_time": "2023-04-03T19:57:25.120Z"
   },
   {
    "duration": 0,
    "start_time": "2023-04-03T19:57:25.121Z"
   },
   {
    "duration": 0,
    "start_time": "2023-04-03T19:57:25.122Z"
   },
   {
    "duration": 0,
    "start_time": "2023-04-03T19:57:25.123Z"
   },
   {
    "duration": 0,
    "start_time": "2023-04-03T19:57:25.124Z"
   },
   {
    "duration": 0,
    "start_time": "2023-04-03T19:57:25.125Z"
   },
   {
    "duration": 0,
    "start_time": "2023-04-03T19:57:25.126Z"
   },
   {
    "duration": 0,
    "start_time": "2023-04-03T19:57:25.127Z"
   },
   {
    "duration": 0,
    "start_time": "2023-04-03T19:57:25.128Z"
   },
   {
    "duration": 0,
    "start_time": "2023-04-03T19:57:25.130Z"
   },
   {
    "duration": 0,
    "start_time": "2023-04-03T19:57:25.131Z"
   },
   {
    "duration": 0,
    "start_time": "2023-04-03T19:57:25.132Z"
   },
   {
    "duration": 0,
    "start_time": "2023-04-03T19:57:25.133Z"
   },
   {
    "duration": 0,
    "start_time": "2023-04-03T19:57:25.134Z"
   },
   {
    "duration": 0,
    "start_time": "2023-04-03T19:57:25.136Z"
   },
   {
    "duration": 0,
    "start_time": "2023-04-03T19:57:25.137Z"
   },
   {
    "duration": 0,
    "start_time": "2023-04-03T19:57:25.138Z"
   },
   {
    "duration": 6,
    "start_time": "2023-04-03T19:57:54.969Z"
   },
   {
    "duration": 161,
    "start_time": "2023-04-03T19:57:54.977Z"
   },
   {
    "duration": 0,
    "start_time": "2023-04-03T19:57:55.142Z"
   },
   {
    "duration": 0,
    "start_time": "2023-04-03T19:57:55.144Z"
   },
   {
    "duration": 0,
    "start_time": "2023-04-03T19:57:55.145Z"
   },
   {
    "duration": 0,
    "start_time": "2023-04-03T19:57:55.147Z"
   },
   {
    "duration": 0,
    "start_time": "2023-04-03T19:57:55.149Z"
   },
   {
    "duration": 0,
    "start_time": "2023-04-03T19:57:55.151Z"
   },
   {
    "duration": 0,
    "start_time": "2023-04-03T19:57:55.151Z"
   },
   {
    "duration": 0,
    "start_time": "2023-04-03T19:57:55.152Z"
   },
   {
    "duration": 0,
    "start_time": "2023-04-03T19:57:55.153Z"
   },
   {
    "duration": 0,
    "start_time": "2023-04-03T19:57:55.155Z"
   },
   {
    "duration": 0,
    "start_time": "2023-04-03T19:57:55.156Z"
   },
   {
    "duration": 0,
    "start_time": "2023-04-03T19:57:55.157Z"
   },
   {
    "duration": 0,
    "start_time": "2023-04-03T19:57:55.159Z"
   },
   {
    "duration": 0,
    "start_time": "2023-04-03T19:57:55.160Z"
   },
   {
    "duration": 0,
    "start_time": "2023-04-03T19:57:55.161Z"
   },
   {
    "duration": 0,
    "start_time": "2023-04-03T19:57:55.162Z"
   },
   {
    "duration": 0,
    "start_time": "2023-04-03T19:57:55.165Z"
   },
   {
    "duration": 0,
    "start_time": "2023-04-03T19:57:55.166Z"
   },
   {
    "duration": 0,
    "start_time": "2023-04-03T19:57:55.167Z"
   },
   {
    "duration": 0,
    "start_time": "2023-04-03T19:57:55.168Z"
   },
   {
    "duration": 0,
    "start_time": "2023-04-03T19:57:55.169Z"
   },
   {
    "duration": 0,
    "start_time": "2023-04-03T19:57:55.170Z"
   },
   {
    "duration": 0,
    "start_time": "2023-04-03T19:57:55.171Z"
   },
   {
    "duration": 0,
    "start_time": "2023-04-03T19:57:55.202Z"
   },
   {
    "duration": 0,
    "start_time": "2023-04-03T19:57:55.204Z"
   },
   {
    "duration": 0,
    "start_time": "2023-04-03T19:57:55.205Z"
   },
   {
    "duration": 0,
    "start_time": "2023-04-03T19:57:55.206Z"
   },
   {
    "duration": 0,
    "start_time": "2023-04-03T19:57:55.207Z"
   },
   {
    "duration": 0,
    "start_time": "2023-04-03T19:57:55.208Z"
   },
   {
    "duration": 0,
    "start_time": "2023-04-03T19:57:55.209Z"
   },
   {
    "duration": 0,
    "start_time": "2023-04-03T19:57:55.210Z"
   },
   {
    "duration": 0,
    "start_time": "2023-04-03T19:57:55.211Z"
   },
   {
    "duration": 0,
    "start_time": "2023-04-03T19:57:55.212Z"
   },
   {
    "duration": 0,
    "start_time": "2023-04-03T19:57:55.213Z"
   },
   {
    "duration": 1629,
    "start_time": "2023-04-03T20:16:20.345Z"
   },
   {
    "duration": 164,
    "start_time": "2023-04-03T20:17:04.272Z"
   },
   {
    "duration": 13,
    "start_time": "2023-04-03T20:19:37.463Z"
   },
   {
    "duration": 9,
    "start_time": "2023-04-03T20:19:39.906Z"
   },
   {
    "duration": 4,
    "start_time": "2023-04-03T20:19:47.091Z"
   },
   {
    "duration": 10,
    "start_time": "2023-04-03T20:19:51.806Z"
   },
   {
    "duration": 5,
    "start_time": "2023-04-03T20:19:53.438Z"
   },
   {
    "duration": 484,
    "start_time": "2023-04-03T20:19:56.109Z"
   },
   {
    "duration": 9,
    "start_time": "2023-04-03T20:19:59.898Z"
   },
   {
    "duration": 342,
    "start_time": "2023-04-03T20:20:02.348Z"
   },
   {
    "duration": 230,
    "start_time": "2023-04-03T20:20:08.082Z"
   },
   {
    "duration": 206,
    "start_time": "2023-04-03T20:20:13.199Z"
   },
   {
    "duration": 287,
    "start_time": "2023-04-03T20:20:16.685Z"
   },
   {
    "duration": 2003,
    "start_time": "2023-04-03T20:20:25.899Z"
   },
   {
    "duration": 1869,
    "start_time": "2023-04-03T20:20:30.930Z"
   },
   {
    "duration": 5,
    "start_time": "2023-04-03T20:20:37.367Z"
   },
   {
    "duration": 4,
    "start_time": "2023-04-03T20:20:38.820Z"
   },
   {
    "duration": 330,
    "start_time": "2023-04-03T20:20:40.047Z"
   },
   {
    "duration": 8,
    "start_time": "2023-04-03T20:20:43.921Z"
   },
   {
    "duration": 2621,
    "start_time": "2023-04-03T20:20:46.074Z"
   },
   {
    "duration": 6,
    "start_time": "2023-04-03T20:20:48.792Z"
   },
   {
    "duration": 190,
    "start_time": "2023-04-03T20:24:43.747Z"
   },
   {
    "duration": 6,
    "start_time": "2023-04-03T20:25:07.148Z"
   },
   {
    "duration": 94,
    "start_time": "2023-04-03T20:25:07.157Z"
   },
   {
    "duration": 12,
    "start_time": "2023-04-03T20:25:07.254Z"
   },
   {
    "duration": 7,
    "start_time": "2023-04-03T20:25:07.268Z"
   },
   {
    "duration": 5,
    "start_time": "2023-04-03T20:25:07.277Z"
   },
   {
    "duration": 32,
    "start_time": "2023-04-03T20:25:07.284Z"
   },
   {
    "duration": 9,
    "start_time": "2023-04-03T20:25:07.318Z"
   },
   {
    "duration": 557,
    "start_time": "2023-04-03T20:25:07.329Z"
   },
   {
    "duration": 11,
    "start_time": "2023-04-03T20:25:07.889Z"
   },
   {
    "duration": 254,
    "start_time": "2023-04-03T20:25:07.902Z"
   },
   {
    "duration": 261,
    "start_time": "2023-04-03T20:25:08.158Z"
   },
   {
    "duration": 220,
    "start_time": "2023-04-03T20:25:15.490Z"
   },
   {
    "duration": 206,
    "start_time": "2023-04-03T20:25:34.652Z"
   },
   {
    "duration": 4,
    "start_time": "2023-04-03T20:28:04.761Z"
   },
   {
    "duration": 316,
    "start_time": "2023-04-03T20:28:12.037Z"
   },
   {
    "duration": 6,
    "start_time": "2023-04-03T20:29:26.691Z"
   },
   {
    "duration": 5,
    "start_time": "2023-04-03T20:29:30.775Z"
   },
   {
    "duration": 124,
    "start_time": "2023-04-03T20:29:37.974Z"
   },
   {
    "duration": 11,
    "start_time": "2023-04-03T20:29:40.577Z"
   },
   {
    "duration": 4,
    "start_time": "2023-04-03T20:29:43.167Z"
   },
   {
    "duration": 5,
    "start_time": "2023-04-03T20:30:21.772Z"
   },
   {
    "duration": 4,
    "start_time": "2023-04-03T20:31:20.441Z"
   },
   {
    "duration": 3,
    "start_time": "2023-04-03T20:34:10.244Z"
   },
   {
    "duration": 20,
    "start_time": "2023-04-03T20:34:11.668Z"
   },
   {
    "duration": 26,
    "start_time": "2023-04-03T20:34:13.405Z"
   },
   {
    "duration": 8,
    "start_time": "2023-04-03T20:34:17.192Z"
   },
   {
    "duration": 5,
    "start_time": "2023-04-03T20:34:18.530Z"
   },
   {
    "duration": 3,
    "start_time": "2023-04-03T20:34:19.738Z"
   },
   {
    "duration": 6,
    "start_time": "2023-04-03T20:34:22.517Z"
   },
   {
    "duration": 10,
    "start_time": "2023-04-03T20:34:27.644Z"
   },
   {
    "duration": 11,
    "start_time": "2023-04-03T20:34:41.871Z"
   },
   {
    "duration": 182,
    "start_time": "2023-04-03T20:35:00.508Z"
   },
   {
    "duration": 3,
    "start_time": "2023-04-03T20:36:51.619Z"
   },
   {
    "duration": 11,
    "start_time": "2023-04-03T20:37:01.135Z"
   },
   {
    "duration": 3,
    "start_time": "2023-04-03T20:37:13.509Z"
   },
   {
    "duration": 3,
    "start_time": "2023-04-03T20:37:16.506Z"
   },
   {
    "duration": 133178,
    "start_time": "2023-04-03T20:37:28.991Z"
   },
   {
    "duration": 4,
    "start_time": "2023-04-03T20:39:42.172Z"
   },
   {
    "duration": 121,
    "start_time": "2023-04-03T20:39:42.179Z"
   },
   {
    "duration": 88,
    "start_time": "2023-04-03T20:39:42.304Z"
   },
   {
    "duration": 294,
    "start_time": "2023-04-03T20:39:42.395Z"
   },
   {
    "duration": 40,
    "start_time": "2023-04-03T20:41:00.450Z"
   },
   {
    "duration": 67,
    "start_time": "2023-04-03T20:42:03.125Z"
   },
   {
    "duration": 187,
    "start_time": "2023-04-03T20:42:06.602Z"
   },
   {
    "duration": 209,
    "start_time": "2023-04-03T20:42:09.981Z"
   },
   {
    "duration": 209,
    "start_time": "2023-04-03T20:42:13.280Z"
   },
   {
    "duration": 16,
    "start_time": "2023-04-03T20:43:30.883Z"
   },
   {
    "duration": 22,
    "start_time": "2023-04-03T20:43:33.138Z"
   },
   {
    "duration": 10,
    "start_time": "2023-04-03T20:43:34.977Z"
   },
   {
    "duration": 5,
    "start_time": "2023-04-03T20:43:36.720Z"
   },
   {
    "duration": 4,
    "start_time": "2023-04-03T20:43:38.223Z"
   },
   {
    "duration": 7,
    "start_time": "2023-04-03T20:43:39.687Z"
   },
   {
    "duration": 156,
    "start_time": "2023-04-03T20:43:41.633Z"
   },
   {
    "duration": 6,
    "start_time": "2023-04-03T20:43:47.578Z"
   },
   {
    "duration": 4,
    "start_time": "2023-04-03T20:43:52.894Z"
   },
   {
    "duration": 83210,
    "start_time": "2023-04-03T20:43:54.839Z"
   },
   {
    "duration": 5,
    "start_time": "2023-04-03T20:45:18.051Z"
   },
   {
    "duration": 34,
    "start_time": "2023-04-03T20:45:18.059Z"
   },
   {
    "duration": 4,
    "start_time": "2023-04-03T20:45:40.667Z"
   },
   {
    "duration": 218,
    "start_time": "2023-04-03T20:45:41.957Z"
   },
   {
    "duration": 1714,
    "start_time": "2023-04-03T20:47:17.541Z"
   },
   {
    "duration": 97,
    "start_time": "2023-04-03T20:47:19.257Z"
   },
   {
    "duration": 11,
    "start_time": "2023-04-03T20:47:19.356Z"
   },
   {
    "duration": 10,
    "start_time": "2023-04-03T20:47:19.369Z"
   },
   {
    "duration": 3,
    "start_time": "2023-04-03T20:47:19.381Z"
   },
   {
    "duration": 14,
    "start_time": "2023-04-03T20:47:19.386Z"
   },
   {
    "duration": 6,
    "start_time": "2023-04-03T20:47:19.401Z"
   },
   {
    "duration": 463,
    "start_time": "2023-04-03T20:47:19.409Z"
   },
   {
    "duration": 18,
    "start_time": "2023-04-03T20:47:19.874Z"
   },
   {
    "duration": 219,
    "start_time": "2023-04-03T20:47:19.894Z"
   },
   {
    "duration": 222,
    "start_time": "2023-04-03T20:47:20.115Z"
   },
   {
    "duration": 330,
    "start_time": "2023-04-03T20:47:20.338Z"
   },
   {
    "duration": 351,
    "start_time": "2023-04-03T20:47:20.671Z"
   },
   {
    "duration": 1278,
    "start_time": "2023-04-03T20:47:21.025Z"
   },
   {
    "duration": 5,
    "start_time": "2023-04-03T20:47:22.390Z"
   },
   {
    "duration": 105,
    "start_time": "2023-04-03T20:47:22.397Z"
   },
   {
    "duration": 372,
    "start_time": "2023-04-03T20:47:22.504Z"
   },
   {
    "duration": 16,
    "start_time": "2023-04-03T20:47:22.878Z"
   },
   {
    "duration": 1395,
    "start_time": "2023-04-03T20:47:22.897Z"
   },
   {
    "duration": 92,
    "start_time": "2023-04-03T20:47:24.298Z"
   },
   {
    "duration": 15,
    "start_time": "2023-04-03T20:47:24.392Z"
   },
   {
    "duration": 12,
    "start_time": "2023-04-03T20:47:24.409Z"
   },
   {
    "duration": 5,
    "start_time": "2023-04-03T20:47:24.423Z"
   },
   {
    "duration": 7,
    "start_time": "2023-04-03T20:47:24.430Z"
   },
   {
    "duration": 28,
    "start_time": "2023-04-03T20:47:24.439Z"
   },
   {
    "duration": 35,
    "start_time": "2023-04-03T20:47:24.469Z"
   },
   {
    "duration": 9,
    "start_time": "2023-04-03T20:47:24.506Z"
   },
   {
    "duration": 5,
    "start_time": "2023-04-03T20:47:24.517Z"
   },
   {
    "duration": 26,
    "start_time": "2023-04-03T20:47:24.524Z"
   },
   {
    "duration": 14,
    "start_time": "2023-04-03T20:47:24.552Z"
   },
   {
    "duration": 25,
    "start_time": "2023-04-03T20:47:24.567Z"
   },
   {
    "duration": 5,
    "start_time": "2023-04-03T20:47:24.593Z"
   },
   {
    "duration": 92,
    "start_time": "2023-04-03T20:47:24.599Z"
   },
   {
    "duration": 97,
    "start_time": "2023-04-03T20:47:24.693Z"
   },
   {
    "duration": 9,
    "start_time": "2023-04-03T20:47:24.792Z"
   },
   {
    "duration": 66702,
    "start_time": "2023-04-03T20:47:24.803Z"
   },
   {
    "duration": 5,
    "start_time": "2023-04-03T20:48:31.507Z"
   },
   {
    "duration": 43,
    "start_time": "2023-04-03T20:48:31.516Z"
   },
   {
    "duration": 4,
    "start_time": "2023-04-03T20:48:31.562Z"
   },
   {
    "duration": 339,
    "start_time": "2023-04-03T20:48:31.567Z"
   },
   {
    "duration": 22,
    "start_time": "2023-04-03T20:49:42.985Z"
   },
   {
    "duration": 22,
    "start_time": "2023-04-03T20:50:15.376Z"
   },
   {
    "duration": 26,
    "start_time": "2023-04-03T20:50:17.236Z"
   },
   {
    "duration": 9,
    "start_time": "2023-04-03T20:50:19.410Z"
   },
   {
    "duration": 6,
    "start_time": "2023-04-03T20:50:20.543Z"
   },
   {
    "duration": 7,
    "start_time": "2023-04-03T20:50:22.062Z"
   },
   {
    "duration": 131,
    "start_time": "2023-04-03T20:50:25.336Z"
   },
   {
    "duration": 9,
    "start_time": "2023-04-03T20:50:32.211Z"
   },
   {
    "duration": 6,
    "start_time": "2023-04-03T20:50:33.835Z"
   },
   {
    "duration": 4,
    "start_time": "2023-04-03T20:50:35.039Z"
   },
   {
    "duration": 8,
    "start_time": "2023-04-03T20:50:36.629Z"
   },
   {
    "duration": 235,
    "start_time": "2023-04-03T20:50:38.266Z"
   },
   {
    "duration": 4,
    "start_time": "2023-04-03T20:50:42.252Z"
   },
   {
    "duration": 120697,
    "start_time": "2023-04-03T20:50:43.923Z"
   },
   {
    "duration": 5,
    "start_time": "2023-04-03T20:53:04.561Z"
   },
   {
    "duration": 211,
    "start_time": "2023-04-03T20:53:06.983Z"
   },
   {
    "duration": 4,
    "start_time": "2023-04-03T20:53:42.273Z"
   },
   {
    "duration": 172,
    "start_time": "2023-04-03T20:53:43.517Z"
   },
   {
    "duration": 1662,
    "start_time": "2023-04-04T08:27:06.814Z"
   },
   {
    "duration": 142,
    "start_time": "2023-04-04T08:27:08.478Z"
   },
   {
    "duration": 12,
    "start_time": "2023-04-04T08:27:08.621Z"
   },
   {
    "duration": 8,
    "start_time": "2023-04-04T08:27:08.635Z"
   },
   {
    "duration": 6,
    "start_time": "2023-04-04T08:27:08.645Z"
   },
   {
    "duration": 18,
    "start_time": "2023-04-04T08:27:08.653Z"
   },
   {
    "duration": 7,
    "start_time": "2023-04-04T08:27:08.673Z"
   },
   {
    "duration": 530,
    "start_time": "2023-04-04T08:27:08.682Z"
   },
   {
    "duration": 9,
    "start_time": "2023-04-04T08:27:09.214Z"
   },
   {
    "duration": 237,
    "start_time": "2023-04-04T08:27:09.225Z"
   },
   {
    "duration": 213,
    "start_time": "2023-04-04T08:27:09.474Z"
   },
   {
    "duration": 294,
    "start_time": "2023-04-04T08:27:09.689Z"
   },
   {
    "duration": 302,
    "start_time": "2023-04-04T08:27:09.985Z"
   },
   {
    "duration": 1590,
    "start_time": "2023-04-04T08:27:10.291Z"
   },
   {
    "duration": 92,
    "start_time": "2023-04-04T08:27:11.884Z"
   },
   {
    "duration": 99,
    "start_time": "2023-04-04T08:27:11.980Z"
   },
   {
    "duration": 317,
    "start_time": "2023-04-04T08:27:12.081Z"
   },
   {
    "duration": 14,
    "start_time": "2023-04-04T08:27:12.401Z"
   },
   {
    "duration": 1559,
    "start_time": "2023-04-04T08:27:12.417Z"
   },
   {
    "duration": 4,
    "start_time": "2023-04-04T08:27:13.977Z"
   },
   {
    "duration": 97,
    "start_time": "2023-04-04T08:27:13.984Z"
   },
   {
    "duration": 5,
    "start_time": "2023-04-04T08:27:14.083Z"
   },
   {
    "duration": 4,
    "start_time": "2023-04-04T08:27:14.090Z"
   },
   {
    "duration": 18,
    "start_time": "2023-04-04T08:27:14.096Z"
   },
   {
    "duration": 25,
    "start_time": "2023-04-04T08:27:14.116Z"
   },
   {
    "duration": 50,
    "start_time": "2023-04-04T08:27:14.143Z"
   },
   {
    "duration": 12,
    "start_time": "2023-04-04T08:27:14.195Z"
   },
   {
    "duration": 5,
    "start_time": "2023-04-04T08:27:14.209Z"
   },
   {
    "duration": 11,
    "start_time": "2023-04-04T08:27:14.216Z"
   },
   {
    "duration": 10,
    "start_time": "2023-04-04T08:27:14.230Z"
   },
   {
    "duration": 44,
    "start_time": "2023-04-04T08:27:14.242Z"
   },
   {
    "duration": 87,
    "start_time": "2023-04-04T08:27:14.389Z"
   },
   {
    "duration": 81,
    "start_time": "2023-04-04T09:01:09.353Z"
   },
   {
    "duration": 8,
    "start_time": "2023-04-04T09:01:12.146Z"
   },
   {
    "duration": 2164,
    "start_time": "2023-04-04T09:02:21.210Z"
   },
   {
    "duration": 98,
    "start_time": "2023-04-04T09:04:11.603Z"
   },
   {
    "duration": 212,
    "start_time": "2023-04-04T09:04:25.518Z"
   },
   {
    "duration": 994,
    "start_time": "2023-04-04T09:04:37.505Z"
   },
   {
    "duration": 33,
    "start_time": "2023-04-04T09:04:44.030Z"
   },
   {
    "duration": 16,
    "start_time": "2023-04-04T09:04:57.157Z"
   },
   {
    "duration": 8,
    "start_time": "2023-04-04T09:05:03.624Z"
   },
   {
    "duration": 17542,
    "start_time": "2023-04-04T09:05:23.994Z"
   },
   {
    "duration": 10683,
    "start_time": "2023-04-04T09:06:37.815Z"
   },
   {
    "duration": 105,
    "start_time": "2023-04-04T09:11:50.242Z"
   },
   {
    "duration": 4,
    "start_time": "2023-04-04T09:16:21.606Z"
   },
   {
    "duration": 3,
    "start_time": "2023-04-04T09:16:26.023Z"
   },
   {
    "duration": 3,
    "start_time": "2023-04-04T09:17:08.821Z"
   },
   {
    "duration": 4,
    "start_time": "2023-04-04T09:17:10.862Z"
   },
   {
    "duration": 4,
    "start_time": "2023-04-04T09:17:12.397Z"
   },
   {
    "duration": 20,
    "start_time": "2023-04-04T09:18:22.439Z"
   },
   {
    "duration": 3,
    "start_time": "2023-04-04T09:18:38.937Z"
   },
   {
    "duration": 4,
    "start_time": "2023-04-04T09:18:40.463Z"
   },
   {
    "duration": 3,
    "start_time": "2023-04-04T09:18:42.203Z"
   },
   {
    "duration": 31,
    "start_time": "2023-04-04T09:18:43.841Z"
   },
   {
    "duration": 28,
    "start_time": "2023-04-04T09:18:46.197Z"
   },
   {
    "duration": 22,
    "start_time": "2023-04-04T09:18:48.348Z"
   },
   {
    "duration": 5,
    "start_time": "2023-04-04T09:18:49.987Z"
   },
   {
    "duration": 4,
    "start_time": "2023-04-04T09:18:52.134Z"
   },
   {
    "duration": 38,
    "start_time": "2023-04-04T09:19:05.243Z"
   },
   {
    "duration": 5,
    "start_time": "2023-04-04T09:19:22.140Z"
   },
   {
    "duration": 98,
    "start_time": "2023-04-04T09:19:22.147Z"
   },
   {
    "duration": 9,
    "start_time": "2023-04-04T09:19:22.247Z"
   },
   {
    "duration": 69,
    "start_time": "2023-04-04T09:19:22.257Z"
   },
   {
    "duration": 38,
    "start_time": "2023-04-04T09:19:22.329Z"
   },
   {
    "duration": 57,
    "start_time": "2023-04-04T09:19:22.368Z"
   },
   {
    "duration": 72,
    "start_time": "2023-04-04T09:19:22.427Z"
   },
   {
    "duration": 513,
    "start_time": "2023-04-04T09:19:22.501Z"
   },
   {
    "duration": 10,
    "start_time": "2023-04-04T09:19:23.016Z"
   },
   {
    "duration": 241,
    "start_time": "2023-04-04T09:19:23.028Z"
   },
   {
    "duration": 199,
    "start_time": "2023-04-04T09:19:23.271Z"
   },
   {
    "duration": 197,
    "start_time": "2023-04-04T09:19:23.472Z"
   },
   {
    "duration": 313,
    "start_time": "2023-04-04T09:19:23.671Z"
   },
   {
    "duration": 1899,
    "start_time": "2023-04-04T09:19:23.987Z"
   },
   {
    "duration": 95,
    "start_time": "2023-04-04T09:19:25.889Z"
   },
   {
    "duration": 98,
    "start_time": "2023-04-04T09:19:25.987Z"
   },
   {
    "duration": 401,
    "start_time": "2023-04-04T09:19:26.087Z"
   },
   {
    "duration": 6,
    "start_time": "2023-04-04T09:19:26.490Z"
   },
   {
    "duration": 1885,
    "start_time": "2023-04-04T09:19:26.497Z"
   },
   {
    "duration": 5,
    "start_time": "2023-04-04T09:19:28.386Z"
   },
   {
    "duration": 3,
    "start_time": "2023-04-04T09:19:33.097Z"
   },
   {
    "duration": 3,
    "start_time": "2023-04-04T09:19:36.272Z"
   },
   {
    "duration": 5,
    "start_time": "2023-04-04T09:19:38.526Z"
   },
   {
    "duration": 20,
    "start_time": "2023-04-04T09:19:40.776Z"
   },
   {
    "duration": 22,
    "start_time": "2023-04-04T09:19:43.133Z"
   },
   {
    "duration": 9,
    "start_time": "2023-04-04T09:19:47.942Z"
   },
   {
    "duration": 5,
    "start_time": "2023-04-04T09:19:49.733Z"
   },
   {
    "duration": 3,
    "start_time": "2023-04-04T09:19:51.733Z"
   },
   {
    "duration": 6,
    "start_time": "2023-04-04T09:19:54.190Z"
   },
   {
    "duration": 2,
    "start_time": "2023-04-04T09:19:58.389Z"
   },
   {
    "duration": 3,
    "start_time": "2023-04-04T09:20:00.438Z"
   },
   {
    "duration": 5,
    "start_time": "2023-04-04T09:20:02.713Z"
   },
   {
    "duration": 2220,
    "start_time": "2023-04-04T09:20:06.786Z"
   },
   {
    "duration": 469754,
    "start_time": "2023-04-04T09:20:16.719Z"
   },
   {
    "duration": 8,
    "start_time": "2023-04-04T09:28:06.475Z"
   },
   {
    "duration": 79210,
    "start_time": "2023-04-04T09:35:04.814Z"
   },
   {
    "duration": 4,
    "start_time": "2023-04-04T09:36:24.027Z"
   },
   {
    "duration": 3,
    "start_time": "2023-04-04T09:40:14.922Z"
   },
   {
    "duration": 16,
    "start_time": "2023-04-04T09:40:14.928Z"
   },
   {
    "duration": 3,
    "start_time": "2023-04-04T09:40:40.299Z"
   },
   {
    "duration": 5,
    "start_time": "2023-04-04T09:41:06.124Z"
   },
   {
    "duration": 3,
    "start_time": "2023-04-04T09:41:45.222Z"
   },
   {
    "duration": 17331,
    "start_time": "2023-04-04T09:42:26.203Z"
   },
   {
    "duration": 11,
    "start_time": "2023-04-04T09:43:58.136Z"
   },
   {
    "duration": 96,
    "start_time": "2023-04-04T09:44:07.992Z"
   },
   {
    "duration": 10,
    "start_time": "2023-04-04T09:44:15.558Z"
   },
   {
    "duration": 111225,
    "start_time": "2023-04-04T09:44:19.341Z"
   },
   {
    "duration": 3,
    "start_time": "2023-04-04T09:46:10.568Z"
   },
   {
    "duration": 280,
    "start_time": "2023-04-04T09:46:10.573Z"
   },
   {
    "duration": 237,
    "start_time": "2023-04-04T09:46:11.468Z"
   },
   {
    "duration": 9,
    "start_time": "2023-04-04T09:46:24.261Z"
   },
   {
    "duration": 3,
    "start_time": "2023-04-04T09:46:28.561Z"
   },
   {
    "duration": 172,
    "start_time": "2023-04-04T09:46:29.892Z"
   },
   {
    "duration": 1471,
    "start_time": "2023-04-04T09:46:44.467Z"
   },
   {
    "duration": 84,
    "start_time": "2023-04-04T09:46:45.940Z"
   },
   {
    "duration": 11,
    "start_time": "2023-04-04T09:46:46.026Z"
   },
   {
    "duration": 28,
    "start_time": "2023-04-04T09:46:46.040Z"
   },
   {
    "duration": 68,
    "start_time": "2023-04-04T09:46:46.070Z"
   },
   {
    "duration": 40,
    "start_time": "2023-04-04T09:46:46.140Z"
   },
   {
    "duration": 49,
    "start_time": "2023-04-04T09:46:46.182Z"
   },
   {
    "duration": 464,
    "start_time": "2023-04-04T09:46:46.232Z"
   },
   {
    "duration": 11,
    "start_time": "2023-04-04T09:46:46.698Z"
   },
   {
    "duration": 306,
    "start_time": "2023-04-04T09:46:46.712Z"
   },
   {
    "duration": 284,
    "start_time": "2023-04-04T09:46:47.020Z"
   },
   {
    "duration": 212,
    "start_time": "2023-04-04T09:46:47.305Z"
   },
   {
    "duration": 330,
    "start_time": "2023-04-04T09:46:47.518Z"
   },
   {
    "duration": 1838,
    "start_time": "2023-04-04T09:46:47.850Z"
   },
   {
    "duration": 94,
    "start_time": "2023-04-04T09:46:49.690Z"
   },
   {
    "duration": 181,
    "start_time": "2023-04-04T09:46:49.791Z"
   },
   {
    "duration": 383,
    "start_time": "2023-04-04T09:46:49.973Z"
   },
   {
    "duration": 6,
    "start_time": "2023-04-04T09:46:50.357Z"
   },
   {
    "duration": 1823,
    "start_time": "2023-04-04T09:46:50.364Z"
   },
   {
    "duration": 5,
    "start_time": "2023-04-04T09:46:52.189Z"
   },
   {
    "duration": 47,
    "start_time": "2023-04-04T09:46:52.284Z"
   },
   {
    "duration": 49,
    "start_time": "2023-04-04T09:46:52.333Z"
   },
   {
    "duration": 57,
    "start_time": "2023-04-04T09:46:52.385Z"
   },
   {
    "duration": 33,
    "start_time": "2023-04-04T09:46:52.444Z"
   },
   {
    "duration": 48,
    "start_time": "2023-04-04T09:46:52.479Z"
   },
   {
    "duration": 28,
    "start_time": "2023-04-04T09:46:52.529Z"
   },
   {
    "duration": 75,
    "start_time": "2023-04-04T09:46:52.559Z"
   },
   {
    "duration": 96,
    "start_time": "2023-04-04T09:46:52.638Z"
   },
   {
    "duration": 45,
    "start_time": "2023-04-04T09:46:52.736Z"
   },
   {
    "duration": 129,
    "start_time": "2023-04-04T09:46:52.783Z"
   },
   {
    "duration": 171,
    "start_time": "2023-04-04T09:46:52.913Z"
   },
   {
    "duration": 128,
    "start_time": "2023-04-04T09:46:53.086Z"
   },
   {
    "duration": 75,
    "start_time": "2023-04-04T09:46:53.215Z"
   },
   {
    "duration": 81,
    "start_time": "2023-04-04T09:46:53.292Z"
   },
   {
    "duration": 71,
    "start_time": "2023-04-04T09:46:53.375Z"
   },
   {
    "duration": 114412,
    "start_time": "2023-04-04T09:46:53.447Z"
   },
   {
    "duration": 3,
    "start_time": "2023-04-04T09:48:47.860Z"
   },
   {
    "duration": 5,
    "start_time": "2023-04-04T09:48:47.864Z"
   },
   {
    "duration": 12,
    "start_time": "2023-04-04T09:48:47.871Z"
   },
   {
    "duration": 3,
    "start_time": "2023-04-04T09:48:47.885Z"
   },
   {
    "duration": 19001,
    "start_time": "2023-04-04T09:48:47.890Z"
   },
   {
    "duration": 5,
    "start_time": "2023-04-04T09:49:06.893Z"
   },
   {
    "duration": 243,
    "start_time": "2023-04-04T09:49:06.899Z"
   },
   {
    "duration": 2,
    "start_time": "2023-04-04T09:49:07.144Z"
   },
   {
    "duration": 291,
    "start_time": "2023-04-04T09:49:07.148Z"
   }
  ],
  "kernelspec": {
   "display_name": "Python 3 (ipykernel)",
   "language": "python",
   "name": "python3"
  },
  "language_info": {
   "codemirror_mode": {
    "name": "ipython",
    "version": 3
   },
   "file_extension": ".py",
   "mimetype": "text/x-python",
   "name": "python",
   "nbconvert_exporter": "python",
   "pygments_lexer": "ipython3",
   "version": "3.9.13"
  },
  "toc": {
   "base_numbering": 1,
   "nav_menu": {},
   "number_sections": true,
   "sideBar": true,
   "skip_h1_title": true,
   "title_cell": "Содержание",
   "title_sidebar": "Contents",
   "toc_cell": true,
   "toc_position": {
    "height": "calc(100% - 180px)",
    "left": "10px",
    "top": "150px",
    "width": "165px"
   },
   "toc_section_display": true,
   "toc_window_display": true
  }
 },
 "nbformat": 4,
 "nbformat_minor": 2
}
