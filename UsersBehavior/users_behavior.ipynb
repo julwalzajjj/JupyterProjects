{
 "cells": [
  {
   "cell_type": "markdown",
   "metadata": {},
   "source": [
    "# Рекомендация тарифов"
   ]
  },
  {
   "cell_type": "markdown",
   "metadata": {},
   "source": [
    "## Задание проекта"
   ]
  },
  {
   "cell_type": "markdown",
   "metadata": {},
   "source": [
    "Имеются данные о поведении клиентов, которые уже перешли на тарифы «Смарт» или «Ультра». Нужно построить модель для задачи классификации, которая выберет подходящий тариф.\n",
    "\n",
    "Необходимо постройть модель с максимально большим значением *accuracy*."
   ]
  },
  {
   "cell_type": "markdown",
   "metadata": {},
   "source": [
    "## План проекта"
   ]
  },
  {
   "cell_type": "markdown",
   "metadata": {},
   "source": [
    "1. [**Анализ данных**](#id1)\n",
    "2. [**Подготовка данных**](#id2)\n",
    "3. [**Исследование моделей**](#id3)\n",
    "4. [**Проверка на тестовой выборке**](#id4)\n",
    "5. [**Проверка модели на адекватность**](#id5)\n",
    "6. [**Вывод**](#id6)"
   ]
  },
  {
   "cell_type": "markdown",
   "metadata": {},
   "source": [
    "## Анализ данных <a id='id1'></a>"
   ]
  },
  {
   "cell_type": "code",
   "execution_count": 1,
   "metadata": {},
   "outputs": [],
   "source": [
    "import os\n",
    "\n",
    "import pandas as pd\n",
    "\n",
    "from sklearn.tree import DecisionTreeClassifier\n",
    "from sklearn.ensemble import RandomForestClassifier\n",
    "from sklearn.linear_model import LogisticRegression\n",
    "\n",
    "from sklearn.model_selection import train_test_split\n",
    "from sklearn.metrics import accuracy_score"
   ]
  },
  {
   "cell_type": "markdown",
   "metadata": {},
   "source": [
    "Откроем файл и рассмотрим его:"
   ]
  },
  {
   "cell_type": "code",
   "execution_count": 2,
   "metadata": {},
   "outputs": [
    {
     "name": "stdout",
     "output_type": "stream",
     "text": [
      "<class 'pandas.core.frame.DataFrame'>\n",
      "RangeIndex: 3214 entries, 0 to 3213\n",
      "Data columns (total 5 columns):\n",
      " #   Column    Non-Null Count  Dtype  \n",
      "---  ------    --------------  -----  \n",
      " 0   calls     3214 non-null   float64\n",
      " 1   minutes   3214 non-null   float64\n",
      " 2   messages  3214 non-null   float64\n",
      " 3   mb_used   3214 non-null   float64\n",
      " 4   is_ultra  3214 non-null   int64  \n",
      "dtypes: float64(4), int64(1)\n",
      "memory usage: 125.7 KB\n"
     ]
    }
   ],
   "source": [
    "if os.path.exists('users_behavior.csv'):\n",
    "    data = pd.read_csv('users_behavior.csv')\n",
    "elif os.path.exists('/datasets/users_behavior.csv'):\n",
    "    data = pd.read_csv('/datasets/users_behavior.csv')\n",
    "else:\n",
    "    print(\"Проверьте правильность пути к датасету\")\n",
    "data.info()"
   ]
  },
  {
   "cell_type": "markdown",
   "metadata": {},
   "source": [
    "Пропусков нет, изменение типа данных не нужно."
   ]
  },
  {
   "cell_type": "code",
   "execution_count": 3,
   "metadata": {},
   "outputs": [
    {
     "data": {
      "text/html": [
       "<div>\n",
       "<style scoped>\n",
       "    .dataframe tbody tr th:only-of-type {\n",
       "        vertical-align: middle;\n",
       "    }\n",
       "\n",
       "    .dataframe tbody tr th {\n",
       "        vertical-align: top;\n",
       "    }\n",
       "\n",
       "    .dataframe thead th {\n",
       "        text-align: right;\n",
       "    }\n",
       "</style>\n",
       "<table border=\"1\" class=\"dataframe\">\n",
       "  <thead>\n",
       "    <tr style=\"text-align: right;\">\n",
       "      <th></th>\n",
       "      <th>calls</th>\n",
       "      <th>minutes</th>\n",
       "      <th>messages</th>\n",
       "      <th>mb_used</th>\n",
       "      <th>is_ultra</th>\n",
       "    </tr>\n",
       "  </thead>\n",
       "  <tbody>\n",
       "    <tr>\n",
       "      <th>0</th>\n",
       "      <td>40.0</td>\n",
       "      <td>311.90</td>\n",
       "      <td>83.0</td>\n",
       "      <td>19915.42</td>\n",
       "      <td>0</td>\n",
       "    </tr>\n",
       "    <tr>\n",
       "      <th>1</th>\n",
       "      <td>85.0</td>\n",
       "      <td>516.75</td>\n",
       "      <td>56.0</td>\n",
       "      <td>22696.96</td>\n",
       "      <td>0</td>\n",
       "    </tr>\n",
       "    <tr>\n",
       "      <th>2</th>\n",
       "      <td>77.0</td>\n",
       "      <td>467.66</td>\n",
       "      <td>86.0</td>\n",
       "      <td>21060.45</td>\n",
       "      <td>0</td>\n",
       "    </tr>\n",
       "    <tr>\n",
       "      <th>3</th>\n",
       "      <td>106.0</td>\n",
       "      <td>745.53</td>\n",
       "      <td>81.0</td>\n",
       "      <td>8437.39</td>\n",
       "      <td>1</td>\n",
       "    </tr>\n",
       "    <tr>\n",
       "      <th>4</th>\n",
       "      <td>66.0</td>\n",
       "      <td>418.74</td>\n",
       "      <td>1.0</td>\n",
       "      <td>14502.75</td>\n",
       "      <td>0</td>\n",
       "    </tr>\n",
       "  </tbody>\n",
       "</table>\n",
       "</div>"
      ],
      "text/plain": [
       "   calls  minutes  messages   mb_used  is_ultra\n",
       "0   40.0   311.90      83.0  19915.42         0\n",
       "1   85.0   516.75      56.0  22696.96         0\n",
       "2   77.0   467.66      86.0  21060.45         0\n",
       "3  106.0   745.53      81.0   8437.39         1\n",
       "4   66.0   418.74       1.0  14502.75         0"
      ]
     },
     "execution_count": 3,
     "metadata": {},
     "output_type": "execute_result"
    }
   ],
   "source": [
    "data.head()"
   ]
  },
  {
   "cell_type": "markdown",
   "metadata": {},
   "source": [
    "В данных 5 столбцов:\n",
    "\n",
    "- **calls** - количество звонков\n",
    "- **minutes** - количество потраченных минут\n",
    "- **messages** - количество сообщений \n",
    "- **mb_used** - количество использованных мегабайтов интернета\n",
    "- **is_ultra** - наличие тарифа ultra"
   ]
  },
  {
   "cell_type": "markdown",
   "metadata": {},
   "source": [
    "## Подготовка данных <a id='id2'></a>"
   ]
  },
  {
   "cell_type": "markdown",
   "metadata": {},
   "source": [
    "Разобьем данные на выборки. Для начала создадим обучающий набор данных, а именно features (признаки) и target (целевой признак). Целевой признак - тариф (is_ultra):"
   ]
  },
  {
   "cell_type": "code",
   "execution_count": 4,
   "metadata": {},
   "outputs": [],
   "source": [
    "features = data.drop(['is_ultra'], axis=1)\n",
    "target = data['is_ultra']"
   ]
  },
  {
   "cell_type": "markdown",
   "metadata": {},
   "source": [
    "Спрятанной тестовой выборки нет. Значит, данные нужно разбить на три части, три выборки: обучающую, валидационную и тестовую. Размеры тестового и валидационного наборов обычно равны. Исходные данные разбивают в соотношении 3:1:1, соответственно. \n",
    "\n",
    "Таким образом, обучающая выборка - 60% данных, валидационная выборка - 20% данных, тестовая выборка - 20% данных. Используем функцию разделения данных `train_test_split()`."
   ]
  },
  {
   "cell_type": "code",
   "execution_count": 5,
   "metadata": {},
   "outputs": [],
   "source": [
    "features_train, features_valid, target_train, target_valid = train_test_split(\n",
    "    features, target, test_size=0.4, random_state=12345)\n",
    "\n",
    "features_valid, features_test, target_valid, target_test = train_test_split(\n",
    "    features_valid, target_valid, test_size=0.5, random_state=12345)"
   ]
  },
  {
   "cell_type": "code",
   "execution_count": 6,
   "metadata": {},
   "outputs": [
    {
     "name": "stdout",
     "output_type": "stream",
     "text": [
      "Размеры обучающей выборки: 1928\n",
      "Размеры валидационной выборки: 643\n",
      "Размеры тестовой выборки: 643\n"
     ]
    }
   ],
   "source": [
    "print(f'Размеры обучающей выборки: {features_train.shape[0]}')\n",
    "print(f'Размеры валидационной выборки: {features_valid.shape[0]}')\n",
    "print(f'Размеры тестовой выборки: {features_test.shape[0]}')"
   ]
  },
  {
   "cell_type": "markdown",
   "metadata": {},
   "source": [
    "## Исследование моделей <a id='id3'></a>"
   ]
  },
  {
   "cell_type": "markdown",
   "metadata": {},
   "source": [
    "**1. Модель решающего дерева**\n",
    "\n",
    "Будем изменять параметры глубины дерева (от 0 до 20) и минимального количества элементов в узле (от 2 до 10)."
   ]
  },
  {
   "cell_type": "code",
   "execution_count": 7,
   "metadata": {},
   "outputs": [],
   "source": [
    "best_model_tree_accuracy = 0\n",
    "for depth in range(1, 21):\n",
    "    for split in range(2,11):\n",
    "        model_tree = DecisionTreeClassifier(random_state=12345, max_depth=depth, min_samples_split=split)\n",
    "        model_tree.fit(features_train, target_train)\n",
    "        predictions = model_tree.predict(features_valid)\n",
    "    \n",
    "        accuracy = accuracy_score(target_valid, predictions)\n",
    "        if accuracy > best_model_tree_accuracy:\n",
    "            best_model_tree_accuracy = accuracy\n",
    "            best_model_tree = model_tree\n",
    "            best_min_samples_tree = split\n",
    "            best_depth_model_tree = depth"
   ]
  },
  {
   "cell_type": "code",
   "execution_count": 8,
   "metadata": {},
   "outputs": [
    {
     "name": "stdout",
     "output_type": "stream",
     "text": [
      "Лучший результат у модели решающего дерева\n",
      "Глубина:  3\n",
      "Минимальное кол-во элементов в узле:  2\n",
      "Точность: 0.785\n"
     ]
    }
   ],
   "source": [
    "print('Лучший результат у модели решающего дерева')\n",
    "print('Глубина: ', best_depth_model_tree)\n",
    "print('Минимальное кол-во элементов в узле: ', best_min_samples_tree)\n",
    "print('Точность: {0:.3f}'.format(best_model_tree_accuracy))"
   ]
  },
  {
   "cell_type": "markdown",
   "metadata": {},
   "source": [
    "**2. Модель случайного леса**"
   ]
  },
  {
   "cell_type": "markdown",
   "metadata": {},
   "source": [
    "Будем изменять параметры количества деревьев (от 2 до 20) и глубины количества каждого дерева (от 1 до 20):"
   ]
  },
  {
   "cell_type": "code",
   "execution_count": 9,
   "metadata": {},
   "outputs": [],
   "source": [
    "best_model_forest_accuracy = 0\n",
    "for est in range(2, 21):\n",
    "    for depth in range(1, 21):\n",
    "        model_forest = RandomForestClassifier(random_state=12345, max_depth=depth, n_estimators=est)\n",
    "        model_forest.fit(features_train, target_train)\n",
    "        predictions = model_forest.predict(features_valid)\n",
    "    \n",
    "        accuracy = accuracy_score(target_valid, predictions)\n",
    "        if accuracy > best_model_forest_accuracy:\n",
    "            best_model_forest_accuracy = accuracy\n",
    "            best_model_forest = model_forest\n",
    "            best_depth_model_forest = depth\n",
    "            best_est_model_forest = est"
   ]
  },
  {
   "cell_type": "code",
   "execution_count": 10,
   "metadata": {},
   "outputs": [
    {
     "name": "stdout",
     "output_type": "stream",
     "text": [
      "Лучший результат у модели слуйчайного леса:\n",
      "Глубина:  12\n",
      "Количество деревьев:  17\n",
      "Точность: 0.806\n"
     ]
    }
   ],
   "source": [
    "print('Лучший результат у модели слуйчайного леса:')\n",
    "print('Глубина: ', best_depth_model_forest)\n",
    "print('Количество деревьев: ' , best_est_model_forest)\n",
    "print('Точность: {0:.3f}'.format(best_model_forest_accuracy))"
   ]
  },
  {
   "cell_type": "markdown",
   "metadata": {},
   "source": [
    "**3. Модель логистической регрессии**"
   ]
  },
  {
   "cell_type": "code",
   "execution_count": 11,
   "metadata": {},
   "outputs": [],
   "source": [
    "model_regression = LogisticRegression(random_state=12345)\n",
    "model_regression.fit(features_train, target_train)\n",
    "predictions = model_regression.predict(features_valid)\n",
    "    \n",
    "model_regression_accuracy = accuracy_score(target_valid, predictions)"
   ]
  },
  {
   "cell_type": "code",
   "execution_count": 12,
   "metadata": {},
   "outputs": [
    {
     "name": "stdout",
     "output_type": "stream",
     "text": [
      "Точность: 0.711\n"
     ]
    }
   ],
   "source": [
    "print('Точность: {0:.3f}'.format(model_regression_accuracy))"
   ]
  },
  {
   "cell_type": "markdown",
   "metadata": {},
   "source": [
    "В итоге:"
   ]
  },
  {
   "cell_type": "code",
   "execution_count": 13,
   "metadata": {},
   "outputs": [
    {
     "data": {
      "text/html": [
       "<div>\n",
       "<style scoped>\n",
       "    .dataframe tbody tr th:only-of-type {\n",
       "        vertical-align: middle;\n",
       "    }\n",
       "\n",
       "    .dataframe tbody tr th {\n",
       "        vertical-align: top;\n",
       "    }\n",
       "\n",
       "    .dataframe thead th {\n",
       "        text-align: right;\n",
       "    }\n",
       "</style>\n",
       "<table border=\"1\" class=\"dataframe\">\n",
       "  <thead>\n",
       "    <tr style=\"text-align: right;\">\n",
       "      <th></th>\n",
       "      <th>Лучшая точность</th>\n",
       "    </tr>\n",
       "  </thead>\n",
       "  <tbody>\n",
       "    <tr>\n",
       "      <th>Решающее дерево</th>\n",
       "      <td>0.785381</td>\n",
       "    </tr>\n",
       "    <tr>\n",
       "      <th>Случайный лес</th>\n",
       "      <td>0.805599</td>\n",
       "    </tr>\n",
       "    <tr>\n",
       "      <th>Логистическая регрессия</th>\n",
       "      <td>0.710731</td>\n",
       "    </tr>\n",
       "  </tbody>\n",
       "</table>\n",
       "</div>"
      ],
      "text/plain": [
       "                         Лучшая точность\n",
       "Решающее дерево                 0.785381\n",
       "Случайный лес                   0.805599\n",
       "Логистическая регрессия         0.710731"
      ]
     },
     "execution_count": 13,
     "metadata": {},
     "output_type": "execute_result"
    }
   ],
   "source": [
    "accuracy = [best_model_tree_accuracy, best_model_forest_accuracy, model_regression_accuracy]\n",
    "final_sheet = pd.DataFrame(accuracy, columns=['Лучшая точность'], index=['Решающее дерево','Случайный лес','Логистическая регрессия'])\n",
    "final_sheet"
   ]
  },
  {
   "cell_type": "markdown",
   "metadata": {},
   "source": [
    "Таким образом, точность предсказаний у модели случайного леса наивысшая. Известно, что данная модель наиболее медленная, но для нашей задачи скорость не так принципиальна. "
   ]
  },
  {
   "cell_type": "markdown",
   "metadata": {},
   "source": [
    "## Проверка модели на тестовой выборке <a id='id4'></a>"
   ]
  },
  {
   "cell_type": "code",
   "execution_count": 14,
   "metadata": {},
   "outputs": [
    {
     "name": "stdout",
     "output_type": "stream",
     "text": [
      "Точность модели случайного леса на тестовой выборке: 0.799\n"
     ]
    }
   ],
   "source": [
    "predictions = best_model_forest.predict(features_test)\n",
    "accuracy_test_forest = accuracy_score(target_test, predictions)\n",
    "\n",
    "print('Точность модели случайного леса на тестовой выборке: {0:.3f}'.format(accuracy_test_forest))"
   ]
  },
  {
   "cell_type": "markdown",
   "metadata": {},
   "source": [
    "Проверка на тестовой выборке подтверждает, что точность модели случайного леса выше. Таким образом, наша итоговая модель - **модель случайного леса с 17-ю деревьями и глубиной 12** c точностью **0.799**."
   ]
  },
  {
   "cell_type": "markdown",
   "metadata": {},
   "source": [
    "## Проверка модели на адекватность <a id='id5'></a>"
   ]
  },
  {
   "cell_type": "markdown",
   "metadata": {},
   "source": [
    "Сравним точность итоговой модели с точностью случайной модели. Для этого создадим список случайных чисел и вычислим точность на тестовой выборке."
   ]
  },
  {
   "cell_type": "code",
   "execution_count": 15,
   "metadata": {},
   "outputs": [
    {
     "name": "stdout",
     "output_type": "stream",
     "text": [
      "Точность случайных предсказаний: 0.481\n",
      "Точность \"наивных\" предсказаний: 0.684\n",
      "Точность выбранной модели на тестовой выборке: 0.799\n"
     ]
    }
   ],
   "source": [
    "import random\n",
    "random_list = []\n",
    "naive_list = []\n",
    "for i in range(target_valid.shape[0]):\n",
    "    random_list.append(random.randint(0,1))\n",
    "    naive_list.append(0)\n",
    "random_predictions = pd.Series(random_list)\n",
    "naive_predictions = pd.Series(naive_list)\n",
    "\n",
    "accuracy_random = accuracy_score(target_test, random_predictions)\n",
    "accuracy_naive = accuracy_score(target_test, naive_predictions)\n",
    "print('Точность случайных предсказаний: {0:.3f}'.format(accuracy_random))\n",
    "print('Точность \"наивных\" предсказаний: {0:.3f}'.format(accuracy_naive))\n",
    "print('Точность выбранной модели на тестовой выборке: {0:.3f}'.format(accuracy_test_forest))"
   ]
  },
  {
   "cell_type": "markdown",
   "metadata": {},
   "source": [
    "В итоге, можно сделать вывод, что модель адекватна."
   ]
  },
  {
   "cell_type": "markdown",
   "metadata": {},
   "source": [
    "## Вывод <a id='id6'></a>"
   ]
  },
  {
   "cell_type": "markdown",
   "metadata": {},
   "source": [
    "Мы исследовали показатели точности трех моделей. По итогам получили, что наилучший показатель точности у модели случайного леса, о чем свидетельствуют теоретические данные. \n",
    "\n",
    "Наша модель: **модель случайного леса с 17-ю деревьями и глубиной 12** c точностью **0.799**."
   ]
  },
  {
   "cell_type": "code",
   "execution_count": null,
   "metadata": {},
   "outputs": [],
   "source": []
  }
 ],
 "metadata": {
  "ExecuteTimeLog": [
   {
    "duration": 510,
    "start_time": "2023-01-06T17:55:09.113Z"
   },
   {
    "duration": 490,
    "start_time": "2023-01-18T17:44:25.207Z"
   },
   {
    "duration": 16,
    "start_time": "2023-01-18T17:44:25.699Z"
   },
   {
    "duration": 3,
    "start_time": "2023-01-18T17:44:25.717Z"
   },
   {
    "duration": 1251,
    "start_time": "2023-01-18T17:44:25.721Z"
   },
   {
    "duration": 1615,
    "start_time": "2023-01-18T17:44:26.974Z"
   },
   {
    "duration": 4,
    "start_time": "2023-01-18T17:44:28.590Z"
   },
   {
    "duration": 15819,
    "start_time": "2023-01-18T17:44:28.596Z"
   },
   {
    "duration": 4,
    "start_time": "2023-01-18T17:44:44.416Z"
   },
   {
    "duration": 228,
    "start_time": "2023-01-18T17:44:44.422Z"
   },
   {
    "duration": 92,
    "start_time": "2023-01-18T17:44:44.653Z"
   },
   {
    "duration": 105,
    "start_time": "2023-01-18T17:44:44.748Z"
   },
   {
    "duration": 11,
    "start_time": "2023-01-18T17:44:44.856Z"
   },
   {
    "duration": 113,
    "start_time": "2023-01-18T17:44:44.869Z"
   },
   {
    "duration": 77,
    "start_time": "2023-01-18T18:04:04.532Z"
   },
   {
    "duration": 1210,
    "start_time": "2023-01-18T18:09:50.365Z"
   },
   {
    "duration": 14,
    "start_time": "2023-01-18T18:10:51.984Z"
   },
   {
    "duration": 68,
    "start_time": "2023-01-18T18:19:11.501Z"
   },
   {
    "duration": 3,
    "start_time": "2023-01-18T18:19:16.697Z"
   },
   {
    "duration": 158,
    "start_time": "2023-01-18T18:19:16.702Z"
   },
   {
    "duration": 17,
    "start_time": "2023-01-18T18:19:16.862Z"
   },
   {
    "duration": 13,
    "start_time": "2023-01-18T18:19:16.881Z"
   },
   {
    "duration": 13,
    "start_time": "2023-01-18T18:19:16.896Z"
   },
   {
    "duration": 4,
    "start_time": "2023-01-18T18:19:20.231Z"
   },
   {
    "duration": 4,
    "start_time": "2023-01-18T18:19:27.371Z"
   },
   {
    "duration": 4,
    "start_time": "2023-01-18T18:20:12.501Z"
   },
   {
    "duration": 10,
    "start_time": "2023-01-18T18:21:54.861Z"
   },
   {
    "duration": 1424,
    "start_time": "2023-01-18T18:25:40.886Z"
   },
   {
    "duration": 5,
    "start_time": "2023-01-18T18:25:42.312Z"
   },
   {
    "duration": 10,
    "start_time": "2023-01-18T18:28:10.291Z"
   },
   {
    "duration": 16,
    "start_time": "2023-01-18T18:28:56.094Z"
   },
   {
    "duration": 5,
    "start_time": "2023-01-18T18:28:59.090Z"
   },
   {
    "duration": 99,
    "start_time": "2023-01-18T18:28:59.097Z"
   },
   {
    "duration": 14,
    "start_time": "2023-01-18T18:28:59.198Z"
   },
   {
    "duration": 20,
    "start_time": "2023-01-18T18:28:59.215Z"
   },
   {
    "duration": 24,
    "start_time": "2023-01-18T18:28:59.239Z"
   },
   {
    "duration": 23,
    "start_time": "2023-01-18T18:28:59.265Z"
   },
   {
    "duration": 1465,
    "start_time": "2023-01-18T18:28:59.290Z"
   },
   {
    "duration": 4,
    "start_time": "2023-01-18T18:29:00.757Z"
   },
   {
    "duration": 14190,
    "start_time": "2023-01-18T18:29:00.763Z"
   },
   {
    "duration": 4,
    "start_time": "2023-01-18T18:29:14.954Z"
   },
   {
    "duration": 34,
    "start_time": "2023-01-18T18:29:14.961Z"
   },
   {
    "duration": 3,
    "start_time": "2023-01-18T18:29:14.997Z"
   },
   {
    "duration": 12,
    "start_time": "2023-01-18T18:29:15.001Z"
   },
   {
    "duration": 27,
    "start_time": "2023-01-18T18:29:15.016Z"
   },
   {
    "duration": 10,
    "start_time": "2023-01-18T18:29:15.062Z"
   },
   {
    "duration": 8,
    "start_time": "2023-01-18T18:30:37.888Z"
   },
   {
    "duration": 8,
    "start_time": "2023-01-18T18:31:19.573Z"
   },
   {
    "duration": 15,
    "start_time": "2023-01-18T18:31:25.517Z"
   },
   {
    "duration": 8,
    "start_time": "2023-01-18T18:31:36.384Z"
   },
   {
    "duration": 9,
    "start_time": "2023-01-18T18:33:42.710Z"
   },
   {
    "duration": 14495,
    "start_time": "2023-01-18T18:33:45.000Z"
   },
   {
    "duration": 10,
    "start_time": "2023-01-18T18:33:59.498Z"
   },
   {
    "duration": 14833,
    "start_time": "2023-01-18T18:34:49.672Z"
   },
   {
    "duration": 6,
    "start_time": "2023-01-18T18:35:42.123Z"
   },
   {
    "duration": 11,
    "start_time": "2023-01-18T18:35:48.383Z"
   },
   {
    "duration": 5,
    "start_time": "2023-01-18T18:35:51.776Z"
   },
   {
    "duration": 5,
    "start_time": "2023-01-18T18:37:06.008Z"
   },
   {
    "duration": 5,
    "start_time": "2023-01-18T18:37:13.520Z"
   },
   {
    "duration": 9,
    "start_time": "2023-01-18T18:37:56.565Z"
   },
   {
    "duration": 3,
    "start_time": "2023-01-18T18:38:17.638Z"
   },
   {
    "duration": 65,
    "start_time": "2023-01-18T18:38:17.644Z"
   },
   {
    "duration": 12,
    "start_time": "2023-01-18T18:38:17.711Z"
   },
   {
    "duration": 8,
    "start_time": "2023-01-18T18:38:17.726Z"
   },
   {
    "duration": 10,
    "start_time": "2023-01-18T18:38:17.736Z"
   },
   {
    "duration": 8,
    "start_time": "2023-01-18T18:38:17.747Z"
   },
   {
    "duration": 1420,
    "start_time": "2023-01-18T18:38:17.757Z"
   },
   {
    "duration": 4,
    "start_time": "2023-01-18T18:38:19.179Z"
   },
   {
    "duration": 13691,
    "start_time": "2023-01-18T18:38:19.185Z"
   },
   {
    "duration": 4,
    "start_time": "2023-01-18T18:38:32.880Z"
   },
   {
    "duration": 30,
    "start_time": "2023-01-18T18:38:32.885Z"
   },
   {
    "duration": 2,
    "start_time": "2023-01-18T18:38:32.917Z"
   },
   {
    "duration": 20,
    "start_time": "2023-01-18T18:38:32.921Z"
   },
   {
    "duration": 21,
    "start_time": "2023-01-18T18:38:32.942Z"
   },
   {
    "duration": 7,
    "start_time": "2023-01-18T18:38:32.964Z"
   },
   {
    "duration": 1204,
    "start_time": "2023-01-18T18:51:02.639Z"
   },
   {
    "duration": 64,
    "start_time": "2023-01-18T18:51:03.845Z"
   },
   {
    "duration": 20,
    "start_time": "2023-01-18T18:51:03.911Z"
   },
   {
    "duration": 12,
    "start_time": "2023-01-18T18:51:03.933Z"
   },
   {
    "duration": 12,
    "start_time": "2023-01-18T18:51:03.947Z"
   },
   {
    "duration": 22,
    "start_time": "2023-01-18T18:51:03.961Z"
   },
   {
    "duration": 1481,
    "start_time": "2023-01-18T18:51:03.986Z"
   },
   {
    "duration": 4,
    "start_time": "2023-01-18T18:51:05.469Z"
   },
   {
    "duration": 14408,
    "start_time": "2023-01-18T18:51:05.475Z"
   },
   {
    "duration": 4,
    "start_time": "2023-01-18T18:51:19.885Z"
   },
   {
    "duration": 45,
    "start_time": "2023-01-18T18:51:19.891Z"
   },
   {
    "duration": 3,
    "start_time": "2023-01-18T18:51:19.938Z"
   },
   {
    "duration": 11,
    "start_time": "2023-01-18T18:51:19.943Z"
   },
   {
    "duration": 11,
    "start_time": "2023-01-18T18:51:19.956Z"
   },
   {
    "duration": 13,
    "start_time": "2023-01-18T18:51:19.969Z"
   },
   {
    "duration": 1561,
    "start_time": "2023-01-18T19:32:13.963Z"
   },
   {
    "duration": 84,
    "start_time": "2023-01-18T19:32:15.526Z"
   },
   {
    "duration": 15,
    "start_time": "2023-01-18T19:32:15.611Z"
   },
   {
    "duration": 3,
    "start_time": "2023-01-18T19:32:15.628Z"
   },
   {
    "duration": 7,
    "start_time": "2023-01-18T19:32:15.633Z"
   },
   {
    "duration": 5,
    "start_time": "2023-01-18T19:32:15.642Z"
   },
   {
    "duration": 1582,
    "start_time": "2023-01-18T19:32:15.648Z"
   },
   {
    "duration": 11,
    "start_time": "2023-01-18T19:32:17.232Z"
   },
   {
    "duration": 13726,
    "start_time": "2023-01-18T19:32:17.245Z"
   },
   {
    "duration": 4,
    "start_time": "2023-01-18T19:32:30.973Z"
   },
   {
    "duration": 176,
    "start_time": "2023-01-18T19:32:30.978Z"
   },
   {
    "duration": 99,
    "start_time": "2023-01-18T19:32:31.246Z"
   },
   {
    "duration": 17,
    "start_time": "2023-01-18T19:32:31.347Z"
   },
   {
    "duration": 19,
    "start_time": "2023-01-18T19:32:31.365Z"
   },
   {
    "duration": 10,
    "start_time": "2023-01-18T19:32:31.385Z"
   }
  ],
  "kernelspec": {
   "display_name": "Python 3 (ipykernel)",
   "language": "python",
   "name": "python3"
  },
  "language_info": {
   "codemirror_mode": {
    "name": "ipython",
    "version": 3
   },
   "file_extension": ".py",
   "mimetype": "text/x-python",
   "name": "python",
   "nbconvert_exporter": "python",
   "pygments_lexer": "ipython3",
   "version": "3.9.13"
  },
  "toc": {
   "base_numbering": 1,
   "nav_menu": {},
   "number_sections": true,
   "sideBar": true,
   "skip_h1_title": true,
   "title_cell": "Table of Contents",
   "title_sidebar": "Contents",
   "toc_cell": false,
   "toc_position": {},
   "toc_section_display": true,
   "toc_window_display": false
  }
 },
 "nbformat": 4,
 "nbformat_minor": 2
}
