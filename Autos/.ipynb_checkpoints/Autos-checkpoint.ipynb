{
 "cells": [
  {
   "cell_type": "markdown",
   "metadata": {},
   "source": [
    "# Определение стоимости автомобилей"
   ]
  },
  {
   "cell_type": "markdown",
   "metadata": {},
   "source": [
    "Сервис по продаже автомобилей с пробегом разрабатывает приложение для привлечения новых клиентов. В нём можно быстро узнать рыночную стоимость своего автомобиля. \n",
    "\n",
    "Входные данные: технические характеристики, комплектации и цены автомобилей. \n",
    "Задача: построить модель для определения стоимости при условии, что заказчику важны: \n",
    "- качество предсказания;\n",
    "- скорость предсказания;\n",
    "- время обучения."
   ]
  },
  {
   "cell_type": "markdown",
   "metadata": {},
   "source": [
    "<h1>Содержание<span class=\"tocSkip\"></span></h1>\n",
    "\n",
    "<div class=\"toc\">\n",
    "    <ul class=\"toc-item\">\n",
    "        <li><span><a href=\"#Подготовка-данных\" data-toc-modified-id=\"Подготовка-данных-1\"><span class=\"toc-item-num\">1&nbsp;&nbsp;</span>Подготовка данных</a></span>\n",
    "            <ul class=\"toc-item\">\n",
    "                <li><span><a href=\"#Общий взгляд\" data-toc-modified-id=\"Общий-взгляд-1.1\"><span class=\"toc-item-num\">1.1&nbsp;&nbsp;</span>Общий взгляд</a></span></li>\n",
    "                <li><span><a href=\"#Анализ дубликатов\" data-toc-modified-id=\"Анализ-дубликатов-1.2\"><span class=\"toc-item-num\">1.2&nbsp;&nbsp;</span>Анализ дубликатов</a></span></li>\n",
    "                <li><span><a href=\"#Анализ-признаков\" data-toc-modified-id=\"Анализ-признаков-1.3\"><span class=\"toc-item-num\">1.3&nbsp;&nbsp;</span>Анализ признаков</a></span></li>\n",
    "                <li><span><a href=\"#Визуализация\" data-toc-modified-id=\"Визуализация-1.4\"><span class=\"toc-item-num\">1.4&nbsp;&nbsp;</span>Визуализация</a></span></li>\n",
    "                <li><span><a href=\"#Анализ-пропусков\" data-toc-modified-id=\"Анализ-пропусков-1.5\"><span class=\"toc-item-num\">1.5&nbsp;&nbsp;</span>Анализ пропусков</a></span></li>\n",
    "                <li><span><a href=\"#Исследование-выбросов\" data-toc-modified-id=\"Исследование-выбросов-1.6\"><span class=\"toc-item-num\">1.6&nbsp;&nbsp;</span>Исследование выбросов</a></span></li>\n",
    "                <li><span><a href=\"#Проверка-на-мультиколлениарность\" data-toc-modified-id=\"Проверка-на-мультиколлениарность-1.7\"><span class=\"toc-item-num\">1.7&nbsp;&nbsp;</span>Проверка на мультиколлениарность</a></span></li>\n",
    "                <li><span><a href=\"#Кодирование\" data-toc-modified-id=\"Кодирование-1.8\"><span class=\"toc-item-num\">1.8&nbsp;&nbsp;</span>Кодирование</a></span>\n",
    "                    <ul>\n",
    "                        <li><span><a href=\"#Анализ-уникальных-значений\" data-toc-modified-id=\"Анализ-уникальных-значений-1.8.1\"><span class=\"toc-item-num\">1.8.1&nbsp;&nbsp;</span>Анализ уникальных значений</a></span></li>\n",
    "                        <li><span><a href=\"#Выбор-метода-кодирования\" data-toc-modified-id=\"Выбор-метода-кодирования-1.8.2\"><span class=\"toc-item-num\">1.8.2&nbsp;&nbsp;</span>Выбор метода кодирования</a></span>\n",
    "                    </ul>\n",
    "                </li>\n",
    "                <li><span><a href=\"#Масштабирование\" data-toc-modified-id=\"Масштабирование-1.9\"><span class=\"toc-item-num\">1.9&nbsp;&nbsp;</span>Масштабирование</a></span></li>\n",
    "                <li><span><a href=\"#Разделение-признаков\" data-toc-modified-id=\"Разделение-признаков-1.10\"><span class=\"toc-item-num\">1.10&nbsp;&nbsp;</span>Разделение признаков</a></span></li>\n",
    "            </ul>\n",
    "        </li>\n",
    "        <li><span><a href=\"#Обучение-моделей\" data-toc-modified-id=\"Обучение-моделей-2\"><span class=\"toc-item-num\">2&nbsp;&nbsp;</span>Обучение моделей</a></span>\n",
    "            <ul class=\"toc-item\">\n",
    "                <li><span><a href=\"Простейшие-модели:-решающее-дерево-и-регрессия\" data-toc-modified-id=\"Простейшие-модели:-решающее-дерево-и-регрессия-2.1\"><span class=\"toc-item-num\">2.1&nbsp;&nbsp;</span>Простейшие модели: решающее дерево и регрессия</a></span></li>\n",
    "                <li><span><a href=\"#Случайный-лес\" data-toc-modified-id=\"Случайный-лес-2.2\"><span class=\"toc-item-num\">2.2&nbsp;&nbsp;</span>Случайный лес</a></span></li>\n",
    "                <li><span><a href=\"#Градиентный-бустинг\" data-toc-modified-id=\"Градиентный-бустинг-2.3\"><span class=\"toc-item-num\">2.3&nbsp;&nbsp;</span>Градиентный бустинг</a></span>\n",
    "                    <ul>\n",
    "                        <li><span><a href=\"#LGMBoost\" data-toc-modified-id=\"LGMBoost-2.3.1\"><span class=\"toc-item-num\">2.3.1&nbsp;&nbsp;</span>LGMBoost</a></span></li>\n",
    "                        <li><span><a href=\"#CatBoost\" data-toc-modified-id=\"CatBoost\"><span class=\"toc-item-num\">2.3.2&nbsp;&nbsp;</span>CatBoost</a></span>\n",
    "                        <li><span><a href=\"#XGBoost\" data-toc-modified-id=\"XGBoost-2.3.3\"><span class=\"toc-item-num\">2.3.3&nbsp;&nbsp;</span>XGBoost</a></span>\n",
    "                    </ul>\n",
    "                </li>\n",
    "            </ul>\n",
    "        </li>\n",
    "        <li><span><a href=\"#Анализ-результатов\" data-toc-modified-id=\"Анализ-результатов\"><span class=\"toc-item-num\">3&nbsp;&nbsp;</span>Анализ результатов</a></span>\n",
    "        </li>\n",
    "        <li><span><a href=\"#Тестирование-лучшей-модели\" data-toc-modified-id=\"Тестирование-лучшей-модели\"><span class=\"toc-item-num\">4&nbsp;&nbsp;</span>Тестирование лучшей модели</a></span>\n",
    "        </li>\n",
    "    </ul>\n",
    "</div>"
   ]
  },
  {
   "cell_type": "code",
   "execution_count": 1,
   "metadata": {},
   "outputs": [
    {
     "name": "stdout",
     "output_type": "stream",
     "text": [
      "Requirement already satisfied: lightgbm in d:\\user\\users\\anaconda\\lib\\site-packages (3.3.5)\n",
      "Requirement already satisfied: scipy in d:\\user\\users\\anaconda\\lib\\site-packages (from lightgbm) (1.9.1)\n",
      "Requirement already satisfied: numpy in d:\\user\\users\\anaconda\\lib\\site-packages (from lightgbm) (1.21.5)\n",
      "Requirement already satisfied: scikit-learn!=0.22.0 in d:\\user\\users\\anaconda\\lib\\site-packages (from lightgbm) (1.0.2)\n",
      "Requirement already satisfied: wheel in d:\\user\\users\\anaconda\\lib\\site-packages (from lightgbm) (0.37.1)\n",
      "Requirement already satisfied: joblib>=0.11 in d:\\user\\users\\anaconda\\lib\\site-packages (from scikit-learn!=0.22.0->lightgbm) (1.2.0)\n",
      "Requirement already satisfied: threadpoolctl>=2.0.0 in d:\\user\\users\\anaconda\\lib\\site-packages (from scikit-learn!=0.22.0->lightgbm) (2.2.0)\n"
     ]
    }
   ],
   "source": [
    "!pip install lightgbm"
   ]
  },
  {
   "cell_type": "code",
   "execution_count": 2,
   "metadata": {},
   "outputs": [
    {
     "name": "stdout",
     "output_type": "stream",
     "text": [
      "Requirement already satisfied: xgboost in d:\\user\\users\\anaconda\\lib\\site-packages (1.7.4)\n",
      "Requirement already satisfied: scipy in d:\\user\\users\\anaconda\\lib\\site-packages (from xgboost) (1.9.1)\n",
      "Requirement already satisfied: numpy in d:\\user\\users\\anaconda\\lib\\site-packages (from xgboost) (1.21.5)\n"
     ]
    }
   ],
   "source": [
    "!pip install xgboost"
   ]
  },
  {
   "cell_type": "code",
   "execution_count": 3,
   "metadata": {},
   "outputs": [
    {
     "name": "stdout",
     "output_type": "stream",
     "text": [
      "Requirement already satisfied: catboost in d:\\user\\users\\anaconda\\lib\\site-packages (1.1.1)\n",
      "Requirement already satisfied: matplotlib in d:\\user\\users\\anaconda\\lib\\site-packages (from catboost) (3.5.2)\n",
      "Requirement already satisfied: scipy in d:\\user\\users\\anaconda\\lib\\site-packages (from catboost) (1.9.1)\n",
      "Requirement already satisfied: graphviz in d:\\user\\users\\anaconda\\lib\\site-packages (from catboost) (0.20.1)\n",
      "Requirement already satisfied: six in d:\\user\\users\\anaconda\\lib\\site-packages (from catboost) (1.16.0)\n",
      "Requirement already satisfied: plotly in d:\\user\\users\\anaconda\\lib\\site-packages (from catboost) (5.9.0)\n",
      "Requirement already satisfied: pandas>=0.24.0 in d:\\user\\users\\anaconda\\lib\\site-packages (from catboost) (1.4.4)\n",
      "Requirement already satisfied: numpy>=1.16.0 in d:\\user\\users\\anaconda\\lib\\site-packages (from catboost) (1.21.5)\n",
      "Requirement already satisfied: pytz>=2020.1 in d:\\user\\users\\anaconda\\lib\\site-packages (from pandas>=0.24.0->catboost) (2022.1)\n",
      "Requirement already satisfied: python-dateutil>=2.8.1 in d:\\user\\users\\anaconda\\lib\\site-packages (from pandas>=0.24.0->catboost) (2.8.2)\n",
      "Requirement already satisfied: kiwisolver>=1.0.1 in d:\\user\\users\\anaconda\\lib\\site-packages (from matplotlib->catboost) (1.4.2)\n",
      "Requirement already satisfied: packaging>=20.0 in d:\\user\\users\\anaconda\\lib\\site-packages (from matplotlib->catboost) (21.3)\n",
      "Requirement already satisfied: pillow>=6.2.0 in d:\\user\\users\\anaconda\\lib\\site-packages (from matplotlib->catboost) (9.2.0)\n",
      "Requirement already satisfied: cycler>=0.10 in d:\\user\\users\\anaconda\\lib\\site-packages (from matplotlib->catboost) (0.11.0)\n",
      "Requirement already satisfied: pyparsing>=2.2.1 in d:\\user\\users\\anaconda\\lib\\site-packages (from matplotlib->catboost) (3.0.9)\n",
      "Requirement already satisfied: fonttools>=4.22.0 in d:\\user\\users\\anaconda\\lib\\site-packages (from matplotlib->catboost) (4.25.0)\n",
      "Requirement already satisfied: tenacity>=6.2.0 in d:\\user\\users\\anaconda\\lib\\site-packages (from plotly->catboost) (8.0.1)\n"
     ]
    }
   ],
   "source": [
    "!pip install catboost"
   ]
  },
  {
   "cell_type": "markdown",
   "metadata": {},
   "source": [
    "Импортируем необходимые библиотеки:"
   ]
  },
  {
   "cell_type": "code",
   "execution_count": 4,
   "metadata": {},
   "outputs": [],
   "source": [
    "import os\n",
    "\n",
    "import pandas as pd\n",
    "import numpy as np\n",
    "import matplotlib.pyplot as plt\n",
    "import seaborn as sns\n",
    "import time\n",
    "\n",
    "from sklearn.tree import DecisionTreeRegressor\n",
    "from sklearn.ensemble import RandomForestRegressor\n",
    "from sklearn.linear_model import LinearRegression\n",
    "from sklearn.metrics import mean_squared_error\n",
    "from sklearn.model_selection import cross_val_score\n",
    "from sklearn.preprocessing import (\n",
    "    LabelEncoder, \n",
    "    OneHotEncoder, \n",
    "    StandardScaler\n",
    ")\n",
    "from sklearn.model_selection import train_test_split\n",
    "\n",
    "from lightgbm import LGBMRegressor\n",
    "from xgboost import XGBRegressor\n",
    "from catboost import CatBoostRegressor"
   ]
  },
  {
   "cell_type": "code",
   "execution_count": 5,
   "metadata": {},
   "outputs": [],
   "source": [
    "RANDOM_STATE = 12345"
   ]
  },
  {
   "cell_type": "markdown",
   "metadata": {},
   "source": [
    "## Подготовка данных"
   ]
  },
  {
   "cell_type": "markdown",
   "metadata": {},
   "source": [
    "Откроем датасет:"
   ]
  },
  {
   "cell_type": "code",
   "execution_count": 6,
   "metadata": {},
   "outputs": [],
   "source": [
    "if os.path.exists('autos.csv'):\n",
    "    data = pd.read_csv('autos.csv')\n",
    "elif os.path.exists('/datasets/autos.csv'):\n",
    "    data = pd.read_csv('/datasets/autos.csv')\n",
    "else:\n",
    "    print(\"Проверьте правильность пути к датасету autos.csv\")"
   ]
  },
  {
   "cell_type": "markdown",
   "metadata": {},
   "source": [
    "### Общий взгляд"
   ]
  },
  {
   "cell_type": "code",
   "execution_count": 7,
   "metadata": {},
   "outputs": [
    {
     "data": {
      "text/html": [
       "<div>\n",
       "<style scoped>\n",
       "    .dataframe tbody tr th:only-of-type {\n",
       "        vertical-align: middle;\n",
       "    }\n",
       "\n",
       "    .dataframe tbody tr th {\n",
       "        vertical-align: top;\n",
       "    }\n",
       "\n",
       "    .dataframe thead th {\n",
       "        text-align: right;\n",
       "    }\n",
       "</style>\n",
       "<table border=\"1\" class=\"dataframe\">\n",
       "  <thead>\n",
       "    <tr style=\"text-align: right;\">\n",
       "      <th></th>\n",
       "      <th>DateCrawled</th>\n",
       "      <th>Price</th>\n",
       "      <th>VehicleType</th>\n",
       "      <th>RegistrationYear</th>\n",
       "      <th>Gearbox</th>\n",
       "      <th>Power</th>\n",
       "      <th>Model</th>\n",
       "      <th>Kilometer</th>\n",
       "      <th>RegistrationMonth</th>\n",
       "      <th>FuelType</th>\n",
       "      <th>Brand</th>\n",
       "      <th>Repaired</th>\n",
       "      <th>DateCreated</th>\n",
       "      <th>NumberOfPictures</th>\n",
       "      <th>PostalCode</th>\n",
       "      <th>LastSeen</th>\n",
       "    </tr>\n",
       "  </thead>\n",
       "  <tbody>\n",
       "    <tr>\n",
       "      <th>0</th>\n",
       "      <td>2016-03-24 11:52:17</td>\n",
       "      <td>480</td>\n",
       "      <td>NaN</td>\n",
       "      <td>1993</td>\n",
       "      <td>manual</td>\n",
       "      <td>0</td>\n",
       "      <td>golf</td>\n",
       "      <td>150000</td>\n",
       "      <td>0</td>\n",
       "      <td>petrol</td>\n",
       "      <td>volkswagen</td>\n",
       "      <td>NaN</td>\n",
       "      <td>2016-03-24 00:00:00</td>\n",
       "      <td>0</td>\n",
       "      <td>70435</td>\n",
       "      <td>2016-04-07 03:16:57</td>\n",
       "    </tr>\n",
       "    <tr>\n",
       "      <th>1</th>\n",
       "      <td>2016-03-24 10:58:45</td>\n",
       "      <td>18300</td>\n",
       "      <td>coupe</td>\n",
       "      <td>2011</td>\n",
       "      <td>manual</td>\n",
       "      <td>190</td>\n",
       "      <td>NaN</td>\n",
       "      <td>125000</td>\n",
       "      <td>5</td>\n",
       "      <td>gasoline</td>\n",
       "      <td>audi</td>\n",
       "      <td>yes</td>\n",
       "      <td>2016-03-24 00:00:00</td>\n",
       "      <td>0</td>\n",
       "      <td>66954</td>\n",
       "      <td>2016-04-07 01:46:50</td>\n",
       "    </tr>\n",
       "    <tr>\n",
       "      <th>2</th>\n",
       "      <td>2016-03-14 12:52:21</td>\n",
       "      <td>9800</td>\n",
       "      <td>suv</td>\n",
       "      <td>2004</td>\n",
       "      <td>auto</td>\n",
       "      <td>163</td>\n",
       "      <td>grand</td>\n",
       "      <td>125000</td>\n",
       "      <td>8</td>\n",
       "      <td>gasoline</td>\n",
       "      <td>jeep</td>\n",
       "      <td>NaN</td>\n",
       "      <td>2016-03-14 00:00:00</td>\n",
       "      <td>0</td>\n",
       "      <td>90480</td>\n",
       "      <td>2016-04-05 12:47:46</td>\n",
       "    </tr>\n",
       "    <tr>\n",
       "      <th>3</th>\n",
       "      <td>2016-03-17 16:54:04</td>\n",
       "      <td>1500</td>\n",
       "      <td>small</td>\n",
       "      <td>2001</td>\n",
       "      <td>manual</td>\n",
       "      <td>75</td>\n",
       "      <td>golf</td>\n",
       "      <td>150000</td>\n",
       "      <td>6</td>\n",
       "      <td>petrol</td>\n",
       "      <td>volkswagen</td>\n",
       "      <td>no</td>\n",
       "      <td>2016-03-17 00:00:00</td>\n",
       "      <td>0</td>\n",
       "      <td>91074</td>\n",
       "      <td>2016-03-17 17:40:17</td>\n",
       "    </tr>\n",
       "    <tr>\n",
       "      <th>4</th>\n",
       "      <td>2016-03-31 17:25:20</td>\n",
       "      <td>3600</td>\n",
       "      <td>small</td>\n",
       "      <td>2008</td>\n",
       "      <td>manual</td>\n",
       "      <td>69</td>\n",
       "      <td>fabia</td>\n",
       "      <td>90000</td>\n",
       "      <td>7</td>\n",
       "      <td>gasoline</td>\n",
       "      <td>skoda</td>\n",
       "      <td>no</td>\n",
       "      <td>2016-03-31 00:00:00</td>\n",
       "      <td>0</td>\n",
       "      <td>60437</td>\n",
       "      <td>2016-04-06 10:17:21</td>\n",
       "    </tr>\n",
       "  </tbody>\n",
       "</table>\n",
       "</div>"
      ],
      "text/plain": [
       "           DateCrawled  Price VehicleType  RegistrationYear Gearbox  Power  \\\n",
       "0  2016-03-24 11:52:17    480         NaN              1993  manual      0   \n",
       "1  2016-03-24 10:58:45  18300       coupe              2011  manual    190   \n",
       "2  2016-03-14 12:52:21   9800         suv              2004    auto    163   \n",
       "3  2016-03-17 16:54:04   1500       small              2001  manual     75   \n",
       "4  2016-03-31 17:25:20   3600       small              2008  manual     69   \n",
       "\n",
       "   Model  Kilometer  RegistrationMonth  FuelType       Brand Repaired  \\\n",
       "0   golf     150000                  0    petrol  volkswagen      NaN   \n",
       "1    NaN     125000                  5  gasoline        audi      yes   \n",
       "2  grand     125000                  8  gasoline        jeep      NaN   \n",
       "3   golf     150000                  6    petrol  volkswagen       no   \n",
       "4  fabia      90000                  7  gasoline       skoda       no   \n",
       "\n",
       "           DateCreated  NumberOfPictures  PostalCode             LastSeen  \n",
       "0  2016-03-24 00:00:00                 0       70435  2016-04-07 03:16:57  \n",
       "1  2016-03-24 00:00:00                 0       66954  2016-04-07 01:46:50  \n",
       "2  2016-03-14 00:00:00                 0       90480  2016-04-05 12:47:46  \n",
       "3  2016-03-17 00:00:00                 0       91074  2016-03-17 17:40:17  \n",
       "4  2016-03-31 00:00:00                 0       60437  2016-04-06 10:17:21  "
      ]
     },
     "execution_count": 7,
     "metadata": {},
     "output_type": "execute_result"
    }
   ],
   "source": [
    "data.head()"
   ]
  },
  {
   "cell_type": "markdown",
   "metadata": {},
   "source": [
    "Перед нами стоит задача регрессии по целевому признаку `Price`.\n",
    "\n",
    "- DateCrawled — дата скачивания анкеты из базы\n",
    "- VehicleType — тип автомобильного кузова\n",
    "- RegistrationYear — год регистрации автомобиля\n",
    "- Gearbox — тип коробки передач\n",
    "- Power — мощность (л. с.)\n",
    "- Model — модель автомобиля\n",
    "- Kilometer — пробег (км)\n",
    "- RegistrationMonth — месяц регистрации автомобиля\n",
    "- FuelType — тип топлива\n",
    "- Brand — марка автомобиля\n",
    "- Repaired — была машина в ремонте или нет\n",
    "- DateCreated — дата создания анкеты\n",
    "- NumberOfPictures — количество фотографий автомобиля\n",
    "- PostalCode — почтовый индекс владельца анкеты (пользователя)\n",
    "- LastSeen — дата последней активности пользователя"
   ]
  },
  {
   "cell_type": "code",
   "execution_count": 8,
   "metadata": {},
   "outputs": [
    {
     "name": "stdout",
     "output_type": "stream",
     "text": [
      "<class 'pandas.core.frame.DataFrame'>\n",
      "RangeIndex: 354369 entries, 0 to 354368\n",
      "Data columns (total 16 columns):\n",
      " #   Column             Non-Null Count   Dtype \n",
      "---  ------             --------------   ----- \n",
      " 0   DateCrawled        354369 non-null  object\n",
      " 1   Price              354369 non-null  int64 \n",
      " 2   VehicleType        316879 non-null  object\n",
      " 3   RegistrationYear   354369 non-null  int64 \n",
      " 4   Gearbox            334536 non-null  object\n",
      " 5   Power              354369 non-null  int64 \n",
      " 6   Model              334664 non-null  object\n",
      " 7   Kilometer          354369 non-null  int64 \n",
      " 8   RegistrationMonth  354369 non-null  int64 \n",
      " 9   FuelType           321474 non-null  object\n",
      " 10  Brand              354369 non-null  object\n",
      " 11  Repaired           283215 non-null  object\n",
      " 12  DateCreated        354369 non-null  object\n",
      " 13  NumberOfPictures   354369 non-null  int64 \n",
      " 14  PostalCode         354369 non-null  int64 \n",
      " 15  LastSeen           354369 non-null  object\n",
      "dtypes: int64(7), object(9)\n",
      "memory usage: 43.3+ MB\n"
     ]
    }
   ],
   "source": [
    "data.info()"
   ]
  },
  {
   "cell_type": "markdown",
   "metadata": {},
   "source": [
    "Выборка данных довольна боьшая, поэтому есть вероятность, что для обучения мы будем использовать не все данные, но с этим разбеермся позже. С типами данных проблем нет. Имеютя пропуски, обработкой которых мы также займемся далее."
   ]
  },
  {
   "cell_type": "code",
   "execution_count": 9,
   "metadata": {},
   "outputs": [],
   "source": [
    "SIZE_BEFORE_PREPARE = data.shape[0]"
   ]
  },
  {
   "cell_type": "markdown",
   "metadata": {},
   "source": [
    "### Анализ дубликатов"
   ]
  },
  {
   "cell_type": "markdown",
   "metadata": {},
   "source": [
    "На \"сырых\" данных удостоверимся, что в данных нет дубликатов:"
   ]
  },
  {
   "cell_type": "code",
   "execution_count": 10,
   "metadata": {},
   "outputs": [
    {
     "data": {
      "text/plain": [
       "4"
      ]
     },
     "execution_count": 10,
     "metadata": {},
     "output_type": "execute_result"
    }
   ],
   "source": [
    "data.duplicated().sum()"
   ]
  },
  {
   "cell_type": "markdown",
   "metadata": {},
   "source": [
    "Т.к. ничего из данных мы пока не удаляли, это абсолютно точно выгруженные дубликаты. Удалим их."
   ]
  },
  {
   "cell_type": "code",
   "execution_count": 11,
   "metadata": {},
   "outputs": [],
   "source": [
    "data = data.drop_duplicates().reset_index(drop=True)"
   ]
  },
  {
   "cell_type": "markdown",
   "metadata": {},
   "source": [
    "Проверим:"
   ]
  },
  {
   "cell_type": "code",
   "execution_count": 12,
   "metadata": {},
   "outputs": [
    {
     "data": {
      "text/plain": [
       "0"
      ]
     },
     "execution_count": 12,
     "metadata": {},
     "output_type": "execute_result"
    }
   ],
   "source": [
    "data.duplicated().sum()"
   ]
  },
  {
   "cell_type": "markdown",
   "metadata": {},
   "source": [
    "### Анализ признаков"
   ]
  },
  {
   "cell_type": "markdown",
   "metadata": {},
   "source": [
    "Я думаю, что признаки дат `DateCrawled`, `DateCreated`, `LastSeen`, которые имеются в датасете не окажут влияния на стоимость авто при обучении моделей. <br>\n",
    "Более того, я думаю, что и сам признак года регистрации `RegistrationYear` и месяца реистрации `RegistrationMonth`, поэтому:\n",
    "- удалим признаки `DateCreated`, `LastSeen`\n",
    "- найдем возраст авто из признаков выгрузи данных и данных о моменте регистрации"
   ]
  },
  {
   "cell_type": "code",
   "execution_count": 13,
   "metadata": {},
   "outputs": [],
   "source": [
    "data = data.drop(['LastSeen', 'DateCreated'], axis=1)"
   ]
  },
  {
   "cell_type": "markdown",
   "metadata": {},
   "source": [
    "Стоимость точно определяет возраст машины, для машин среднего сегмента цена будет пропорционально зависеть от возраста."
   ]
  },
  {
   "cell_type": "code",
   "execution_count": 14,
   "metadata": {},
   "outputs": [],
   "source": [
    "data['DateCrawled'] = pd.to_datetime(data['DateCrawled'])"
   ]
  },
  {
   "cell_type": "markdown",
   "metadata": {},
   "source": [
    "Перед этим мы рассмотрим некоторые значения года регистрации авто:"
   ]
  },
  {
   "cell_type": "code",
   "execution_count": 15,
   "metadata": {},
   "outputs": [
    {
     "data": {
      "text/plain": [
       "array([2016], dtype=int64)"
      ]
     },
     "execution_count": 15,
     "metadata": {},
     "output_type": "execute_result"
    }
   ],
   "source": [
    "data['DateCrawled'].dt.year.unique()"
   ]
  },
  {
   "cell_type": "markdown",
   "metadata": {},
   "source": [
    "Получается дата выгрузки - 2016 год, то есть регистрации выше 2016 года быть по идее не может"
   ]
  },
  {
   "cell_type": "code",
   "execution_count": 16,
   "metadata": {
    "scrolled": true
   },
   "outputs": [
    {
     "data": {
      "text/html": [
       "<div>\n",
       "<style scoped>\n",
       "    .dataframe tbody tr th:only-of-type {\n",
       "        vertical-align: middle;\n",
       "    }\n",
       "\n",
       "    .dataframe tbody tr th {\n",
       "        vertical-align: top;\n",
       "    }\n",
       "\n",
       "    .dataframe thead th {\n",
       "        text-align: right;\n",
       "    }\n",
       "</style>\n",
       "<table border=\"1\" class=\"dataframe\">\n",
       "  <thead>\n",
       "    <tr style=\"text-align: right;\">\n",
       "      <th></th>\n",
       "      <th>DateCrawled</th>\n",
       "      <th>Price</th>\n",
       "      <th>VehicleType</th>\n",
       "      <th>RegistrationYear</th>\n",
       "      <th>Gearbox</th>\n",
       "      <th>Power</th>\n",
       "      <th>Model</th>\n",
       "      <th>Kilometer</th>\n",
       "      <th>RegistrationMonth</th>\n",
       "      <th>FuelType</th>\n",
       "      <th>Brand</th>\n",
       "      <th>Repaired</th>\n",
       "      <th>NumberOfPictures</th>\n",
       "      <th>PostalCode</th>\n",
       "    </tr>\n",
       "  </thead>\n",
       "  <tbody>\n",
       "    <tr>\n",
       "      <th>22</th>\n",
       "      <td>2016-03-23 14:52:51</td>\n",
       "      <td>2900</td>\n",
       "      <td>NaN</td>\n",
       "      <td>2018</td>\n",
       "      <td>manual</td>\n",
       "      <td>90</td>\n",
       "      <td>meriva</td>\n",
       "      <td>150000</td>\n",
       "      <td>5</td>\n",
       "      <td>petrol</td>\n",
       "      <td>opel</td>\n",
       "      <td>no</td>\n",
       "      <td>0</td>\n",
       "      <td>49716</td>\n",
       "    </tr>\n",
       "    <tr>\n",
       "      <th>26</th>\n",
       "      <td>2016-03-10 19:38:18</td>\n",
       "      <td>5555</td>\n",
       "      <td>NaN</td>\n",
       "      <td>2017</td>\n",
       "      <td>manual</td>\n",
       "      <td>125</td>\n",
       "      <td>c4</td>\n",
       "      <td>125000</td>\n",
       "      <td>4</td>\n",
       "      <td>NaN</td>\n",
       "      <td>citroen</td>\n",
       "      <td>no</td>\n",
       "      <td>0</td>\n",
       "      <td>31139</td>\n",
       "    </tr>\n",
       "    <tr>\n",
       "      <th>48</th>\n",
       "      <td>2016-03-25 14:40:12</td>\n",
       "      <td>7750</td>\n",
       "      <td>NaN</td>\n",
       "      <td>2017</td>\n",
       "      <td>manual</td>\n",
       "      <td>80</td>\n",
       "      <td>golf</td>\n",
       "      <td>100000</td>\n",
       "      <td>1</td>\n",
       "      <td>petrol</td>\n",
       "      <td>volkswagen</td>\n",
       "      <td>NaN</td>\n",
       "      <td>0</td>\n",
       "      <td>48499</td>\n",
       "    </tr>\n",
       "    <tr>\n",
       "      <th>51</th>\n",
       "      <td>2016-03-07 18:57:08</td>\n",
       "      <td>2000</td>\n",
       "      <td>NaN</td>\n",
       "      <td>2017</td>\n",
       "      <td>manual</td>\n",
       "      <td>90</td>\n",
       "      <td>punto</td>\n",
       "      <td>150000</td>\n",
       "      <td>11</td>\n",
       "      <td>gasoline</td>\n",
       "      <td>fiat</td>\n",
       "      <td>yes</td>\n",
       "      <td>0</td>\n",
       "      <td>66115</td>\n",
       "    </tr>\n",
       "    <tr>\n",
       "      <th>57</th>\n",
       "      <td>2016-03-10 20:53:19</td>\n",
       "      <td>2399</td>\n",
       "      <td>NaN</td>\n",
       "      <td>2018</td>\n",
       "      <td>manual</td>\n",
       "      <td>64</td>\n",
       "      <td>other</td>\n",
       "      <td>125000</td>\n",
       "      <td>3</td>\n",
       "      <td>NaN</td>\n",
       "      <td>seat</td>\n",
       "      <td>no</td>\n",
       "      <td>0</td>\n",
       "      <td>33397</td>\n",
       "    </tr>\n",
       "    <tr>\n",
       "      <th>...</th>\n",
       "      <td>...</td>\n",
       "      <td>...</td>\n",
       "      <td>...</td>\n",
       "      <td>...</td>\n",
       "      <td>...</td>\n",
       "      <td>...</td>\n",
       "      <td>...</td>\n",
       "      <td>...</td>\n",
       "      <td>...</td>\n",
       "      <td>...</td>\n",
       "      <td>...</td>\n",
       "      <td>...</td>\n",
       "      <td>...</td>\n",
       "      <td>...</td>\n",
       "    </tr>\n",
       "    <tr>\n",
       "      <th>354108</th>\n",
       "      <td>2016-03-11 15:49:51</td>\n",
       "      <td>3600</td>\n",
       "      <td>NaN</td>\n",
       "      <td>2017</td>\n",
       "      <td>manual</td>\n",
       "      <td>86</td>\n",
       "      <td>transit</td>\n",
       "      <td>150000</td>\n",
       "      <td>5</td>\n",
       "      <td>gasoline</td>\n",
       "      <td>ford</td>\n",
       "      <td>NaN</td>\n",
       "      <td>0</td>\n",
       "      <td>32339</td>\n",
       "    </tr>\n",
       "    <tr>\n",
       "      <th>354136</th>\n",
       "      <td>2016-03-29 16:47:29</td>\n",
       "      <td>1000</td>\n",
       "      <td>NaN</td>\n",
       "      <td>2017</td>\n",
       "      <td>manual</td>\n",
       "      <td>101</td>\n",
       "      <td>a4</td>\n",
       "      <td>150000</td>\n",
       "      <td>9</td>\n",
       "      <td>NaN</td>\n",
       "      <td>audi</td>\n",
       "      <td>NaN</td>\n",
       "      <td>0</td>\n",
       "      <td>38315</td>\n",
       "    </tr>\n",
       "    <tr>\n",
       "      <th>354199</th>\n",
       "      <td>2016-03-17 00:56:26</td>\n",
       "      <td>2140</td>\n",
       "      <td>NaN</td>\n",
       "      <td>2018</td>\n",
       "      <td>manual</td>\n",
       "      <td>80</td>\n",
       "      <td>fiesta</td>\n",
       "      <td>150000</td>\n",
       "      <td>6</td>\n",
       "      <td>NaN</td>\n",
       "      <td>ford</td>\n",
       "      <td>no</td>\n",
       "      <td>0</td>\n",
       "      <td>44866</td>\n",
       "    </tr>\n",
       "    <tr>\n",
       "      <th>354249</th>\n",
       "      <td>2016-03-25 09:37:59</td>\n",
       "      <td>1250</td>\n",
       "      <td>NaN</td>\n",
       "      <td>2018</td>\n",
       "      <td>NaN</td>\n",
       "      <td>0</td>\n",
       "      <td>corsa</td>\n",
       "      <td>150000</td>\n",
       "      <td>0</td>\n",
       "      <td>petrol</td>\n",
       "      <td>opel</td>\n",
       "      <td>NaN</td>\n",
       "      <td>0</td>\n",
       "      <td>45527</td>\n",
       "    </tr>\n",
       "    <tr>\n",
       "      <th>354285</th>\n",
       "      <td>2016-03-05 14:55:29</td>\n",
       "      <td>5000</td>\n",
       "      <td>NaN</td>\n",
       "      <td>2017</td>\n",
       "      <td>manual</td>\n",
       "      <td>120</td>\n",
       "      <td>other</td>\n",
       "      <td>150000</td>\n",
       "      <td>7</td>\n",
       "      <td>NaN</td>\n",
       "      <td>citroen</td>\n",
       "      <td>yes</td>\n",
       "      <td>0</td>\n",
       "      <td>15518</td>\n",
       "    </tr>\n",
       "  </tbody>\n",
       "</table>\n",
       "<p>14530 rows × 14 columns</p>\n",
       "</div>"
      ],
      "text/plain": [
       "               DateCrawled  Price VehicleType  RegistrationYear Gearbox  \\\n",
       "22     2016-03-23 14:52:51   2900         NaN              2018  manual   \n",
       "26     2016-03-10 19:38:18   5555         NaN              2017  manual   \n",
       "48     2016-03-25 14:40:12   7750         NaN              2017  manual   \n",
       "51     2016-03-07 18:57:08   2000         NaN              2017  manual   \n",
       "57     2016-03-10 20:53:19   2399         NaN              2018  manual   \n",
       "...                    ...    ...         ...               ...     ...   \n",
       "354108 2016-03-11 15:49:51   3600         NaN              2017  manual   \n",
       "354136 2016-03-29 16:47:29   1000         NaN              2017  manual   \n",
       "354199 2016-03-17 00:56:26   2140         NaN              2018  manual   \n",
       "354249 2016-03-25 09:37:59   1250         NaN              2018     NaN   \n",
       "354285 2016-03-05 14:55:29   5000         NaN              2017  manual   \n",
       "\n",
       "        Power    Model  Kilometer  RegistrationMonth  FuelType       Brand  \\\n",
       "22         90   meriva     150000                  5    petrol        opel   \n",
       "26        125       c4     125000                  4       NaN     citroen   \n",
       "48         80     golf     100000                  1    petrol  volkswagen   \n",
       "51         90    punto     150000                 11  gasoline        fiat   \n",
       "57         64    other     125000                  3       NaN        seat   \n",
       "...       ...      ...        ...                ...       ...         ...   \n",
       "354108     86  transit     150000                  5  gasoline        ford   \n",
       "354136    101       a4     150000                  9       NaN        audi   \n",
       "354199     80   fiesta     150000                  6       NaN        ford   \n",
       "354249      0    corsa     150000                  0    petrol        opel   \n",
       "354285    120    other     150000                  7       NaN     citroen   \n",
       "\n",
       "       Repaired  NumberOfPictures  PostalCode  \n",
       "22           no                 0       49716  \n",
       "26           no                 0       31139  \n",
       "48          NaN                 0       48499  \n",
       "51          yes                 0       66115  \n",
       "57           no                 0       33397  \n",
       "...         ...               ...         ...  \n",
       "354108      NaN                 0       32339  \n",
       "354136      NaN                 0       38315  \n",
       "354199       no                 0       44866  \n",
       "354249      NaN                 0       45527  \n",
       "354285      yes                 0       15518  \n",
       "\n",
       "[14530 rows x 14 columns]"
      ]
     },
     "execution_count": 16,
     "metadata": {},
     "output_type": "execute_result"
    }
   ],
   "source": [
    "data[data['RegistrationYear'] > 2016]"
   ]
  },
  {
   "cell_type": "markdown",
   "metadata": {},
   "source": [
    "Таких значений много, но возможно, что разница в 2-3 года обусловлена ошибкой вывода, а вот совсем аномальные значения будут исследованы позже."
   ]
  },
  {
   "cell_type": "markdown",
   "metadata": {},
   "source": [
    "Теперь создадим столбец с возрастом авто:"
   ]
  },
  {
   "cell_type": "code",
   "execution_count": 17,
   "metadata": {},
   "outputs": [],
   "source": [
    "data['Age'] = (\n",
    "    data['DateCrawled'].dt.year - data['RegistrationYear'] - (data['RegistrationMonth'] > data['DateCrawled'].dt.month)\n",
    ")"
   ]
  },
  {
   "cell_type": "markdown",
   "metadata": {},
   "source": [
    "Также признак `PostalCode` будет вводить только путанницу. Также признак количества картинок не нужен, т.к. это не влияет на рыночную стоимость амого автомобиля."
   ]
  },
  {
   "cell_type": "code",
   "execution_count": 18,
   "metadata": {},
   "outputs": [],
   "source": [
    "data = data.drop(['PostalCode', 'RegistrationYear','RegistrationMonth','DateCrawled','NumberOfPictures'], axis=1)"
   ]
  },
  {
   "cell_type": "markdown",
   "metadata": {},
   "source": [
    "С моделями машин дела обстоят также."
   ]
  },
  {
   "cell_type": "code",
   "execution_count": 19,
   "metadata": {
    "scrolled": false
   },
   "outputs": [
    {
     "data": {
      "text/plain": [
       "array(['golf', nan, 'grand', 'fabia', '3er', '2_reihe', 'other', 'c_max',\n",
       "       '3_reihe', 'passat', 'navara', 'ka', 'polo', 'twingo', 'a_klasse',\n",
       "       'scirocco', '5er', 'meriva', 'arosa', 'c4', 'civic', 'transporter',\n",
       "       'punto', 'e_klasse', 'clio', 'kadett', 'kangoo', 'corsa', 'one',\n",
       "       'fortwo', '1er', 'b_klasse', 'signum', 'astra', 'a8', 'jetta',\n",
       "       'fiesta', 'c_klasse', 'micra', 'vito', 'sprinter', '156', 'escort',\n",
       "       'forester', 'xc_reihe', 'scenic', 'a4', 'a1', 'insignia', 'combo',\n",
       "       'focus', 'tt', 'a6', 'jazz', 'omega', 'slk', '7er', '80', '147',\n",
       "       '100', 'z_reihe', 'sportage', 'sorento', 'v40', 'ibiza', 'mustang',\n",
       "       'eos', 'touran', 'getz', 'a3', 'almera', 'megane', 'lupo', 'r19',\n",
       "       'zafira', 'caddy', 'mondeo', 'cordoba', 'colt', 'impreza',\n",
       "       'vectra', 'berlingo', 'tiguan', 'i_reihe', 'espace', 'sharan',\n",
       "       '6_reihe', 'panda', 'up', 'seicento', 'ceed', '5_reihe', 'yeti',\n",
       "       'octavia', 'mii', 'rx_reihe', '6er', 'modus', 'fox', 'matiz',\n",
       "       'beetle', 'c1', 'rio', 'touareg', 'logan', 'spider', 'cuore',\n",
       "       's_max', 'a2', 'galaxy', 'c3', 'viano', 's_klasse', '1_reihe',\n",
       "       'avensis', 'roomster', 'sl', 'kaefer', 'santa', 'cooper', 'leon',\n",
       "       '4_reihe', 'a5', '500', 'laguna', 'ptcruiser', 'clk', 'primera',\n",
       "       'x_reihe', 'exeo', '159', 'transit', 'juke', 'qashqai', 'carisma',\n",
       "       'accord', 'corolla', 'lanos', 'phaeton', 'verso', 'swift', 'rav',\n",
       "       'picanto', 'boxster', 'kalos', 'superb', 'stilo', 'alhambra',\n",
       "       'mx_reihe', 'roadster', 'ypsilon', 'cayenne', 'galant', 'justy',\n",
       "       '90', 'sirion', 'crossfire', 'agila', 'duster', 'cr_reihe', 'v50',\n",
       "       'c_reihe', 'v_klasse', 'm_klasse', 'yaris', 'c5', 'aygo', 'cc',\n",
       "       'carnival', 'fusion', '911', 'bora', 'forfour', 'm_reihe', 'cl',\n",
       "       'tigra', '300c', 'spark', 'v70', 'kuga', 'x_type', 'ducato',\n",
       "       's_type', 'x_trail', 'toledo', 'altea', 'voyager', 'calibra',\n",
       "       'bravo', 'antara', 'tucson', 'citigo', 'jimny', 'wrangler',\n",
       "       'lybra', 'q7', 'lancer', 'captiva', 'c2', 'discovery',\n",
       "       'freelander', 'sandero', 'note', '900', 'cherokee', 'clubman',\n",
       "       'samara', 'defender', '601', 'cx_reihe', 'legacy', 'pajero',\n",
       "       'auris', 'niva', 's60', 'nubira', 'vivaro', 'g_klasse', 'lodgy',\n",
       "       '850', 'range_rover', 'q3', 'serie_2', 'glk', 'charade', 'croma',\n",
       "       'outlander', 'doblo', 'musa', 'move', '9000', 'v60', '145', 'aveo',\n",
       "       '200', 'b_max', 'range_rover_sport', 'terios', 'rangerover', 'q5',\n",
       "       'range_rover_evoque', 'materia', 'delta', 'gl', 'kalina', 'amarok',\n",
       "       'elefantino', 'i3', 'kappa', 'serie_3', 'serie_1'], dtype=object)"
      ]
     },
     "execution_count": 19,
     "metadata": {},
     "output_type": "execute_result"
    }
   ],
   "source": [
    "data['Model'].unique()"
   ]
  },
  {
   "cell_type": "code",
   "execution_count": 20,
   "metadata": {},
   "outputs": [],
   "source": [
    "data = data.drop(['Model'], axis=1)"
   ]
  },
  {
   "cell_type": "code",
   "execution_count": 21,
   "metadata": {},
   "outputs": [
    {
     "data": {
      "text/html": [
       "<div>\n",
       "<style scoped>\n",
       "    .dataframe tbody tr th:only-of-type {\n",
       "        vertical-align: middle;\n",
       "    }\n",
       "\n",
       "    .dataframe tbody tr th {\n",
       "        vertical-align: top;\n",
       "    }\n",
       "\n",
       "    .dataframe thead th {\n",
       "        text-align: right;\n",
       "    }\n",
       "</style>\n",
       "<table border=\"1\" class=\"dataframe\">\n",
       "  <thead>\n",
       "    <tr style=\"text-align: right;\">\n",
       "      <th></th>\n",
       "      <th>Price</th>\n",
       "      <th>VehicleType</th>\n",
       "      <th>Gearbox</th>\n",
       "      <th>Power</th>\n",
       "      <th>Kilometer</th>\n",
       "      <th>FuelType</th>\n",
       "      <th>Brand</th>\n",
       "      <th>Repaired</th>\n",
       "      <th>Age</th>\n",
       "    </tr>\n",
       "  </thead>\n",
       "  <tbody>\n",
       "    <tr>\n",
       "      <th>0</th>\n",
       "      <td>480</td>\n",
       "      <td>NaN</td>\n",
       "      <td>manual</td>\n",
       "      <td>0</td>\n",
       "      <td>150000</td>\n",
       "      <td>petrol</td>\n",
       "      <td>volkswagen</td>\n",
       "      <td>NaN</td>\n",
       "      <td>23</td>\n",
       "    </tr>\n",
       "    <tr>\n",
       "      <th>1</th>\n",
       "      <td>18300</td>\n",
       "      <td>coupe</td>\n",
       "      <td>manual</td>\n",
       "      <td>190</td>\n",
       "      <td>125000</td>\n",
       "      <td>gasoline</td>\n",
       "      <td>audi</td>\n",
       "      <td>yes</td>\n",
       "      <td>4</td>\n",
       "    </tr>\n",
       "    <tr>\n",
       "      <th>2</th>\n",
       "      <td>9800</td>\n",
       "      <td>suv</td>\n",
       "      <td>auto</td>\n",
       "      <td>163</td>\n",
       "      <td>125000</td>\n",
       "      <td>gasoline</td>\n",
       "      <td>jeep</td>\n",
       "      <td>NaN</td>\n",
       "      <td>11</td>\n",
       "    </tr>\n",
       "    <tr>\n",
       "      <th>3</th>\n",
       "      <td>1500</td>\n",
       "      <td>small</td>\n",
       "      <td>manual</td>\n",
       "      <td>75</td>\n",
       "      <td>150000</td>\n",
       "      <td>petrol</td>\n",
       "      <td>volkswagen</td>\n",
       "      <td>no</td>\n",
       "      <td>14</td>\n",
       "    </tr>\n",
       "    <tr>\n",
       "      <th>4</th>\n",
       "      <td>3600</td>\n",
       "      <td>small</td>\n",
       "      <td>manual</td>\n",
       "      <td>69</td>\n",
       "      <td>90000</td>\n",
       "      <td>gasoline</td>\n",
       "      <td>skoda</td>\n",
       "      <td>no</td>\n",
       "      <td>7</td>\n",
       "    </tr>\n",
       "  </tbody>\n",
       "</table>\n",
       "</div>"
      ],
      "text/plain": [
       "   Price VehicleType Gearbox  Power  Kilometer  FuelType       Brand Repaired  \\\n",
       "0    480         NaN  manual      0     150000    petrol  volkswagen      NaN   \n",
       "1  18300       coupe  manual    190     125000  gasoline        audi      yes   \n",
       "2   9800         suv    auto    163     125000  gasoline        jeep      NaN   \n",
       "3   1500       small  manual     75     150000    petrol  volkswagen       no   \n",
       "4   3600       small  manual     69      90000  gasoline       skoda       no   \n",
       "\n",
       "   Age  \n",
       "0   23  \n",
       "1    4  \n",
       "2   11  \n",
       "3   14  \n",
       "4    7  "
      ]
     },
     "execution_count": 21,
     "metadata": {},
     "output_type": "execute_result"
    }
   ],
   "source": [
    "data.head()"
   ]
  },
  {
   "cell_type": "markdown",
   "metadata": {},
   "source": [
    "Лишние неинформативные признаки мы убрали."
   ]
  },
  {
   "cell_type": "markdown",
   "metadata": {},
   "source": [
    "### Визуализация"
   ]
  },
  {
   "cell_type": "markdown",
   "metadata": {},
   "source": [
    "Посмотрим на распределение признаков:"
   ]
  },
  {
   "cell_type": "code",
   "execution_count": 22,
   "metadata": {
    "scrolled": false
   },
   "outputs": [
    {
     "data": {
      "image/png": "[encoded data removed]",
      "text/plain": [
       "<Figure size 1000x1500 with 9 Axes>"
      ]
     },
     "metadata": {},
     "output_type": "display_data"
    }
   ],
   "source": [
    "count = 0\n",
    "for column in data.columns:\n",
    "    count += 1\n",
    "    plt.subplot(8, 2, count)\n",
    "    plt.tight_layout()\n",
    "    data[column].hist(figsize=(10,15), bins=30, stacked=False)\n",
    "    plt.title(column)\n",
    "    plt.xlabel('Feature')\n",
    "    plt.ylabel('Amount')"
   ]
  },
  {
   "cell_type": "markdown",
   "metadata": {},
   "source": [
    "По полученным гистограммам можем сделать вывод:\n",
    "- Цена имеет приближенное к экспоненциальному распределение - больше всего недорогих автомобилей\n",
    "- В признаках мощности и возраста есть явно **аномальные значения**, которые необходимо будет обработать \n",
    "- Моделей, как и брендов очень много <br>\n",
    "В целом остальные признаки выглядят логично."
   ]
  },
  {
   "cell_type": "markdown",
   "metadata": {},
   "source": [
    "### Анализ пропусков "
   ]
  },
  {
   "cell_type": "markdown",
   "metadata": {},
   "source": [
    "Проанализируем количество пропусков в признаках и обработаем их по возможности. Размер выборки до обработки пропусков:"
   ]
  },
  {
   "cell_type": "code",
   "execution_count": 23,
   "metadata": {},
   "outputs": [
    {
     "data": {
      "text/plain": [
       "354365"
      ]
     },
     "execution_count": 23,
     "metadata": {},
     "output_type": "execute_result"
    }
   ],
   "source": [
    "data.shape[0]"
   ]
  },
  {
   "cell_type": "code",
   "execution_count": 24,
   "metadata": {},
   "outputs": [
    {
     "data": {
      "text/plain": [
       "Price              0\n",
       "VehicleType    37490\n",
       "Gearbox        19833\n",
       "Power              0\n",
       "Kilometer          0\n",
       "FuelType       32895\n",
       "Brand              0\n",
       "Repaired       71154\n",
       "Age                0\n",
       "dtype: int64"
      ]
     },
     "execution_count": 24,
     "metadata": {},
     "output_type": "execute_result"
    }
   ],
   "source": [
    "data.isna().sum()"
   ]
  },
  {
   "cell_type": "markdown",
   "metadata": {},
   "source": [
    "Мы не мжем заполнить случайными значениями столбец с тем был ремонт у автомобиля или нет, потому что это достаточно весомый признак для стоимости машины, особенно если автомобиль стар, **данных много**, поэтому мы можем удалить эти значения. Если ввести третье значение \"Unknown\", для `Repaired`, то это может воприниматься как третий тип при определении стоимости, хотя это всего лишь лдин из уже данных. <br>\n",
    "Видимо анкета для этих машин просто была заполнена неполностью, поэтому для таких данных что-либо прогнозировать опасно. "
   ]
  },
  {
   "cell_type": "code",
   "execution_count": 25,
   "metadata": {},
   "outputs": [],
   "source": [
    "data.dropna(subset=['Repaired'], inplace=True, axis=0)"
   ]
  },
  {
   "cell_type": "code",
   "execution_count": 26,
   "metadata": {},
   "outputs": [
    {
     "data": {
      "text/plain": [
       "Price              0\n",
       "VehicleType    16919\n",
       "Gearbox         7045\n",
       "Power              0\n",
       "Kilometer          0\n",
       "FuelType       16314\n",
       "Brand              0\n",
       "Repaired           0\n",
       "Age                0\n",
       "dtype: int64"
      ]
     },
     "execution_count": 26,
     "metadata": {},
     "output_type": "execute_result"
    }
   ],
   "source": [
    "data.isna().sum()"
   ]
  },
  {
   "cell_type": "markdown",
   "metadata": {},
   "source": [
    "Для столбцов `VehicleType` и `FuelType` пропущенные значения можем причислить к категории **other**, их относительно немного, поэтому на результаты повлиять не должно, а убирать порядка 20000 единиц не рационально после прошлого удаления."
   ]
  },
  {
   "cell_type": "code",
   "execution_count": 27,
   "metadata": {},
   "outputs": [
    {
     "data": {
      "text/plain": [
       "array(['coupe', 'small', 'sedan', 'convertible', 'wagon', 'suv', 'bus',\n",
       "       nan, 'other'], dtype=object)"
      ]
     },
     "execution_count": 27,
     "metadata": {},
     "output_type": "execute_result"
    }
   ],
   "source": [
    "data['VehicleType'].unique()"
   ]
  },
  {
   "cell_type": "code",
   "execution_count": 28,
   "metadata": {},
   "outputs": [],
   "source": [
    "data['VehicleType'] = data['VehicleType'].fillna('other')\n",
    "data['FuelType'] = data['FuelType'].fillna('other')"
   ]
  },
  {
   "cell_type": "code",
   "execution_count": 29,
   "metadata": {},
   "outputs": [
    {
     "data": {
      "text/plain": [
       "Price             0\n",
       "VehicleType       0\n",
       "Gearbox        7045\n",
       "Power             0\n",
       "Kilometer         0\n",
       "FuelType          0\n",
       "Brand             0\n",
       "Repaired          0\n",
       "Age               0\n",
       "dtype: int64"
      ]
     },
     "execution_count": 29,
     "metadata": {},
     "output_type": "execute_result"
    }
   ],
   "source": [
    "data.isna().sum()"
   ]
  },
  {
   "cell_type": "markdown",
   "metadata": {},
   "source": [
    "С коробкой передач ситуация аналогична ситуации с ремонтом:"
   ]
  },
  {
   "cell_type": "code",
   "execution_count": 30,
   "metadata": {},
   "outputs": [],
   "source": [
    "data.dropna(subset=['Gearbox'], inplace=True, axis=0)"
   ]
  },
  {
   "cell_type": "code",
   "execution_count": 31,
   "metadata": {},
   "outputs": [
    {
     "data": {
      "text/plain": [
       "0"
      ]
     },
     "execution_count": 31,
     "metadata": {},
     "output_type": "execute_result"
    }
   ],
   "source": [
    "data.isna().sum().sum()"
   ]
  },
  {
   "cell_type": "markdown",
   "metadata": {},
   "source": [
    "Размер выборки после обработки пропусков:"
   ]
  },
  {
   "cell_type": "code",
   "execution_count": 32,
   "metadata": {},
   "outputs": [
    {
     "data": {
      "text/plain": [
       "276166"
      ]
     },
     "execution_count": 32,
     "metadata": {},
     "output_type": "execute_result"
    }
   ],
   "source": [
    "data.shape[0]"
   ]
  },
  {
   "cell_type": "markdown",
   "metadata": {},
   "source": [
    "### Исследование выбросов <a id=\"1\"></a>"
   ]
  },
  {
   "cell_type": "markdown",
   "metadata": {},
   "source": [
    "Рассмотрим аномальные значения в данных. По графикам видно, что нам нужно исследовать столбцы `Power` и `Age`:"
   ]
  },
  {
   "cell_type": "code",
   "execution_count": 33,
   "metadata": {},
   "outputs": [
    {
     "data": {
      "image/png": "[encoded data removed]",
      "text/plain": [
       "<Figure size 1200x400 with 1 Axes>"
      ]
     },
     "metadata": {},
     "output_type": "display_data"
    }
   ],
   "source": [
    "data['Age'].hist(figsize=(12,4), bins=40, stacked=False)\n",
    "plt.title('Распределенеи возраста авто')\n",
    "plt.xlabel('Возраст, год')\n",
    "plt.ylabel('Количество')\n",
    "plt.show()"
   ]
  },
  {
   "cell_type": "markdown",
   "metadata": {},
   "source": [
    "Размер выборки до удаления выбросов:"
   ]
  },
  {
   "cell_type": "code",
   "execution_count": 34,
   "metadata": {},
   "outputs": [
    {
     "data": {
      "text/plain": [
       "276166"
      ]
     },
     "execution_count": 34,
     "metadata": {},
     "output_type": "execute_result"
    }
   ],
   "source": [
    "data.shape[0]"
   ]
  },
  {
   "cell_type": "markdown",
   "metadata": {},
   "source": [
    "Посмотрим сколько таких аномальных значений (не будем рассматривать машины, которым больше 50 лет, даже если вдруг такие имеются, это уже для аукциона или на специальных выставках старых автомобилей, на таких точно не поездишь):"
   ]
  },
  {
   "cell_type": "code",
   "execution_count": 35,
   "metadata": {},
   "outputs": [
    {
     "data": {
      "text/plain": [
       "356"
      ]
     },
     "execution_count": 35,
     "metadata": {},
     "output_type": "execute_result"
    }
   ],
   "source": [
    "data.query('Age > 50').shape[0]"
   ]
  },
  {
   "cell_type": "code",
   "execution_count": 36,
   "metadata": {},
   "outputs": [],
   "source": [
    "data = data[data['Age'] < 50]"
   ]
  },
  {
   "cell_type": "markdown",
   "metadata": {},
   "source": [
    "Погрешность в 3 года считаем ошибкой выгрузки. Остальное явно серьезная ошибка."
   ]
  },
  {
   "cell_type": "code",
   "execution_count": 37,
   "metadata": {},
   "outputs": [],
   "source": [
    "data = data[data['Age'] > -4]"
   ]
  },
  {
   "cell_type": "code",
   "execution_count": 38,
   "metadata": {},
   "outputs": [],
   "source": [
    "data.loc[data['Age'] < 0, 'Age'] = 0"
   ]
  },
  {
   "cell_type": "markdown",
   "metadata": {},
   "source": [
    "Снова посмотрим распределение:"
   ]
  },
  {
   "cell_type": "code",
   "execution_count": 39,
   "metadata": {},
   "outputs": [
    {
     "data": {
      "image/png": "[encoded data removed]",
      "text/plain": [
       "<Figure size 1200x400 with 1 Axes>"
      ]
     },
     "metadata": {},
     "output_type": "display_data"
    }
   ],
   "source": [
    "data['Age'].hist(figsize=(12,4), bins=50, stacked=False)\n",
    "plt.title('Распределенеи возраста авто')\n",
    "plt.xlabel('Возраст, год')\n",
    "plt.ylabel('Количество')\n",
    "plt.show()"
   ]
  },
  {
   "cell_type": "markdown",
   "metadata": {},
   "source": [
    "Оно напоминает нормальное, только с хвостом справа и выбросом слева, за счет того, что многие продают новые автомобили."
   ]
  },
  {
   "cell_type": "code",
   "execution_count": 40,
   "metadata": {},
   "outputs": [
    {
     "data": {
      "image/png": "[encoded data removed]",
      "text/plain": [
       "<Figure size 1200x400 with 1 Axes>"
      ]
     },
     "metadata": {},
     "output_type": "display_data"
    }
   ],
   "source": [
    "data['Power'].hist(figsize=(12,4), bins=40, stacked=False)\n",
    "plt.title('Распределение мощности авто')\n",
    "plt.xlabel('Мощность, л/с')\n",
    "plt.ylabel('Количество')\n",
    "plt.show()"
   ]
  },
  {
   "cell_type": "markdown",
   "metadata": {},
   "source": [
    "Больше 2000 л/с это уе явно отклонение, поэтому:"
   ]
  },
  {
   "cell_type": "code",
   "execution_count": 41,
   "metadata": {},
   "outputs": [
    {
     "data": {
      "text/plain": [
       "70"
      ]
     },
     "execution_count": 41,
     "metadata": {},
     "output_type": "execute_result"
    }
   ],
   "source": [
    "data.query('Power > 2000').shape[0]"
   ]
  },
  {
   "cell_type": "markdown",
   "metadata": {},
   "source": [
    "Тем не менее, мощных гоночных машин для покупки в выборке не предлагается, поэтому ограничим мощность до 1000"
   ]
  },
  {
   "cell_type": "code",
   "execution_count": 42,
   "metadata": {},
   "outputs": [
    {
     "data": {
      "text/plain": [
       "185"
      ]
     },
     "execution_count": 42,
     "metadata": {},
     "output_type": "execute_result"
    }
   ],
   "source": [
    "data.query('Power > 1000').shape[0]"
   ]
  },
  {
   "cell_type": "code",
   "execution_count": 43,
   "metadata": {},
   "outputs": [],
   "source": [
    "data = data[data['Power'] < 1000]"
   ]
  },
  {
   "cell_type": "code",
   "execution_count": 44,
   "metadata": {
    "scrolled": false
   },
   "outputs": [
    {
     "data": {
      "image/png": "[encoded data removed]",
      "text/plain": [
       "<Figure size 1200x400 with 1 Axes>"
      ]
     },
     "metadata": {},
     "output_type": "display_data"
    }
   ],
   "source": [
    "data['Power'].hist(figsize=(12,4), bins=40, stacked=False)\n",
    "plt.title('Распределение мощности авто')\n",
    "plt.xlabel('Мощность, л/с')\n",
    "plt.ylabel('Количество')\n",
    "plt.show()"
   ]
  },
  {
   "cell_type": "markdown",
   "metadata": {},
   "source": [
    "По получившеуся распределению можо мощность ограничить даже до 500 л/с."
   ]
  },
  {
   "cell_type": "code",
   "execution_count": 45,
   "metadata": {},
   "outputs": [],
   "source": [
    "data = data[data['Power'] < 500]"
   ]
  },
  {
   "cell_type": "code",
   "execution_count": 46,
   "metadata": {
    "scrolled": false
   },
   "outputs": [
    {
     "data": {
      "image/png": "[encoded data removed]",
      "text/plain": [
       "<Figure size 1200x400 with 1 Axes>"
      ]
     },
     "metadata": {},
     "output_type": "display_data"
    }
   ],
   "source": [
    "data['Power'].hist(figsize=(12,4), bins=40, stacked=False)\n",
    "plt.title('Распределение мощности авто')\n",
    "plt.xlabel('Мощность, л/с')\n",
    "plt.ylabel('Количество')\n",
    "plt.show()"
   ]
  },
  {
   "cell_type": "code",
   "execution_count": 47,
   "metadata": {},
   "outputs": [
    {
     "data": {
      "text/plain": [
       "275429"
      ]
     },
     "execution_count": 47,
     "metadata": {},
     "output_type": "execute_result"
    }
   ],
   "source": [
    "data.shape[0]"
   ]
  },
  {
   "cell_type": "code",
   "execution_count": 48,
   "metadata": {},
   "outputs": [],
   "source": [
    "data = data.reset_index(drop=True)"
   ]
  },
  {
   "cell_type": "markdown",
   "metadata": {},
   "source": [
    "### Проверка на мультиколленианость"
   ]
  },
  {
   "cell_type": "code",
   "execution_count": 49,
   "metadata": {},
   "outputs": [
    {
     "data": {
      "text/html": [
       "<div>\n",
       "<style scoped>\n",
       "    .dataframe tbody tr th:only-of-type {\n",
       "        vertical-align: middle;\n",
       "    }\n",
       "\n",
       "    .dataframe tbody tr th {\n",
       "        vertical-align: top;\n",
       "    }\n",
       "\n",
       "    .dataframe thead th {\n",
       "        text-align: right;\n",
       "    }\n",
       "</style>\n",
       "<table border=\"1\" class=\"dataframe\">\n",
       "  <thead>\n",
       "    <tr style=\"text-align: right;\">\n",
       "      <th></th>\n",
       "      <th>Price</th>\n",
       "      <th>Power</th>\n",
       "      <th>Kilometer</th>\n",
       "      <th>Age</th>\n",
       "    </tr>\n",
       "  </thead>\n",
       "  <tbody>\n",
       "    <tr>\n",
       "      <th>Price</th>\n",
       "      <td>1.000000</td>\n",
       "      <td>0.491064</td>\n",
       "      <td>-0.386242</td>\n",
       "      <td>-0.472818</td>\n",
       "    </tr>\n",
       "    <tr>\n",
       "      <th>Power</th>\n",
       "      <td>0.491064</td>\n",
       "      <td>1.000000</td>\n",
       "      <td>0.083834</td>\n",
       "      <td>-0.119540</td>\n",
       "    </tr>\n",
       "    <tr>\n",
       "      <th>Kilometer</th>\n",
       "      <td>-0.386242</td>\n",
       "      <td>0.083834</td>\n",
       "      <td>1.000000</td>\n",
       "      <td>0.299812</td>\n",
       "    </tr>\n",
       "    <tr>\n",
       "      <th>Age</th>\n",
       "      <td>-0.472818</td>\n",
       "      <td>-0.119540</td>\n",
       "      <td>0.299812</td>\n",
       "      <td>1.000000</td>\n",
       "    </tr>\n",
       "  </tbody>\n",
       "</table>\n",
       "</div>"
      ],
      "text/plain": [
       "              Price     Power  Kilometer       Age\n",
       "Price      1.000000  0.491064  -0.386242 -0.472818\n",
       "Power      0.491064  1.000000   0.083834 -0.119540\n",
       "Kilometer -0.386242  0.083834   1.000000  0.299812\n",
       "Age       -0.472818 -0.119540   0.299812  1.000000"
      ]
     },
     "execution_count": 49,
     "metadata": {},
     "output_type": "execute_result"
    }
   ],
   "source": [
    "data.corr()"
   ]
  },
  {
   "cell_type": "markdown",
   "metadata": {},
   "source": [
    "Корреляция наблюдается слабая, только у целевого признака с другими она средняя, что только на пользу обучения."
   ]
  },
  {
   "cell_type": "markdown",
   "metadata": {},
   "source": [
    "Рассмотрим автомобили, цена которых нереалестична, например, меньше 10 евро:"
   ]
  },
  {
   "cell_type": "code",
   "execution_count": 50,
   "metadata": {},
   "outputs": [
    {
     "data": {
      "text/html": [
       "<div>\n",
       "<style scoped>\n",
       "    .dataframe tbody tr th:only-of-type {\n",
       "        vertical-align: middle;\n",
       "    }\n",
       "\n",
       "    .dataframe tbody tr th {\n",
       "        vertical-align: top;\n",
       "    }\n",
       "\n",
       "    .dataframe thead th {\n",
       "        text-align: right;\n",
       "    }\n",
       "</style>\n",
       "<table border=\"1\" class=\"dataframe\">\n",
       "  <thead>\n",
       "    <tr style=\"text-align: right;\">\n",
       "      <th></th>\n",
       "      <th>Price</th>\n",
       "      <th>VehicleType</th>\n",
       "      <th>Gearbox</th>\n",
       "      <th>Power</th>\n",
       "      <th>Kilometer</th>\n",
       "      <th>FuelType</th>\n",
       "      <th>Brand</th>\n",
       "      <th>Repaired</th>\n",
       "      <th>Age</th>\n",
       "    </tr>\n",
       "  </thead>\n",
       "  <tbody>\n",
       "    <tr>\n",
       "      <th>5</th>\n",
       "      <td>0</td>\n",
       "      <td>sedan</td>\n",
       "      <td>manual</td>\n",
       "      <td>50</td>\n",
       "      <td>40000</td>\n",
       "      <td>petrol</td>\n",
       "      <td>volkswagen</td>\n",
       "      <td>no</td>\n",
       "      <td>35</td>\n",
       "    </tr>\n",
       "    <tr>\n",
       "      <th>64</th>\n",
       "      <td>1</td>\n",
       "      <td>sedan</td>\n",
       "      <td>manual</td>\n",
       "      <td>113</td>\n",
       "      <td>150000</td>\n",
       "      <td>gasoline</td>\n",
       "      <td>mercedes_benz</td>\n",
       "      <td>no</td>\n",
       "      <td>20</td>\n",
       "    </tr>\n",
       "    <tr>\n",
       "      <th>109</th>\n",
       "      <td>0</td>\n",
       "      <td>bus</td>\n",
       "      <td>manual</td>\n",
       "      <td>101</td>\n",
       "      <td>150000</td>\n",
       "      <td>lpg</td>\n",
       "      <td>opel</td>\n",
       "      <td>yes</td>\n",
       "      <td>11</td>\n",
       "    </tr>\n",
       "    <tr>\n",
       "      <th>198</th>\n",
       "      <td>1</td>\n",
       "      <td>sedan</td>\n",
       "      <td>manual</td>\n",
       "      <td>90</td>\n",
       "      <td>70000</td>\n",
       "      <td>petrol</td>\n",
       "      <td>audi</td>\n",
       "      <td>no</td>\n",
       "      <td>25</td>\n",
       "    </tr>\n",
       "    <tr>\n",
       "      <th>357</th>\n",
       "      <td>0</td>\n",
       "      <td>other</td>\n",
       "      <td>auto</td>\n",
       "      <td>197</td>\n",
       "      <td>150000</td>\n",
       "      <td>gasoline</td>\n",
       "      <td>bmw</td>\n",
       "      <td>no</td>\n",
       "      <td>0</td>\n",
       "    </tr>\n",
       "    <tr>\n",
       "      <th>...</th>\n",
       "      <td>...</td>\n",
       "      <td>...</td>\n",
       "      <td>...</td>\n",
       "      <td>...</td>\n",
       "      <td>...</td>\n",
       "      <td>...</td>\n",
       "      <td>...</td>\n",
       "      <td>...</td>\n",
       "      <td>...</td>\n",
       "    </tr>\n",
       "    <tr>\n",
       "      <th>275243</th>\n",
       "      <td>0</td>\n",
       "      <td>small</td>\n",
       "      <td>manual</td>\n",
       "      <td>200</td>\n",
       "      <td>150000</td>\n",
       "      <td>petrol</td>\n",
       "      <td>volkswagen</td>\n",
       "      <td>no</td>\n",
       "      <td>12</td>\n",
       "    </tr>\n",
       "    <tr>\n",
       "      <th>275272</th>\n",
       "      <td>0</td>\n",
       "      <td>other</td>\n",
       "      <td>manual</td>\n",
       "      <td>55</td>\n",
       "      <td>5000</td>\n",
       "      <td>petrol</td>\n",
       "      <td>fiat</td>\n",
       "      <td>yes</td>\n",
       "      <td>15</td>\n",
       "    </tr>\n",
       "    <tr>\n",
       "      <th>275310</th>\n",
       "      <td>0</td>\n",
       "      <td>other</td>\n",
       "      <td>manual</td>\n",
       "      <td>65</td>\n",
       "      <td>150000</td>\n",
       "      <td>other</td>\n",
       "      <td>opel</td>\n",
       "      <td>yes</td>\n",
       "      <td>16</td>\n",
       "    </tr>\n",
       "    <tr>\n",
       "      <th>275363</th>\n",
       "      <td>0</td>\n",
       "      <td>small</td>\n",
       "      <td>manual</td>\n",
       "      <td>37</td>\n",
       "      <td>150000</td>\n",
       "      <td>petrol</td>\n",
       "      <td>seat</td>\n",
       "      <td>yes</td>\n",
       "      <td>16</td>\n",
       "    </tr>\n",
       "    <tr>\n",
       "      <th>275426</th>\n",
       "      <td>0</td>\n",
       "      <td>other</td>\n",
       "      <td>manual</td>\n",
       "      <td>0</td>\n",
       "      <td>150000</td>\n",
       "      <td>petrol</td>\n",
       "      <td>mitsubishi</td>\n",
       "      <td>yes</td>\n",
       "      <td>10</td>\n",
       "    </tr>\n",
       "  </tbody>\n",
       "</table>\n",
       "<p>5627 rows × 9 columns</p>\n",
       "</div>"
      ],
      "text/plain": [
       "        Price VehicleType Gearbox  Power  Kilometer  FuelType          Brand  \\\n",
       "5           0       sedan  manual     50      40000    petrol     volkswagen   \n",
       "64          1       sedan  manual    113     150000  gasoline  mercedes_benz   \n",
       "109         0         bus  manual    101     150000       lpg           opel   \n",
       "198         1       sedan  manual     90      70000    petrol           audi   \n",
       "357         0       other    auto    197     150000  gasoline            bmw   \n",
       "...       ...         ...     ...    ...        ...       ...            ...   \n",
       "275243      0       small  manual    200     150000    petrol     volkswagen   \n",
       "275272      0       other  manual     55       5000    petrol           fiat   \n",
       "275310      0       other  manual     65     150000     other           opel   \n",
       "275363      0       small  manual     37     150000    petrol           seat   \n",
       "275426      0       other  manual      0     150000    petrol     mitsubishi   \n",
       "\n",
       "       Repaired  Age  \n",
       "5            no   35  \n",
       "64           no   20  \n",
       "109         yes   11  \n",
       "198          no   25  \n",
       "357          no    0  \n",
       "...         ...  ...  \n",
       "275243       no   12  \n",
       "275272      yes   15  \n",
       "275310      yes   16  \n",
       "275363      yes   16  \n",
       "275426      yes   10  \n",
       "\n",
       "[5627 rows x 9 columns]"
      ]
     },
     "execution_count": 50,
     "metadata": {},
     "output_type": "execute_result"
    }
   ],
   "source": [
    "data.query('Price < 10')"
   ]
  },
  {
   "cell_type": "code",
   "execution_count": 51,
   "metadata": {},
   "outputs": [
    {
     "data": {
      "text/html": [
       "<div>\n",
       "<style scoped>\n",
       "    .dataframe tbody tr th:only-of-type {\n",
       "        vertical-align: middle;\n",
       "    }\n",
       "\n",
       "    .dataframe tbody tr th {\n",
       "        vertical-align: top;\n",
       "    }\n",
       "\n",
       "    .dataframe thead th {\n",
       "        text-align: right;\n",
       "    }\n",
       "</style>\n",
       "<table border=\"1\" class=\"dataframe\">\n",
       "  <thead>\n",
       "    <tr style=\"text-align: right;\">\n",
       "      <th></th>\n",
       "      <th>Price</th>\n",
       "      <th>VehicleType</th>\n",
       "      <th>Gearbox</th>\n",
       "      <th>Power</th>\n",
       "      <th>Kilometer</th>\n",
       "      <th>FuelType</th>\n",
       "      <th>Brand</th>\n",
       "      <th>Repaired</th>\n",
       "      <th>Age</th>\n",
       "    </tr>\n",
       "  </thead>\n",
       "  <tbody>\n",
       "    <tr>\n",
       "      <th>5141</th>\n",
       "      <td>9</td>\n",
       "      <td>small</td>\n",
       "      <td>manual</td>\n",
       "      <td>90</td>\n",
       "      <td>150000</td>\n",
       "      <td>petrol</td>\n",
       "      <td>volkswagen</td>\n",
       "      <td>no</td>\n",
       "      <td>21</td>\n",
       "    </tr>\n",
       "    <tr>\n",
       "      <th>100194</th>\n",
       "      <td>9</td>\n",
       "      <td>wagon</td>\n",
       "      <td>manual</td>\n",
       "      <td>150</td>\n",
       "      <td>150000</td>\n",
       "      <td>petrol</td>\n",
       "      <td>skoda</td>\n",
       "      <td>yes</td>\n",
       "      <td>8</td>\n",
       "    </tr>\n",
       "    <tr>\n",
       "      <th>137448</th>\n",
       "      <td>9</td>\n",
       "      <td>small</td>\n",
       "      <td>manual</td>\n",
       "      <td>90</td>\n",
       "      <td>150000</td>\n",
       "      <td>petrol</td>\n",
       "      <td>volkswagen</td>\n",
       "      <td>no</td>\n",
       "      <td>21</td>\n",
       "    </tr>\n",
       "    <tr>\n",
       "      <th>247087</th>\n",
       "      <td>9</td>\n",
       "      <td>sedan</td>\n",
       "      <td>manual</td>\n",
       "      <td>127</td>\n",
       "      <td>125000</td>\n",
       "      <td>petrol</td>\n",
       "      <td>mercedes_benz</td>\n",
       "      <td>no</td>\n",
       "      <td>23</td>\n",
       "    </tr>\n",
       "  </tbody>\n",
       "</table>\n",
       "</div>"
      ],
      "text/plain": [
       "        Price VehicleType Gearbox  Power  Kilometer FuelType          Brand  \\\n",
       "5141        9       small  manual     90     150000   petrol     volkswagen   \n",
       "100194      9       wagon  manual    150     150000   petrol          skoda   \n",
       "137448      9       small  manual     90     150000   petrol     volkswagen   \n",
       "247087      9       sedan  manual    127     125000   petrol  mercedes_benz   \n",
       "\n",
       "       Repaired  Age  \n",
       "5141         no   21  \n",
       "100194      yes    8  \n",
       "137448       no   21  \n",
       "247087       no   23  "
      ]
     },
     "execution_count": 51,
     "metadata": {},
     "output_type": "execute_result"
    }
   ],
   "source": [
    "data.query('Price < 10 and Price > 5')"
   ]
  },
  {
   "cell_type": "markdown",
   "metadata": {},
   "source": [
    "В данном случае явно пропущены нолики, но мы не знаем наверняка как их заполнить, просто избавимся от этих данных."
   ]
  },
  {
   "cell_type": "code",
   "execution_count": 52,
   "metadata": {},
   "outputs": [],
   "source": [
    "data = data[data['Price'] > 10]"
   ]
  },
  {
   "cell_type": "markdown",
   "metadata": {},
   "source": [
    "### Кодирование"
   ]
  },
  {
   "cell_type": "markdown",
   "metadata": {},
   "source": [
    "Для начала рассмотрим уникальные значения каждого признака:"
   ]
  },
  {
   "cell_type": "markdown",
   "metadata": {},
   "source": [
    "#### Анализ уникальных значений"
   ]
  },
  {
   "cell_type": "code",
   "execution_count": 53,
   "metadata": {
    "scrolled": true
   },
   "outputs": [
    {
     "name": "stdout",
     "output_type": "stream",
     "text": [
      "Price\n",
      "[18300  1500  3600 ... 18429 10985 14989]\n",
      "3481\n",
      "______________________________________________________________________\n",
      "VehicleType\n",
      "['coupe' 'small' 'sedan' 'convertible' 'wagon' 'suv' 'bus' 'other']\n",
      "8\n",
      "______________________________________________________________________\n",
      "Gearbox\n",
      "['manual' 'auto']\n",
      "2\n",
      "______________________________________________________________________\n",
      "Power\n",
      "[190  75  69 102 109 105 140 131 136 160 231  90  50 118 193 125  99  60\n",
      " 113 218 122 129  70  95 177   0  61  64 101 232 150 156  80  82 155  54\n",
      "  87  86  84 224 235 200 178 265 163  77 110 144 120 286 170 116 184 126\n",
      " 204  88 305 197 179 250 313 143  45  98 115 130 114 211  56 201 213 107\n",
      " 174 220 185  73  41 192  68  66  58  52 147  65  71  97 239 203   5 300\n",
      " 103  85 258 320  63  81 148  44 145 180 280 260 104 299 306 333 186 117\n",
      " 141  55  59 132 165 234 158  39  92 135 230  53 209 146  67 106 276 344\n",
      " 100  72 249 237 245 194 111 326 279  23 310 175  96 226 301 166 334  83\n",
      " 128 124 219 241 167  94 182  74 196 238 228 112  48 133  33 272 139  79\n",
      " 256 243 252 340 108 121 345 222 198  37 450 233 387 347 172 137 212 476\n",
      " 314  47  26 173 290 188 207 205  78  89 349  40  76  43 151 350 171 142\n",
      "  91 343 199 164  16 264 152  57 367 240 208  46 435 127 176 161 284 210\n",
      " 307 354 355 138 273 223 255  30 123 154 149 268 400  34 242 162 328 329\n",
      "  51 420 247 168 215 360  18 330 283  62 325 225 183 254 134  15 321 322\n",
      " 315 169 181 119 426 379  22  42 195   4 309 381 271 189 275  24 159 292\n",
      " 303  29  38  14 270 331 363 261 385 253 376 227 311  27 217  20  11 157\n",
      "  25 394  12 298  35 296  49 216 294   1 187 246  17 390 259 327 266 374\n",
      "   9 262 295   8 411   7 382 287  19 214 297 405 457 236  93 401   6 388\n",
      " 206 335 202  10 269 288 316 278 396 257 449 191 281   3 386  32 430 274\n",
      " 277 341 392 338 445 370  13 431 371 428 304 348 408  31 358 489 365 353\n",
      " 490 285 153 346 380 251 337 487  36 289 229 318 317 221 362 332   2 475\n",
      " 248 368 351 308 409 324 459 357 339 361 336 416 375 323 244 399 364 442\n",
      "  21  28 356 293 421 377]\n",
      "402\n",
      "______________________________________________________________________\n",
      "Kilometer\n",
      "[125000 150000  90000  70000 100000  60000   5000  20000  80000  50000\n",
      "  40000  10000  30000]\n",
      "13\n",
      "______________________________________________________________________\n",
      "FuelType\n",
      "['gasoline' 'petrol' 'other' 'lpg' 'hybrid' 'cng' 'electric']\n",
      "7\n",
      "______________________________________________________________________\n",
      "Brand\n",
      "['audi' 'volkswagen' 'skoda' 'bmw' 'peugeot' 'mazda' 'nissan' 'renault'\n",
      " 'ford' 'mercedes_benz' 'opel' 'seat' 'citroen' 'honda' 'fiat' 'mini'\n",
      " 'smart' 'alfa_romeo' 'subaru' 'mitsubishi' 'kia' 'volvo' 'hyundai'\n",
      " 'lancia' 'toyota' 'chevrolet' 'dacia' 'suzuki' 'sonstige_autos'\n",
      " 'daihatsu' 'chrysler' 'jaguar' 'daewoo' 'rover' 'porsche' 'jeep' 'saab'\n",
      " 'land_rover' 'trabant' 'lada']\n",
      "40\n",
      "______________________________________________________________________\n",
      "Repaired\n",
      "['yes' 'no']\n",
      "2\n",
      "______________________________________________________________________\n",
      "Age\n",
      "[ 4 14  7 20 11 10 12  5  8 13  0 18 25 35 21 31 16  3 17  9 15 23 19  2\n",
      "  6 24 26 22  1 32 42 47 44 28 27 36 30 29 41 33 34 38 46 39 37 43 40 49\n",
      " 45 48]\n",
      "50\n",
      "______________________________________________________________________\n"
     ]
    }
   ],
   "source": [
    "for column in data.columns:\n",
    "    print(column)\n",
    "    print(data[column].unique())\n",
    "    print(len(data[column].unique()))\n",
    "    print('_'*70)"
   ]
  },
  {
   "cell_type": "markdown",
   "metadata": {},
   "source": [
    "Признаки `Price`, `Power`, `Age` являются количественными признаками, которые необходимо будет масштабировать."
   ]
  },
  {
   "cell_type": "code",
   "execution_count": 54,
   "metadata": {},
   "outputs": [],
   "source": [
    "scale_features = ['Price', 'Power', 'Age']"
   ]
  },
  {
   "cell_type": "markdown",
   "metadata": {},
   "source": [
    "Остальные признаки необходимо закодировать, причем сделать для большей эффективности это нужно разными способами. Мы, конечно, можем заодировать всё OHE, ног в таком случае, например, для `Brand` будет много новых столбцов, что уменьшить скорость обучения модели.\n",
    "\n",
    "Поэтому рассмотрим признаки подробнее:\n",
    "- признаки `Gearbox` и `Repaired` можно просто перевести в данные типа 0, 1 или закодироать OHE, здесь количество столбцов не поменяется\n",
    "- признаки `Brand` и `Kilometer` можно закодировать, используя LabelEncoder\n",
    "- категориаьные признаки `VehicleType` и `FuelType` можно попробовать закодировтаь OHE для достижения большей точности предсказаний модели "
   ]
  },
  {
   "cell_type": "markdown",
   "metadata": {},
   "source": [
    "#### Выбор метода кодирования"
   ]
  },
  {
   "cell_type": "markdown",
   "metadata": {},
   "source": [
    "1. Для начала переведем категориальные признаки к 1 и 0, чтобы не прибегать к дополнительному использованию инструментов кодирования."
   ]
  },
  {
   "cell_type": "markdown",
   "metadata": {},
   "source": [
    "Функция для признака `Gearbox`:"
   ]
  },
  {
   "cell_type": "code",
   "execution_count": 55,
   "metadata": {},
   "outputs": [],
   "source": [
    "def encode_gearbox(column):\n",
    "    if column == \"manual\":\n",
    "        return 0\n",
    "    elif column == \"auto\":\n",
    "        return 1"
   ]
  },
  {
   "cell_type": "markdown",
   "metadata": {},
   "source": [
    "Функция для признака `Repaired`:"
   ]
  },
  {
   "cell_type": "code",
   "execution_count": 56,
   "metadata": {},
   "outputs": [],
   "source": [
    "def encode_repaired(column):\n",
    "    if column == \"no\":\n",
    "        return 0\n",
    "    elif column == \"yes\":\n",
    "        return 1"
   ]
  },
  {
   "cell_type": "code",
   "execution_count": 57,
   "metadata": {},
   "outputs": [],
   "source": [
    "data['Gearbox'] = data['Gearbox'].apply(encode_gearbox)\n",
    "data['Repaired'] = data['Repaired'].apply(encode_repaired)"
   ]
  },
  {
   "cell_type": "markdown",
   "metadata": {},
   "source": [
    "2. Воспользуемся кодировкой `LabelEncoder()` для того, чтобы закодировать категориальные признаки с большим количеством категорий"
   ]
  },
  {
   "cell_type": "code",
   "execution_count": 58,
   "metadata": {},
   "outputs": [],
   "source": [
    "label_encoder = LabelEncoder()"
   ]
  },
  {
   "cell_type": "code",
   "execution_count": 59,
   "metadata": {},
   "outputs": [],
   "source": [
    "data['Brand'] = pd.Series(label_encoder.fit_transform(data['Brand']))"
   ]
  },
  {
   "cell_type": "code",
   "execution_count": 60,
   "metadata": {},
   "outputs": [],
   "source": [
    "data['Kilometer'] = pd.Series(label_encoder.fit_transform(data['Kilometer']))"
   ]
  },
  {
   "cell_type": "markdown",
   "metadata": {},
   "source": [
    "3. Закодируем `OHE` оставшиеся признаки"
   ]
  },
  {
   "cell_type": "code",
   "execution_count": 61,
   "metadata": {},
   "outputs": [],
   "source": [
    "encoder = OneHotEncoder()"
   ]
  },
  {
   "cell_type": "code",
   "execution_count": 62,
   "metadata": {},
   "outputs": [],
   "source": [
    "data_features = encoder.fit_transform(data[['FuelType', 'VehicleType']]).toarray()"
   ]
  },
  {
   "cell_type": "code",
   "execution_count": 63,
   "metadata": {},
   "outputs": [],
   "source": [
    "data = data.drop(['FuelType', 'VehicleType'], axis=1)"
   ]
  },
  {
   "cell_type": "code",
   "execution_count": 64,
   "metadata": {},
   "outputs": [],
   "source": [
    "columns_ohe = list(encoder.categories_[0]) + list(encoder.categories_[1])"
   ]
  },
  {
   "cell_type": "code",
   "execution_count": 65,
   "metadata": {},
   "outputs": [],
   "source": [
    "data[columns_ohe] = data_features"
   ]
  },
  {
   "cell_type": "markdown",
   "metadata": {},
   "source": [
    "### Масштабирование"
   ]
  },
  {
   "cell_type": "markdown",
   "metadata": {},
   "source": [
    "Применим масштабирование для числовых признаков:"
   ]
  },
  {
   "cell_type": "code",
   "execution_count": 70,
   "metadata": {},
   "outputs": [],
   "source": [
    "numeric_features = ['Age', 'Power', 'Kilometer', 'Brand']\n",
    "scaler = StandardScaler()\n",
    "data[numeric_features] = scaler.fit_transform(data[numeric_features])"
   ]
  },
  {
   "cell_type": "code",
   "execution_count": 71,
   "metadata": {},
   "outputs": [
    {
     "name": "stdout",
     "output_type": "stream",
     "text": [
      "Выборка уменьшилась в 1.31 раз и на 84584\n"
     ]
    }
   ],
   "source": [
    "SIZE_AFTER_PREPARE = data.shape[0]\n",
    "print(f'Выборка уменьшилась в {SIZE_BEFORE_PREPARE/SIZE_AFTER_PREPARE:.2f} раз и на {SIZE_BEFORE_PREPARE - SIZE_AFTER_PREPARE}')"
   ]
  },
  {
   "cell_type": "code",
   "execution_count": 72,
   "metadata": {},
   "outputs": [
    {
     "data": {
      "text/plain": [
       "Price             0\n",
       "Gearbox           0\n",
       "Power             0\n",
       "Kilometer      5530\n",
       "Brand          5530\n",
       "Repaired          0\n",
       "Age               0\n",
       "cng               0\n",
       "electric          0\n",
       "gasoline          0\n",
       "hybrid            0\n",
       "lpg               0\n",
       "other             0\n",
       "petrol            0\n",
       "bus               0\n",
       "convertible       0\n",
       "coupe             0\n",
       "sedan             0\n",
       "small             0\n",
       "suv               0\n",
       "wagon             0\n",
       "dtype: int64"
      ]
     },
     "execution_count": 72,
     "metadata": {},
     "output_type": "execute_result"
    }
   ],
   "source": [
    "data.isna().sum()"
   ]
  },
  {
   "cell_type": "code",
   "execution_count": 73,
   "metadata": {},
   "outputs": [],
   "source": [
    "data.dropna(subset=['Kilometer', 'Brand'], inplace=True, axis=0)"
   ]
  },
  {
   "cell_type": "code",
   "execution_count": 74,
   "metadata": {},
   "outputs": [
    {
     "data": {
      "text/plain": [
       "0"
      ]
     },
     "execution_count": 74,
     "metadata": {},
     "output_type": "execute_result"
    }
   ],
   "source": [
    "data.isna().sum().sum()"
   ]
  },
  {
   "cell_type": "markdown",
   "metadata": {},
   "source": [
    "### Разделение признаков"
   ]
  },
  {
   "cell_type": "code",
   "execution_count": 75,
   "metadata": {},
   "outputs": [],
   "source": [
    "target = data['Price']\n",
    "features = data.drop(['Price'], axis=1)"
   ]
  },
  {
   "cell_type": "markdown",
   "metadata": {},
   "source": [
    "Создадим три выборки: тренировочную, валидационную и тестовую:"
   ]
  },
  {
   "cell_type": "code",
   "execution_count": 76,
   "metadata": {},
   "outputs": [],
   "source": [
    "features_train, features_valid, target_train, target_valid = train_test_split(\n",
    "    features, target, random_state=RANDOM_STATE, test_size=0.4)"
   ]
  },
  {
   "cell_type": "code",
   "execution_count": 77,
   "metadata": {},
   "outputs": [],
   "source": [
    "features_valid, features_test, target_valid, target_test = train_test_split(\n",
    "    features_valid, target_valid, random_state=RANDOM_STATE, test_size=0.5)"
   ]
  },
  {
   "cell_type": "markdown",
   "metadata": {},
   "source": [
    "Обновим индексы:"
   ]
  },
  {
   "cell_type": "code",
   "execution_count": 78,
   "metadata": {},
   "outputs": [
    {
     "name": "stdout",
     "output_type": "stream",
     "text": [
      "Размер train : 158553\n",
      "Размер valid : 52851\n",
      "Размер test : 52851\n"
     ]
    }
   ],
   "source": [
    "features_train.reset_index(drop=True, inplace=True) \n",
    "features_valid.reset_index(drop=True, inplace=True) \n",
    "features_test.reset_index(drop=True, inplace=True) \n",
    "\n",
    "target_train.reset_index(drop=True, inplace=True) \n",
    "target_valid.reset_index(drop=True, inplace=True) \n",
    "target_test.reset_index(drop=True, inplace=True) \n",
    "\n",
    "print(f'Размер train : {features_train.shape[0]}')\n",
    "print(f'Размер valid : {features_valid.shape[0]}')\n",
    "print(f'Размер test : {features_test.shape[0]}')"
   ]
  },
  {
   "cell_type": "markdown",
   "metadata": {},
   "source": [
    "## Обучение моделей"
   ]
  },
  {
   "cell_type": "markdown",
   "metadata": {},
   "source": [
    "Для начала проверим результаты на простых моделях, которые использовались ранее. Далее сравним полученные результаты с предсказаниями моделей градиентного бустинга библиотек Сatboost, XGBoost и LGMBoost."
   ]
  },
  {
   "cell_type": "markdown",
   "metadata": {},
   "source": [
    "Функция для вычисления RMSE из MSE для дальнейшего применения:"
   ]
  },
  {
   "cell_type": "code",
   "execution_count": 79,
   "metadata": {},
   "outputs": [],
   "source": [
    "def RMSE(MSE):\n",
    "    return np.sqrt(MSE)"
   ]
  },
  {
   "cell_type": "markdown",
   "metadata": {},
   "source": [
    "Функция для обучения модели:"
   ]
  },
  {
   "cell_type": "code",
   "execution_count": 198,
   "metadata": {},
   "outputs": [],
   "source": [
    "def learning(model):\n",
    "    start_time = time.time()\n",
    "    model.fit(features_train, target_train)\n",
    "    end_time = time.time()\n",
    "    return end_time - start_time"
   ]
  },
  {
   "cell_type": "markdown",
   "metadata": {},
   "source": [
    "Функция для предсказаний:"
   ]
  },
  {
   "cell_type": "code",
   "execution_count": 199,
   "metadata": {},
   "outputs": [],
   "source": [
    "def prediction(model):\n",
    "    start_time = time.time()\n",
    "    predictions = model.predict(features_valid)\n",
    "    end_time = time.time()\n",
    "    return end_time - start_time, predictions"
   ]
  },
  {
   "cell_type": "code",
   "execution_count": null,
   "metadata": {},
   "outputs": [],
   "source": [
    "def prediction_test(model):\n",
    "    start_time = time.time()\n",
    "    predictions = model.predict(features_test)\n",
    "    end_time = time.time()\n",
    "    return end_time - start_time, predictions"
   ]
  },
  {
   "cell_type": "markdown",
   "metadata": {},
   "source": [
    "Функция для вычисления RMSE по предсказаниям:"
   ]
  },
  {
   "cell_type": "code",
   "execution_count": 200,
   "metadata": {},
   "outputs": [],
   "source": [
    "def rmse_metric(predictions):\n",
    "    return RMSE(mean_squared_error(target_valid, predictions))"
   ]
  },
  {
   "cell_type": "code",
   "execution_count": null,
   "metadata": {},
   "outputs": [],
   "source": [
    "def rmse_metric_test(predictions):\n",
    "    return RMSE(mean_squared_error(target_test, predictions))"
   ]
  },
  {
   "cell_type": "markdown",
   "metadata": {},
   "source": [
    "### Простейшие модели: решающее дерево и регрессия"
   ]
  },
  {
   "cell_type": "markdown",
   "metadata": {},
   "source": [
    "Для начала рассмотрим уже используемые ранее модели и сравним их качество.\n",
    "\n",
    "Создадим список для сравнения RMSE:"
   ]
  },
  {
   "cell_type": "code",
   "execution_count": 201,
   "metadata": {},
   "outputs": [],
   "source": [
    "rmse_models = {}\n",
    "time_fit_models = {}\n",
    "time_predict_models = {}"
   ]
  },
  {
   "cell_type": "markdown",
   "metadata": {},
   "source": [
    "Для начала подберем гиперпараметры, меняя глубину дерева `max_depth`:"
   ]
  },
  {
   "cell_type": "code",
   "execution_count": 78,
   "metadata": {},
   "outputs": [],
   "source": [
    "%%time\n",
    "\n",
    "min_rmse_tree = 100_000\n",
    "for depth in range(2,150):\n",
    "    tree = DecisionTreeRegressor(random_state=RANDOM_STATE, max_depth=depth)\n",
    "    rmse = learning(tree)\n",
    "    if rmse < min_rmse_tree:\n",
    "        model_tree = tree\n",
    "        min_rmse_tree = rmse"
   ]
  },
  {
   "cell_type": "markdown",
   "metadata": {},
   "source": [
    "В результате получаем:"
   ]
  },
  {
   "cell_type": "code",
   "execution_count": 79,
   "metadata": {},
   "outputs": [],
   "source": [
    "print(f'RMSE : {min_rmse_tree}')\n",
    "print(model_tree)"
   ]
  },
  {
   "cell_type": "markdown",
   "metadata": {},
   "source": [
    "Рассмотрим итоговую модель:"
   ]
  },
  {
   "cell_type": "code",
   "execution_count": 202,
   "metadata": {},
   "outputs": [],
   "source": [
    "model_tree = DecisionTreeRegressor(random_state=RANDOM_STATE, max_depth=15)\n",
    "time_fit_models['Decision Tree'] = learning(model_tree)\n",
    "time_predict_models['Decision Tree'], predictions_tree = prediction(model_tree)\n",
    "\n",
    "rmse_models['Decision Tree'] = rmse_metric(predictions_tree)"
   ]
  },
  {
   "cell_type": "markdown",
   "metadata": {},
   "source": [
    "Рассмотрим модель линейной регрессии:"
   ]
  },
  {
   "cell_type": "code",
   "execution_count": 203,
   "metadata": {},
   "outputs": [],
   "source": [
    "model_lin = LinearRegression()\n",
    "time_fit_models['Linear'] = learning(model_lin)\n",
    "time_predict_models['Linear'], predictions_lin = prediction(model_lin)\n",
    "\n",
    "rmse_models['Linear'] = rmse_metric(predictions_lin)"
   ]
  },
  {
   "cell_type": "code",
   "execution_count": 204,
   "metadata": {},
   "outputs": [],
   "source": [
    "print(rmse_models['Linear'])"
   ]
  },
  {
   "cell_type": "markdown",
   "metadata": {},
   "source": [
    "### Случайный лес"
   ]
  },
  {
   "cell_type": "markdown",
   "metadata": {},
   "source": [
    "Проведем подбор гиперпараметров:"
   ]
  },
  {
   "cell_type": "code",
   "execution_count": null,
   "metadata": {},
   "outputs": [],
   "source": [
    "%%time\n",
    "\n",
    "min_rmse = 100_000\n",
    "for depth in range(2,25):\n",
    "    for est in range(500, 2000, 500):\n",
    "        forest = RandomForestRegressor(random_state=RANDOM_STATE, max_depth=depth, n_estimators=est)\n",
    "        rmse = learning(forest)\n",
    "        if rmse < min_rmse:\n",
    "            model_forest = forest\n",
    "            min_rmse = rmse"
   ]
  },
  {
   "cell_type": "markdown",
   "metadata": {},
   "source": [
    "В итоге модель:"
   ]
  },
  {
   "cell_type": "code",
   "execution_count": 205,
   "metadata": {
    "scrolled": true
   },
   "outputs": [],
   "source": [
    "model_forest = RandomForestRegressor(random_state=RANDOM_STATE, max_depth=19, n_estimators=1000)\n",
    "\n",
    "time_fit_models['Random Forest'] = learning(model_forest)\n",
    "time_predict_models['Random Forest'], predictions_forest = prediction(model_forest)\n",
    "\n",
    "rmse_models['Random Forest'] = rmse_metric(predictions_forest)"
   ]
  },
  {
   "cell_type": "markdown",
   "metadata": {},
   "source": [
    "Для базовых моделей случайного леса и решающего дерева результаты проходят порог в 2500 по метрике RMSE, а линейная регрессия совсем не годится.\n",
    "\n",
    "Слчучайный лес очень долго обучаем по сравнению с другими моделями, время и резульаты всех моделей мы сравним далее."
   ]
  },
  {
   "cell_type": "markdown",
   "metadata": {},
   "source": [
    "### Градиентный бустинг"
   ]
  },
  {
   "cell_type": "markdown",
   "metadata": {},
   "source": [
    "Теперь рассмотрим модели грвдиентного бустинга для разных библиотек. Я проведу мини-исследования для определения оптимальной модели в библиотеках `LightGBM`, `CatBoost`, `XGBoost`."
   ]
  },
  {
   "cell_type": "markdown",
   "metadata": {},
   "source": [
    "#### LightGBM "
   ]
  },
  {
   "cell_type": "markdown",
   "metadata": {},
   "source": [
    "Проведем исследование качества модели при изменении различных гиперпараметров."
   ]
  },
  {
   "cell_type": "markdown",
   "metadata": {},
   "source": [
    "Для кросс-валидации объединим валидационные и тренировочные выборки."
   ]
  },
  {
   "cell_type": "code",
   "execution_count": 206,
   "metadata": {},
   "outputs": [],
   "source": [
    "data_features = pd.concat([features_train, features_valid]).reset_index(drop=True)\n",
    "data_target = pd.concat([target_train, target_valid]).reset_index(drop=True)"
   ]
  },
  {
   "cell_type": "markdown",
   "metadata": {},
   "source": [
    "##### Исследование гиперпараметров"
   ]
  },
  {
   "cell_type": "markdown",
   "metadata": {},
   "source": [
    "1. Количество деревьев"
   ]
  },
  {
   "cell_type": "code",
   "execution_count": null,
   "metadata": {
    "scrolled": true
   },
   "outputs": [],
   "source": [
    "%%time\n",
    "\n",
    "cross_val_n_est = []\n",
    "for n_est in range(100,1600,200):\n",
    "    lgbm = LGBMRegressor(random_state=RANDOM_STATE, n_estimators=n_est)\n",
    "    \n",
    "    cross_val_n_est.append(RMSE(abs(cross_val_score(lgbm, data_features, data_target, cv=5, scoring='neg_mean_squared_error'))))"
   ]
  },
  {
   "cell_type": "markdown",
   "metadata": {},
   "source": [
    "Функция для построения графиков:"
   ]
  },
  {
   "cell_type": "code",
   "execution_count": 111,
   "metadata": {},
   "outputs": [],
   "source": [
    "def boxplt_data(result, lst):\n",
    "    data_box = {}\n",
    "    for i in range(len(result)):\n",
    "        data_box[lst[i]] =  result[i]\n",
    "    data_box = pd.DataFrame(data_box)\n",
    "    return data_box"
   ]
  },
  {
   "cell_type": "code",
   "execution_count": null,
   "metadata": {},
   "outputs": [],
   "source": [
    "sns.boxplot(data=boxplt_data(cross_val_n_est, list(range(100,1600,200))))\n",
    "plt.xlabel('Количество деревьев, n_estimators')\n",
    "plt.ylabel('Метрика RMSE')\n",
    "plt.title('Результаты кросс-валидации при изменении количества деревьев')\n",
    "plt.show()"
   ]
  },
  {
   "cell_type": "markdown",
   "metadata": {},
   "source": [
    "С увеличением количества деревьев метрика RMSE уменьшается, что говорит о том, что для искомой модели необходимо выбрать количество деревьев максимально допустимое при оптимальном времени обучения и работы модели."
   ]
  },
  {
   "cell_type": "markdown",
   "metadata": {},
   "source": [
    "2. Максимальная глубина"
   ]
  },
  {
   "cell_type": "code",
   "execution_count": null,
   "metadata": {},
   "outputs": [],
   "source": [
    "%%time\n",
    "\n",
    "cross_val_depth = []\n",
    "for depth in range(10,20):\n",
    "    lgbm = LGBMRegressor(random_state=RANDOM_STATE, n_estimators=n_est)\n",
    "    cross_val_depth.append(RMSE(abs(cross_val_score(lgbm, data_features, data_target, cv=5, scoring='neg_mean_squared_error'))))"
   ]
  },
  {
   "cell_type": "code",
   "execution_count": null,
   "metadata": {
    "scrolled": false
   },
   "outputs": [],
   "source": [
    "sns.boxplot(data=boxplt_data(cross_val_depth, list(range(10,20))))\n",
    "plt.xlabel('Максимальная глубина, max_depth')\n",
    "plt.ylabel('Метрика RMSE')\n",
    "plt.title('Результаты кросс-валидации при изменении максимальной глубины деревьев')\n",
    "plt.show()"
   ]
  },
  {
   "cell_type": "markdown",
   "metadata": {},
   "source": [
    "Без дополнительных параметров макимальная глубина деревьев не влияет на метрикуц RMSE, поэтому логично выбирать большее количество деревьев с небольшим значением их глубины."
   ]
  },
  {
   "cell_type": "markdown",
   "metadata": {},
   "source": [
    "3. Скорость обучения"
   ]
  },
  {
   "cell_type": "code",
   "execution_count": null,
   "metadata": {},
   "outputs": [],
   "source": [
    "%%time\n",
    "\n",
    "cross_val_speed = []\n",
    "rates = [0.0001, 0.001, 0.01, 0.1, 1.0]\n",
    "for rate in rates:\n",
    "    lgbm = LGBMRegressor(random_state=RANDOM_STATE, learning_rate=rate)\n",
    "    cross_val_speed.append(RMSE(abs(cross_val_score(lgbm, data_features, data_target, cv=5, scoring='neg_mean_squared_error'))))"
   ]
  },
  {
   "cell_type": "code",
   "execution_count": null,
   "metadata": {},
   "outputs": [],
   "source": [
    "sns.boxplot(data=boxplt_data(cross_val_speed, rates))\n",
    "plt.xlabel('Скорость обучения, learning_rate')\n",
    "plt.ylabel('Метрика RMSE')\n",
    "plt.title('Результаты кросс-валидации при изменении скорости обучения')\n",
    "plt.show()"
   ]
  },
  {
   "cell_type": "markdown",
   "metadata": {},
   "source": [
    "Лучшй результат метрики при скорости по умолчанию - 0.1, поэтому этот параметр можно не менять. Причем при маленьких скоростях значение метрики RMSE очкнь велико (результат даже хуже, чем у регрессии)."
   ]
  },
  {
   "cell_type": "markdown",
   "metadata": {},
   "source": [
    "4. Тип бустинга"
   ]
  },
  {
   "cell_type": "code",
   "execution_count": null,
   "metadata": {},
   "outputs": [],
   "source": [
    "%%time\n",
    "\n",
    "cross_val_btype = []\n",
    "types = ['gbdt','dart','goss']\n",
    "for type_ in types:\n",
    "    lgbm = LGBMRegressor(random_state=RANDOM_STATE, boosting_type=type_)\n",
    "    cross_val_btype.append(RMSE(abs(cross_val_score(lgbm, data_features, data_target, cv=5, scoring='neg_mean_squared_error'))))"
   ]
  },
  {
   "cell_type": "code",
   "execution_count": null,
   "metadata": {},
   "outputs": [],
   "source": [
    "sns.boxplot(data=boxplt_data(cross_val_btype, types))\n",
    "plt.xlabel('Тип бустинга, boosting_type')\n",
    "plt.ylabel('Метрика RMSE')\n",
    "plt.title('Результаты кросс-валидации при изменении типа бустинга')\n",
    "plt.show()"
   ]
  },
  {
   "cell_type": "markdown",
   "metadata": {},
   "source": [
    "Тип `dart` показыввет наихудшие результаты метрики RMSE, наилучший - `goss`."
   ]
  },
  {
   "cell_type": "markdown",
   "metadata": {},
   "source": [
    "5. Число листьев"
   ]
  },
  {
   "cell_type": "code",
   "execution_count": null,
   "metadata": {},
   "outputs": [],
   "source": [
    "%%time\n",
    "\n",
    "cross_val_nleaves = []\n",
    "for n_leaves in range(33, 42):\n",
    "    lgbm = LGBMRegressor(random_state=RANDOM_STATE, num_leaves=n_leaves)\n",
    "    cross_val_nleaves.append(RMSE(abs(cross_val_score(lgbm, data_features, data_target, cv=5, scoring='neg_mean_squared_error'))))"
   ]
  },
  {
   "cell_type": "code",
   "execution_count": null,
   "metadata": {},
   "outputs": [],
   "source": [
    "sns.boxplot(data=boxplt_data(cross_val_nleaves, list(range(33, 42))))\n",
    "plt.xlabel('Число листьев, num_leaves')\n",
    "plt.ylabel('Метрика RMSE')\n",
    "plt.title('Результаты кросс-валидации при изменении числа листьев')\n",
    "plt.show()"
   ]
  },
  {
   "cell_type": "markdown",
   "metadata": {},
   "source": [
    "При увеличении числа листьев на деревьев уменьшается метрика RMSE, поэтому возьмем максимальное рассмотренное знаение - 41, чтобы существенно не увеличивать скорость работы модели."
   ]
  },
  {
   "cell_type": "markdown",
   "metadata": {},
   "source": [
    "##### Обучение модели"
   ]
  },
  {
   "cell_type": "markdown",
   "metadata": {},
   "source": [
    "Теперь добавим оптимальные гиперпараметры модели и обучим ее:"
   ]
  },
  {
   "cell_type": "code",
   "execution_count": 207,
   "metadata": {},
   "outputs": [],
   "source": [
    "model_lgbm = LGBMRegressor(\n",
    "    random_state=RANDOM_STATE, \n",
    "    learning_rate=0.1,\n",
    "    boosting_type='goss',\n",
    "    max_depth=14,\n",
    "    n_estimators=1500,\n",
    "    num_leaves=41\n",
    ")\n",
    "    \n",
    "\n",
    "time_fit_models['LGBM'] = learning(model_lgbm)\n",
    "time_predict_models['LGBM'], predictions_lgbm = prediction(model_lgbm)\n",
    "\n",
    "rmse_models['LGBM'] = rmse_metric(predictions_lgbm)"
   ]
  },
  {
   "cell_type": "code",
   "execution_count": 208,
   "metadata": {},
   "outputs": [
    {
     "data": {},
     "execution_count": 208,
     "metadata": {},
     "output_type": "execute_result"
    }
   ],
   "source": [
    "rmse_models['LGBM']"
   ]
  },
  {
   "cell_type": "markdown",
   "metadata": {},
   "source": [
    "Значение метрики ниже, чем у случайного леса и др. моделей."
   ]
  },
  {
   "cell_type": "markdown",
   "metadata": {},
   "source": [
    "#### CatBoost"
   ]
  },
  {
   "cell_type": "markdown",
   "metadata": {},
   "source": [
    "Аналогично проведем исследование, на этот раз установим cv=3 для ускорения времени обучения."
   ]
  },
  {
   "cell_type": "markdown",
   "metadata": {},
   "source": [
    "1. Кол-во деревьев"
   ]
  },
  {
   "cell_type": "code",
   "execution_count": 109,
   "metadata": {},
   "outputs": [],
   "source": [
    "%%time\n",
    "\n",
    "cross_val_n_est = []\n",
    "for n_est in range(300,2000,200):\n",
    "    cbr = CatBoostRegressor(random_state=RANDOM_STATE, n_estimators=n_est, verbose=False, silent=None)\n",
    "    \n",
    "    cross_val_n_est.append(np.sqrt(abs(cross_val_score(cbr, data_features, data_target, cv=3, scoring='neg_mean_squared_error'))))"
   ]
  },
  {
   "cell_type": "code",
   "execution_count": 112,
   "metadata": {},
   "outputs": [
    {
     "data": {
      "image/png": "[encoded data removed]"
     },
     "metadata": {},
     "output_type": "display_data"
    }
   ],
   "source": [
    "sns.boxplot(data=boxplt_data(cross_val_n_est, list(range(300,2000,200))))\n",
    "plt.xlabel('Количество деревьев, n_estimators')\n",
    "plt.ylabel('Метрика RMSE')\n",
    "plt.title('Результаты кросс-валидации при изменении количества деревьев')\n",
    "plt.show()"
   ]
  },
  {
   "cell_type": "markdown",
   "metadata": {},
   "source": [
    "При увеличении количества деревьев, как и в предыдущем случае, значение метрики уменьшается."
   ]
  },
  {
   "cell_type": "markdown",
   "metadata": {},
   "source": [
    "2. Максимальная глубина"
   ]
  },
  {
   "cell_type": "code",
   "execution_count": null,
   "metadata": {},
   "outputs": [],
   "source": [
    "%%time\n",
    "\n",
    "cross_val_depth = []\n",
    "for depth in range(5,11):\n",
    "    cbr = CatBoostRegressor(random_state=RANDOM_STATE, max_depth=depth, silent=None, verbose=False)\n",
    "    cross_val_depth.append(RMSE(abs(cross_val_score(cbr, data_features, data_target, cv=3, scoring='neg_mean_squared_error'))))"
   ]
  },
  {
   "cell_type": "code",
   "execution_count": null,
   "metadata": {},
   "outputs": [],
   "source": [
    "sns.boxplot(data=boxplt_data(cross_val_depth, list(range(5,11))))\n",
    "plt.xlabel('Максимальная глубина, max_depth')\n",
    "plt.ylabel('Метрика RMSE')\n",
    "plt.title('Результаты кросс-валидации при изменении максимальной глубины деревьев')\n",
    "plt.show()"
   ]
  },
  {
   "cell_type": "markdown",
   "metadata": {},
   "source": [
    "Здесь глубина деревьев влияет на результат - чем больше глубина, чем меньше RMSE."
   ]
  },
  {
   "cell_type": "markdown",
   "metadata": {},
   "source": [
    "3. Скорость обучения"
   ]
  },
  {
   "cell_type": "code",
   "execution_count": null,
   "metadata": {},
   "outputs": [],
   "source": [
    "%%time\n",
    "\n",
    "cross_val_speed = []\n",
    "rates = [0.0001, 0.001, 0.01, 0.1, 1.0]\n",
    "for rate in rates:\n",
    "    cbr = CatBoostRegressor(random_state=RANDOM_STATE, learning_rate=rate, verbose=False, silent=None)\n",
    "    cross_val_speed.append(RMSE(abs(cross_val_score(cbr, data_features, data_target, cv=3, scoring='neg_mean_squared_error'))))"
   ]
  },
  {
   "cell_type": "code",
   "execution_count": null,
   "metadata": {},
   "outputs": [],
   "source": [
    "sns.boxplot(data=boxplt_data(cross_val_speed, rates))\n",
    "plt.xlabel('Скорость обучения, learning_rate')\n",
    "plt.ylabel('Метрика RMSE')\n",
    "plt.title('Результаты кросс-валидации при изменении скорости обучения')\n",
    "plt.show()"
   ]
  },
  {
   "cell_type": "markdown",
   "metadata": {},
   "source": [
    "Наилучшая скорость обучения - также 0.1 по умолчанию."
   ]
  },
  {
   "cell_type": "markdown",
   "metadata": {},
   "source": [
    "4. Тип бустинга"
   ]
  },
  {
   "cell_type": "code",
   "execution_count": null,
   "metadata": {},
   "outputs": [],
   "source": [
    "%%time\n",
    "\n",
    "cross_val_btype = []\n",
    "types = ['Ordered','Plain']\n",
    "for type_ in types:\n",
    "    cbr = CatBoostRegressor(random_state=RANDOM_STATE, boosting_type=type_, verbose=False, silent=None)\n",
    "    cross_val_btype.append(RMSE(abs(cross_val_score(cbr, data_features, data_target, cv=3, scoring='neg_mean_squared_error'))))"
   ]
  },
  {
   "cell_type": "code",
   "execution_count": null,
   "metadata": {},
   "outputs": [],
   "source": [
    "sns.boxplot(data=boxplt_data(cross_val_btype, types))\n",
    "plt.xlabel('Тип бустинга, boosting_type')\n",
    "plt.ylabel('Метрика RMSE')\n",
    "plt.title('Результаты кросс-валидации при изменении типа бустинга')\n",
    "plt.show()"
   ]
  },
  {
   "cell_type": "markdown",
   "metadata": {},
   "source": [
    "Тип бустинга `Plain` показывает лучшие результаты."
   ]
  },
  {
   "cell_type": "markdown",
   "metadata": {},
   "source": [
    "Оптимальное значение количества листьев `num_leaves` - 31."
   ]
  },
  {
   "cell_type": "markdown",
   "metadata": {},
   "source": [
    "##### Обучение модели"
   ]
  },
  {
   "cell_type": "code",
   "execution_count": 211,
   "metadata": {},
   "outputs": [],
   "source": [
    "model_cbtr = CatBoostRegressor(\n",
    "        random_state=RANDOM_STATE, \n",
    "        learning_rate=0.1,\n",
    "        boosting_type='Plain',\n",
    "        max_depth=10,\n",
    "        n_estimators=1700,\n",
    "        num_leaves=31,\n",
    "        verbose=False, \n",
    "        silent=None\n",
    "    )\n",
    "\n",
    "time_fit_models['CatBoost'] = learning(model_cbtr)\n",
    "time_predict_models['CatBoost'], predictions_cbtr = prediction(model_cbtr)\n",
    "\n",
    "rmse_models['CatBoost'] = rmse_metric(predictions_cbtr)"
   ]
  },
  {
   "cell_type": "code",
   "execution_count": 212,
   "metadata": {},
   "outputs": [
    {
     "data": {},
     "execution_count": 212,
     "metadata": {},
     "output_type": "execute_result"
    }
   ],
   "source": [
    "rmse_models['CatBoost']"
   ]
  },
  {
   "cell_type": "markdown",
   "metadata": {},
   "source": [
    "#### XGBoost"
   ]
  },
  {
   "cell_type": "markdown",
   "metadata": {},
   "source": [
    "##### Исследование признаков"
   ]
  },
  {
   "cell_type": "markdown",
   "metadata": {},
   "source": [
    "1. Кол-во деревьев"
   ]
  },
  {
   "cell_type": "code",
   "execution_count": null,
   "metadata": {},
   "outputs": [],
   "source": [
    "%%time\n",
    "\n",
    "cross_val_n_est = []\n",
    "for n_est in range(100,1600,200):\n",
    "    xgbt = XGBRegressor(random_state=RANDOM_STATE, n_estimators=n_est)\n",
    "    \n",
    "    cross_val_n_est.append(np.sqrt(abs(cross_val_score(xgbt, data_features, data_target, cv=3, scoring='neg_mean_squared_error'))))"
   ]
  },
  {
   "cell_type": "code",
   "execution_count": null,
   "metadata": {},
   "outputs": [],
   "source": [
    "sns.boxplot(data=boxplt_data(cross_val_n_est, list(range(100,1600,200))))\n",
    "plt.xlabel('Количество деревьев, n_estimators')\n",
    "plt.ylabel('Метрика RMSE')\n",
    "plt.title('Результаты кросс-валидации при изменении количества деревьев')\n",
    "plt.show()"
   ]
  },
  {
   "cell_type": "markdown",
   "metadata": {},
   "source": [
    "Оптимальное значение - 500, после значение метрики начинает увиличиваться."
   ]
  },
  {
   "cell_type": "markdown",
   "metadata": {},
   "source": [
    "2. Максимальная глубина"
   ]
  },
  {
   "cell_type": "code",
   "execution_count": null,
   "metadata": {},
   "outputs": [],
   "source": [
    "%%time\n",
    "\n",
    "cross_val_depth = []\n",
    "for depth in range(5,13):\n",
    "    xgbt = XGBRegressor(random_state=RANDOM_STATE, n_estimators=n_est)\n",
    "    cross_val_depth.append(RMSE(abs(cross_val_score(xgbt, data_features, data_target, cv=3, scoring='neg_mean_squared_error'))))"
   ]
  },
  {
   "cell_type": "code",
   "execution_count": null,
   "metadata": {},
   "outputs": [],
   "source": [
    "sns.boxplot(data=boxplt_data(cross_val_depth, list(range(5,13))))\n",
    "plt.xlabel('Максимальная глубина, max_depth')\n",
    "plt.ylabel('Метрика RMSE')\n",
    "plt.title('Результаты кросс-валидации при изменении максимальной глубины деревьев')\n",
    "plt.show()"
   ]
  },
  {
   "cell_type": "markdown",
   "metadata": {},
   "source": [
    "В этой модели максимальная глубина не влияет значенительно на результаты."
   ]
  },
  {
   "cell_type": "markdown",
   "metadata": {},
   "source": [
    "3. Скорость обучения"
   ]
  },
  {
   "cell_type": "code",
   "execution_count": null,
   "metadata": {},
   "outputs": [],
   "source": [
    "%%time\n",
    "\n",
    "cross_val_speed = []\n",
    "rates = [0.0001, 0.001, 0.01, 0.1, 1.0]\n",
    "for rate in rates:\n",
    "    xgbt = XGBRegressor(random_state=RANDOM_STATE, learning_rate=rate)\n",
    "    cross_val_speed.append(RMSE(abs(cross_val_score(xgbt, data_features, data_target, cv=3, scoring='neg_mean_squared_error'))))"
   ]
  },
  {
   "cell_type": "code",
   "execution_count": null,
   "metadata": {},
   "outputs": [],
   "source": [
    "sns.boxplot(data=boxplt_data(cross_val_speed, rates))\n",
    "plt.xlabel('Скорость обучения, learning_rate')\n",
    "plt.ylabel('Метрика RMSE')\n",
    "plt.title('Результаты кросс-валидации при изменении скорости обучения')\n",
    "plt.show()"
   ]
  },
  {
   "cell_type": "markdown",
   "metadata": {},
   "source": [
    "Аналогично, 0.1."
   ]
  },
  {
   "cell_type": "markdown",
   "metadata": {},
   "source": [
    "4. Тип бустинга"
   ]
  },
  {
   "cell_type": "code",
   "execution_count": null,
   "metadata": {},
   "outputs": [],
   "source": [
    "%%time\n",
    "\n",
    "cross_val_btype = []\n",
    "types = ['gbtree','dart']\n",
    "for type_ in types:\n",
    "    xgbt = XGBRegressor(random_state=RANDOM_STATE, booster=type_)\n",
    "    cross_val_btype.append(RMSE(abs(cross_val_score(xgbt, data_features, data_target, cv=3, scoring='neg_mean_squared_error'))))"
   ]
  },
  {
   "cell_type": "code",
   "execution_count": null,
   "metadata": {},
   "outputs": [],
   "source": [
    "sns.boxplot(data=boxplt_data(cross_val_btype, types))\n",
    "plt.xlabel('Тип бустинга, booster')\n",
    "plt.ylabel('Метрика RMSE')\n",
    "plt.title('Результаты кросс-валидации при изменении типа бустинга')\n",
    "plt.show()"
   ]
  },
  {
   "cell_type": "markdown",
   "metadata": {},
   "source": [
    "Тип бустинга не влияет на результат."
   ]
  },
  {
   "cell_type": "markdown",
   "metadata": {},
   "source": [
    "5. max_delta_step"
   ]
  },
  {
   "cell_type": "code",
   "execution_count": null,
   "metadata": {},
   "outputs": [],
   "source": [
    "%%time\n",
    "\n",
    "cross_val_step = []\n",
    "for step in range(0, 6):\n",
    "    xgbt = XGBRegressor(random_state=RANDOM_STATE, max_delta_step=step)\n",
    "    cross_val_step.append(RMSE(abs(cross_val_score(xgbt, data_features, data_target, cv=3, scoring='neg_mean_squared_error'))))"
   ]
  },
  {
   "cell_type": "code",
   "execution_count": null,
   "metadata": {},
   "outputs": [],
   "source": [
    "sns.boxplot(data=boxplt_data(cross_val_step, list(range(0, 6))))\n",
    "plt.xlabel('Шаг, max_delta_step')\n",
    "plt.ylabel('Метрика RMSE')\n",
    "plt.title('Результаты кросс-валидации при изменении числа листьев')\n",
    "plt.show()"
   ]
  },
  {
   "cell_type": "markdown",
   "metadata": {},
   "source": [
    "Здесь я попробовала изменить шаг для бустинга, но получилось, что его увеличение очень увеличивает знаечние метрики RMSE, поэтому оставим значение по умолчанию."
   ]
  },
  {
   "cell_type": "markdown",
   "metadata": {},
   "source": [
    "##### Обучение модели"
   ]
  },
  {
   "cell_type": "code",
   "execution_count": 209,
   "metadata": {},
   "outputs": [],
   "source": [
    "model_xgbt = XGBRegressor(\n",
    "        random_state=RANDOM_STATE, \n",
    "        learning_rate=0.1,\n",
    "        booster='dart',\n",
    "        max_depth=10,\n",
    "        n_estimators=500,\n",
    "        max_delta_step=0\n",
    "    )\n",
    "\n",
    "time_fit_models['XGBoost'] = learning(model_xgbt)\n",
    "time_predict_models['XGBoost'], predictions_xgbt = prediction(model_xgbt)\n",
    "\n",
    "rmse_models['XGBoost'] = rmse_metric(predictions_xgbt)"
   ]
  },
  {
   "cell_type": "code",
   "execution_count": 210,
   "metadata": {},
   "outputs": [
    {
     "data": {},
     "execution_count": 210,
     "metadata": {},
     "output_type": "execute_result"
    }
   ],
   "source": [
    "rmse_models['XGBoost']"
   ]
  },
  {
   "cell_type": "markdown",
   "metadata": {},
   "source": [
    "Были обучены базовые модели и три типа моделей градиентного бустинга. Проиллюстрируем результаты далее."
   ]
  },
  {
   "cell_type": "markdown",
   "metadata": {},
   "source": [
    "## Анализ результатов"
   ]
  },
  {
   "cell_type": "code",
   "execution_count": 213,
   "metadata": {},
   "outputs": [
    {
     "data": {},
     "execution_count": 213,
     "metadata": {},
     "output_type": "execute_result"
    }
   ],
   "source": [
    "results = pd.DataFrame(data=[rmse_models, time_fit_models, time_predict_models], index=['RMSE', 'TimeFit', 'TimePredict'])\n",
    "\n",
    "results.style.highlight_min(color='lightgreen', axis=1)"
   ]
  },
  {
   "cell_type": "markdown",
   "metadata": {},
   "source": [
    "Получается, что минимальное время обучения имеет линейная регрессия, но качество этой модели очень далеко от нужного нам. Случайный лес слишком долго обучается, а решающее дерево имеет слишком большую метрику RMSE. С нашей задачей простейшие модели явно не справляются лучше бустингов, поэтому рассмотрим модели градиентного бустинга отдельно."
   ]
  },
  {
   "cell_type": "code",
   "execution_count": 214,
   "metadata": {},
   "outputs": [],
   "source": [
    "for i in ['Decision Tree', 'Linear', 'Random Forest']:\n",
    "    del rmse_models[i]\n",
    "    del time_fit_models[i]\n",
    "    del time_predict_models[i]"
   ]
  },
  {
   "cell_type": "code",
   "execution_count": 215,
   "metadata": {},
   "outputs": [
    {
     "data": {},
     "execution_count": 215,
     "metadata": {},
     "output_type": "execute_result"
    }
   ],
   "source": [
    "results = pd.DataFrame(data=[rmse_models, time_fit_models, time_predict_models], index=['RMSE', 'TimeFit', 'TimePredict'])\n",
    "\n",
    "results.style.highlight_min(color='lightgreen', axis=1)"
   ]
  },
  {
   "cell_type": "markdown",
   "metadata": {},
   "source": [
    "- XGBoost (не лидирует ни по каким паарметрам) и CatBoost имеют слишком большое время обучения, хотя градиентный бустинг Catboost имеет наименьшее значение метрики RMSE равное 1973, а также наименьшее время предсказания\n",
    "- Самая оптимальная модель - это градиентный бустинг LGBM с наименьшим временем обучения и с RMSE, не на много отличающейся от минимальной\n",
    "\n",
    "В зависимости от того на сколько критично время обучения я бы посоветовала либо CatBoost, либо LGBM. Ведь время предсказания CatBoost в 4 раза меньше.\n",
    "\n",
    "Если нам критически важно время обучение, то у **LGBM** оно в **10** раз меньше (**меньше 5-ти секунд**), чем у CatBoost, а время предсказания в **4** раза больше, но занимает чуть больше **половины секунды**\n",
    "\n",
    "Тогда результат LGBM: <br>\n",
    "RMSE = 1997.1 <br>\n",
    "Время обучения = 4.23 с <br>\n",
    "Время предсказания = 0.67 c <br>\n",
    "\n",
    "Если допстимо время обучения **около минуты**, то я рекомендую выбирать модель **CatBoost**, она быстрее предсказывает и метрика RMSE ниже.\n",
    "\n",
    "Тогда результат CatBoost: <br>\n",
    "RMSE = 1973.91 <br>\n",
    "Время обучения = 42.42 с <br>\n",
    "Время предсказания = 0.21 c \n",
    "\n",
    "В итоге, я посоветую модель CatBoost, потому что она лидирует по 2 важным нам признакам. Если время обучения около 40 секунд слишком велико, то нужно менять вывод (нам не дано точных цифр по времени)."
   ]
  },
  {
   "cell_type": "markdown",
   "metadata": {},
   "source": [
    "## Тестирование лучшей модели"
   ]
  },
  {
   "cell_type": "markdown",
   "metadata": {},
   "source": [
    "Проверим на тестовой выборке работу модели CatBoost:"
   ]
  },
  {
   "cell_type": "code",
   "execution_count": 216,
   "metadata": {},
   "outputs": [],
   "source": [
    "time_test_predictions, predictions_test_cbtr = prediction_test(model_cbtr)\n",
    "\n",
    "test_rmse = rmse_metric_test(predictions_test_cbtr)"
   ]
  },
  {
   "cell_type": "code",
   "execution_count": 217,
   "metadata": {},
   "outputs": [],
   "source": [
    "fit_time = time_fit_models['CatBoost']\n",
    "\n",
    "print(f'Итоговая RMSE : {test_rmse}')\n",
    "print(f'Итоговое время обучения : {fit_time}')\n",
    "print(f'Итоговое время предсказания : {time_test_predictions}')"
   ]
  }
 ],
 "metadata": {
  "ExecuteTimeLog": [
   {
    "duration": 2490,
    "start_time": "2023-03-29T07:36:58.852Z"
   },
   {
    "duration": 2039,
    "start_time": "2023-03-29T07:37:01.345Z"
   },
   {
    "duration": 1985,
    "start_time": "2023-03-29T07:37:03.386Z"
   },
   {
    "duration": 1839,
    "start_time": "2023-03-29T07:37:05.373Z"
   },
   {
    "duration": 3,
    "start_time": "2023-03-29T07:37:07.214Z"
   },
   {
    "duration": 1094,
    "start_time": "2023-03-29T07:37:07.218Z"
   },
   {
    "duration": 16,
    "start_time": "2023-03-29T07:37:08.314Z"
   },
   {
    "duration": 112,
    "start_time": "2023-03-29T07:37:08.331Z"
   },
   {
    "duration": 2,
    "start_time": "2023-03-29T07:37:08.445Z"
   },
   {
    "duration": 444,
    "start_time": "2023-03-29T07:37:08.449Z"
   },
   {
    "duration": 527,
    "start_time": "2023-03-29T07:37:08.895Z"
   },
   {
    "duration": 442,
    "start_time": "2023-03-29T07:37:09.424Z"
   },
   {
    "duration": 37,
    "start_time": "2023-03-29T07:37:09.868Z"
   },
   {
    "duration": 112,
    "start_time": "2023-03-29T07:37:09.909Z"
   },
   {
    "duration": 36,
    "start_time": "2023-03-29T07:37:10.023Z"
   },
   {
    "duration": 44,
    "start_time": "2023-03-29T07:37:10.060Z"
   },
   {
    "duration": 60,
    "start_time": "2023-03-29T07:37:10.105Z"
   },
   {
    "duration": 53,
    "start_time": "2023-03-29T07:37:10.166Z"
   },
   {
    "duration": 22,
    "start_time": "2023-03-29T07:37:10.221Z"
   },
   {
    "duration": 26,
    "start_time": "2023-03-29T07:37:10.244Z"
   },
   {
    "duration": 11,
    "start_time": "2023-03-29T07:37:10.272Z"
   },
   {
    "duration": 3067,
    "start_time": "2023-03-29T07:37:10.302Z"
   },
   {
    "duration": 4,
    "start_time": "2023-03-29T07:37:13.370Z"
   },
   {
    "duration": 74,
    "start_time": "2023-03-29T07:37:13.376Z"
   },
   {
    "duration": 31,
    "start_time": "2023-03-29T07:37:13.452Z"
   },
   {
    "duration": 58,
    "start_time": "2023-03-29T07:37:13.485Z"
   },
   {
    "duration": 18,
    "start_time": "2023-03-29T07:37:13.545Z"
   },
   {
    "duration": 47,
    "start_time": "2023-03-29T07:37:13.565Z"
   },
   {
    "duration": 51,
    "start_time": "2023-03-29T07:37:13.614Z"
   },
   {
    "duration": 53,
    "start_time": "2023-03-29T07:37:13.667Z"
   },
   {
    "duration": 47,
    "start_time": "2023-03-29T07:37:13.722Z"
   },
   {
    "duration": 4,
    "start_time": "2023-03-29T07:37:13.771Z"
   },
   {
    "duration": 236,
    "start_time": "2023-03-29T07:37:13.777Z"
   },
   {
    "duration": 5,
    "start_time": "2023-03-29T07:37:14.015Z"
   },
   {
    "duration": 24,
    "start_time": "2023-03-29T07:37:14.021Z"
   },
   {
    "duration": 22,
    "start_time": "2023-03-29T07:37:14.047Z"
   },
   {
    "duration": 18,
    "start_time": "2023-03-29T07:37:14.070Z"
   },
   {
    "duration": 14,
    "start_time": "2023-03-29T07:37:14.090Z"
   },
   {
    "duration": 222,
    "start_time": "2023-03-29T07:37:14.106Z"
   },
   {
    "duration": 211,
    "start_time": "2023-03-29T07:37:14.330Z"
   },
   {
    "duration": 16,
    "start_time": "2023-03-29T07:37:14.545Z"
   },
   {
    "duration": 8,
    "start_time": "2023-03-29T07:37:14.563Z"
   },
   {
    "duration": 31,
    "start_time": "2023-03-29T07:37:14.572Z"
   },
   {
    "duration": 199,
    "start_time": "2023-03-29T07:37:14.605Z"
   },
   {
    "duration": 17,
    "start_time": "2023-03-29T07:37:14.805Z"
   },
   {
    "duration": 314,
    "start_time": "2023-03-29T07:37:14.823Z"
   },
   {
    "duration": 3,
    "start_time": "2023-03-29T07:37:15.139Z"
   },
   {
    "duration": 17,
    "start_time": "2023-03-29T07:37:15.144Z"
   },
   {
    "duration": 41,
    "start_time": "2023-03-29T07:37:15.162Z"
   },
   {
    "duration": 20,
    "start_time": "2023-03-29T07:37:15.205Z"
   },
   {
    "duration": 12,
    "start_time": "2023-03-29T07:37:15.226Z"
   },
   {
    "duration": 16,
    "start_time": "2023-03-29T07:37:15.240Z"
   },
   {
    "duration": 178,
    "start_time": "2023-03-29T07:37:15.258Z"
   },
   {
    "duration": 2,
    "start_time": "2023-03-29T07:37:15.438Z"
   },
   {
    "duration": 5,
    "start_time": "2023-03-29T07:37:15.442Z"
   },
   {
    "duration": 12,
    "start_time": "2023-03-29T07:37:15.449Z"
   },
   {
    "duration": 157,
    "start_time": "2023-03-29T07:37:15.463Z"
   },
   {
    "duration": 2,
    "start_time": "2023-03-29T07:37:15.622Z"
   },
   {
    "duration": 63,
    "start_time": "2023-03-29T07:37:15.626Z"
   },
   {
    "duration": 31,
    "start_time": "2023-03-29T07:37:15.691Z"
   },
   {
    "duration": 3,
    "start_time": "2023-03-29T07:37:15.723Z"
   },
   {
    "duration": 187,
    "start_time": "2023-03-29T07:37:15.727Z"
   },
   {
    "duration": 7,
    "start_time": "2023-03-29T07:37:15.916Z"
   },
   {
    "duration": 5,
    "start_time": "2023-03-29T07:37:15.925Z"
   },
   {
    "duration": 277,
    "start_time": "2023-03-29T07:37:15.932Z"
   },
   {
    "duration": 166,
    "start_time": "2023-03-29T07:37:58.960Z"
   },
   {
    "duration": 192,
    "start_time": "2023-03-29T07:38:09.799Z"
   },
   {
    "duration": 16,
    "start_time": "2023-03-29T07:38:14.828Z"
   }
  ],
  "kernelspec": {
   "display_name": "Python 3 (ipykernel)",
   "language": "python",
   "name": "python3"
  },
  "language_info": {
   "codemirror_mode": {
    "name": "ipython",
    "version": 3
   },
   "file_extension": ".py",
   "mimetype": "text/x-python",
   "name": "python",
   "nbconvert_exporter": "python",
   "pygments_lexer": "ipython3",
   "version": "3.9.13"
  },
  "toc": {
   "base_numbering": 1,
   "nav_menu": {},
   "number_sections": true,
   "sideBar": true,
   "skip_h1_title": true,
   "title_cell": "Table of Contents",
   "title_sidebar": "Contents",
   "toc_cell": false,
   "toc_position": {},
   "toc_section_display": true,
   "toc_window_display": false
  }
 },
 "nbformat": 4,
 "nbformat_minor": 2
}
